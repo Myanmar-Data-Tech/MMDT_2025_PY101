{
  "cells": [
    {
      "cell_type": "markdown",
      "metadata": {
        "id": "view-in-github",
        "colab_type": "text"
      },
      "source": [
        "<a href=\"https://colab.research.google.com/github/SharonWai/MMDT_2025_PY101/blob/SharonWai1/SharonWai_SW_Ex6_1_Exception1.ipynb\" target=\"_parent\"><img src=\"https://colab.research.google.com/assets/colab-badge.svg\" alt=\"Open In Colab\"/></a>"
      ]
    },
    {
      "cell_type": "markdown",
      "metadata": {
        "id": "iH7LmWwYc2G3"
      },
      "source": [
        "# Exception Handling\n"
      ]
    },
    {
      "cell_type": "markdown",
      "metadata": {
        "id": "6UtnvMT5c2G6"
      },
      "source": [
        "### Q1) Run the following programs and identify the errors.\n",
        "Use exception handling approach to handle the erros.\n"
      ]
    },
    {
      "cell_type": "code",
      "execution_count": 2,
      "metadata": {
        "colab": {
          "base_uri": "https://localhost:8080/"
        },
        "id": "C8C3pGtEc2G8",
        "outputId": "0ed7f6eb-5a7f-4177-af16-afcb6937c30c"
      },
      "outputs": [
        {
          "output_type": "stream",
          "name": "stdout",
          "text": [
            "The divided value is 0\n",
            "Division by Zero is not allowed.\n",
            "Results:  None\n"
          ]
        }
      ],
      "source": [
        "#Q1.1) Zero division error\n",
        "def myfunction(a,b):\n",
        "  try:\n",
        "    answer = a/b\n",
        "    return answer\n",
        "  except ZeroDivisionError:\n",
        "    print(\"The divided value is {}\".format(b))\n",
        "    print(\"Division by Zero is not allowed.\")\n",
        "    return None\n",
        "\n",
        "\n",
        "#Call the function as follows:\n",
        "result = myfunction(2,0)\n",
        "print(\"Results: \", result)"
      ]
    },
    {
      "cell_type": "code",
      "execution_count": 5,
      "metadata": {
        "colab": {
          "base_uri": "https://localhost:8080/"
        },
        "id": "zhaRq7S5c2G9",
        "outputId": "cdf6deb8-b406-43bd-f61c-a5f1009869a2"
      },
      "outputs": [
        {
          "output_type": "stream",
          "name": "stdout",
          "text": [
            "You have to provide the value.\n",
            "Result:  None\n"
          ]
        }
      ],
      "source": [
        "#Q1.2 Name Error\n",
        "\n",
        "def myfunction2(c):\n",
        "  try:\n",
        "    answer = a/c\n",
        "    return answer\n",
        "  except NameError:\n",
        "    print(\"You have to provide the value.\")\n",
        "    return None\n",
        "\n",
        "\n",
        "# Call the function as follows:\n",
        "result = myfunction2(3)\n",
        "print(\"Result: \", result)"
      ]
    },
    {
      "cell_type": "code",
      "execution_count": 6,
      "metadata": {
        "scrolled": true,
        "colab": {
          "base_uri": "https://localhost:8080/"
        },
        "id": "htlE42N8c2G-",
        "outputId": "2fbc552d-800f-47e1-83cf-e729c02b6445"
      },
      "outputs": [
        {
          "output_type": "stream",
          "name": "stdout",
          "text": [
            "1\n",
            "2\n",
            "3\n",
            "Index 3 is out of range\n"
          ]
        }
      ],
      "source": [
        "#Q1.3 IndexError\n",
        "a = [1, 2, 3]\n",
        "for k in range(0,4):\n",
        "  try:\n",
        "    print(a[k])\n",
        "  except IndexError:\n",
        "    print(\"Index {} is out of range\".format(k))\n"
      ]
    },
    {
      "cell_type": "code",
      "execution_count": 7,
      "metadata": {
        "colab": {
          "base_uri": "https://localhost:8080/"
        },
        "id": "92POKTvQc2G-",
        "outputId": "eff4c5af-c5d3-4c4b-ad16-52bda965d41b"
      },
      "outputs": [
        {
          "output_type": "stream",
          "name": "stdout",
          "text": [
            "Please enter a number to divide a: 5\n",
            "Success a= 0.2\n"
          ]
        }
      ],
      "source": [
        "#Q1.4 Zero Division Error, Value Error\n",
        "a = 1\n",
        "try:\n",
        "  b = int(input(\"Please enter a number to divide a: \"))\n",
        "  a = a/b\n",
        "except ZeroDivisionError:\n",
        "  print(\"Error: The value is {}\".format(b))\n",
        "except ValueError:\n",
        "  print(\"Error: Values must be numbers.\")\n",
        "else:\n",
        "  print(\"Success a=\",a)\n",
        "\n"
      ]
    },
    {
      "cell_type": "code",
      "execution_count": 11,
      "metadata": {
        "colab": {
          "base_uri": "https://localhost:8080/"
        },
        "id": "e7M5-7uyc2G_",
        "outputId": "ec4a1ed3-6775-4d37-a454-0c55beabf8c2"
      },
      "outputs": [
        {
          "output_type": "stream",
          "name": "stdout",
          "text": [
            "The result of division is 5.0\n"
          ]
        },
        {
          "output_type": "execute_result",
          "data": {
            "text/plain": [
              "5.0"
            ]
          },
          "metadata": {},
          "execution_count": 11
        }
      ],
      "source": [
        "def divide(a, b):\n",
        "    try:\n",
        "      a = int(a)\n",
        "      b = int(b)\n",
        "      result = a / b\n",
        "      print('The result of division is', result)\n",
        "    except ZeroDivisionError:\n",
        "      print('Divided numbers must be greater than zero')\n",
        "    except ValueError:\n",
        "      print(\"Values must be numbers\")\n",
        "    except TypeError:\n",
        "      print('Inputs must be numbers')\n",
        "    else:\n",
        "      return result\n",
        "\n",
        "\n",
        "divide(\"10\",2)"
      ]
    },
    {
      "cell_type": "code",
      "execution_count": 14,
      "metadata": {
        "colab": {
          "base_uri": "https://localhost:8080/"
        },
        "id": "_XGuOp5Ac2HB",
        "outputId": "1daef9d9-ad72-4cad-9302-639638b0dc5c"
      },
      "outputs": [
        {
          "output_type": "stream",
          "name": "stdout",
          "text": [
            "File does not exist.\n"
          ]
        }
      ],
      "source": [
        "def read_file(filename):\n",
        "    try:\n",
        "        with open(filename, 'r') as file1:\n",
        "            word_string = file1.read()\n",
        "        print(\"File reading completed successfully\")\n",
        "        return word_string\n",
        "    except FileNotFoundError:\n",
        "        print(\"File does not exist.\")\n",
        "    else:\n",
        "     read_file(\"./data/Q1.txt\")\n",
        "\n",
        "\n",
        "\n",
        "read_file(\"./data/Q1.txt\")"
      ]
    },
    {
      "cell_type": "code",
      "source": [],
      "metadata": {
        "id": "udUPMNBJjvoj"
      },
      "execution_count": null,
      "outputs": []
    }
  ],
  "metadata": {
    "kernelspec": {
      "display_name": "Python 3",
      "language": "python",
      "name": "python3"
    },
    "language_info": {
      "codemirror_mode": {
        "name": "ipython",
        "version": 3
      },
      "file_extension": ".py",
      "mimetype": "text/x-python",
      "name": "python",
      "nbconvert_exporter": "python",
      "pygments_lexer": "ipython3",
      "version": "3.12.1"
    },
    "colab": {
      "provenance": [],
      "include_colab_link": true
    }
  },
  "nbformat": 4,
  "nbformat_minor": 0
}