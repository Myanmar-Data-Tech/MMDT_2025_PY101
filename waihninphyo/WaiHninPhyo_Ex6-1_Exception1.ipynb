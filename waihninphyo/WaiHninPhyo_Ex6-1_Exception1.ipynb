{
 "cells": [
  {
   "cell_type": "markdown",
   "metadata": {},
   "source": [
    "# Exception Handling\n"
   ]
  },
  {
   "cell_type": "markdown",
   "metadata": {},
   "source": [
    "### Q1) Run the following programs and identify the errors. \n",
    "Use exception handling approach to handle the erros. \n"
   ]
  },
  {
   "cell_type": "code",
   "execution_count": 33,
   "metadata": {},
   "outputs": [
    {
     "name": "stdout",
     "output_type": "stream",
     "text": [
      "Error: Division by zero is not allowed.\n"
     ]
    }
   ],
   "source": [
    "#Q1.1) Zero division error\n",
    "\n",
    "def myfunction(a, b):\n",
    "    try:\n",
    "        answer = a / b\n",
    "        return answer\n",
    "    except ZeroDivisionError:\n",
    "        return \"Error: Division by zero is not allowed.\"\n",
    "\n",
    "# Call the function\n",
    "result = myfunction(2, 0)\n",
    "print(result)"
   ]
  },
  {
   "cell_type": "code",
   "execution_count": 35,
   "metadata": {},
   "outputs": [
    {
     "name": "stdout",
     "output_type": "stream",
     "text": [
      "0.3333333333333333\n"
     ]
    }
   ],
   "source": [
    "#Q1.2 Name Error\n",
    "def myfunction2(c):\n",
    "    try:\n",
    "        answer = a / c\n",
    "        return answer\n",
    "    except NameError:\n",
    "        return \"Error: Variable 'a' is not defined.\"\n",
    "\n",
    "# Call the function\n",
    "result = myfunction2(3)\n",
    "print(result)"
   ]
  },
  {
   "cell_type": "code",
   "execution_count": 37,
   "metadata": {
    "scrolled": true
   },
   "outputs": [
    {
     "name": "stdout",
     "output_type": "stream",
     "text": [
      "1\n",
      "2\n",
      "3\n",
      "Error: Index 3 is out of range.\n"
     ]
    }
   ],
   "source": [
    "#Q1.3 IndexError\n",
    "a = [1, 2, 3]\n",
    "for k in range(0, 4):\n",
    "    try:\n",
    "        print(a[k])\n",
    "    except IndexError:\n",
    "        print(f\"Error: Index {k} is out of range.\")"
   ]
  },
  {
   "cell_type": "code",
   "execution_count": 41,
   "metadata": {},
   "outputs": [
    {
     "name": "stdin",
     "output_type": "stream",
     "text": [
      "Please enter a number to divide a:  0\n"
     ]
    },
    {
     "name": "stdout",
     "output_type": "stream",
     "text": [
      "Error: Division by zero is not allowed.\n"
     ]
    }
   ],
   "source": [
    "#Q1.4 Zero Division Error, Value Error\n",
    "a = 1\n",
    "try:\n",
    "    b = int(input(\"Please enter a number to divide a: \"))\n",
    "    a = a / b\n",
    "    print(\"Success a =\", a)\n",
    "except ZeroDivisionError:\n",
    "    print(\"Error: Division by zero is not allowed.\")\n",
    "except ValueError:\n",
    "    print(\"Error: Please enter a valid integer number.\")\n"
   ]
  },
  {
   "cell_type": "code",
   "execution_count": 43,
   "metadata": {},
   "outputs": [
    {
     "name": "stdout",
     "output_type": "stream",
     "text": [
      "Error: Inputs must be numbers (int or float).\n"
     ]
    }
   ],
   "source": [
    "def divide(a, b):\n",
    "    try:\n",
    "        result = a / b\n",
    "        print('The result of division is', result)\n",
    "    except ZeroDivisionError:\n",
    "        print('Error: Denominator (b) must not be zero.')\n",
    "    except TypeError:\n",
    "        print('Error: Inputs must be numbers (int or float).')\n",
    "    else:\n",
    "        return result\n",
    "\n",
    "divide(\"10\", 2)"
   ]
  },
  {
   "cell_type": "code",
   "execution_count": 45,
   "metadata": {},
   "outputs": [
    {
     "name": "stdout",
     "output_type": "stream",
     "text": [
      "File reading completed successfully.\n"
     ]
    },
    {
     "data": {
      "text/plain": [
       "'I love this movie! It is sweet, but with satirical humor. The dialogs are great and the adventure scenes are fun. It manages to be romantic and whimsical while laughingat the conventions of the fairy tale genre. I would recommend it to just about anyone. I have seen it several times and I am always happy to see it again and again. '"
      ]
     },
     "execution_count": 45,
     "metadata": {},
     "output_type": "execute_result"
    }
   ],
   "source": [
    "def read_file(filename):\n",
    "    try:\n",
    "        with open(filename, 'r') as file1:\n",
    "            word_string = file1.read()\n",
    "        print(\"File reading completed successfully.\")\n",
    "        return word_string\n",
    "    except FileNotFoundError:\n",
    "        print(\"Error: File does not exist.\")\n",
    "    except Exception as e:\n",
    "        print(f\"An unexpected error occurred: {e}\")\n",
    "\n",
    "\n",
    "read_file(\"Q1.txt\")"
   ]
  },
  {
   "cell_type": "code",
   "execution_count": null,
   "metadata": {},
   "outputs": [],
   "source": []
  }
 ],
 "metadata": {
  "kernelspec": {
   "display_name": "Python 3 (ipykernel)",
   "language": "python",
   "name": "python3"
  },
  "language_info": {
   "codemirror_mode": {
    "name": "ipython",
    "version": 3
   },
   "file_extension": ".py",
   "mimetype": "text/x-python",
   "name": "python",
   "nbconvert_exporter": "python",
   "pygments_lexer": "ipython3",
   "version": "3.12.4"
  }
 },
 "nbformat": 4,
 "nbformat_minor": 4
}
