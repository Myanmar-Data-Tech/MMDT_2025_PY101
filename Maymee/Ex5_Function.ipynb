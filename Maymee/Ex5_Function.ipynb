{
  "cells": [
    {
      "cell_type": "markdown",
      "metadata": {
        "id": "view-in-github",
        "colab_type": "text"
      },
      "source": [
        "<a href=\"https://colab.research.google.com/github/Maymee614/MMDT_2025_PY101/blob/main/Maymee/Ex5_Function.ipynb\" target=\"_parent\"><img src=\"https://colab.research.google.com/assets/colab-badge.svg\" alt=\"Open In Colab\"/></a>"
      ]
    },
    {
      "cell_type": "markdown",
      "metadata": {
        "id": "b-1b6ywy-O5i"
      },
      "source": [
        "Exercises are taken from : https://www.brianheinold.net/python/A_Practical_Introduction_to_Python_Programming_Heinold.pdf\n"
      ]
    },
    {
      "cell_type": "markdown",
      "metadata": {
        "id": "pps5xBbs-I9w"
      },
      "source": [
        "Ex 1: Write a function called rectangle that takes two integers m and n as arguments and prints\n",
        "out an m× n box consisting of asterisks. Shown below is the output of rectangle(2,4)\n",
        "****\n",
        "****"
      ]
    },
    {
      "cell_type": "code",
      "execution_count": null,
      "metadata": {
        "id": "S_5WWVLH3u8y"
      },
      "outputs": [],
      "source": [
        "def rectangle(m,n):\n",
        "    for k in range(m):\n",
        "        print(n*'*')\n",
        "\n",
        "rectangle(10,5)\n"
      ]
    },
    {
      "cell_type": "markdown",
      "metadata": {
        "id": "0QS7SmPV-coO"
      },
      "source": [
        "Ex 2: Write a function that takes an integer n and returns a random integer with exactly n digits. For\n",
        "instance, if n is 3, then 125 and 593 would be valid return values, but 093 would not because\n",
        "that is really 93, which is a two-digit number."
      ]
    },
    {
      "cell_type": "code",
      "execution_count": 4,
      "metadata": {
        "id": "c4ejnmGJ-MzL",
        "colab": {
          "base_uri": "https://localhost:8080/"
        },
        "outputId": "e1b8f74f-8ce8-421e-c510-cb5c7680595f"
      },
      "outputs": [
        {
          "output_type": "execute_result",
          "data": {
            "text/plain": [
              "54"
            ]
          },
          "metadata": {},
          "execution_count": 4
        }
      ],
      "source": [
        "import random\n",
        "def calcualte_numbers ( n ):\n",
        "    result = random.randint(10**(n-1) , 10**(n)-1)\n",
        "\n",
        "\n",
        "    return result\n",
        "\n",
        "calcualte_numbers(2)"
      ]
    },
    {
      "cell_type": "markdown",
      "metadata": {
        "id": "B0P_F5Ld-ldg"
      },
      "source": [
        "Ex 3: Write a function called number_of_factors that takes an integer and returns how many\n",
        "factors the number has."
      ]
    },
    {
      "cell_type": "code",
      "execution_count": 15,
      "metadata": {
        "id": "Yr2BLCXp-oTi",
        "colab": {
          "base_uri": "https://localhost:8080/"
        },
        "outputId": "1da5dc0d-ba9f-47df-b44b-ca1587aced28"
      },
      "outputs": [
        {
          "output_type": "stream",
          "name": "stdout",
          "text": [
            "4\n"
          ]
        }
      ],
      "source": [
        "def number_of_factors(n):\n",
        "    if n <= 0:\n",
        "        raise ValueError(\"Please provide a positive integer.\")\n",
        "    count = 0\n",
        "    for i in range(1, n + 1):\n",
        "        if n % i == 0:\n",
        "            count += 1\n",
        "    return count\n",
        "print(number_of_factors(10))\n"
      ]
    },
    {
      "cell_type": "markdown",
      "metadata": {
        "id": "7w0DDTyY-o_4"
      },
      "source": [
        "Ex4: Write a function called first_diff that is given two strings and returns the first location in\n",
        "which the strings differ. If the strings are identical, it should return -1.Ignore the case in your function. It means h and H are the same."
      ]
    },
    {
      "cell_type": "code",
      "execution_count": 17,
      "metadata": {
        "id": "1WOvaf0z-6J6",
        "colab": {
          "base_uri": "https://localhost:8080/"
        },
        "outputId": "ffd7c37e-d436-49d5-9890-c17dfdbc0f5d"
      },
      "outputs": [
        {
          "output_type": "stream",
          "name": "stdout",
          "text": [
            "2\n"
          ]
        }
      ],
      "source": [
        "def first_diff(s1, s2):\n",
        "    s1 = s1.lower()\n",
        "    s2 = s2.lower()\n",
        "    min_len = min(len(s1), len(s2))\n",
        "\n",
        "    for i in range(min_len):\n",
        "        if s1[i] != s2[i]:\n",
        "            return i\n",
        "\n",
        "    if len(s1) != len(s2):\n",
        "        return min_len\n",
        "\n",
        "    return -1\n",
        "print(first_diff(\"Test\", \"Tea\"))"
      ]
    },
    {
      "cell_type": "markdown",
      "metadata": {
        "id": "jLM8fAg_-6th"
      },
      "source": [
        "Ex5: Write a function called root that is given a number x and an integer n and returns x/n. In\n",
        "the function definition, set the default value of n to 2."
      ]
    },
    {
      "cell_type": "code",
      "execution_count": null,
      "metadata": {
        "id": "1TrSgTDa_Fu0"
      },
      "outputs": [],
      "source": []
    },
    {
      "cell_type": "markdown",
      "metadata": {
        "id": "-joxMC0JDDmb"
      },
      "source": [
        "Ex6: Write a function that solves the system of equations ax + by = e and cx +dy = f. Your function should takes 6 parameters, (a, b, c, d, e,f) and return the values of x and y."
      ]
    },
    {
      "cell_type": "code",
      "execution_count": null,
      "metadata": {
        "id": "BPvUnK2mDDmc"
      },
      "outputs": [],
      "source": []
    },
    {
      "cell_type": "markdown",
      "metadata": {
        "id": "Fe7mKcpsDDmc"
      },
      "source": [
        "Ex7:  Write a function called change_case that given a string, returns a string with each upper  case letter replaced by a lower case letter and vice-versa"
      ]
    },
    {
      "cell_type": "code",
      "execution_count": 9,
      "metadata": {
        "colab": {
          "base_uri": "https://localhost:8080/"
        },
        "id": "xbavNBpwDDmc",
        "outputId": "f6faa389-ff0a-40b0-82d9-4c7ed6685c4d"
      },
      "outputs": [
        {
          "output_type": "stream",
          "name": "stdout",
          "text": [
            "hELLO wORLD\n"
          ]
        }
      ],
      "source": [
        "def change_case(s):\n",
        "    return s.swapcase()\n",
        "print(change_case(\"Hello World\"))\n"
      ]
    },
    {
      "cell_type": "markdown",
      "metadata": {
        "id": "ZanBtULKDDmd"
      },
      "source": [
        "Ex8:  Write a function called primes that is given a number n and returns a list of the first n  primes. Let the default value of n be 100."
      ]
    },
    {
      "cell_type": "code",
      "execution_count": 16,
      "metadata": {
        "colab": {
          "base_uri": "https://localhost:8080/"
        },
        "id": "ExPxnfjlDDmd",
        "outputId": "053a6303-8531-46b2-c884-a4f8fe3baead"
      },
      "outputs": [
        {
          "output_type": "stream",
          "name": "stdout",
          "text": [
            "[2, 3, 5, 7, 11, 13, 17, 19, 23, 29]\n"
          ]
        }
      ],
      "source": [
        "def primes(n=100):\n",
        "    def is_prime(x):\n",
        "        if x < 2:\n",
        "            return False\n",
        "        for i in range(2, int(x ** 0.5) + 1):\n",
        "            if x % i == 0:\n",
        "                return False\n",
        "        return True\n",
        "\n",
        "    prime_list = []\n",
        "    num = 2\n",
        "    while len(prime_list) < n:\n",
        "        if is_prime(num):\n",
        "            prime_list.append(num)\n",
        "        num += 1\n",
        "    return prime_list\n",
        "print(primes(10))"
      ]
    },
    {
      "cell_type": "markdown",
      "metadata": {
        "id": "pW2A11K2DDmd"
      },
      "source": [
        "Ex9: A Tic-tac-toe board can be represented be a 3×3 two-dimensional list, where zeroes stand for  empty cells, ones stand for X’s and twos stand for O’s. Write a function that is given such a list and randomly chooses a spot in which to place  a 2 (O). The spot chosen must currently be empty and a spot must be chosen."
      ]
    },
    {
      "cell_type": "code",
      "execution_count": null,
      "metadata": {
        "id": "UngjACnhDDmd"
      },
      "outputs": [],
      "source": []
    },
    {
      "cell_type": "markdown",
      "metadata": {
        "id": "NgwBzrSoDDme"
      },
      "source": [
        "Ex10:  Write a function that is given a 9 × 9 potentially solved Sudoku and returns True if it is solved correctly and False if there is a mistake. The Sudoku is correctly solved if there are\n",
        " no repeated numbers in any row or any column or in any of the nine “blocks.”\n"
      ]
    },
    {
      "cell_type": "code",
      "execution_count": 18,
      "metadata": {
        "id": "fjqTQW5HDDme"
      },
      "outputs": [],
      "source": [
        "def is_valid_sudoku(board):\n",
        "    def is_valid_group(group):\n",
        "        return sorted(group) == list(range(1, 10))\n",
        "\n",
        "    # Check rows\n",
        "    for row in board:\n",
        "        if not is_valid_group(row):\n",
        "            return False\n",
        "\n",
        "    # Check columns\n",
        "    for col_idx in range(9):\n",
        "        column = [board[row_idx][col_idx] for row_idx in range(9)]\n",
        "        if not is_valid_group(column):\n",
        "            return False\n",
        "\n",
        "    # Check 3×3 blocks\n",
        "    for block_row in range(0, 9, 3):\n",
        "        for block_col in range(0, 9, 3):\n",
        "            block = []\n",
        "            for i in range(3):\n",
        "                for j in range(3):\n",
        "                    block.append(board[block_row + i][block_col + j])\n",
        "            if not is_valid_group(block):\n",
        "                return False\n",
        "\n",
        "    return True\n",
        "    print(is_sudoku_solved(sudoku))\n"
      ]
    }
  ],
  "metadata": {
    "colab": {
      "name": "Ex5_Function.ipynb",
      "provenance": [],
      "include_colab_link": true
    },
    "kernelspec": {
      "display_name": "Python 3",
      "name": "python3"
    },
    "language_info": {
      "codemirror_mode": {
        "name": "ipython",
        "version": 3
      },
      "file_extension": ".py",
      "mimetype": "text/x-python",
      "name": "python",
      "nbconvert_exporter": "python",
      "pygments_lexer": "ipython3",
      "version": "3.12.1"
    }
  },
  "nbformat": 4,
  "nbformat_minor": 0
}