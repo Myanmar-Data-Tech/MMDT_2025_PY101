{
 "cells": [
  {
   "cell_type": "markdown",
   "metadata": {},
   "source": [
    "1) Write a Python program in the below cell to create a dictionary that count the frequency of words in the string given in Q1.txt. Find the most frequent occured word.\n",
    "\n",
    "Don't remove the comment lines provided. "
   ]
  },
  {
   "cell_type": "code",
   "execution_count": 1,
   "metadata": {},
   "outputs": [
    {
     "name": "stdout",
     "output_type": "stream",
     "text": [
      "i love this movie it is sweet but with satirical humor the dialogs are great and the adventure scenes are fun it manages to be romantic and whimsical while laughingat the conventions of the fairy tale genre i would recommend it to just about anyone i have seen it several times and i am always happy to see it again and again \n",
      "['i', 'love', 'this', 'movie', 'it', 'is', 'sweet', 'but', 'with', 'satirical', 'humor', 'the', 'dialogs', 'are', 'great', 'and', 'the', 'adventure', 'scenes', 'are', 'fun', 'it', 'manages', 'to', 'be', 'romantic', 'and', 'whimsical', 'while', 'laughingat', 'the', 'conventions', 'of', 'the', 'fairy', 'tale', 'genre', 'i', 'would', 'recommend', 'it', 'to', 'just', 'about', 'anyone', 'i', 'have', 'seen', 'it', 'several', 'times', 'and', 'i', 'am', 'always', 'happy', 'to', 'see', 'it', 'again', 'and', 'again']\n",
      "Most frequent word: 'it' with frequency: 5\n"
     ]
    },
    {
     "name": "stderr",
     "output_type": "stream",
     "text": [
      "<>:9: SyntaxWarning: invalid escape sequence '\\,'\n",
      "<>:9: SyntaxWarning: invalid escape sequence '\\,'\n",
      "C:\\Users\\USER\\AppData\\Local\\Temp\\ipykernel_17544\\3656866284.py:9: SyntaxWarning: invalid escape sequence '\\,'\n",
      "  punctuation = '''!()-[]{};:'\"\\,<>./?@#$%^&*_~'''\n"
     ]
    }
   ],
   "source": [
    "#step 1: read content from Q1.txt \n",
    "with open('Q1.txt', 'r') as file1:\n",
    "    word_string = file1.read()\n",
    "    \n",
    "#step 2.1 - change the case to upper or lower. \n",
    "word_string = word_string.lower()\n",
    "\n",
    "#step 2.2 - remove pun : use replace\n",
    "punctuation = '''!()-[]{};:'\"\\,<>./?@#$%^&*_~'''\n",
    "for char in punctuation:\n",
    "    word_string = word_string.replace(char, \"\")\n",
    "print(word_string)\n",
    "\n",
    "#step 2.3 - split using space\n",
    "words = word_string.split()\n",
    "print(words)\n",
    "\n",
    "#Step 3: create a dictionary \n",
    "word_count = {}\n",
    "for word in words:\n",
    "    if word in word_count:\n",
    "        word_count[word] += 1\n",
    "    else:\n",
    "        word_count[word] = 1\n",
    "        \n",
    "#Step 4: find the most frequent occured one\n",
    "most_frequent = max(word_count, key=word_count.get)\n",
    "frequency = word_count[most_frequent]\n",
    "\n",
    "# Output result\n",
    "print(f\"Most frequent word: '{most_frequent}' with frequency: {frequency}\")\n",
    "    "
   ]
  },
  {
   "cell_type": "markdown",
   "metadata": {},
   "source": [
    "2) Write a Python program to read the name from Q2.txt and create email using domain 'simons-rock.edu' and save the results as dictionary : {'name': 'name@simons-rock.edu'}.\n",
    "Please take note that your email should not include space or any special characters and all charcters should be in lowercase."
   ]
  },
  {
   "cell_type": "code",
   "execution_count": 6,
   "metadata": {},
   "outputs": [
    {
     "name": "stdout",
     "output_type": "stream",
     "text": [
      "{'Dechen Dorji': 'dechendorji@simons-rock.edu', 'Deki Tshomo': 'dekitshomo@simons-rock.edu', 'Dorji Tshering': 'dorjitshering@simons-rock.edu', 'Dorji Wangmo': 'dorjiwangmo@simons-rock.edu', 'Gem Tshering Lepcha': 'gemtsheringlepcha@simons-rock.edu', 'Jigme Dorji': 'jigmedorji@simons-rock.edu', 'Kinley Cheki': 'kinleycheki@simons-rock.edu', 'Kinley Wangmo': 'kinleywangmo@simons-rock.edu', 'Ngawang Dema Karpo': 'ngawangdemakarpo@simons-rock.edu', 'Roshan Chhetri': 'roshanchhetri@simons-rock.edu', 'Sonam Tenzin': 'sonamtenzin@simons-rock.edu', 'Sonam Tobgay': 'sonamtobgay@simons-rock.edu', 'Sonam Yangden': 'sonamyangden@simons-rock.edu', 'Tandin Om': 'tandinom@simons-rock.edu', 'Tandin Wangchuk': 'tandinwangchuk@simons-rock.edu', 'Tashi Om': 'tashiom@simons-rock.edu', 'Tenday Zangmo': 'tendayzangmo@simons-rock.edu', 'Tshering Pem': 'tsheringpem@simons-rock.edu', 'Ugyen Phurpa': 'ugyenphurpa@simons-rock.edu', 'Marmitt': 'marmitt@simons-rock.edu'}\n"
     ]
    }
   ],
   "source": [
    "import re\n",
    "\n",
    "# step 1: read Q2.txt into the list\n",
    "with open('Q2.txt', 'r') as names:\n",
    "    header = names.readline()\n",
    "    namelist = names.readlines()\n",
    "\n",
    "# step 2: create email for each name in the list and save them in the dictionary\n",
    "# You need to do the necessary data cleaning\n",
    "# For example, removing the space and special characters if there is any, converting them to lower case\n",
    "\n",
    "email_dict = {}\n",
    "\n",
    "for name in namelist:\n",
    "    original_name = name.strip()                             # Remove leading/trailing whitespace\n",
    "    clean_name = re.sub(r'[^a-z]', '', original_name.lower()) # Remove spaces/special characters and lowercase\n",
    "    email = f\"{clean_name}@simons-rock.edu\"\n",
    "    email_dict[original_name] = email\n",
    "\n",
    "# Output the dictionary\n",
    "print(email_dict)"
   ]
  },
  {
   "cell_type": "markdown",
   "metadata": {},
   "source": [
    "3) Write a Python program for \"Guessing Game: Guess the Number Challenge\"\n",
    "\n",
    "Step 1: Use a random function to generate a number.\n",
    "\n",
    "##### Game starts.......\n",
    "\n",
    "Step 2: Prompt the user to guess an integer number. Provide a range if needed to give the user context for their guess.\n",
    "\n",
    "Step 3: Check the condition of the guessed number compared to the generated number and provide feedback accordingly. For example, if the guess is too high or too low, inform the user.\n",
    "\n",
    "Step 4.1: If the guess is incorrect, allow the user to guess again. Repeat this process for a maximum of 10 guesses.\n",
    "\n",
    "Step 4.2: If the user guesses the number correctly, inform them that they have won. Also, indicate how many guesses were needed before guessing correctly.\n",
    "\n",
    "Step 4.3: If the user exhausts all 10 guesses without guessing the correct number, say \"goodbye.\"\n",
    "\n",
    "##### Game ends ... \n",
    "\n",
    "Step 5: Regardless of winning or losing, ask the user if they want to play again. This ensures the program's continuity and gives the user the option to continue playing if they wish."
   ]
  },
  {
   "cell_type": "code",
   "execution_count": 8,
   "metadata": {},
   "outputs": [
    {
     "name": "stdout",
     "output_type": "stream",
     "text": [
      "🎮 Game starts.......\n",
      "I'm thinking of a number between 1 and 100.\n"
     ]
    },
    {
     "name": "stdin",
     "output_type": "stream",
     "text": [
      "Attempt 1: Enter your guess:  91\n"
     ]
    },
    {
     "name": "stdout",
     "output_type": "stream",
     "text": [
      "Too high 📈\n"
     ]
    },
    {
     "name": "stdin",
     "output_type": "stream",
     "text": [
      "Attempt 2: Enter your guess:  54\n"
     ]
    },
    {
     "name": "stdout",
     "output_type": "stream",
     "text": [
      "Too high 📈\n"
     ]
    },
    {
     "name": "stdin",
     "output_type": "stream",
     "text": [
      "Attempt 3: Enter your guess:  78\n"
     ]
    },
    {
     "name": "stdout",
     "output_type": "stream",
     "text": [
      "Too high 📈\n"
     ]
    },
    {
     "name": "stdin",
     "output_type": "stream",
     "text": [
      "Attempt 4: Enter your guess:  21\n"
     ]
    },
    {
     "name": "stdout",
     "output_type": "stream",
     "text": [
      "Too low 📉\n"
     ]
    },
    {
     "name": "stdin",
     "output_type": "stream",
     "text": [
      "Attempt 5: Enter your guess:  45\n"
     ]
    },
    {
     "name": "stdout",
     "output_type": "stream",
     "text": [
      "Too high 📈\n"
     ]
    },
    {
     "name": "stdin",
     "output_type": "stream",
     "text": [
      "Attempt 6: Enter your guess:  47\n"
     ]
    },
    {
     "name": "stdout",
     "output_type": "stream",
     "text": [
      "Too high 📈\n"
     ]
    },
    {
     "name": "stdin",
     "output_type": "stream",
     "text": [
      "Attempt 7: Enter your guess:  12\n"
     ]
    },
    {
     "name": "stdout",
     "output_type": "stream",
     "text": [
      "Too low 📉\n"
     ]
    },
    {
     "name": "stdin",
     "output_type": "stream",
     "text": [
      "Attempt 8: Enter your guess:  101\n"
     ]
    },
    {
     "name": "stdout",
     "output_type": "stream",
     "text": [
      "Too high 📈\n"
     ]
    },
    {
     "name": "stdin",
     "output_type": "stream",
     "text": [
      "Attempt 9: Enter your guess:  77\n"
     ]
    },
    {
     "name": "stdout",
     "output_type": "stream",
     "text": [
      "Too high 📈\n"
     ]
    },
    {
     "name": "stdin",
     "output_type": "stream",
     "text": [
      "Attempt 10: Enter your guess:  21\n"
     ]
    },
    {
     "name": "stdout",
     "output_type": "stream",
     "text": [
      "Too low 📉\n",
      "😞 Out of attempts. The number was 36. Goodbye.\n",
      "🕹️ Game ends ...\n"
     ]
    },
    {
     "name": "stdin",
     "output_type": "stream",
     "text": [
      "\n",
      "Do you want to play again? (yes/no):  no\n"
     ]
    },
    {
     "name": "stdout",
     "output_type": "stream",
     "text": [
      "👋 Thanks for playing! See you next time.\n"
     ]
    }
   ],
   "source": [
    "import random\n",
    "\n",
    "print(\"🎮 Game starts.......\")\n",
    "\n",
    "while True:\n",
    "    number_to_guess = random.randint(1, 100)\n",
    "    attempts = 0\n",
    "    max_attempts = 10\n",
    "\n",
    "    print(\"I'm thinking of a number between 1 and 100.\")\n",
    "\n",
    "    while attempts < max_attempts:\n",
    "        try:\n",
    "            guess = int(input(f\"Attempt {attempts + 1}: Enter your guess: \"))\n",
    "        except ValueError:\n",
    "            print(\"⚠️ Please enter a valid integer.\")\n",
    "            continue\n",
    "\n",
    "        attempts += 1\n",
    "\n",
    "        if guess < number_to_guess:\n",
    "            print(\"Too low 📉\")\n",
    "        elif guess > number_to_guess:\n",
    "            print(\"Too high 📈\")\n",
    "        else:\n",
    "            print(f\"🎉 Correct! You guessed the number in {attempts} tries.\")\n",
    "            break\n",
    "    else:\n",
    "        print(f\"😞 Out of attempts. The number was {number_to_guess}. Goodbye.\")\n",
    "\n",
    "    print(\"🕹️ Game ends ...\")\n",
    "\n",
    "    play_again = input(\"\\nDo you want to play again? (yes/no): \").strip().lower()\n",
    "    if play_again not in ['yes', 'y']:\n",
    "        print(\"👋 Thanks for playing! See you next time.\")\n",
    "        break\n",
    "\n"
   ]
  },
  {
   "cell_type": "code",
   "execution_count": null,
   "metadata": {},
   "outputs": [],
   "source": []
  }
 ],
 "metadata": {
  "kernelspec": {
   "display_name": "Python 3 (ipykernel)",
   "language": "python",
   "name": "python3"
  },
  "language_info": {
   "codemirror_mode": {
    "name": "ipython",
    "version": 3
   },
   "file_extension": ".py",
   "mimetype": "text/x-python",
   "name": "python",
   "nbconvert_exporter": "python",
   "pygments_lexer": "ipython3",
   "version": "3.12.4"
  }
 },
 "nbformat": 4,
 "nbformat_minor": 4
}
