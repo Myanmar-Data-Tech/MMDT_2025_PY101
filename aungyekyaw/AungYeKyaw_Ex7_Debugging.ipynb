{
  "cells": [
    {
      "cell_type": "markdown",
      "metadata": {
        "id": "qezk0aiBi70d"
      },
      "source": [
        "## Simple Debugging\n",
        "\n",
        "Add print statements to your program.\n",
        "Add input() to pause the program"
      ]
    },
    {
      "cell_type": "code",
      "execution_count": 5,
      "metadata": {
        "colab": {
          "base_uri": "https://localhost:8080/",
          "height": 182
        },
        "id": "0NBMRgIOi70g",
        "outputId": "31c9eeaa-bb7c-49c1-cc03-1e387b32f546"
      },
      "outputs": [
        {
          "name": "stdout",
          "output_type": "stream",
          "text": [
            "3\n",
            "Hello Hello Hello \n",
            "Hello Hello Hello \n",
            "Hello Hello Hello \n",
            "Hello Hello Hello \n",
            "Hello Hello Hello \n",
            "Hello Hello Hello \n",
            "Press Enter to exit...\n"
          ]
        },
        {
          "output_type": "execute_result",
          "data": {
            "text/plain": [
              "''"
            ],
            "application/vnd.google.colaboratory.intrinsic+json": {
              "type": "string"
            }
          },
          "metadata": {},
          "execution_count": 5
        }
      ],
      "source": [
        "from random import randint\n",
        "\n",
        "#Step 1: generate a random number between 1 and 5\n",
        "rand_num = randint(1,5)\n",
        "\n",
        "# add print statment here to know the value of rand_num\n",
        "print(rand_num)\n",
        "\n",
        "# Step 2: What does this code do?\n",
        "\n",
        "for i in range(6):\n",
        "    print('Hello '*rand_num)\n",
        "input(\"Press Enter to exit...\")"
      ]
    },
    {
      "cell_type": "code",
      "execution_count": 7,
      "metadata": {
        "colab": {
          "base_uri": "https://localhost:8080/"
        },
        "id": "CW-AMmFUi70h",
        "outputId": "745aa604-e100-4000-92c5-b658caa16d4e"
      },
      "outputs": [
        {
          "output_type": "stream",
          "name": "stdout",
          "text": [
            "5\n",
            "Hello Hello Hello Hello Hello \n",
            "Hello Hello Hello \n",
            "Hello Hello Hello Hello \n",
            "Hello Hello Hello \n",
            "Hello Hello Hello \n",
            "Hello Hello Hello Hello Hello \n"
          ]
        }
      ],
      "source": [
        "from random import randint\n",
        "\n",
        "# Step 1: generate a random number between 1 and 5\n",
        "rand_num = randint(1,5)\n",
        "print(rand_num)\n",
        "\n",
        "# Step 2: What does this code do?\n",
        "\n",
        "for i in range(6):\n",
        "    rand_num = randint(1,5)\n",
        "    print('Hello '*rand_num)"
      ]
    },
    {
      "cell_type": "markdown",
      "metadata": {
        "id": "ys8twuRTi70h"
      },
      "source": [
        "Write a program that generates 10000 random numbers between 1 and 100 and counts how many of them are multiples of 12."
      ]
    },
    {
      "cell_type": "code",
      "execution_count": null,
      "metadata": {
        "id": "xRO5CTMWi70i"
      },
      "outputs": [],
      "source": [
        "# Step 1:\n",
        "from random import randint\n",
        "# Step 2:\n",
        "count = 0\n",
        "# Step 3:\n",
        "for i in range(10000):\n",
        "    #Step 4:\n",
        "    num = randint(1, 100)\n",
        "    #Step 5:\n",
        "    if num%12==0:\n",
        "        count=count+1\n",
        "    # Step 6:\n",
        "print('Number of multiples of 12:', count)\n"
      ]
    },
    {
      "cell_type": "markdown",
      "metadata": {
        "id": "a9ohiT6ii70i"
      },
      "source": [
        "The following program should counts how many of the squares of the numbers from 1 to 100 end in 1.  (Example: 1,81,121). Debug the code."
      ]
    },
    {
      "cell_type": "code",
      "execution_count": 8,
      "metadata": {
        "colab": {
          "base_uri": "https://localhost:8080/"
        },
        "id": "6WugvEi9i70i",
        "outputId": "3254102c-c9cc-46e7-cfea-1d229f8fcc7f"
      },
      "outputs": [
        {
          "output_type": "execute_result",
          "data": {
            "text/plain": [
              "20"
            ]
          },
          "metadata": {},
          "execution_count": 8
        }
      ],
      "source": [
        "import numpy as np\n",
        "def fun_square_count():\n",
        "    num_list = np.arange(1,101)\n",
        "    squred_num = [value**2 for value in num_list]\n",
        "    count=0\n",
        "    for num in squred_num:\n",
        "        if num%10 ==1:\n",
        "            count +=1\n",
        "\n",
        "    return count\n",
        "\n",
        "fun_square_count()"
      ]
    },
    {
      "cell_type": "markdown",
      "metadata": {
        "id": "I4EUFnL3i70i"
      },
      "source": [
        "Debug the following programs"
      ]
    },
    {
      "cell_type": "code",
      "execution_count": 9,
      "metadata": {
        "colab": {
          "base_uri": "https://localhost:8080/"
        },
        "id": "5dZSd_uSi70j",
        "outputId": "c7dfd7a2-6850-4054-df58-6a92418ae5a0"
      },
      "outputs": [
        {
          "output_type": "stream",
          "name": "stdout",
          "text": [
            "Error: parameters must be both numbers\n",
            "None\n"
          ]
        }
      ],
      "source": [
        "def add(a, b):\n",
        "  try:\n",
        "    return a + b\n",
        "  except TypeError:\n",
        "    print('Error: parameters must be both numbers')\n",
        "\n",
        "print(add(5, '2'))\n"
      ]
    },
    {
      "cell_type": "code",
      "execution_count": 11,
      "metadata": {
        "id": "RV0_Ponii70j"
      },
      "outputs": [],
      "source": [
        "def divide(a, b):\n",
        "  try:\n",
        "    result = a / b\n",
        "  except ZeroDivisionError:\n",
        "    print('Error: The number cannot divided by zero')\n",
        "  except TypeError:\n",
        "    print('Error: parameters must be both numbers')\n",
        "  else:\n",
        "    return result"
      ]
    },
    {
      "cell_type": "code",
      "execution_count": null,
      "metadata": {
        "id": "yrF_vZA8i70j"
      },
      "outputs": [],
      "source": [
        "def is_prime(n):\n",
        "    if n <= 0:\n",
        "        return False\n",
        "    for i in range(2, n):\n",
        "        if n % i == 0:\n",
        "            return False\n",
        "    return True\n",
        "\n",
        "print(is_prime(15))\n"
      ]
    }
  ],
  "metadata": {
    "kernelspec": {
      "display_name": "Python 3",
      "language": "python",
      "name": "python3"
    },
    "language_info": {
      "codemirror_mode": {
        "name": "ipython",
        "version": 3
      },
      "file_extension": ".py",
      "mimetype": "text/x-python",
      "name": "python",
      "nbconvert_exporter": "python",
      "pygments_lexer": "ipython3",
      "version": "3.12.1"
    },
    "colab": {
      "provenance": []
    }
  },
  "nbformat": 4,
  "nbformat_minor": 0
}