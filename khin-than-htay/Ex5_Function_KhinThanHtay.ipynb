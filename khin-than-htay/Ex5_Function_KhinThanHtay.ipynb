{
  "cells": [
    {
      "cell_type": "markdown",
      "metadata": {
        "id": "view-in-github",
        "colab_type": "text"
      },
      "source": [
        "<a href=\"https://colab.research.google.com/github/khinthanhtay95/MMDT_2025_PY101/blob/KhinThanHtay/khin-than-htay/Ex5_Function_KhinThanHtay.ipynb\" target=\"_parent\"><img src=\"https://colab.research.google.com/assets/colab-badge.svg\" alt=\"Open In Colab\"/></a>"
      ]
    },
    {
      "cell_type": "markdown",
      "metadata": {
        "id": "b-1b6ywy-O5i"
      },
      "source": [
        "Exercises are taken from : https://www.brianheinold.net/python/A_Practical_Introduction_to_Python_Programming_Heinold.pdf\n"
      ]
    },
    {
      "cell_type": "markdown",
      "metadata": {
        "id": "pps5xBbs-I9w"
      },
      "source": [
        "Ex 1: Write a function called rectangle that takes two integers m and n as arguments and prints\n",
        "out an m× n box consisting of asterisks. Shown below is the output of rectangle(2,4)\n",
        "****\n",
        "****"
      ]
    },
    {
      "cell_type": "code",
      "execution_count": 2,
      "metadata": {
        "id": "S_5WWVLH3u8y",
        "colab": {
          "base_uri": "https://localhost:8080/"
        },
        "outputId": "62830b71-feaa-4f46-b0b7-89c7504a07ca"
      },
      "outputs": [
        {
          "output_type": "stream",
          "name": "stdout",
          "text": [
            "****\n",
            "****\n"
          ]
        }
      ],
      "source": [
        "def rectangle(m,n):\n",
        "    for k in range(m):\n",
        "        print(n*'*')\n",
        "\n",
        "rectangle(2,4)\n"
      ]
    },
    {
      "cell_type": "markdown",
      "metadata": {
        "id": "0QS7SmPV-coO"
      },
      "source": [
        "Ex 2: Write a function that takes an integer n and returns a random integer with exactly n digits. For\n",
        "instance, if n is 3, then 125 and 593 would be valid return values, but 093 would not because\n",
        "that is really 93, which is a two-digit number."
      ]
    },
    {
      "cell_type": "code",
      "execution_count": 4,
      "metadata": {
        "id": "c4ejnmGJ-MzL",
        "colab": {
          "base_uri": "https://localhost:8080/"
        },
        "outputId": "9cf25ac9-aad0-420c-f07b-1ace6db3e41c"
      },
      "outputs": [
        {
          "output_type": "execute_result",
          "data": {
            "text/plain": [
              "181"
            ]
          },
          "metadata": {},
          "execution_count": 4
        }
      ],
      "source": [
        "import random\n",
        "def calcualte_numbers ( n ):\n",
        "    result = random.randint(10**(n-1) , 10**(n)-1)\n",
        "\n",
        "\n",
        "    return result\n",
        "\n",
        "calcualte_numbers(3)"
      ]
    },
    {
      "cell_type": "markdown",
      "metadata": {
        "id": "B0P_F5Ld-ldg"
      },
      "source": [
        "Ex 3: Write a function called number_of_factors that takes an integer and returns how many factors the number has."
      ]
    },
    {
      "cell_type": "code",
      "execution_count": 4,
      "metadata": {
        "id": "Yr2BLCXp-oTi",
        "colab": {
          "base_uri": "https://localhost:8080/"
        },
        "outputId": "6c1f2dca-1f36-4a34-fc50-de7b4f164f94"
      },
      "outputs": [
        {
          "output_type": "execute_result",
          "data": {
            "text/plain": [
              "4"
            ]
          },
          "metadata": {},
          "execution_count": 4
        }
      ],
      "source": [
        "def number_of_factors (n):\n",
        "  factor_list = []\n",
        "  for d in range(1, n+1):\n",
        "    if(n%d == 0):\n",
        "      factor_list.append(d)\n",
        "  return len(factor_list)\n",
        "number_of_factors(8)"
      ]
    },
    {
      "cell_type": "markdown",
      "metadata": {
        "id": "7w0DDTyY-o_4"
      },
      "source": [
        "Ex4: Write a function called first_diff that is given two strings and returns the first location in\n",
        "which the strings differ. If the strings are identical, it should return -1.Ignore the case in your function. It means h and H are the same."
      ]
    },
    {
      "cell_type": "code",
      "execution_count": 8,
      "metadata": {
        "id": "1WOvaf0z-6J6",
        "colab": {
          "base_uri": "https://localhost:8080/"
        },
        "outputId": "8ecd2ccd-aa1e-4041-98db-b46aa1b2102d"
      },
      "outputs": [
        {
          "output_type": "stream",
          "name": "stdout",
          "text": [
            "case 0:\n",
            "Two strings are identical!\n",
            "case 1: same length - diff at index 4\n",
            "case 2: \n",
            "Two strings are identical!\n"
          ]
        },
        {
          "output_type": "execute_result",
          "data": {
            "text/plain": [
              "-1"
            ]
          },
          "metadata": {},
          "execution_count": 8
        }
      ],
      "source": [
        "def first_diff (n,m):\n",
        "  n = n.lower()\n",
        "  m = m.lower()\n",
        "  if(n==m):\n",
        "    print('Two strings are identical!')\n",
        "    diff = -1\n",
        "  else:\n",
        "    diff = min(len(n), len(m))\n",
        "    for idx in range(min(len(n),len(m))):\n",
        "      if not (n[idx] == m[idx]):\n",
        "        diff = idx\n",
        "        break\n",
        "  return diff\n",
        "print('case 0:')\n",
        "first_diff('Hello', 'hello')\n",
        "print('case 1: same length - diff at index', first_diff('Hello', 'hellp'))\n",
        "print('case 2: ')\n",
        "first_diff('Hello', 'hello')\n"
      ]
    },
    {
      "cell_type": "markdown",
      "metadata": {
        "id": "jLM8fAg_-6th"
      },
      "source": [
        "Ex5: Write a function called root that is given a number x and an integer n and returns x/n. In\n",
        "the function definition, set the default value of n to 2."
      ]
    },
    {
      "cell_type": "code",
      "execution_count": 24,
      "metadata": {
        "id": "1TrSgTDa_Fu0",
        "colab": {
          "base_uri": "https://localhost:8080/"
        },
        "outputId": "2491e0b7-b85e-4dff-a9ec-ac8a8ae48b40"
      },
      "outputs": [
        {
          "output_type": "execute_result",
          "data": {
            "text/plain": [
              "1.174618943088019"
            ]
          },
          "metadata": {},
          "execution_count": 24
        }
      ],
      "source": [
        "def root(x=1, n=2):\n",
        "\n",
        "        assert x > 0, \"base x must be greater than zero.\"\n",
        "        result = x**(1/n)\n",
        "        return result\n",
        "#argument value must be greater then zero\n",
        "root(5, 10)\n",
        "\n"
      ]
    },
    {
      "cell_type": "markdown",
      "metadata": {
        "id": "xDR27Q_9tep6"
      },
      "source": [
        "Ex6: Write a function that solves the system of equations ax + by = e and cx +dy = f. Your function should takes 6 parameters, (a, b, c, d, e,f) and return the values of x and y."
      ]
    },
    {
      "cell_type": "code",
      "execution_count": 27,
      "metadata": {
        "colab": {
          "base_uri": "https://localhost:8080/"
        },
        "id": "CBaHFQYVtep6",
        "outputId": "1d0c800f-76d8-40f0-a554-f58ee2a5ff00"
      },
      "outputs": [
        {
          "output_type": "execute_result",
          "data": {
            "text/plain": [
              "(-4.0, 4.5)"
            ]
          },
          "metadata": {},
          "execution_count": 27
        }
      ],
      "source": [
        "def solve_equation(a, b, c, d, e, f):\n",
        "    \"\"\"to solve system of equations ax + by = e and cx +dy = f\n",
        "    we use Cramer's rule when determinant is not zero\n",
        "    D = ad - bc\n",
        "    x = (ef - bd) / D\n",
        "    y = (ae - bf) / D\n",
        "    \"\"\"\n",
        "    # Calculate the determinant\n",
        "    D = a * d - b * c\n",
        "\n",
        "    if D == 0:\n",
        "        return \"No unique solution (determinant is zero).\"\n",
        "\n",
        "\n",
        "    x = (e * d - b * f) / D\n",
        "    y = (a * f - e * c) / D\n",
        "\n",
        "    return x, y\n",
        "\n",
        "solve_equation(1,2,3,4,5,6)"
      ]
    },
    {
      "cell_type": "markdown",
      "metadata": {
        "id": "BGgdu1i8tep7"
      },
      "source": [
        "Ex7:  Write a function called change_case that given a string, returns a string with each upper  case letter replaced by a lower case letter and vice-versa"
      ]
    },
    {
      "cell_type": "code",
      "execution_count": 29,
      "metadata": {
        "colab": {
          "base_uri": "https://localhost:8080/",
          "height": 35
        },
        "id": "CAUh3nPhtep7",
        "outputId": "7df5a9bc-ef56-4988-d508-d01324c616d0"
      },
      "outputs": [
        {
          "output_type": "execute_result",
          "data": {
            "text/plain": [
              "'hELLO'"
            ],
            "application/vnd.google.colaboratory.intrinsic+json": {
              "type": "string"
            }
          },
          "metadata": {},
          "execution_count": 29
        }
      ],
      "source": [
        "def change_case(s):\n",
        "    result = \"\"\n",
        "    for char in s:\n",
        "        if char.isupper():\n",
        "            result += char.lower()\n",
        "        elif char.islower():\n",
        "            result += char.upper()\n",
        "        else:\n",
        "            result += char\n",
        "    return result\n",
        "\n",
        "change_case('Hello')"
      ]
    },
    {
      "cell_type": "markdown",
      "metadata": {
        "id": "AGj0uD4Dtep7"
      },
      "source": [
        "Ex8:  Write a function called primes that is given a number n and returns a list of the first n  primes. Let the default value of n be 100."
      ]
    },
    {
      "cell_type": "code",
      "execution_count": 32,
      "metadata": {
        "colab": {
          "base_uri": "https://localhost:8080/"
        },
        "id": "hJniAhOCtep8",
        "outputId": "6c4eb9aa-f5d3-4949-c27d-74c00995fbef"
      },
      "outputs": [
        {
          "output_type": "execute_result",
          "data": {
            "text/plain": [
              "[2, 3, 5, 7, 11, 13, 17, 19, 23, 29]"
            ]
          },
          "metadata": {},
          "execution_count": 32
        }
      ],
      "source": [
        "def primes(n=100):\n",
        "    prime_list = []\n",
        "    candidate = 2\n",
        "\n",
        "    while len(prime_list) < n:\n",
        "        for i in range(2, int(candidate**0.5) + 1):\n",
        "            if candidate % i == 0:\n",
        "                break  # Not prime, exit loop early\n",
        "        else:\n",
        "            # This else is part of the for-loop: runs only if loop wasn't broken\n",
        "            prime_list.append(candidate)\n",
        "\n",
        "        candidate += 1\n",
        "\n",
        "    return prime_list\n",
        "\n",
        "primes(10)"
      ]
    },
    {
      "cell_type": "markdown",
      "metadata": {
        "id": "WHwc7_eutep8"
      },
      "source": [
        "Ex9: A Tic-tac-toe board can be represented be a 3×3 two-dimensional list, where zeroes stand for  empty cells, ones stand for X’s and twos stand for O’s. Write a function that is given such a list and randomly chooses a spot in which to place  a 2 (O). The spot chosen must currently be empty and a spot must be chosen."
      ]
    },
    {
      "cell_type": "code",
      "execution_count": 37,
      "metadata": {
        "colab": {
          "base_uri": "https://localhost:8080/"
        },
        "id": "h8DJEuTptep8",
        "outputId": "c9520f44-aa25-483c-f59d-7cac339121a0"
      },
      "outputs": [
        {
          "output_type": "stream",
          "name": "stdout",
          "text": [
            "Before:\n",
            "[1, 0, 2]\n",
            "[0, 1, 0]\n",
            "[2, 0, 0]\n",
            "\n",
            "After:\n",
            "[1, 0, 2]\n",
            "[0, 1, 0]\n",
            "[2, 2, 0]\n"
          ]
        }
      ],
      "source": [
        "import random\n",
        "\n",
        "def place_random_O(board):\n",
        "    empty_positions = []\n",
        "    for i in range(3):\n",
        "        for j in range(3):\n",
        "            if board[i][j] == 0:\n",
        "                empty_positions.append((i, j))\n",
        "\n",
        "    if len(empty_positions) == 0:\n",
        "        print(\"No empty cells available.\")\n",
        "        return\n",
        "\n",
        "    index = int(random.random() * len(empty_positions))\n",
        "    row, col = empty_positions[index]\n",
        "    board[row][col] = 2\n",
        "\n",
        "# Test it\n",
        "board = [\n",
        "    [1, 0, 2],\n",
        "    [0, 1, 0],\n",
        "    [2, 0, 0]\n",
        "]\n",
        "\n",
        "print(\"Before:\")\n",
        "for row in board:\n",
        "    print(row)\n",
        "\n",
        "place_random_O(board)\n",
        "\n",
        "print(\"\\nAfter:\")\n",
        "for row in board:\n",
        "    print(row)"
      ]
    },
    {
      "cell_type": "markdown",
      "metadata": {
        "id": "YRcB0Cxutep8"
      },
      "source": [
        "Ex10:  Write a function that is given a 9 × 9 potentially solved Sudoku and returns True if it is solved correctly and False if there is a mistake. The Sudoku is correctly solved if there are\n",
        " no repeated numbers in any row or any column or in any of the nine “blocks.”\n"
      ]
    },
    {
      "cell_type": "code",
      "execution_count": 41,
      "metadata": {
        "colab": {
          "base_uri": "https://localhost:8080/"
        },
        "id": "ikBOnIjVtep9",
        "outputId": "585febb4-f199-4870-ec76-f1c23753ec72"
      },
      "outputs": [
        {
          "output_type": "stream",
          "name": "stdout",
          "text": [
            "True\n",
            "False\n"
          ]
        }
      ],
      "source": [
        "def is_valid_sudoku(board):\n",
        "    # Check rows\n",
        "    for row in range(9):\n",
        "        seen = [False] * 9  # Track digits 1-9\n",
        "        for col in range(9):\n",
        "            num = board[row][col]\n",
        "            if num < 1 or num > 9:\n",
        "                return False  # Invalid number\n",
        "            if seen[num - 1]:\n",
        "                return False  # Duplicate in row\n",
        "            seen[num - 1] = True\n",
        "\n",
        "    # Check columns\n",
        "    for col in range(9):\n",
        "        seen = [False] * 9\n",
        "        for row in range(9):\n",
        "            num = board[row][col]\n",
        "            if num < 1 or num > 9:\n",
        "                return False  # Invalid number\n",
        "            if seen[num - 1]:\n",
        "                return False  # Duplicate in column\n",
        "            seen[num - 1] = True\n",
        "\n",
        "    # Check 3x3 blocks\n",
        "    for block_row in range(3):\n",
        "        for block_col in range(3):\n",
        "            seen = [False] * 9\n",
        "            for i in range(3):\n",
        "                for j in range(3):\n",
        "                    num = board[block_row * 3 + i][block_col * 3 + j]\n",
        "                    if num < 1 or num > 9:\n",
        "                        return False  # Invalid number\n",
        "                    if seen[num - 1]:\n",
        "                        return False  # Duplicate in block\n",
        "                    seen[num - 1] = True\n",
        "\n",
        "    return True\n",
        "\n",
        "\n",
        "sudoku_board = [\n",
        "    [5,3,4,6,7,8,9,1,2],\n",
        "    [6,7,2,1,9,5,3,4,8],\n",
        "    [1,9,8,3,4,2,5,6,7],\n",
        "    [8,5,9,7,6,1,4,2,3],\n",
        "    [4,2,6,8,5,3,7,9,1],\n",
        "    [7,1,3,9,2,4,8,5,6],\n",
        "    [9,6,1,5,3,7,2,8,4],\n",
        "    [2,8,7,4,1,9,6,3,5],\n",
        "    [3,4,5,2,8,6,1,7,9]\n",
        "]\n",
        "\n",
        "print(is_valid_sudoku(sudoku_board))  # Should print: True\n",
        "\n",
        "\n",
        "sudoku_board = [\n",
        "    [5,3,4,6,7,8,9,1,8],\n",
        "    [6,7,2,1,9,5,3,4,8],\n",
        "    [1,9,8,3,4,2,5,6,7],\n",
        "    [8,5,9,7,6,1,4,2,3],\n",
        "    [4,2,6,8,5,3,7,9,1],\n",
        "    [7,1,3,9,2,4,8,5,6],\n",
        "    [9,6,1,5,3,7,2,8,4],\n",
        "    [2,8,7,4,1,9,6,3,5],\n",
        "    [3,4,5,2,8,6,1,7,9]\n",
        "]\n",
        "\n",
        "print(is_valid_sudoku(sudoku_board))  # Should print: True\n"
      ]
    }
  ],
  "metadata": {
    "colab": {
      "name": "Ex5_Function.ipynb",
      "provenance": [],
      "include_colab_link": true
    },
    "kernelspec": {
      "display_name": "Python 3",
      "name": "python3"
    },
    "language_info": {
      "codemirror_mode": {
        "name": "ipython",
        "version": 3
      },
      "file_extension": ".py",
      "mimetype": "text/x-python",
      "name": "python",
      "nbconvert_exporter": "python",
      "pygments_lexer": "ipython3",
      "version": "3.12.1"
    }
  },
  "nbformat": 4,
  "nbformat_minor": 0
}