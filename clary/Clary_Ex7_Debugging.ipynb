{
  "nbformat": 4,
  "nbformat_minor": 0,
  "metadata": {
    "colab": {
      "provenance": []
    },
    "kernelspec": {
      "name": "python3",
      "display_name": "Python 3"
    },
    "language_info": {
      "name": "python"
    }
  },
  "cells": [
    {
      "cell_type": "markdown",
      "source": [
        "**Simple**  **Debugging**"
      ],
      "metadata": {
        "id": "XjfpVsHFHllF"
      }
    },
    {
      "cell_type": "markdown",
      "source": [
        "Add print statements to your program. Add input() to pause the program"
      ],
      "metadata": {
        "id": "QrWVEwwnH5pQ"
      }
    },
    {
      "cell_type": "code",
      "source": [
        "from random import randint\n",
        "\n",
        "#Step 1: generate a random number between 1 and 5\n",
        "rand_num = randint(1,5)\n",
        "\n",
        "# add print statment here to know the value of rand_num\n",
        "print(f\"Random number generated is: {rand_num}\")\n",
        "input(\"Press Enter to continue...\")\n",
        "\n",
        "# Step 2: What does this code do?\n",
        "print(\"\\nStarting the loop...\\n\")\n",
        "for i in range(6):\n",
        "    print(f\"Iteration {i + 1}:\")\n",
        "    print('Hello '*rand_num)\n",
        "    input(\"Press Enter to continue to the next iteration...\")\n",
        "input(\"Program finished. Press Enter to exit.\")"
      ],
      "metadata": {
        "colab": {
          "base_uri": "https://localhost:8080/",
          "height": 452
        },
        "id": "XmTCrMUgIAJv",
        "outputId": "249f82ca-c13a-48ad-c32d-fc6f3e044ea9"
      },
      "execution_count": 9,
      "outputs": [
        {
          "name": "stdout",
          "output_type": "stream",
          "text": [
            "Random number generated is: 3\n",
            "Press Enter to continue...1\n",
            "\n",
            "Starting the loop...\n",
            "\n",
            "Iteration 1:\n",
            "Hello Hello Hello \n",
            "Press Enter to continue to the next iteration...2\n",
            "Iteration 2:\n",
            "Hello Hello Hello \n",
            "Press Enter to continue to the next iteration...3\n",
            "Iteration 3:\n",
            "Hello Hello Hello \n",
            "Press Enter to continue to the next iteration...4\n",
            "Iteration 4:\n",
            "Hello Hello Hello \n",
            "Press Enter to continue to the next iteration...5\n",
            "Iteration 5:\n",
            "Hello Hello Hello \n",
            "Press Enter to continue to the next iteration...6\n",
            "Iteration 6:\n",
            "Hello Hello Hello \n",
            "Press Enter to continue to the next iteration...7\n",
            "Program finished. Press Enter to exit.to exir\n"
          ]
        },
        {
          "output_type": "execute_result",
          "data": {
            "text/plain": [
              "'to exir'"
            ],
            "application/vnd.google.colaboratory.intrinsic+json": {
              "type": "string"
            }
          },
          "metadata": {},
          "execution_count": 9
        }
      ]
    },
    {
      "cell_type": "markdown",
      "source": [],
      "metadata": {
        "id": "aFKc_sKa1cof"
      }
    },
    {
      "cell_type": "code",
      "source": [
        "from random import randint\n",
        "\n",
        "# Step 1: generate a random number between 1 and 5\n",
        "print(\"This program will print 'Hello' a random number of times (between 1 and 5), six times.\")\n",
        "input(\"Press Enter to start the loop...\")\n",
        "\n",
        "# Step 2: What does this code do?\n",
        "\n",
        "for i in range(6):\n",
        "    print(f\"\\n--- Iteration {i + 1} ---\")\n",
        "    rand_num = randint(1,5)\n",
        "    print(f\"Generated random number: {rand_num}\")\n",
        "    print(\"Output:\")\n",
        "    print('Hello '*rand_num)\n",
        "    input(\"Press Enter to continue to the next iteration...\")\n",
        "\n",
        "input(\"\\nProgram finished. Press Enter to exit.\")"
      ],
      "metadata": {
        "colab": {
          "base_uri": "https://localhost:8080/",
          "height": 729
        },
        "id": "R1wkiM6DIZtu",
        "outputId": "050ec79c-4778-4d95-f006-9f88c6cc0bed"
      },
      "execution_count": 8,
      "outputs": [
        {
          "name": "stdout",
          "output_type": "stream",
          "text": [
            "This program will print 'Hello' a random number of times (between 1 and 5), six times.\n",
            "Press Enter to start the loop...1\n",
            "\n",
            "--- Iteration 1 ---\n",
            "Generated random number: 4\n",
            "Output:\n",
            "Hello Hello Hello Hello \n",
            "Press Enter to continue to the next iteration...2\n",
            "\n",
            "--- Iteration 2 ---\n",
            "Generated random number: 1\n",
            "Output:\n",
            "Hello \n",
            "Press Enter to continue to the next iteration...3\n",
            "\n",
            "--- Iteration 3 ---\n",
            "Generated random number: 4\n",
            "Output:\n",
            "Hello Hello Hello Hello \n",
            "Press Enter to continue to the next iteration...4\n",
            "\n",
            "--- Iteration 4 ---\n",
            "Generated random number: 1\n",
            "Output:\n",
            "Hello \n",
            "Press Enter to continue to the next iteration...5\n",
            "\n",
            "--- Iteration 5 ---\n",
            "Generated random number: 4\n",
            "Output:\n",
            "Hello Hello Hello Hello \n",
            "Press Enter to continue to the next iteration...6\n",
            "\n",
            "--- Iteration 6 ---\n",
            "Generated random number: 4\n",
            "Output:\n",
            "Hello Hello Hello Hello \n",
            "Press Enter to continue to the next iteration...7\n",
            "\n",
            "Program finished. Press Enter to exit.to exit\n"
          ]
        },
        {
          "output_type": "execute_result",
          "data": {
            "text/plain": [
              "'to exit'"
            ],
            "application/vnd.google.colaboratory.intrinsic+json": {
              "type": "string"
            }
          },
          "metadata": {},
          "execution_count": 8
        }
      ]
    },
    {
      "cell_type": "markdown",
      "source": [
        "Write a program that generates 10000 random numbers between 1 and 100 and counts how many of them are multiples of 12."
      ],
      "metadata": {
        "id": "SA00eHwyIi35"
      }
    },
    {
      "cell_type": "code",
      "source": [
        "# Step 1:\n",
        "from random import randint\n",
        "# Step 2:\n",
        "count = 0\n",
        "# Step 3:\n",
        "for i in range(10000):\n",
        "    #Step 4:\n",
        "    num = randint(1, 100)\n",
        "    #Step 5:\n",
        "    if num%12==0:\n",
        "        count=count+1\n",
        "    # Step 6:\n",
        "print('Number of multiples of 12:', count)"
      ],
      "metadata": {
        "colab": {
          "base_uri": "https://localhost:8080/"
        },
        "id": "CgGJ6AZcIohi",
        "outputId": "0a8662fe-7676-4a5f-d240-3f8527409d7e"
      },
      "execution_count": 11,
      "outputs": [
        {
          "output_type": "stream",
          "name": "stdout",
          "text": [
            "Number of multiples of 12: 771\n"
          ]
        }
      ]
    },
    {
      "cell_type": "markdown",
      "source": [
        "The following program should counts how many of the squares of the numbers from 1 to 100 end in 1. (Example: 1,81,121). Debug the code."
      ],
      "metadata": {
        "id": "Hty2NAg0IshX"
      }
    },
    {
      "cell_type": "code",
      "source": [
        "import numpy as np\n",
        "def fun_square_count():\n",
        "    num_list = np.arange(1,101)\n",
        "    squred_num = [value**2 for value in num_list]\n",
        "    count=0\n",
        "    for num in squred_num:\n",
        "        if (num//10)== 1:\n",
        "            count +=1\n",
        "\n",
        "    return count\n",
        "\n",
        "fun_square_count()"
      ],
      "metadata": {
        "colab": {
          "base_uri": "https://localhost:8080/"
        },
        "id": "JFRpa2P8IwOr",
        "outputId": "9ff55e19-46c5-4b32-ac49-5ec5e7fe31ad"
      },
      "execution_count": 18,
      "outputs": [
        {
          "output_type": "execute_result",
          "data": {
            "text/plain": [
              "1"
            ]
          },
          "metadata": {},
          "execution_count": 18
        }
      ]
    },
    {
      "cell_type": "markdown",
      "source": [
        "Debug the following programs"
      ],
      "metadata": {
        "id": "LAb6T-WTI0Wr"
      }
    },
    {
      "cell_type": "code",
      "source": [
        "def add(a, b):\n",
        "    return a + b\n",
        "\n",
        "print(add(5, int ('2')))"
      ],
      "metadata": {
        "colab": {
          "base_uri": "https://localhost:8080/"
        },
        "id": "yQyoY9DmI2yk",
        "outputId": "d25cf59a-982c-4190-d353-552cf8b3fb42"
      },
      "execution_count": 21,
      "outputs": [
        {
          "output_type": "stream",
          "name": "stdout",
          "text": [
            "7\n"
          ]
        }
      ]
    },
    {
      "cell_type": "code",
      "source": [
        "def divide(a, b):\n",
        "    try:\n",
        "        return a / b\n",
        "    except ZeroDivisionError:\n",
        "        return \"Error: Cannot divide by zero.\"\n",
        "\n",
        "\n",
        "print(divide(8, 4))\n",
        "print(divide(1, 0))\n"
      ],
      "metadata": {
        "colab": {
          "base_uri": "https://localhost:8080/"
        },
        "id": "i43BTyTbI5iV",
        "outputId": "4957c90c-ab46-48c2-b1e2-04bee1e0619a"
      },
      "execution_count": 38,
      "outputs": [
        {
          "output_type": "stream",
          "name": "stdout",
          "text": [
            "2.0\n",
            "Error: Cannot divide by zero.\n"
          ]
        }
      ]
    },
    {
      "cell_type": "code",
      "source": [
        "def is_prime(n):\n",
        "    if n <= 0:\n",
        "        return False\n",
        "    for i in range(2, n):\n",
        "        if n // i == 0:\n",
        "            return False\n",
        "    return True\n",
        "\n",
        "print(is_prime(15))"
      ],
      "metadata": {
        "colab": {
          "base_uri": "https://localhost:8080/"
        },
        "id": "-avnutRVI8bY",
        "outputId": "6f5f87fb-d3fe-4e97-8b44-5db1b9dbadba"
      },
      "execution_count": 43,
      "outputs": [
        {
          "output_type": "stream",
          "name": "stdout",
          "text": [
            "True\n"
          ]
        }
      ]
    }
  ]
}