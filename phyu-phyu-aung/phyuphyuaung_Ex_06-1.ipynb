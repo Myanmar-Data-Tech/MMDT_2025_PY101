{
 "cells": [
  {
   "cell_type": "markdown",
   "id": "72ce3a6b",
   "metadata": {},
   "source": [
    "Q1) Run the following programs and identify the errors.\n",
    "Use exception handling approach to handle the errors."
   ]
  },
  {
   "cell_type": "markdown",
   "id": "0087176b",
   "metadata": {},
   "source": [
    "#Q1.1) Zero division error\n",
    "def myfunction(a,b):\n",
    "    answer = a/b\n",
    "    return answer\n",
    "      \n",
    "\n",
    "#Call the function as follows:\n",
    "myfunction(2,0)"
   ]
  },
  {
   "cell_type": "code",
   "execution_count": null,
   "id": "3c291f12",
   "metadata": {},
   "outputs": [
    {
     "name": "stdout",
     "output_type": "stream",
     "text": [
      "Error: Cannot Divided By Zero.\n",
      "Result: None\n"
     ]
    }
   ],
   "source": [
    "#Q1.1) Zero division error\n",
    "\n",
    "# Problem is Call function myfunction(2,0) cause a ZeroDivisionError because division by zero is undefined.\n",
    "\n",
    "def myfunction(a,b):\n",
    "    try:\n",
    "        answer = a/b\n",
    "        return answer\n",
    "    except ZeroDivisionError:\n",
    "        print(\"Error: Cannot Divided By Zero.\")   \n",
    "\n",
    "#Call the function as follows:\n",
    "result = myfunction(2,0)\n",
    "print(\"Result:\", result)"
   ]
  },
  {
   "cell_type": "markdown",
   "id": "6e5c5782",
   "metadata": {},
   "source": [
    "#Q1.2 Name Error\n",
    "\n",
    "def myfunction2(c):\n",
    "    answer = a/c\n",
    "    return answer\n",
    "    \n",
    "\n",
    "# Call the function as follows:\n",
    "myfunction2(3)"
   ]
  },
  {
   "cell_type": "code",
   "execution_count": 14,
   "id": "b26783d7",
   "metadata": {},
   "outputs": [
    {
     "name": "stdout",
     "output_type": "stream",
     "text": [
      "Error: Variable 'a' is not defined\n",
      "Result: None\n"
     ]
    }
   ],
   "source": [
    "#Q1.2 Name Error\n",
    "\n",
    "# Problem is the variable c is not defined inside the function. This causes a NameError.\n",
    "\n",
    "def myfunction2(c):\n",
    "    try:\n",
    "        answer = a/c\n",
    "        return answer\n",
    "    except NameError:\n",
    "        print(\"Error: Variable 'a' is not defined\")\n",
    "    \n",
    "\n",
    "# Call the function as follows:\n",
    "result = myfunction2(3)\n",
    "print(\"Result:\", result)"
   ]
  },
  {
   "cell_type": "markdown",
   "id": "245a89c5",
   "metadata": {},
   "source": [
    "#Q1.3 IndexError\n",
    "a = [1, 2, 3]\n",
    "for k in range(0,4):\n",
    "    print(a[k])"
   ]
  },
  {
   "cell_type": "code",
   "execution_count": 15,
   "id": "c72b49c5",
   "metadata": {},
   "outputs": [
    {
     "name": "stdout",
     "output_type": "stream",
     "text": [
      "1\n",
      "2\n",
      "3\n",
      "Error: Index3 is out of range.\n"
     ]
    }
   ],
   "source": [
    "#Q1.3 IndexError\n",
    "\n",
    "# Problem is list a has only 3 elements, so indexes 0, 1, 2.\n",
    "# Loop range(0,4) tries to access a when k becomes 3, a[3] cause an IndexError.(list index out of range)\n",
    "\n",
    "a = [1, 2, 3]\n",
    "for k in range(0,4):\n",
    "    try:\n",
    "        print(a[k])\n",
    "    except IndexError:\n",
    "        print(f\"Error: Index{k} is out of range.\")"
   ]
  },
  {
   "cell_type": "markdown",
   "id": "7e63aaf3",
   "metadata": {},
   "source": [
    "#Q1.4 Zero Division Error, Value Error\n",
    "a = 1\n",
    "b = int(input(\"Please enter a number to divide a\"))\n",
    "a = a/b\n",
    "print(\"Success a=\",a)"
   ]
  },
  {
   "cell_type": "code",
   "execution_count": 23,
   "id": "25b5ec8b",
   "metadata": {},
   "outputs": [
    {
     "name": "stdout",
     "output_type": "stream",
     "text": [
      "Error: Invalid input. Please enter a valid integer.\n"
     ]
    }
   ],
   "source": [
    "#Q1.4 Zero Division Error, Value Error\n",
    "\n",
    "# Possible Erros : \n",
    "# (1) ZeroDiviisionError - if user enters 0\n",
    "# (2) ValuesError - if user enters something that cannot convert to integer.\n",
    "\n",
    "try:\n",
    "    a = 1\n",
    "    b = int(input(\"Please enter a number to divide a\"))\n",
    "    a = a/b\n",
    "    print(\"Success a=\",a)\n",
    "except ZeroDivisionError:\n",
    "    print(\"Error: Cannot divide by zero.\")\n",
    "except ValueError:\n",
    "    print(\"Error: Invalid input. Please enter a valid integer.\")"
   ]
  },
  {
   "cell_type": "markdown",
   "id": "a9f5224f",
   "metadata": {},
   "source": [
    "def divide(a, b):\n",
    "    try:\n",
    "        result = a / b\n",
    "        print('The result of division is', result)\n",
    "    except ZeroDivisionError:\n",
    "        print('Numerator must be greater than zero')\n",
    "    except TypeError:\n",
    "        print('Inputs must be numbers')\n",
    "    else:\n",
    "        return result\n",
    "\n",
    "divide(\"10\",2)"
   ]
  },
  {
   "cell_type": "code",
   "execution_count": 26,
   "id": "91565dee",
   "metadata": {},
   "outputs": [
    {
     "name": "stdout",
     "output_type": "stream",
     "text": [
      "Inputs must be numbers\n"
     ]
    }
   ],
   "source": [
    "# Error message for ZeroDivisionError is incorrect.\n",
    "# Error happens when the denominator is zero, not numerator.\n",
    "\n",
    "def divide(a, b):\n",
    "    try:\n",
    "        result = a / b\n",
    "        print('The result of division is', result)\n",
    "    except ZeroDivisionError:\n",
    "        print('Denominator must not be zero') \n",
    "    except TypeError:\n",
    "        print('Inputs must be numbers')\n",
    "    else:\n",
    "        return result\n",
    "\n",
    "divide(\"10\",2)"
   ]
  },
  {
   "cell_type": "markdown",
   "id": "82a241ed",
   "metadata": {},
   "source": [
    "def read_file(filename):\n",
    "    try:\n",
    "        with open(filename, 'r') as file1:\n",
    "            word_string = file1.read()\n",
    "        print(\"File reading completed successfully\")\n",
    "        return word_string\n",
    "    except FileNotFoundError:\n",
    "        print(\"File does not exist.\")\n",
    "\n",
    "\n",
    "\n",
    "read_file(\"./data/Q1.txt\")"
   ]
  },
  {
   "cell_type": "code",
   "execution_count": 28,
   "id": "b45513db",
   "metadata": {},
   "outputs": [
    {
     "name": "stdout",
     "output_type": "stream",
     "text": [
      "File reading completed successfully\n"
     ]
    },
    {
     "data": {
      "text/plain": [
       "'I love this movie! It is sweet, but with satirical humor. The dialogs are great and the adventure scenes are fun. It manages to be romantic and whimsical while laughingat the conventions of the fairy tale genre. I would recommend it to just about anyone. I have seen it several times and I am always happy to see it again and again. '"
      ]
     },
     "execution_count": 28,
     "metadata": {},
     "output_type": "execute_result"
    }
   ],
   "source": [
    "# Handle other potential exceptions like IOError and any other unexpected errors. \n",
    "\n",
    "def read_file(filename):\n",
    "    try:\n",
    "        with open(filename, 'r') as file1:\n",
    "            word_string = file1.read()\n",
    "        print(\"File reading completed successfully\")\n",
    "        return word_string\n",
    "    except FileNotFoundError:\n",
    "        print(\"File does not exist.\")\n",
    "    except IOError:\n",
    "        print(\"An I/O error occured while reading the file.\")\n",
    "    except Exception as e:\n",
    "        print(f\"Unexcepted error: {e}\")\n",
    "\n",
    "read_file(\"./data/Q1.txt\")"
   ]
  }
 ],
 "metadata": {
  "kernelspec": {
   "display_name": "Python 3",
   "language": "python",
   "name": "python3"
  },
  "language_info": {
   "codemirror_mode": {
    "name": "ipython",
    "version": 3
   },
   "file_extension": ".py",
   "mimetype": "text/x-python",
   "name": "python",
   "nbconvert_exporter": "python",
   "pygments_lexer": "ipython3",
   "version": "3.13.1"
  }
 },
 "nbformat": 4,
 "nbformat_minor": 5
}
