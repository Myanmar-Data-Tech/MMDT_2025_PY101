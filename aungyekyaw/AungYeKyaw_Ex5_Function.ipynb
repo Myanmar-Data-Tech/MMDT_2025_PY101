{
  "cells": [
    {
      "cell_type": "markdown",
      "metadata": {
        "id": "b-1b6ywy-O5i"
      },
      "source": [
        "Exercises are taken from : https://www.brianheinold.net/python/A_Practical_Introduction_to_Python_Programming_Heinold.pdf\n"
      ]
    },
    {
      "cell_type": "markdown",
      "metadata": {
        "id": "pps5xBbs-I9w"
      },
      "source": [
        "Ex 1: Write a function called rectangle that takes two integers m and n as arguments and prints\n",
        "out an m× n box consisting of asterisks. Shown below is the output of rectangle(2,4)\n",
        "****\n",
        "****"
      ]
    },
    {
      "cell_type": "code",
      "execution_count": null,
      "metadata": {
        "colab": {
          "base_uri": "https://localhost:8080/"
        },
        "id": "S_5WWVLH3u8y",
        "outputId": "56acc9e3-0725-4cdb-f5d6-66944d8ec3d5"
      },
      "outputs": [
        {
          "name": "stdout",
          "output_type": "stream",
          "text": [
            "****\n",
            "****\n"
          ]
        }
      ],
      "source": [
        "def rectangle(m,n):\n",
        "  \"\"\"\n",
        "  rectangle show the * with m rows and n columns\n",
        "  Args: m(int) rows\n",
        "        n(int) columns\n",
        "\n",
        "  return: None\n",
        "  \"\"\"\n",
        "  for k in range(m):\n",
        "    print(n*'*')\n",
        "\n",
        "rectangle(2,4)"
      ]
    },
    {
      "cell_type": "markdown",
      "metadata": {
        "id": "0QS7SmPV-coO"
      },
      "source": [
        "Ex 2: Write a function that takes an integer n and returns a random integer with exactly n digits. For\n",
        "instance, if n is 3, then 125 and 593 would be valid return values, but 093 would not because\n",
        "that is really 93, which is a two-digit number."
      ]
    },
    {
      "cell_type": "code",
      "execution_count": null,
      "metadata": {
        "colab": {
          "base_uri": "https://localhost:8080/"
        },
        "id": "c4ejnmGJ-MzL",
        "outputId": "27e0bb1f-01d5-48f2-a02d-580964126a89"
      },
      "outputs": [
        {
          "data": {
            "text/plain": [
              "54"
            ]
          },
          "execution_count": 8,
          "metadata": {},
          "output_type": "execute_result"
        }
      ],
      "source": [
        "import random\n",
        "def calcualte_numbers ( n ):\n",
        "  \"\"\"\n",
        "  calculate_numbers return the random inter number with n digits\n",
        "  Args: n(int) digits\n",
        "\n",
        "  return: int\n",
        "  \"\"\"\n",
        "  result = random.randint(10**(n-1) , 10**(n)-1)\n",
        "\n",
        "\n",
        "  return result\n",
        "\n",
        "calcualte_numbers(2)"
      ]
    },
    {
      "cell_type": "markdown",
      "metadata": {
        "id": "B0P_F5Ld-ldg"
      },
      "source": [
        "Ex 3: Write a function called number_of_factors that takes an integer and returns how many\n",
        "factors the number has."
      ]
    },
    {
      "cell_type": "code",
      "execution_count": null,
      "metadata": {
        "colab": {
          "base_uri": "https://localhost:8080/"
        },
        "id": "Yr2BLCXp-oTi",
        "outputId": "2e96c94e-9b9d-4a77-d62b-0bf6c49ed347"
      },
      "outputs": [
        {
          "data": {
            "text/plain": [
              "4"
            ]
          },
          "execution_count": 14,
          "metadata": {},
          "output_type": "execute_result"
        }
      ],
      "source": [
        "def number_of_factors(n):\n",
        "  \"\"\"\n",
        "  show the factors of given number\n",
        "  Args: n(int) number\n",
        "\n",
        "  return: int\n",
        "\n",
        "  \"\"\"\n",
        "\n",
        "  factors = []\n",
        "  for number in range(1,n+1):\n",
        "    if n%number == 0:\n",
        "      factors.append(number)\n",
        "\n",
        "  return len(factors)\n",
        "\n",
        "number_of_factors(10)"
      ]
    },
    {
      "cell_type": "markdown",
      "metadata": {
        "id": "7w0DDTyY-o_4"
      },
      "source": [
        "Ex4: Write a function called first_diff that is given two strings and returns the first location in\n",
        "which the strings differ. If the strings are identical, it should return -1.Ignore the case in your function. It means h and H are the same."
      ]
    },
    {
      "cell_type": "code",
      "execution_count": null,
      "metadata": {
        "colab": {
          "base_uri": "https://localhost:8080/"
        },
        "id": "1WOvaf0z-6J6",
        "outputId": "eee14ed4-99ff-448b-9645-3acc15eb95c9"
      },
      "outputs": [
        {
          "data": {
            "text/plain": [
              "0"
            ]
          },
          "execution_count": 22,
          "metadata": {},
          "output_type": "execute_result"
        }
      ],
      "source": [
        "def first_diff(str1,str2):\n",
        "  \"\"\"\n",
        "  first_diff show the first location of the two strings differ\n",
        "  Args: str1(str) first string\n",
        "        str2(str) second string\n",
        "\n",
        "  return: int\n",
        "  \"\"\"\n",
        "  str1 =str1.lower()\n",
        "  str2 =str2.lower()\n",
        "  if str1 == str2:\n",
        "    return -1\n",
        "  for i in range (len(str1)):\n",
        "    if str1[i] != str2[i]:\n",
        "       return i\n",
        "\n",
        "first_diff('Hello','Yello')"
      ]
    },
    {
      "cell_type": "markdown",
      "metadata": {
        "id": "jLM8fAg_-6th"
      },
      "source": [
        "Ex5: Write a function called root that is given a number x and an integer n and returns x/n. In\n",
        "the function definition, set the default value of n to 2."
      ]
    },
    {
      "cell_type": "code",
      "execution_count": null,
      "metadata": {
        "colab": {
          "base_uri": "https://localhost:8080/"
        },
        "id": "1TrSgTDa_Fu0",
        "outputId": "fe72167e-babf-4e5c-de35-79428475be46"
      },
      "outputs": [
        {
          "data": {
            "text/plain": [
              "8.0"
            ]
          },
          "execution_count": 23,
          "metadata": {},
          "output_type": "execute_result"
        }
      ],
      "source": [
        "def root (x,n=2):\n",
        "  \"\"\"\n",
        "  root show the Quotient of x divided by n\n",
        "  Args: x(int) dividend\n",
        "        n(int) divisor\n",
        "\n",
        "  return: float\n",
        "  \"\"\"\n",
        "  return x/n\n",
        "\n",
        "root(16)\n"
      ]
    },
    {
      "cell_type": "markdown",
      "metadata": {
        "id": "WbJ1mpGuc8Vw"
      },
      "source": [
        "Ex6: Write a function that solves the system of equations ax + by = e and cx +dy = f. Your function should takes 6 parameters, (a, b, c, d, e,f) and return the values of x and y."
      ]
    },
    {
      "cell_type": "code",
      "execution_count": null,
      "metadata": {
        "colab": {
          "base_uri": "https://localhost:8080/",
          "height": 327
        },
        "id": "orkHTfngc8Vw",
        "outputId": "145eae5e-2bd8-4b91-c4ae-ec0471f2a273"
      },
      "outputs": [
        {
          "ename": "NameError",
          "evalue": "name 'y' is not defined",
          "output_type": "error",
          "traceback": [
            "\u001b[0;31m---------------------------------------------------------------------------\u001b[0m",
            "\u001b[0;31mNameError\u001b[0m                                 Traceback (most recent call last)",
            "\u001b[0;32m/tmp/ipython-input-24-140008428.py\u001b[0m in \u001b[0;36m<cell line: 0>\u001b[0;34m()\u001b[0m\n\u001b[1;32m      3\u001b[0m   \u001b[0;32mreturn\u001b[0m \u001b[0mx\u001b[0m\u001b[0;34m\u001b[0m\u001b[0;34m\u001b[0m\u001b[0m\n\u001b[1;32m      4\u001b[0m \u001b[0;34m\u001b[0m\u001b[0m\n\u001b[0;32m----> 5\u001b[0;31m \u001b[0msolve_equation\u001b[0m\u001b[0;34m(\u001b[0m\u001b[0;36m1\u001b[0m\u001b[0;34m,\u001b[0m\u001b[0;36m2\u001b[0m\u001b[0;34m,\u001b[0m\u001b[0;36m3\u001b[0m\u001b[0;34m,\u001b[0m\u001b[0;36m4\u001b[0m\u001b[0;34m,\u001b[0m\u001b[0;36m5\u001b[0m\u001b[0;34m,\u001b[0m\u001b[0;36m6\u001b[0m\u001b[0;34m)\u001b[0m\u001b[0;34m\u001b[0m\u001b[0;34m\u001b[0m\u001b[0m\n\u001b[0m\u001b[1;32m      6\u001b[0m \u001b[0;34m\u001b[0m\u001b[0m\n",
            "\u001b[0;32m/tmp/ipython-input-24-140008428.py\u001b[0m in \u001b[0;36msolve_equation\u001b[0;34m(a, b, c, d, e, f)\u001b[0m\n\u001b[1;32m      1\u001b[0m \u001b[0;32mdef\u001b[0m \u001b[0msolve_equation\u001b[0m\u001b[0;34m(\u001b[0m\u001b[0ma\u001b[0m\u001b[0;34m,\u001b[0m\u001b[0mb\u001b[0m\u001b[0;34m,\u001b[0m\u001b[0mc\u001b[0m\u001b[0;34m,\u001b[0m\u001b[0md\u001b[0m\u001b[0;34m,\u001b[0m\u001b[0me\u001b[0m\u001b[0;34m,\u001b[0m\u001b[0mf\u001b[0m\u001b[0;34m)\u001b[0m\u001b[0;34m:\u001b[0m\u001b[0;34m\u001b[0m\u001b[0;34m\u001b[0m\u001b[0m\n\u001b[0;32m----> 2\u001b[0;31m   \u001b[0mx\u001b[0m \u001b[0;34m=\u001b[0m \u001b[0me\u001b[0m\u001b[0;34m-\u001b[0m\u001b[0;34m(\u001b[0m\u001b[0mb\u001b[0m\u001b[0;34m*\u001b[0m\u001b[0my\u001b[0m\u001b[0;34m)\u001b[0m\u001b[0;34m/\u001b[0m\u001b[0ma\u001b[0m\u001b[0;34m\u001b[0m\u001b[0;34m\u001b[0m\u001b[0m\n\u001b[0m\u001b[1;32m      3\u001b[0m   \u001b[0;32mreturn\u001b[0m \u001b[0mx\u001b[0m\u001b[0;34m\u001b[0m\u001b[0;34m\u001b[0m\u001b[0m\n\u001b[1;32m      4\u001b[0m \u001b[0;34m\u001b[0m\u001b[0m\n\u001b[1;32m      5\u001b[0m \u001b[0msolve_equation\u001b[0m\u001b[0;34m(\u001b[0m\u001b[0;36m1\u001b[0m\u001b[0;34m,\u001b[0m\u001b[0;36m2\u001b[0m\u001b[0;34m,\u001b[0m\u001b[0;36m3\u001b[0m\u001b[0;34m,\u001b[0m\u001b[0;36m4\u001b[0m\u001b[0;34m,\u001b[0m\u001b[0;36m5\u001b[0m\u001b[0;34m,\u001b[0m\u001b[0;36m6\u001b[0m\u001b[0;34m)\u001b[0m\u001b[0;34m\u001b[0m\u001b[0;34m\u001b[0m\u001b[0m\n",
            "\u001b[0;31mNameError\u001b[0m: name 'y' is not defined"
          ]
        }
      ],
      "source": [
        "#no idea please explain\n",
        "\n",
        "def solve_equation(a,b,c,d,e,f):\n",
        "  x = e-(b*y)/a\n",
        "  return x\n",
        "\n",
        "solve_equation(1,2,3,4,5,6)\n"
      ]
    },
    {
      "cell_type": "markdown",
      "metadata": {
        "id": "Fqogtpmhc8Vx"
      },
      "source": [
        "Ex7:  Write a function called change_case that given a string, returns a string with each upper  case letter replaced by a lower case letter and vice-versa"
      ]
    },
    {
      "cell_type": "code",
      "execution_count": null,
      "metadata": {
        "colab": {
          "base_uri": "https://localhost:8080/",
          "height": 37
        },
        "id": "kksBb4ZSc8Vx",
        "outputId": "c59606ff-ac2d-4631-fb2b-93b92a5ff8ab"
      },
      "outputs": [
        {
          "data": {
            "application/vnd.google.colaboratory.intrinsic+json": {
              "type": "string"
            },
            "text/plain": [
              "'Aung22'"
            ]
          },
          "execution_count": 5,
          "metadata": {},
          "output_type": "execute_result"
        }
      ],
      "source": [
        "def change_case(word):\n",
        "    \"\"\"\n",
        "     Change_case returns a new string with each uppercase letter replaced by\n",
        "    a lowercase letter and vice-versa.\n",
        "\n",
        "    Args:\n",
        "        word (str): The input string to be modified.\n",
        "\n",
        "    Returns:\n",
        "        str: The modified string with the desired changes.\n",
        "    \"\"\"\n",
        "\n",
        "    changed_characters = []\n",
        "\n",
        "\n",
        "    for char in word:\n",
        "\n",
        "        if 'A' <= char <= 'Z':\n",
        "\n",
        "            changed_characters.append(char.lower())\n",
        "\n",
        "        elif 'a' <= char <= 'z':\n",
        "\n",
        "            changed_characters.append(char.upper())\n",
        "        else:\n",
        "\n",
        "            changed_characters.append(char)\n",
        "\n",
        "\n",
        "    return \"\".join(changed_characters)\n",
        "\n",
        "\n",
        "\n",
        "change_case(\"aUNG22\")\n",
        "\n"
      ]
    },
    {
      "cell_type": "markdown",
      "metadata": {
        "id": "17YFjOJyc8Vx"
      },
      "source": [
        "Ex8:  Write a function called primes that is given a number n and returns a list of the first n  primes. Let the default value of n be 100."
      ]
    },
    {
      "cell_type": "code",
      "execution_count": null,
      "metadata": {
        "colab": {
          "base_uri": "https://localhost:8080/"
        },
        "id": "8rDw0tbac8Vx",
        "outputId": "7fb857d3-fd7e-4022-af01-3f7234e4b8fe"
      },
      "outputs": [
        {
          "data": {
            "text/plain": [
              "[2, 3, 5, 7]"
            ]
          },
          "execution_count": 6,
          "metadata": {},
          "output_type": "execute_result"
        }
      ],
      "source": [
        "def primes(n=100):\n",
        "\n",
        "  \"\"\"\n",
        "  primes show the first n prime numbers\n",
        "  Args: n(int) number of prime numbers\n",
        "\n",
        "  return: list\n",
        "  \"\"\"\n",
        "  primes_numbers = []\n",
        "  for i in range(n):\n",
        "    if i >1 :\n",
        "      for j in range(2,i):\n",
        "        if i%j == 0:\n",
        "          break\n",
        "      else:\n",
        "        primes_numbers.append(i)\n",
        "  return primes_numbers\n",
        "\n",
        "primes(10)\n",
        "\n",
        "\n"
      ]
    },
    {
      "cell_type": "markdown",
      "metadata": {
        "id": "djOpIvmec8Vx"
      },
      "source": [
        "Ex9: A Tic-tac-toe board can be represented be a 3×3 two-dimensional list, where zeroes stand for  empty cells, ones stand for X’s and twos stand for O’s. Write a function that is given such a list and randomly chooses a spot in which to place  a 2 (O). The spot chosen must currently be empty and a spot must be chosen."
      ]
    },
    {
      "cell_type": "code",
      "execution_count": null,
      "metadata": {
        "id": "6pHpbFkBc8Vx"
      },
      "outputs": [],
      "source": [
        "#no idea. plz explain "
      ]
    },
    {
      "cell_type": "markdown",
      "metadata": {
        "id": "QsOO8bXqc8Vy"
      },
      "source": [
        "Ex10:  Write a function that is given a 9 × 9 potentially solved Sudoku and returns True if it is solved correctly and False if there is a mistake. The Sudoku is correctly solved if there are\n",
        " no repeated numbers in any row or any column or in any of the nine “blocks.”\n"
      ]
    },
    {
      "cell_type": "code",
      "execution_count": null,
      "metadata": {
        "id": "D_nfu0ojc8Vy"
      },
      "outputs": [],
      "source": [
        "# no idea. Please explain ...."
      ]
    }
  ],
  "metadata": {
    "colab": {
      "provenance": []
    },
    "kernelspec": {
      "display_name": "Python 3",
      "name": "python3"
    },
    "language_info": {
      "codemirror_mode": {
        "name": "ipython",
        "version": 3
      },
      "file_extension": ".py",
      "mimetype": "text/x-python",
      "name": "python",
      "nbconvert_exporter": "python",
      "pygments_lexer": "ipython3",
      "version": "3.12.1"
    }
  },
  "nbformat": 4,
  "nbformat_minor": 0
}
