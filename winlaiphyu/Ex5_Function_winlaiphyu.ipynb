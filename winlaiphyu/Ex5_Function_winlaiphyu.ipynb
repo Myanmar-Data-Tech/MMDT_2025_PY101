{
  "cells": [
    {
      "cell_type": "markdown",
      "metadata": {
        "id": "view-in-github",
        "colab_type": "text"
      },
      "source": [
        "<a href=\"https://colab.research.google.com/github/Winlai16/MMDT_2025_PY101/blob/winlaiphyu/winlaiphyu/Ex5_Function.ipynb\" target=\"_parent\"><img src=\"https://colab.research.google.com/assets/colab-badge.svg\" alt=\"Open In Colab\"/></a>"
      ]
    },
    {
      "cell_type": "markdown",
      "metadata": {
        "id": "b-1b6ywy-O5i"
      },
      "source": [
        "Exercises are taken from : https://www.brianheinold.net/python/A_Practical_Introduction_to_Python_Programming_Heinold.pdf\n"
      ]
    },
    {
      "cell_type": "markdown",
      "metadata": {
        "id": "pps5xBbs-I9w"
      },
      "source": [
        "Ex 1: Write a function called rectangle that takes two integers m and n as arguments and prints\n",
        "out an m× n box consisting of asterisks. Shown below is the output of rectangle(2,4)\n",
        "****\n",
        "****"
      ]
    },
    {
      "cell_type": "code",
      "execution_count": null,
      "metadata": {
        "id": "S_5WWVLH3u8y",
        "outputId": "e0c7173e-e0a0-45a0-a119-4b6c4f577cb7",
        "colab": {
          "base_uri": "https://localhost:8080/"
        }
      },
      "outputs": [
        {
          "output_type": "stream",
          "name": "stdout",
          "text": [
            "****\n",
            "****\n"
          ]
        }
      ],
      "source": [
        "def rectangle(m,n):\n",
        "    for k in range(m):\n",
        "        print(n*'*')\n",
        "\n",
        "rectangle(2,4)"
      ]
    },
    {
      "cell_type": "markdown",
      "metadata": {
        "id": "0QS7SmPV-coO"
      },
      "source": [
        "Ex 2: Write a function that takes an integer n and returns a random integer with exactly n digits. For\n",
        "instance, if n is 3, then 125 and 593 would be valid return values, but 093 would not because\n",
        "that is really 93, which is a two-digit number."
      ]
    },
    {
      "cell_type": "code",
      "execution_count": null,
      "metadata": {
        "id": "c4ejnmGJ-MzL",
        "outputId": "e1677c52-63f2-4cf3-fc81-3f82476c23d1",
        "colab": {
          "base_uri": "https://localhost:8080/"
        }
      },
      "outputs": [
        {
          "output_type": "execute_result",
          "data": {
            "text/plain": [
              "642"
            ]
          },
          "metadata": {},
          "execution_count": 13
        }
      ],
      "source": [
        "import random\n",
        "def calcualte_numbers ( n ):\n",
        "    result = random.randint(10**(n-1) , 10**(n)-1)\n",
        "    return result\n",
        "\n",
        "calcualte_numbers(3)"
      ]
    },
    {
      "cell_type": "markdown",
      "metadata": {
        "id": "B0P_F5Ld-ldg"
      },
      "source": [
        "Ex 3: Write a function called number_of_factors that takes an integer and returns how many\n",
        "factors the number has."
      ]
    },
    {
      "cell_type": "code",
      "execution_count": null,
      "metadata": {
        "id": "Yr2BLCXp-oTi",
        "outputId": "2d337d53-52de-4cb7-dd63-7fb0838a85ea",
        "colab": {
          "base_uri": "https://localhost:8080/"
        }
      },
      "outputs": [
        {
          "output_type": "stream",
          "name": "stdout",
          "text": [
            "6\n"
          ]
        }
      ],
      "source": [
        "def number_of_factors(x):\n",
        "  count = 0\n",
        "  for i in range(1,x+1):\n",
        "    if x % i == 0:\n",
        "        count += 1\n",
        "  return count\n",
        "\n",
        "print(number_of_factors(20))"
      ]
    },
    {
      "cell_type": "markdown",
      "metadata": {
        "id": "7w0DDTyY-o_4"
      },
      "source": [
        "Ex4: Write a function called first_diff that is given two strings and returns the first location in\n",
        "which the strings differ. If the strings are identical, it should return -1.Ignore the case in your function. It means h and H are the same."
      ]
    },
    {
      "cell_type": "code",
      "execution_count": null,
      "metadata": {
        "id": "1WOvaf0z-6J6",
        "colab": {
          "base_uri": "https://localhost:8080/"
        },
        "outputId": "73210bd1-6c23-4da0-a8f4-fdefbac87b9e"
      },
      "outputs": [
        {
          "output_type": "execute_result",
          "data": {
            "text/plain": [
              "4"
            ]
          },
          "metadata": {},
          "execution_count": 15
        }
      ],
      "source": [
        "def first_diff(str1, str2):\n",
        "    str1_lower = str1.lower()\n",
        "    str2_lower = str2.lower()\n",
        "\n",
        "    min_len = min(len(str1_lower), len(str2_lower))\n",
        "\n",
        "    for i in range(min_len):\n",
        "        if str1_lower[i] != str2_lower[i]:\n",
        "            return i\n",
        "    if len(str1_lower) != len(str2_lower):\n",
        "        return min_len\n",
        "\n",
        "    return -1\n",
        "\n",
        "first_diff('Oppai','Oppao')"
      ]
    },
    {
      "cell_type": "markdown",
      "metadata": {
        "id": "jLM8fAg_-6th"
      },
      "source": [
        "Ex5: Write a function called root that is given a number x and an integer n and returns x/n. In\n",
        "the function definition, set the default value of n to 2."
      ]
    },
    {
      "cell_type": "code",
      "execution_count": null,
      "metadata": {
        "id": "1TrSgTDa_Fu0",
        "colab": {
          "base_uri": "https://localhost:8080/"
        },
        "outputId": "facdee9a-153d-4289-dbaa-c9ddd4a25fd2"
      },
      "outputs": [
        {
          "output_type": "stream",
          "name": "stdout",
          "text": [
            "17.0\n"
          ]
        }
      ],
      "source": [
        "def root(x,n=2):\n",
        "  result = x/n\n",
        "  return result\n",
        "\n",
        "print(root(34))"
      ]
    },
    {
      "cell_type": "markdown",
      "metadata": {
        "id": "3yqJByQO4bpT"
      },
      "source": [
        "Ex6: Write a function that solves the system of equations ax + by = e and cx +dy = f. Your function should takes 6 parameters, (a, b, c, d, e,f) and return the values of x and y."
      ]
    },
    {
      "cell_type": "code",
      "execution_count": 5,
      "metadata": {
        "id": "JAamKik84bpT",
        "colab": {
          "base_uri": "https://localhost:8080/"
        },
        "outputId": "811c51a8-78df-45a6-ff2c-a06c28e1f590"
      },
      "outputs": [
        {
          "output_type": "stream",
          "name": "stdout",
          "text": [
            "x = -4.0, y = 4.5\n"
          ]
        }
      ],
      "source": [
        "#I don't understand Ex-6 I used AI\n",
        "\n",
        "def solve_system(a, b, c, d, e, f):\n",
        "    D = a * d - b * c\n",
        "    if D == 0:\n",
        "        raise ValueError(\"No unique solution (determinant is zero).\")\n",
        "    Dx = e * d - b * f\n",
        "    Dy = a * f - e * c\n",
        "    x = Dx / D\n",
        "    y = Dy / D\n",
        "    return x, y\n",
        "\n",
        "# Example usage:\n",
        "x, y = solve_system(1, 2, 3, 4, 5, 6)\n",
        "print(f\"x = {x}, y = {y}\")"
      ]
    },
    {
      "cell_type": "markdown",
      "metadata": {
        "id": "TpUcCk2Y4bpT"
      },
      "source": [
        "Ex7:  Write a function called change_case that given a string, returns a string with each upper  case letter replaced by a lower case letter and vice-versa"
      ]
    },
    {
      "cell_type": "code",
      "execution_count": null,
      "metadata": {
        "id": "FmKZm8Fj4bpU",
        "colab": {
          "base_uri": "https://localhost:8080/",
          "height": 52
        },
        "outputId": "aa8d4213-2055-4137-9894-daac444aa60c"
      },
      "outputs": [
        {
          "output_type": "stream",
          "name": "stdout",
          "text": [
            "hello world\n"
          ]
        },
        {
          "output_type": "execute_result",
          "data": {
            "text/plain": [
              "'hELLO 32@ld'"
            ],
            "application/vnd.google.colaboratory.intrinsic+json": {
              "type": "string"
            }
          },
          "metadata": {},
          "execution_count": 24
        }
      ],
      "source": [
        "def change_case(string):\n",
        "  if string.isupper():\n",
        "    print(string.lower())\n",
        "  elif string.islower():\n",
        "    print(string.upper())\n",
        "\n",
        "  return change_case\n",
        "\n",
        "change_case('HELLO WORLD')\n",
        "# in my program it will change all uppercase and lowercas, in my string mixed in lower and uppder it's not work\n",
        "#I found the orginal python built in function swapcase() it's more useful\n",
        "\n",
        "def change_case(string):\n",
        "    return string.swapcase()\n",
        "\n",
        "change_case('Hello 32@LD')\n"
      ]
    },
    {
      "cell_type": "markdown",
      "metadata": {
        "id": "edmx3AHv4bpU"
      },
      "source": [
        "Ex8:  Write a function called primes that is given a number n and returns a list of the first n  primes. Let the default value of n be 100."
      ]
    },
    {
      "cell_type": "code",
      "execution_count": 8,
      "metadata": {
        "id": "5d6TbbtY4bpU",
        "colab": {
          "base_uri": "https://localhost:8080/"
        },
        "outputId": "66cc1308-abe8-4e55-866c-c9bce7e41bff"
      },
      "outputs": [
        {
          "output_type": "stream",
          "name": "stdout",
          "text": [
            "[2, 3, 5, 7, 11, 13, 17, 19, 23, 29]\n"
          ]
        }
      ],
      "source": [
        "#I used AI for this answers\n",
        "def primes(n=100):\n",
        "    primes_list = []\n",
        "    num = 2\n",
        "    while len(primes_list) < n:\n",
        "        is_prime = True\n",
        "\n",
        "        for p in primes_list:\n",
        "            if p * p > num:\n",
        "                break\n",
        "            if num % p == 0:\n",
        "                is_prime = False\n",
        "                break\n",
        "        if is_prime:\n",
        "            primes_list.append(num)\n",
        "        num += 1\n",
        "    return primes_list\n",
        "\n",
        "print(primes(10))"
      ]
    },
    {
      "cell_type": "markdown",
      "metadata": {
        "id": "iw98RDcy4bpV"
      },
      "source": [
        "Ex9: A Tic-tac-toe board can be represented be a 3×3 two-dimensional list, where zeroes stand for  empty cells, ones stand for X’s and twos stand for O’s. Write a function that is given such a list and randomly chooses a spot in which to place  a 2 (O). The spot chosen must currently be empty and a spot must be chosen."
      ]
    },
    {
      "cell_type": "code",
      "execution_count": 10,
      "metadata": {
        "id": "xj0G1MvP4bpV",
        "colab": {
          "base_uri": "https://localhost:8080/"
        },
        "outputId": "42ec81a1-a0d2-483b-ab4c-be04b6d3cada"
      },
      "outputs": [
        {
          "output_type": "stream",
          "name": "stdout",
          "text": [
            "TIC-TAC-TOE GAME\n",
            "You are X, computer is O\n",
            "Enter row and column (1-3)\n",
            "\n",
            "- - -\n",
            "- - -\n",
            "- - -\n",
            "Enter row (1-3): 1\n",
            "Enter column (1-3): 1\n",
            "\n",
            "X - -\n",
            "- - -\n",
            "- - -\n",
            "Computer's turn...\n",
            "\n",
            "X - -\n",
            "- - -\n",
            "- O -\n",
            "Enter row (1-3): 2\n",
            "Enter column (1-3): 2\n",
            "\n",
            "X - -\n",
            "- X -\n",
            "- O -\n",
            "Computer's turn...\n",
            "\n",
            "X - O\n",
            "- X -\n",
            "- O -\n",
            "Enter row (1-3): 3\n",
            "Enter column (1-3): 3\n",
            "\n",
            "X - O\n",
            "- X -\n",
            "- O X\n",
            "Congratulations! You won!\n"
          ]
        }
      ],
      "source": [
        "#Tic_tac_toe game board\n",
        "#I learned this from Youtube video but I didn't get full code of program I used AI\n",
        "import random\n",
        "def print_board():\n",
        "  print()\n",
        "  for i in range(3):\n",
        "    print(' '.join(gameboard[i]))\n",
        "\n",
        "def x(r,c):\n",
        "    gameboard[r][c] = 'X'\n",
        "\n",
        "def o(r,c):\n",
        "    gameboard[r][c] = 'O'\n",
        "\n",
        "def check_winner():\n",
        "    # Check rows\n",
        "    for row in gameboard:\n",
        "        if row[0] == row[1] == row[2] != '-':\n",
        "            return row[0]\n",
        "\n",
        "    # Check columns\n",
        "    for col in range(3):\n",
        "        if gameboard[0][col] == gameboard[1][col] == gameboard[2][col] != '-':\n",
        "            return gameboard[0][col]\n",
        "\n",
        "    # Check diagonals\n",
        "    if gameboard[0][0] == gameboard[1][1] == gameboard[2][2] != '-':\n",
        "        return gameboard[0][0]\n",
        "    if gameboard[0][2] == gameboard[1][1] == gameboard[2][0] != '-':\n",
        "        return gameboard[0][2]\n",
        "\n",
        "    return None\n",
        "\n",
        "def is_board_full():\n",
        "    for row in gameboard:\n",
        "        if '-' in row:\n",
        "            return False\n",
        "    return True\n",
        "\n",
        "def computer_move():\n",
        "    empty_spots = []\n",
        "    for r in range(3):\n",
        "        for c in range(3):\n",
        "            if gameboard[r][c] == '-':\n",
        "                empty_spots.append((r,c))\n",
        "    if empty_spots:\n",
        "        r, c = random.choice(empty_spots)\n",
        "        o(r, c)\n",
        "\n",
        "# Initialize game\n",
        "gameboard = [[\"-\",\"-\",\"-\"],[\"-\",\"-\",\"-\"],[\"-\",\"-\",\"-\"]]\n",
        "current_player = 'X'  # Player starts first\n",
        "\n",
        "print(\"TIC-TAC-TOE GAME\")\n",
        "print(\"You are X, computer is O\")\n",
        "print(\"Enter row and column (1-3)\")\n",
        "\n",
        "while True:\n",
        "    print_board()\n",
        "\n",
        "    if current_player == 'X':\n",
        "        # Player's turn\n",
        "        try:\n",
        "            row = int(input(\"Enter row (1-3): \")) - 1\n",
        "            column = int(input(\"Enter column (1-3): \")) - 1\n",
        "\n",
        "            if not (0 <= row <= 2 and 0 <= column <= 2):\n",
        "                print(\"Please enter numbers between 1 and 3\")\n",
        "                continue\n",
        "\n",
        "            if gameboard[row][column] != '-':\n",
        "                print(\"That spot is already taken!\")\n",
        "                continue\n",
        "\n",
        "            x(row, column)\n",
        "            current_player = 'O'\n",
        "\n",
        "        except ValueError:\n",
        "            print(\"Please enter valid numbers\")\n",
        "            continue\n",
        "    else:\n",
        "        # Computer's turn\n",
        "        print(\"Computer's turn...\")\n",
        "        computer_move()\n",
        "        current_player = 'X'\n",
        "\n",
        "    # Check for winner\n",
        "    winner = check_winner()\n",
        "    if winner:\n",
        "        print_board()\n",
        "        if winner == 'X':\n",
        "            print(\"Congratulations! You won!\")\n",
        "        else:\n",
        "            print(\"Computer won!\")\n",
        "        break\n",
        "\n",
        "    # Check for tie\n",
        "    if is_board_full():\n",
        "        print_board()\n",
        "        print(\"It's a tie!\")\n",
        "        break"
      ]
    },
    {
      "cell_type": "markdown",
      "metadata": {
        "id": "-2uK8qBi4bpV"
      },
      "source": [
        "Ex10:  Write a function that is given a 9 × 9 potentially solved Sudoku and returns True if it is solved correctly and False if there is a mistake. The Sudoku is correctly solved if there are\n",
        " no repeated numbers in any row or any column or in any of the nine “blocks.”\n"
      ]
    },
    {
      "cell_type": "code",
      "execution_count": 15,
      "metadata": {
        "id": "bBTglxSu4bpW",
        "colab": {
          "base_uri": "https://localhost:8080/"
        },
        "outputId": "47f39341-6816-4539-dc27-8619d0072857"
      },
      "outputs": [
        {
          "output_type": "stream",
          "name": "stdout",
          "text": [
            "Correct Sudoku:\n",
            "5 3 4 | 6 7 8 | 9 1 2 \n",
            "6 7 2 | 1 9 5 | 3 4 8 \n",
            "1 9 8 | 3 4 2 | 5 6 7 \n",
            "---------------------\n",
            "8 5 9 | 7 6 1 | 4 2 3 \n",
            "4 2 6 | 8 5 3 | 7 9 1 \n",
            "7 1 3 | 9 2 4 | 8 5 6 \n",
            "---------------------\n",
            "9 6 1 | 5 3 7 | 2 8 4 \n",
            "2 8 7 | 4 1 9 | 6 3 5 \n",
            "3 4 5 | 2 8 6 | 1 7 9 \n",
            "Is valid? True\n",
            "\n",
            "Incorrect Sudoku:\n",
            "5 3 4 | 6 7 8 | 9 1 2 \n",
            "6 7 2 | 1 9 5 | 3 4 8 \n",
            "1 9 8 | 3 4 2 | 5 6 7 \n",
            "---------------------\n",
            "8 5 9 | 7 6 1 | 4 2 3 \n",
            "4 2 6 | 8 5 3 | 7 9 1 \n",
            "7 1 3 | 9 2 4 | 8 5 6 \n",
            "---------------------\n",
            "9 6 1 | 5 3 7 | 2 8 4 \n",
            "2 8 7 | 4 1 9 | 6 3 5 \n",
            "3 4 5 | 2 8 6 | 1 7 5 \n",
            "Is valid? False\n",
            "\n",
            "Unsolved Sudoku:\n",
            "5 3 . | . 7 . | . . . \n",
            "6 . . | 1 9 5 | . . . \n",
            ". 9 8 | . . . | . 6 . \n",
            "---------------------\n",
            "8 . . | . 6 . | . . 3 \n",
            "4 . . | 8 . 3 | . . 1 \n",
            "7 . . | . 2 . | . . 6 \n",
            "---------------------\n",
            ". 6 . | . . . | 2 8 . \n",
            ". . . | 4 1 9 | . . 5 \n",
            ". . . | . 8 . | . 7 9 \n",
            "Is valid? False\n"
          ]
        }
      ],
      "source": [
        "#I don't understand the usage of this program I used AI\n",
        "def is_valid_sudoku(grid):\n",
        "    \"\"\"Check if a 9x9 Sudoku grid is correctly solved.\"\"\"\n",
        "    # Check each row\n",
        "    for row in grid:\n",
        "        seen = set()\n",
        "        for num in row:\n",
        "            if num == 0:\n",
        "                return False  # Empty cell found\n",
        "            if num < 1 or num > 9 or num in seen:\n",
        "                return False\n",
        "            seen.add(num)\n",
        "\n",
        "    # Check each column\n",
        "    for col in range(9):\n",
        "        seen = set()\n",
        "        for row in range(9):\n",
        "            num = grid[row][col]\n",
        "            if num == 0:\n",
        "                return False  # Empty cell found\n",
        "            if num < 1 or num > 9 or num in seen:\n",
        "                return False\n",
        "            seen.add(num)\n",
        "\n",
        "    # Check each 3x3 block\n",
        "    for block_row in range(0, 9, 3):\n",
        "        for block_col in range(0, 9, 3):\n",
        "            seen = set()\n",
        "            for row in range(block_row, block_row + 3):\n",
        "                for col in range(block_col, block_col + 3):\n",
        "                    num = grid[row][col]\n",
        "                    if num == 0:\n",
        "                        return False  # Empty cell found\n",
        "                    if num < 1 or num > 9 or num in seen:\n",
        "                        return False\n",
        "                    seen.add(num)\n",
        "\n",
        "    return True\n",
        "\n",
        "def print_sudoku(grid):\n",
        "    \"\"\"Print the Sudoku grid in a readable format.\"\"\"\n",
        "    for i in range(9):\n",
        "        if i % 3 == 0 and i != 0:\n",
        "            print(\"-\" * 21)  # Print horizontal line after every 3 rows\n",
        "        for j in range(9):\n",
        "            if j % 3 == 0 and j != 0:\n",
        "                print(\"|\", end=\" \")  # Print vertical line after every 3 columns\n",
        "            print(grid[i][j] if grid[i][j] != 0 else \".\", end=\" \")\n",
        "        print()  # Move to the next line after each row\n",
        "\n",
        "# Test case 1: Correctly solved Sudoku\n",
        "correct_sudoku = [\n",
        "    [5, 3, 4, 6, 7, 8, 9, 1, 2],\n",
        "    [6, 7, 2, 1, 9, 5, 3, 4, 8],\n",
        "    [1, 9, 8, 3, 4, 2, 5, 6, 7],\n",
        "    [8, 5, 9, 7, 6, 1, 4, 2, 3],\n",
        "    [4, 2, 6, 8, 5, 3, 7, 9, 1],\n",
        "    [7, 1, 3, 9, 2, 4, 8, 5, 6],\n",
        "    [9, 6, 1, 5, 3, 7, 2, 8, 4],\n",
        "    [2, 8, 7, 4, 1, 9, 6, 3, 5],\n",
        "    [3, 4, 5, 2, 8, 6, 1, 7, 9]\n",
        "]\n",
        "\n",
        "# Test case 2: Incorrectly solved Sudoku (duplicate in first row)\n",
        "incorrect_sudoku = [\n",
        "    [5, 3, 4, 6, 7, 8, 9, 1, 2],\n",
        "    [6, 7, 2, 1, 9, 5, 3, 4, 8],\n",
        "    [1, 9, 8, 3, 4, 2, 5, 6, 7],\n",
        "    [8, 5, 9, 7, 6, 1, 4, 2, 3],\n",
        "    [4, 2, 6, 8, 5, 3, 7, 9, 1],\n",
        "    [7, 1, 3, 9, 2, 4, 8, 5, 6],\n",
        "    [9, 6, 1, 5, 3, 7, 2, 8, 4],\n",
        "    [2, 8, 7, 4, 1, 9, 6, 3, 5],\n",
        "    [3, 4, 5, 2, 8, 6, 1, 7, 5]  # Duplicate 5 in last row\n",
        "]\n",
        "\n",
        "# Test case 3: Unsolved Sudoku (contains 0)\n",
        "unsolved_sudoku = [\n",
        "    [5, 3, 0, 0, 7, 0, 0, 0, 0],\n",
        "    [6, 0, 0, 1, 9, 5, 0, 0, 0],\n",
        "    [0, 9, 8, 0, 0, 0, 0, 6, 0],\n",
        "    [8, 0, 0, 0, 6, 0, 0, 0, 3],\n",
        "    [4, 0, 0, 8, 0, 3, 0, 0, 1],\n",
        "    [7, 0, 0, 0, 2, 0, 0, 0, 6],\n",
        "    [0, 6, 0, 0, 0, 0, 2, 8, 0],\n",
        "    [0, 0, 0, 4, 1, 9, 0, 0, 5],\n",
        "    [0, 0, 0, 0, 8, 0, 0, 7, 9]\n",
        "]\n",
        "\n",
        "# Print and validate each Sudoku grid\n",
        "print(\"Correct Sudoku:\")\n",
        "print_sudoku(correct_sudoku)\n",
        "print(\"Is valid?\", is_valid_sudoku(correct_sudoku))\n",
        "print(\"\\nIncorrect Sudoku:\")\n",
        "print_sudoku(incorrect_sudoku)\n",
        "print(\"Is valid?\", is_valid_sudoku(incorrect_sudoku))\n",
        "print(\"\\nUnsolved Sudoku:\")\n",
        "print_sudoku(unsolved_sudoku)\n",
        "print(\"Is valid?\", is_valid_sudoku(unsolved_sudoku))"
      ]
    },
    {
      "cell_type": "code",
      "source": [],
      "metadata": {
        "id": "dDEZsxxK6dxm"
      },
      "execution_count": null,
      "outputs": []
    }
  ],
  "metadata": {
    "colab": {
      "provenance": [],
      "include_colab_link": true
    },
    "kernelspec": {
      "display_name": "Python 3",
      "name": "python3"
    },
    "language_info": {
      "codemirror_mode": {
        "name": "ipython",
        "version": 3
      },
      "file_extension": ".py",
      "mimetype": "text/x-python",
      "name": "python",
      "nbconvert_exporter": "python",
      "pygments_lexer": "ipython3",
      "version": "3.12.1"
    }
  },
  "nbformat": 4,
  "nbformat_minor": 0
}
