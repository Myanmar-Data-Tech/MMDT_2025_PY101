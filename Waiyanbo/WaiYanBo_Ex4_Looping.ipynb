{
  "cells": [
    {
      "cell_type": "markdown",
      "metadata": {
        "id": "view-in-github",
        "colab_type": "text"
      },
      "source": [
        "<a href=\"https://colab.research.google.com/github/drwaiyanbo/MMDT_2025_PY101/blob/Wai-Yan-Bo/Waiyanbo/WaiYanBo_Ex4_Looping.ipynb\" target=\"_parent\"><img src=\"https://colab.research.google.com/assets/colab-badge.svg\" alt=\"Open In Colab\"/></a>"
      ]
    },
    {
      "cell_type": "markdown",
      "metadata": {
        "id": "YeTHwB3EASGn"
      },
      "source": [
        "The exercises are extracted from A_Practical_Introduction_to_Python_Programming_Heinold.pdf"
      ]
    },
    {
      "cell_type": "markdown",
      "metadata": {
        "id": "wVOW5QDgAZ_R"
      },
      "source": [
        "Ex 1: Write a program that uses a while loop (not a for loop) to read through a string and print\n",
        "the characters of the string one-by-one on separate lines."
      ]
    },
    {
      "cell_type": "code",
      "execution_count": null,
      "metadata": {
        "id": "77KGqP-sJJNh",
        "colab": {
          "base_uri": "https://localhost:8080/"
        },
        "outputId": "95ac358f-ab5d-44b5-abeb-f798990b7f06"
      },
      "outputs": [
        {
          "output_type": "stream",
          "name": "stdout",
          "text": [
            "G\n",
            "r\n",
            "e\n",
            "e\n",
            "t\n",
            "i\n",
            "n\n",
            "g\n"
          ]
        }
      ],
      "source": [
        " # defining the string\n",
        " text = \"Greeting\"\n",
        "\n",
        " # defining the index\n",
        " index = 0\n",
        "\n",
        " # start the while loop\n",
        " while index < len(text):\n",
        "     print(text[index])\n",
        "     index += 1"
      ]
    },
    {
      "cell_type": "markdown",
      "metadata": {
        "id": "5B-LyYV0AkCK"
      },
      "source": [
        "Ex 2: A good program will make sure that the data its users enter is valid. Write a program that\n",
        "asks the user for a weight and converts it from kilograms to pounds. Whenever the user\n",
        "enters a weight below 0, the program should tell them that their entry is invalid and then ask\n",
        "them again to enter a weight. [Hint: Use a while loop, not an if statement]."
      ]
    },
    {
      "cell_type": "code",
      "execution_count": null,
      "metadata": {
        "id": "gpRZnsXjArkF",
        "colab": {
          "base_uri": "https://localhost:8080/"
        },
        "outputId": "961aaaa7-3070-45c1-caa6-bdc09a00bb12"
      },
      "outputs": [
        {
          "output_type": "stream",
          "name": "stdout",
          "text": [
            "Please type your weight-1\n",
            "Your entry is invalid\n",
            "Please type your weight -1\n",
            "Your entry is invalid\n",
            "Please type your weight 2\n",
            "4.4\n"
          ]
        }
      ],
      "source": [
        "weightInKilo =  int(input(\"Please type your weight\"))\n",
        "#loop when user type under zero & equal to zero\n",
        "while(weightInKilo <=0):\n",
        "  print(\"Your entry is invalid\")\n",
        "  weightInKilo =  int(input(\"Please type your weight \"))\n",
        "weightInpound = weightInKilo * 2.2\n",
        "print(weightInpound)"
      ]
    },
    {
      "cell_type": "markdown",
      "source": [],
      "metadata": {
        "id": "HdzL6rpmkAYz"
      }
    },
    {
      "cell_type": "markdown",
      "source": [],
      "metadata": {
        "id": "SpuirDMoUOZ4"
      }
    },
    {
      "cell_type": "markdown",
      "source": [],
      "metadata": {
        "id": "jt726Xn5ZmfG"
      }
    },
    {
      "cell_type": "markdown",
      "metadata": {
        "id": "zQT0pCjRAsIK"
      },
      "source": [
        "Ex 3: Write a program that allows the user to enter any number of test scores. The user indicates\n",
        "they are done by entering in a negative number. Print how many of the scores are A’s (90 or\n",
        "above). Also print out the average"
      ]
    },
    {
      "cell_type": "markdown",
      "source": [],
      "metadata": {
        "id": "Dpp_QuLoWVy7"
      }
    },
    {
      "cell_type": "code",
      "execution_count": null,
      "metadata": {
        "id": "Gya-rvYUAviK",
        "colab": {
          "base_uri": "https://localhost:8080/"
        },
        "outputId": "08c5cde1-7930-4032-c48c-1c012041ab94"
      },
      "outputs": [
        {
          "output_type": "stream",
          "name": "stdout",
          "text": [
            "Please type your scores90\n",
            "Please type your scores20\n",
            "Please type your scores10\n",
            "Please type your scores20\n",
            "Please type your scores-1\n",
            "The number of students who gets A is 1\n",
            "35.0\n"
          ]
        }
      ],
      "source": [
        "scores = int(input(\"Please type your scores\"))\n",
        "\n",
        "scroesBoard= []\n",
        "# adding to list if the score is over zero and above\n",
        "while(scores >= 0):\n",
        "  scroesBoard.append(scores)\n",
        "  scores = int(input(\"Please type your scores\"))\n",
        "  #when the score is less than zero\n",
        "  if(scores<0):\n",
        "    countA = 0;\n",
        "    #finding the scroe equal to 90 or above\n",
        "    for score in scroesBoard:\n",
        "      if (score >= 90):\n",
        "        countA +=1\n",
        "    print(\"The number of students who gets A is {}\".format(countA))\n",
        "    print(sum(scroesBoard)/len(scroesBoard))\n",
        "\n"
      ]
    },
    {
      "cell_type": "markdown",
      "metadata": {
        "id": "IHIWc5jHAwxY"
      },
      "source": [
        "Ex 4: Write a program that asks the user for a string and a letter. Using a for loop, the\n",
        "program should print the index of the first occurrence of that letter and a message if the\n",
        "string does not contain the letter."
      ]
    },
    {
      "cell_type": "code",
      "execution_count": null,
      "metadata": {
        "id": "xSe0mtQ8A68M",
        "colab": {
          "base_uri": "https://localhost:8080/"
        },
        "outputId": "afd9a76a-49f7-437c-8ba6-84a9de1e9f82"
      },
      "outputs": [
        {
          "output_type": "stream",
          "name": "stdout",
          "text": [
            "Enter a stringletter\n",
            "Enter a letter to search for: t\n",
            "The letter {'t'} first appears at index {2}\n"
          ]
        }
      ],
      "source": [
        "# ask the user for a string and a letter\n",
        "user_string = input(\"Enter a string\")\n",
        "letter = input(\"Enter a letter to search for: \")\n",
        "\n",
        "# start the condition to check if the lteeter is found\n",
        "found = False\n",
        "\n",
        "# use letter to search for the letter\n",
        "for i in range(len(user_string)):\n",
        "  if user_string[i] == letter:\n",
        "    print(\"The letter\", {letter}, \"first appears at index\", {i})\n",
        "    found = True\n",
        "    break # stop the loop\n",
        "\n",
        "# if not found\n",
        "if not found:\n",
        "  print(\"The letter\", {letter}, \"does not appear in the string.\")"
      ]
    },
    {
      "cell_type": "markdown",
      "metadata": {
        "id": "PfyUq4CnA8vk"
      },
      "source": [
        "Ex 5: Write a program in which you have a list that contains seven integers that can be 0 or 1. Find the first zero entry in the list and change it to a 1. If there are no zero entries, print a message saying so."
      ]
    },
    {
      "cell_type": "code",
      "execution_count": 15,
      "metadata": {
        "id": "v8w7LoLsTZhE",
        "colab": {
          "base_uri": "https://localhost:8080/"
        },
        "outputId": "a96f1488-4aab-4acb-8305-fdf4284f49ce"
      },
      "outputs": [
        {
          "output_type": "stream",
          "name": "stdout",
          "text": [
            "There are no zero entries.\n",
            "Updated list: [1, 1, 1, 1, 1, 0, 1]\n"
          ]
        }
      ],
      "source": [
        "numbers = [1, 1, 1, 1, 1, 0, 1]\n",
        "found = False\n",
        "\n",
        "for i in numbers:\n",
        "    if numbers[i] == 0:\n",
        "        numbers[i] = 1\n",
        "        found = True\n",
        "        print(f\"Zero found at index {i}. It has been changed to 1.\")\n",
        "        break\n",
        "\n",
        "if not found:\n",
        "    print(\"There are no zero entries.\")\n",
        "\n",
        "print(\"Updated list:\", numbers)"
      ]
    }
  ],
  "metadata": {
    "colab": {
      "name": "Ex4_Looping.ipynb",
      "provenance": [],
      "include_colab_link": true
    },
    "kernelspec": {
      "display_name": "Python 3",
      "name": "python3"
    },
    "language_info": {
      "codemirror_mode": {
        "name": "ipython",
        "version": 3
      },
      "file_extension": ".py",
      "mimetype": "text/x-python",
      "name": "python",
      "nbconvert_exporter": "python",
      "pygments_lexer": "ipython3",
      "version": "3.12.1"
    }
  },
  "nbformat": 4,
  "nbformat_minor": 0
}