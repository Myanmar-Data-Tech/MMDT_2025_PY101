{
  "cells": [
    {
      "cell_type": "markdown",
      "metadata": {
        "id": "b2tafyvA_GoR"
      },
      "source": [
        "## Simple Debugging\n",
        "\n",
        "Add print statements to your program.\n",
        "Add input() to pause the program"
      ]
    },
    {
      "cell_type": "code",
      "execution_count": null,
      "metadata": {
        "id": "2TacYJql_GoR"
      },
      "outputs": [],
      "source": [
        "from random import randint\n",
        "\n",
        "#Step 1: generate a random number between 1 and 5\n",
        "rand_num = randint(1,5)\n",
        "\n",
        "# add print statment here to know the value of rand_num\n",
        "print(rand_num)\n",
        "\n",
        "# Step 2: What does this code do?\n",
        "# the following code generate \"Hello\" based on generate random number\n",
        "for i in range(6):\n",
        "    print('Hello '*rand_num)"
      ]
    },
    {
      "cell_type": "code",
      "execution_count": null,
      "metadata": {
        "id": "T9LGisHR_GoS"
      },
      "outputs": [],
      "source": [
        "from random import randint\n",
        "\n",
        "# Step 1: generate a random number between 1 and 5\n",
        "rand_num = randint(1,5)\n",
        "#print(rand_num)\n",
        "# Step 2: What does this code do?\n",
        "# the following code generate random numbers for 6 times and will generate 'Hello' based\n",
        "#on local 'rand_num' variable inside the for loop.\n",
        "for i in range(6):\n",
        "    rand_num = randint(1,5)\n",
        "    print(rand_num) #added this line as I want to check generate random number\n",
        "    print('Hello '*rand_num)"
      ]
    },
    {
      "cell_type": "markdown",
      "metadata": {
        "id": "BYL5Dnpd_GoS"
      },
      "source": [
        "Write a program that generates 10000 random numbers between 1 and 100 and counts how many of them are multiples of 12."
      ]
    },
    {
      "cell_type": "code",
      "execution_count": null,
      "metadata": {
        "id": "js6kybIV_GoS"
      },
      "outputs": [],
      "source": [
        "# Step 1: import random module\n",
        "from random import randint\n",
        "# Step 2: set count as 0\n",
        "count = 0\n",
        "# Step 3: to generate 10,000 random numbers between 1 and 100, we have set for loop ranging\n",
        "# 10,000.\n",
        "for i in range(10000):\n",
        "    #Step 4: Inside for loop, we will generate random variabels between 1 and 100 as num\n",
        "    num = randint(1, 100)\n",
        "    #Step 5: To calculate the multiplies of 12, we have to set that modulo of the\n",
        "    # generated random number (num) is equal to 0. Put the result of modulo in if statement\n",
        "    # and counting it\n",
        "    if num%12==0:\n",
        "        count=count+1\n",
        "    # Step 6: Finally, print out the counting result of times when modulo result is zero\n",
        "print('Number of multiples of 12:', count)\n"
      ]
    },
    {
      "cell_type": "markdown",
      "metadata": {
        "id": "oU3t5WCc_GoS"
      },
      "source": [
        "The following program should counts how many of the squares of the numbers from 1 to 100 end in 1.  (Example: 1,81,121). Debug the code."
      ]
    },
    {
      "cell_type": "code",
      "execution_count": null,
      "metadata": {
        "id": "4Sio8PF1_GoS"
      },
      "outputs": [],
      "source": [
        "#Step 1: Import numpy module\n",
        "import numpy as np\n",
        "\n",
        "#Step 2: Define Function to count squares of number ends in 1\n",
        "def fun_square_count():\n",
        "    #Step 3: create a list to put the value within 1 to 100 using arange function\n",
        "    # this will generate up to 100 as it is ranging from 1 to 101\n",
        "    num_list = np.arange(1,101)\n",
        "\n",
        "    #Step 4: create the squares of values from num_list and keep the inside squared_num list\n",
        "    squred_num = [value**2 for value in num_list]\n",
        "    #Step 5: Set count as 0\n",
        "    count=0\n",
        "\n",
        "    #Step 6: From the squared_num list, checkfloor division to the number is will be equal\n",
        "    # with 1 or not inside if conditional statement. if equal to 1, 1 increment for count\n",
        "    for num in squred_num:\n",
        "        if(num//10) == 1:\n",
        "            count +=1\n",
        "\n",
        "    return count\n",
        "\n",
        "# Step 7: Call user-defined function > fun_square_count to execute the program\n",
        "fun_square_count()"
      ]
    },
    {
      "cell_type": "markdown",
      "metadata": {
        "id": "h31ywkiM_GoT"
      },
      "source": [
        "Debug the following programs"
      ]
    },
    {
      "cell_type": "code",
      "execution_count": null,
      "metadata": {
        "id": "7zNdLfWn_GoT"
      },
      "outputs": [],
      "source": [
        "def add(a, b):\n",
        "    try:\n",
        "        return a + b\n",
        "    except TypeError:\n",
        "        print(\"Arguments must be same data type : integers or values\")\n",
        "\n",
        "print(add(5, '2'))\n"
      ]
    },
    {
      "cell_type": "code",
      "execution_count": null,
      "metadata": {
        "id": "lkeQdi_h_GoT"
      },
      "outputs": [],
      "source": [
        "def divide(a, b):\n",
        "    result = a / b\n",
        "    return result\n",
        "\n",
        "divide(1,2)"
      ]
    },
    {
      "cell_type": "code",
      "execution_count": null,
      "metadata": {
        "id": "1pEI3G41_GoT"
      },
      "outputs": [],
      "source": [
        "def is_prime(n):\n",
        "    if n <= 0:\n",
        "        return False\n",
        "    for i in range(2, n):\n",
        "        if n % i == 0: # we have to check n is completely divisible by i\n",
        "            return False\n",
        "    return True\n",
        "\n",
        "print(is_prime(15))\n"
      ]
    }
  ],
  "metadata": {
    "kernelspec": {
      "display_name": "Python 3",
      "language": "python",
      "name": "python3"
    },
    "language_info": {
      "codemirror_mode": {
        "name": "ipython",
        "version": 3
      },
      "file_extension": ".py",
      "mimetype": "text/x-python",
      "name": "python",
      "nbconvert_exporter": "python",
      "pygments_lexer": "ipython3",
      "version": "3.12.1"
    },
    "colab": {
      "provenance": []
    }
  },
  "nbformat": 4,
  "nbformat_minor": 0
}