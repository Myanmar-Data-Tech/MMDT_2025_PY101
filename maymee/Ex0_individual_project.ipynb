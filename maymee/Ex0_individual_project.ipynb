{
  "cells": [
    {
      "cell_type": "markdown",
      "metadata": {
        "id": "1hKnU8E12knQ"
      },
      "source": [
        "1) Write a Python program in the below cell to create a dictionary that count the frequency of words in the string given in Q1.txt. Find the most frequent occured word.\n",
        "\n",
        "Don't remove the comment lines provided."
      ]
    },
    {
      "cell_type": "code",
      "source": [
        "!git clone https://github.com/Maymee614/PythonProgramming.git"
      ],
      "metadata": {
        "id": "ykbQYxa32lug",
        "outputId": "f88c1654-acd9-489f-d648-0b3902624008",
        "colab": {
          "base_uri": "https://localhost:8080/"
        }
      },
      "execution_count": 12,
      "outputs": [
        {
          "output_type": "stream",
          "name": "stdout",
          "text": [
            "Cloning into 'PythonProgramming'...\n",
            "remote: Enumerating objects: 1923, done.\u001b[K\n",
            "remote: Counting objects: 100% (138/138), done.\u001b[K\n",
            "remote: Compressing objects: 100% (69/69), done.\u001b[K\n",
            "remote: Total 1923 (delta 116), reused 68 (delta 68), pack-reused 1785 (from 2)\u001b[K\n",
            "Receiving objects: 100% (1923/1923), 6.44 MiB | 20.54 MiB/s, done.\n",
            "Resolving deltas: 100% (332/332), done.\n"
          ]
        }
      ]
    },
    {
      "cell_type": "code",
      "execution_count": 21,
      "metadata": {
        "id": "H7GKE72P2knT",
        "outputId": "ce1000e7-05c5-4ceb-df3b-8548e280863f",
        "colab": {
          "base_uri": "https://localhost:8080/"
        }
      },
      "outputs": [
        {
          "output_type": "stream",
          "name": "stdout",
          "text": [
            "I love this movie! It is sweet, but with satirical humor. The dialogs are great and the adventure scenes are fun. It manages to be romantic and whimsical while laughingat the conventions of the fairy tale genre. I would recommend it to just about anyone. I have seen it several times and I am always happy to see it again and again. \n",
            "The most frequent word is: 'it' which occurred 5 times.\n"
          ]
        }
      ],
      "source": [
        "#step 1: read content from Q1.txt\n",
        "with open('/content/PythonProgramming/data/Q1.txt', 'r') as file1:\n",
        "    word_string = file1.read()\n",
        "    print(word_string)\n",
        "#step 2.1 - change the case to upper or lower.\n",
        "word_string = word_string.lower()\n",
        "\n",
        "#step 2.2 - remove pun : use replace\n",
        "\n",
        "#step 2.3 - split using space\n",
        "word_list = word_string.split()\n",
        "\n",
        "\n",
        "#Step 3: create a dictionary\n",
        "word_count = {}\n",
        "for word in word_list:\n",
        "    if word in word_count:\n",
        "        word_count[word] += 1\n",
        "    else:\n",
        "        word_count[word] = 1\n",
        "\n",
        "#Step 4: find the most frequent occured one\n",
        "most_frequent = max(word_count, key=word_count.get)\n",
        "print(f\"The most frequent word is: '{most_frequent}' which occurred {word_count[most_frequent]} times.\")\n",
        "\n",
        "\n"
      ]
    },
    {
      "cell_type": "code",
      "source": [],
      "metadata": {
        "id": "qCJ6Oz0w_YFa"
      },
      "execution_count": null,
      "outputs": []
    },
    {
      "cell_type": "markdown",
      "metadata": {
        "id": "SQ6mBCvd2knV"
      },
      "source": [
        "2) Write a Python program to read the name from Q2.txt and create email using domain 'simons-rock.edu' and save the results as dictionary : {'name': 'name@simons-rock.edu'}.\n",
        "Please take note that your email should not include space or any special characters and all charcters should be in lowercase."
      ]
    },
    {
      "cell_type": "code",
      "execution_count": 24,
      "metadata": {
        "id": "qXoK_eWj2knV",
        "outputId": "cb19e495-3b4f-4b2c-93d7-b6ad7e0101b3",
        "colab": {
          "base_uri": "https://localhost:8080/"
        }
      },
      "outputs": [
        {
          "output_type": "stream",
          "name": "stdout",
          "text": [
            "{'dechendorji': 'dechendorji@simons-rock.edu', 'dekitshomo': 'dekitshomo@simons-rock.edu', 'dorjitshering': 'dorjitshering@simons-rock.edu', 'dorjiwangmo': 'dorjiwangmo@simons-rock.edu', 'gemtsheringlepcha': 'gemtsheringlepcha@simons-rock.edu', 'jigmedorji': 'jigmedorji@simons-rock.edu', 'kinleycheki': 'kinleycheki@simons-rock.edu', 'kinleywangmo': 'kinleywangmo@simons-rock.edu', 'ngawangdemakarpo': 'ngawangdemakarpo@simons-rock.edu', 'roshanchhetri': 'roshanchhetri@simons-rock.edu', 'sonamtenzin': 'sonamtenzin@simons-rock.edu', 'sonamtobgay': 'sonamtobgay@simons-rock.edu', 'sonamyangden': 'sonamyangden@simons-rock.edu', 'tandinom': 'tandinom@simons-rock.edu', 'tandinwangchuk': 'tandinwangchuk@simons-rock.edu', 'tashiom': 'tashiom@simons-rock.edu', 'tendayzangmo': 'tendayzangmo@simons-rock.edu', 'tsheringpem': 'tsheringpem@simons-rock.edu', 'ugyenphurpa': 'ugyenphurpa@simons-rock.edu', 'marmitt': 'marmitt@simons-rock.edu'}\n"
          ]
        }
      ],
      "source": [
        "#step 1: read Q2. txt into the list\n",
        "with open ('/content/PythonProgramming/data/Q2.txt', 'r') as names:\n",
        "    header = names.readline()\n",
        "    namelist = names.readlines()\n",
        "\n",
        "#step 2: create email for each name in the list and save them in the dictionary\n",
        "# You need to do the necessary data cleaning\n",
        "# For example, removing the space and special characters if there is any, converting them to lower case\n",
        "email_dict = {}\n",
        "\n",
        "for name in namelist:\n",
        "    clean_name = ''.join(e for e in name.strip().lower() if e.isalnum())  # Remove spaces and special characters\n",
        "    email = f'{clean_name}@simons-rock.edu'\n",
        "    email_dict[clean_name] = email\n",
        "print(email_dict)"
      ]
    },
    {
      "cell_type": "markdown",
      "metadata": {
        "id": "9k7ejRpA2knW"
      },
      "source": [
        "3) Write a Python program for \"Guessing Game: Guess the Number Challenge\"\n",
        "\n",
        "Step 1: Use a random function to generate a number.\n",
        "\n",
        "##### Game starts.......\n",
        "\n",
        "Step 2: Prompt the user to guess an integer number. Provide a range if needed to give the user context for their guess.\n",
        "\n",
        "Step 3: Check the condition of the guessed number compared to the generated number and provide feedback accordingly. For example, if the guess is too high or too low, inform the user.\n",
        "\n",
        "Step 4.1: If the guess is incorrect, allow the user to guess again. Repeat this process for a maximum of 10 guesses.\n",
        "\n",
        "Step 4.2: If the user guesses the number correctly, inform them that they have won. Also, indicate how many guesses were needed before guessing correctly.\n",
        "\n",
        "Step 4.3: If the user exhausts all 10 guesses without guessing the correct number, say \"goodbye.\"\n",
        "\n",
        "##### Game ends ...\n",
        "\n",
        "Step 5: Regardless of winning or losing, ask the user if they want to play again. This ensures the program's continuity and gives the user the option to continue playing if they wish."
      ]
    },
    {
      "cell_type": "code",
      "execution_count": 49,
      "metadata": {
        "id": "DOmiYcgo2knX"
      },
      "outputs": [],
      "source": [
        "import random\n",
        "\n",
        "def play_game():\n",
        "    number_to_guess = random.randint(1, 100)  # Step 1: Random number\n",
        "    max_guesses = 10\n",
        "    guesses_taken = 0\n",
        "\n",
        "    print(\"Welcome to the Guess the Number Challenge!\")\n",
        "    print(\"I have chosen a number between 1 and 100. Can you guess it?\")\n",
        "\n",
        "    while guesses_taken < max_guesses:  # Step 4.1: Repeat until max guesses\n",
        "        try:\n",
        "            guess = int(input(f\"Guess #{guesses_taken + 1}: \"))\n",
        "\n",
        "\n",
        "             # Step 2: Prompt user\n",
        "        except ValueError:\n",
        "            print(\"Please enter a valid integer.\")\n",
        "            continue\n",
        "\n",
        "        guesses_taken += 1\n",
        "\n",
        "        if guess < number_to_guess:\n",
        "            print(\"Too low!\")\n",
        "        elif guess > number_to_guess:\n",
        "            print(\"Too high!\")\n",
        "        else:\n",
        "            print(f\"Congratulations! You guessed the number in {guesses_taken} tries.\")\n",
        "            print(f\"✔ Your guess: {guess}, Generated number: {number_to_guess}\")\n",
        "            break\n",
        "\n",
        "\n",
        "\n",
        "\n",
        ""
      ]
    }
  ],
  "metadata": {
    "kernelspec": {
      "display_name": "Python 3",
      "language": "python",
      "name": "python3"
    },
    "language_info": {
      "codemirror_mode": {
        "name": "ipython",
        "version": 3
      },
      "file_extension": ".py",
      "mimetype": "text/x-python",
      "name": "python",
      "nbconvert_exporter": "python",
      "pygments_lexer": "ipython3",
      "version": "3.12.1"
    },
    "colab": {
      "provenance": []
    }
  },
  "nbformat": 4,
  "nbformat_minor": 0
}