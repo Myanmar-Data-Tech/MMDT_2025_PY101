{
  "cells": [
    {
      "cell_type": "markdown",
      "metadata": {
        "id": "view-in-github",
        "colab_type": "text"
      },
      "source": [
        "<a href=\"https://colab.research.google.com/github/drwaiyanbo/MMDT_2025_PY101/blob/Wai-Yan-Bo/Waiyanbo/Ex0_individual_project_Waiyanbo.ipynb\" target=\"_parent\"><img src=\"https://colab.research.google.com/assets/colab-badge.svg\" alt=\"Open In Colab\"/></a>"
      ]
    },
    {
      "cell_type": "markdown",
      "metadata": {
        "id": "n4F-qVQLpv-N"
      },
      "source": [
        "1) Write a Python program in the below cell to create a dictionary that count the frequency of words in the string given in Q1.txt. Find the most frequent occured word.\n",
        "\n",
        "Don't remove the comment lines provided."
      ]
    },
    {
      "cell_type": "code",
      "execution_count": null,
      "metadata": {
        "id": "b62scjdhpv-R",
        "outputId": "5c38c37a-a9d3-41f6-f2bc-5eaf09c2a975",
        "colab": {
          "base_uri": "https://localhost:8080/"
        }
      },
      "outputs": [
        {
          "output_type": "stream",
          "name": "stdout",
          "text": [
            "mkdir: invalid option -- '.'\n",
            "Try 'mkdir --help' for more information.\n",
            "--2025-06-29 13:28:46--  https://github.com/myothida/PythonProgramming/raw/refs/heads/main/data/Q1.txt\n",
            "Resolving github.com (github.com)... 140.82.113.3\n",
            "Connecting to github.com (github.com)|140.82.113.3|:443... connected.\n",
            "HTTP request sent, awaiting response... 302 Found\n",
            "Location: https://raw.githubusercontent.com/myothida/PythonProgramming/refs/heads/main/data/Q1.txt [following]\n",
            "--2025-06-29 13:28:47--  https://raw.githubusercontent.com/myothida/PythonProgramming/refs/heads/main/data/Q1.txt\n",
            "Resolving raw.githubusercontent.com (raw.githubusercontent.com)... 185.199.109.133, 185.199.108.133, 185.199.111.133, ...\n",
            "Connecting to raw.githubusercontent.com (raw.githubusercontent.com)|185.199.109.133|:443... connected.\n",
            "HTTP request sent, awaiting response... 200 OK\n",
            "Length: 333 [text/plain]\n",
            "Saving to: ‘Q1.txt’\n",
            "\n",
            "Q1.txt              100%[===================>]     333  --.-KB/s    in 0s      \n",
            "\n",
            "2025-06-29 13:28:47 (11.7 MB/s) - ‘Q1.txt’ saved [333/333]\n",
            "\n",
            "{'i': 4, 'love': 1, 'this': 1, 'movie': 1, 'it': 5, 'is': 1, 'sweet': 1, 'but': 1, 'with': 1, 'satirical': 1, 'humor': 1, 'the': 4, 'dialogs': 1, 'are': 2, 'great': 1, 'and': 4, 'adventure': 1, 'scenes': 1, 'fun': 1, 'manages': 1, 'to': 3, 'be': 1, 'romantic': 1, 'whimsical': 1, 'while': 1, 'laughingat': 1, 'conventions': 1, 'of': 1, 'fairy': 1, 'tale': 1, 'genre': 1, 'would': 1, 'recommend': 1, 'just': 1, 'about': 1, 'anyone': 1, 'have': 1, 'seen': 1, 'several': 1, 'times': 1, 'am': 1, 'always': 1, 'happy': 1, 'see': 1, 'again': 2}\n",
            "The most frequent occured word is \" it\".\n"
          ]
        }
      ],
      "source": [
        "#step 1: read content from Q1.txt\n",
        "!mkdir -p./data\n",
        "!wget https://github.com/myothida/PythonProgramming/raw/refs/heads/main/data/Q1.txt -O Q1.txt\n",
        "\n",
        "\n",
        "#read the file\n",
        "with open('./Q1.txt', 'r') as file1:\n",
        "    word_string = file1.read()\n",
        "\n",
        "\n",
        "#step 2.1 - change the case to upper or lower.\n",
        "word_lowercase = word_string.lower()\n",
        "\n",
        "#step 2.2 - remove pun : use replace\n",
        "word_no_pun = word_lowercase.replace(',',\"\").replace('!',\"\").replace('.',\"\").replace('?',\"\").replace(':',\"\").replace(';',\"\").replace('\"',\"\").replace(\"'\",\"\").replace('-',\"\")\n",
        "\n",
        "#step 2.3 - split using space\n",
        "split_word = word_no_pun.split()\n",
        "\n",
        "#Step 3: create a dictionary\n",
        "word_dict = {}\n",
        "for word in split_word:\n",
        "    if word in word_dict:\n",
        "        word_dict[word] += 1\n",
        "    else:\n",
        "        word_dict[word] = 1\n",
        "\n",
        "print(word_dict)\n",
        "\n",
        "#Step 4: find the most frequent occured one\n",
        "items = list(word_dict.items())\n",
        "items = [(i[1], i[0]) for i in items]\n",
        "items.sort()\n",
        "last_item = items[-1]\n",
        "print(\"The most frequent occured word is \\\"\", last_item[1] + \"\\\".\")\n",
        "\n",
        "\n",
        "\n"
      ]
    },
    {
      "cell_type": "markdown",
      "metadata": {
        "id": "18Ku6TVGpv-T"
      },
      "source": [
        "2) Write a Python program to read the name from Q2.txt and create email using domain 'simons-rock.edu' and save the results as dictionary : {'name': 'name@simons-rock.edu'}.\n",
        "Please take note that your email should not include space or any special characters and all charcters should be in lowercase."
      ]
    },
    {
      "cell_type": "code",
      "execution_count": null,
      "metadata": {
        "id": "DexEKztypv-T",
        "outputId": "74a142e7-016a-4451-ac9a-99c3b6a7f648",
        "colab": {
          "base_uri": "https://localhost:8080/"
        }
      },
      "outputs": [
        {
          "output_type": "stream",
          "name": "stdout",
          "text": [
            "--2025-06-29 13:30:37--  https://github.com/myothida/PythonProgramming/raw/refs/heads/main/data/Q2.txt\n",
            "Resolving github.com (github.com)... 140.82.114.4\n",
            "Connecting to github.com (github.com)|140.82.114.4|:443... connected.\n",
            "HTTP request sent, awaiting response... 302 Found\n",
            "Location: https://raw.githubusercontent.com/myothida/PythonProgramming/refs/heads/main/data/Q2.txt [following]\n",
            "--2025-06-29 13:30:37--  https://raw.githubusercontent.com/myothida/PythonProgramming/refs/heads/main/data/Q2.txt\n",
            "Resolving raw.githubusercontent.com (raw.githubusercontent.com)... 185.199.108.133, 185.199.109.133, 185.199.110.133, ...\n",
            "Connecting to raw.githubusercontent.com (raw.githubusercontent.com)|185.199.108.133|:443... connected.\n",
            "HTTP request sent, awaiting response... 200 OK\n",
            "Length: 273 [text/plain]\n",
            "Saving to: ‘Q2.txt’\n",
            "\n",
            "Q2.txt              100%[===================>]     273  --.-KB/s    in 0s      \n",
            "\n",
            "2025-06-29 13:30:37 (8.82 MB/s) - ‘Q2.txt’ saved [273/273]\n",
            "\n",
            "{'dechendorji': 'dechendorji@simons-rock.edu', 'dekitshomo': 'dekitshomo@simons-rock.edu', 'dorjitshering': 'dorjitshering@simons-rock.edu', 'dorjiwangmo': 'dorjiwangmo@simons-rock.edu', 'gemtsheringlepcha': 'gemtsheringlepcha@simons-rock.edu', 'jigmedorji': 'jigmedorji@simons-rock.edu', 'kinleycheki': 'kinleycheki@simons-rock.edu', 'kinleywangmo': 'kinleywangmo@simons-rock.edu', 'ngawangdemakarpo': 'ngawangdemakarpo@simons-rock.edu', 'roshanchhetri': 'roshanchhetri@simons-rock.edu', 'sonamtenzin': 'sonamtenzin@simons-rock.edu', 'sonamtobgay': 'sonamtobgay@simons-rock.edu', 'sonamyangden': 'sonamyangden@simons-rock.edu', 'tandinom': 'tandinom@simons-rock.edu', 'tandinwangchuk': 'tandinwangchuk@simons-rock.edu', 'tashiom': 'tashiom@simons-rock.edu', 'tendayzangmo': 'tendayzangmo@simons-rock.edu', 'tsheringpem': 'tsheringpem@simons-rock.edu', 'ugyenphurpa': 'ugyenphurpa@simons-rock.edu', 'marmitt': 'marmitt@simons-rock.edu'}\n"
          ]
        }
      ],
      "source": [
        "#step 1: read Q2. txt into the list\n",
        "!mkdir -p ./data\n",
        "!wget https://github.com/myothida/PythonProgramming/raw/refs/heads/main/data/Q2.txt -O Q2.txt\n",
        "\n",
        "with open ('./Q2.txt', 'r') as names:\n",
        "    header = names.readline()\n",
        "    namelist = names.readlines()\n",
        "\n",
        "#step 2: create email for each name in the list and save them in the dictionary\n",
        "# You need to do the necessary data cleaning\n",
        "# For example, removing the space and special characters if there is any, converting them to lower case\n",
        "namedata_lowercase = [name.lower() for name in namelist]\n",
        "\n",
        "#print(namedata_lowercase)\n",
        "namedata_cleaned = [name.replace(',',\"\").replace(\" \",\"\").replace(\"\\n\", \"\") for name in namedata_lowercase]\n",
        "\n",
        "#print(namedata_cleaned)\n",
        "email_address = [name + \"@simons-rock.edu\" for name in namedata_cleaned]\n",
        "\n",
        "#print(email_address)\n",
        "\n",
        "email_dict = {email_address.split('@')[0]: email_address for email_address in email_address}\n",
        "print(email_dict)\n"
      ]
    },
    {
      "cell_type": "markdown",
      "metadata": {
        "id": "Gkaf_LE9pv-U"
      },
      "source": [
        "3) Write a Python program for \"Guessing Game: Guess the Number Challenge\"\n",
        "\n",
        "Step 1: Use a random function to generate a number.\n",
        "\n",
        "##### Game starts.......\n",
        "\n",
        "Step 2: Prompt the user to guess an integer number. Provide a range if needed to give the user context for their guess.\n",
        "\n",
        "Step 3: Check the condition of the guessed number compared to the generated number and provide feedback accordingly. For example, if the guess is too high or too low, inform the user.\n",
        "\n",
        "Step 4.1: If the guess is incorrect, allow the user to guess again. Repeat this process for a maximum of 10 guesses.\n",
        "\n",
        "Step 4.2: If the user guesses the number correctly, inform them that they have won. Also, indicate how many guesses were needed before guessing correctly.\n",
        "\n",
        "Step 4.3: If the user exhausts all 10 guesses without guessing the correct number, say \"goodbye.\"\n",
        "\n",
        "##### Game ends ...\n",
        "\n",
        "Step 5: Regardless of winning or losing, ask the user if they want to play again. This ensures the program's continuity and gives the user the option to continue playing if they wish."
      ]
    },
    {
      "cell_type": "code",
      "execution_count": null,
      "metadata": {
        "id": "oGMyc6hMpv-U",
        "outputId": "a5f4f4b8-1768-4c15-c6d0-81db045944cb",
        "colab": {
          "base_uri": "https://localhost:8080/",
          "height": 425
        }
      },
      "outputs": [
        {
          "output_type": "stream",
          "name": "stdout",
          "text": [
            "Game starts!!... \n",
            "You are allowed to guess an integer number for a maximum of 10 guesses.\n"
          ]
        },
        {
          "output_type": "error",
          "ename": "KeyboardInterrupt",
          "evalue": "Interrupted by user",
          "traceback": [
            "\u001b[0;31m---------------------------------------------------------------------------\u001b[0m",
            "\u001b[0;31mKeyboardInterrupt\u001b[0m                         Traceback (most recent call last)",
            "\u001b[0;32m/tmp/ipython-input-19-1799015818.py\u001b[0m in \u001b[0;36m<cell line: 0>\u001b[0;34m()\u001b[0m\n\u001b[1;32m     15\u001b[0m   \u001b[0;31m# step4.1: allow user to guess 10 attempts\u001b[0m\u001b[0;34m\u001b[0m\u001b[0;34m\u001b[0m\u001b[0m\n\u001b[1;32m     16\u001b[0m   \u001b[0;32mfor\u001b[0m \u001b[0mattempt\u001b[0m \u001b[0;32min\u001b[0m \u001b[0mrange\u001b[0m\u001b[0;34m(\u001b[0m\u001b[0mmax_attempt\u001b[0m\u001b[0;34m)\u001b[0m\u001b[0;34m:\u001b[0m\u001b[0;34m\u001b[0m\u001b[0;34m\u001b[0m\u001b[0m\n\u001b[0;32m---> 17\u001b[0;31m     \u001b[0mguess_number\u001b[0m \u001b[0;34m=\u001b[0m \u001b[0mint\u001b[0m\u001b[0;34m(\u001b[0m\u001b[0minput\u001b[0m\u001b[0;34m(\u001b[0m\u001b[0;34m\"Enter an integer between 1 to 100: \"\u001b[0m\u001b[0;34m)\u001b[0m\u001b[0;34m)\u001b[0m\u001b[0;34m\u001b[0m\u001b[0;34m\u001b[0m\u001b[0m\n\u001b[0m\u001b[1;32m     18\u001b[0m \u001b[0;34m\u001b[0m\u001b[0m\n\u001b[1;32m     19\u001b[0m     \u001b[0;31m# step3: check the condition of guessed number with generate number and provide feedbacks\u001b[0m\u001b[0;34m\u001b[0m\u001b[0;34m\u001b[0m\u001b[0m\n",
            "\u001b[0;32m/usr/local/lib/python3.11/dist-packages/ipykernel/kernelbase.py\u001b[0m in \u001b[0;36mraw_input\u001b[0;34m(self, prompt)\u001b[0m\n\u001b[1;32m   1175\u001b[0m                 \u001b[0;34m\"raw_input was called, but this frontend does not support input requests.\"\u001b[0m\u001b[0;34m\u001b[0m\u001b[0;34m\u001b[0m\u001b[0m\n\u001b[1;32m   1176\u001b[0m             )\n\u001b[0;32m-> 1177\u001b[0;31m         return self._input_request(\n\u001b[0m\u001b[1;32m   1178\u001b[0m             \u001b[0mstr\u001b[0m\u001b[0;34m(\u001b[0m\u001b[0mprompt\u001b[0m\u001b[0;34m)\u001b[0m\u001b[0;34m,\u001b[0m\u001b[0;34m\u001b[0m\u001b[0;34m\u001b[0m\u001b[0m\n\u001b[1;32m   1179\u001b[0m             \u001b[0mself\u001b[0m\u001b[0;34m.\u001b[0m\u001b[0m_parent_ident\u001b[0m\u001b[0;34m[\u001b[0m\u001b[0;34m\"shell\"\u001b[0m\u001b[0;34m]\u001b[0m\u001b[0;34m,\u001b[0m\u001b[0;34m\u001b[0m\u001b[0;34m\u001b[0m\u001b[0m\n",
            "\u001b[0;32m/usr/local/lib/python3.11/dist-packages/ipykernel/kernelbase.py\u001b[0m in \u001b[0;36m_input_request\u001b[0;34m(self, prompt, ident, parent, password)\u001b[0m\n\u001b[1;32m   1217\u001b[0m             \u001b[0;32mexcept\u001b[0m \u001b[0mKeyboardInterrupt\u001b[0m\u001b[0;34m:\u001b[0m\u001b[0;34m\u001b[0m\u001b[0;34m\u001b[0m\u001b[0m\n\u001b[1;32m   1218\u001b[0m                 \u001b[0;31m# re-raise KeyboardInterrupt, to truncate traceback\u001b[0m\u001b[0;34m\u001b[0m\u001b[0;34m\u001b[0m\u001b[0m\n\u001b[0;32m-> 1219\u001b[0;31m                 \u001b[0;32mraise\u001b[0m \u001b[0mKeyboardInterrupt\u001b[0m\u001b[0;34m(\u001b[0m\u001b[0;34m\"Interrupted by user\"\u001b[0m\u001b[0;34m)\u001b[0m \u001b[0;32mfrom\u001b[0m \u001b[0;32mNone\u001b[0m\u001b[0;34m\u001b[0m\u001b[0;34m\u001b[0m\u001b[0m\n\u001b[0m\u001b[1;32m   1220\u001b[0m             \u001b[0;32mexcept\u001b[0m \u001b[0mException\u001b[0m\u001b[0;34m:\u001b[0m\u001b[0;34m\u001b[0m\u001b[0;34m\u001b[0m\u001b[0m\n\u001b[1;32m   1221\u001b[0m                 \u001b[0mself\u001b[0m\u001b[0;34m.\u001b[0m\u001b[0mlog\u001b[0m\u001b[0;34m.\u001b[0m\u001b[0mwarning\u001b[0m\u001b[0;34m(\u001b[0m\u001b[0;34m\"Invalid Message:\"\u001b[0m\u001b[0;34m,\u001b[0m \u001b[0mexc_info\u001b[0m\u001b[0;34m=\u001b[0m\u001b[0;32mTrue\u001b[0m\u001b[0;34m)\u001b[0m\u001b[0;34m\u001b[0m\u001b[0;34m\u001b[0m\u001b[0m\n",
            "\u001b[0;31mKeyboardInterrupt\u001b[0m: Interrupted by user"
          ]
        }
      ],
      "source": [
        "# step1 : make random function to generate number\n",
        "from random import randint\n",
        "x = randint(1,100)\n",
        "\n",
        "# guess_number = int(input(\"Enter an integer between 1 to 100: \"))\n",
        "\n",
        "#step2 :\n",
        "print(\"Game starts!!... \")\n",
        "print(\"You are allowed to guess an integer number for a maximum of 10 guesses.\")\n",
        "play_again = 'yes'\n",
        "while play_again == 'yes':\n",
        "  attempt = 0\n",
        "  max_attempt = 10\n",
        "\n",
        "  # step4.1: allow user to guess 10 attempts\n",
        "  for attempt in range(max_attempt):\n",
        "    guess_number = int(input(\"Enter an integer between 1 to 100: \"))\n",
        "\n",
        "    # step3: check the condition of guessed number with generate number and provide feedbacks\n",
        "    if guess_number < x :\n",
        "      print(\"Your number is too low.\")\n",
        "    elif guess_number > x :\n",
        "      print(\"Your number is too high.\")\n",
        "    else:\n",
        "      # step4.2: Let user won and how required attempts to win\n",
        "      print(\"Congrautlations! You guessed the number {} correctly with {} attempts.\".format(x, attempt+1))\n",
        "      break\n",
        "\n",
        "  else:\n",
        "    # step4.3: show user after allowed guesses\n",
        "      print(\"You have attempted maximum allowed guesses (10 guesses)\")\n",
        "      print(\"Goodbye!\")\n",
        "      break\n",
        "\n",
        "    # step 5: ask user to play again or not\n",
        "  play_again = input(\"Do you want to play again?(yes/no): \").lower()\n",
        "\n",
        "  print(\"Goodbye!\")"
      ]
    }
  ],
  "metadata": {
    "kernelspec": {
      "display_name": "Python 3",
      "language": "python",
      "name": "python3"
    },
    "language_info": {
      "codemirror_mode": {
        "name": "ipython",
        "version": 3
      },
      "file_extension": ".py",
      "mimetype": "text/x-python",
      "name": "python",
      "nbconvert_exporter": "python",
      "pygments_lexer": "ipython3",
      "version": "3.12.1"
    },
    "colab": {
      "provenance": [],
      "include_colab_link": true
    }
  },
  "nbformat": 4,
  "nbformat_minor": 0
}