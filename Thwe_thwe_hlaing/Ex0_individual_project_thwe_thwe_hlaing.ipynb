{
 "cells": [
  {
   "cell_type": "markdown",
   "metadata": {},
   "source": [
    "1) Write a Python program in the below cell to create a dictionary that count the frequency of words in the string given in Q1.txt. Find the most frequent occured word.\n",
    "\n",
    "Don't remove the comment lines provided. "
   ]
  },
  {
   "cell_type": "code",
   "execution_count": 36,
   "metadata": {},
   "outputs": [
    {
     "name": "stdout",
     "output_type": "stream",
     "text": [
      "['I', 'LOVE', 'THIS', 'MOVIE', 'IT', 'IS', 'SWEET', 'BUT', 'WITH', 'SATIRICAL', 'HUMOR', 'THE', 'DIALOGS', 'ARE', 'GREAT', 'AND', 'THE', 'ADVENTURE', 'SCENES', 'ARE', 'FUN', 'IT', 'MANAGES', 'TO', 'BE', 'ROMANTIC', 'AND', 'WHIMSICAL', 'WHILE', 'LAUGHINGAT', 'THE', 'CONVENTIONS', 'OF', 'THE', 'FAIRY', 'TALE', 'GENRE', 'I', 'WOULD', 'RECOMMEND', 'IT', 'TO', 'JUST', 'ABOUT', 'ANYONE', 'I', 'HAVE', 'SEEN', 'IT', 'SEVERAL', 'TIMES', 'AND', 'I', 'AM', 'ALWAYS', 'HAPPY', 'TO', 'SEE', 'IT', 'AGAIN', 'AND', 'AGAIN']\n",
      "Word frequency dictionary: {'I': 4, 'LOVE': 1, 'THIS': 1, 'MOVIE': 1, 'IT': 5, 'IS': 1, 'SWEET': 1, 'BUT': 1, 'WITH': 1, 'SATIRICAL': 1, 'HUMOR': 1, 'THE': 4, 'DIALOGS': 1, 'ARE': 2, 'GREAT': 1, 'AND': 4, 'ADVENTURE': 1, 'SCENES': 1, 'FUN': 1, 'MANAGES': 1, 'TO': 3, 'BE': 1, 'ROMANTIC': 1, 'WHIMSICAL': 1, 'WHILE': 1, 'LAUGHINGAT': 1, 'CONVENTIONS': 1, 'OF': 1, 'FAIRY': 1, 'TALE': 1, 'GENRE': 1, 'WOULD': 1, 'RECOMMEND': 1, 'JUST': 1, 'ABOUT': 1, 'ANYONE': 1, 'HAVE': 1, 'SEEN': 1, 'SEVERAL': 1, 'TIMES': 1, 'AM': 1, 'ALWAYS': 1, 'HAPPY': 1, 'SEE': 1, 'AGAIN': 2}\n",
      "The most frequent word is: 'IT' with 5 occurrences.\n"
     ]
    }
   ],
   "source": [
    "#step 1: read content from Q1.txt \n",
    "with open('Q1.txt', 'r') as file1:\n",
    "    word_string = file1.read()\n",
    "    \n",
    "#step 2.1 - change the case to upper or lower. \n",
    "    word_string=word_string.upper()\n",
    "    # print(word_string)\n",
    "#     \n",
    "#step 2.2 - remove pun : use replace\n",
    "    import string\n",
    "    word_string = word_string.translate(str.maketrans('', '', string.punctuation))\n",
    "\n",
    "   \n",
    "\n",
    "\n",
    "#step 2.3 - split using space\n",
    "    word_string=word_string.split()\n",
    "    print(word_string)\n",
    "    \n",
    "\n",
    "\n",
    "#Step 3: create a dictionary \n",
    "    word_freq = {}\n",
    "    for word in word_string:\n",
    "     word_freq[word] = word_freq.get(word, 0) + 1\n",
    "\n",
    "\n",
    "\n",
    "#Step 4: find the most frequent occured one\n",
    "    most_frequent = max(word_freq, key=word_freq.get)\n",
    "    print(f\"Word frequency dictionary: {word_freq}\")\n",
    "    print(f\"The most frequent word is: '{most_frequent}' with {word_freq[most_frequent]} occurrences.\")\n",
    "\n",
    "\n",
    "\n",
    "\n",
    "    "
   ]
  },
  {
   "cell_type": "markdown",
   "metadata": {},
   "source": [
    "2) Write a Python program to read the name from Q2.txt and create email using domain 'simons-rock.edu' and save the results as dictionary : {'name': 'name@simons-rock.edu'}.\n",
    "Please take note that your email should not include space or any special characters and all charcters should be in lowercase."
   ]
  },
  {
   "cell_type": "code",
   "execution_count": 39,
   "metadata": {},
   "outputs": [
    {
     "name": "stdout",
     "output_type": "stream",
     "text": [
      "dechendorji@simons-rock.edu\n",
      "dekitshomo@simons-rock.edu\n",
      "dorjitshering@simons-rock.edu\n",
      "dorjiwangmo@simons-rock.edu\n",
      "gemtsheringlepcha@simons-rock.edu\n",
      "jigmedorji@simons-rock.edu\n",
      "kinleycheki@simons-rock.edu\n",
      "kinleywangmo@simons-rock.edu\n",
      "ngawangdemakarpo@simons-rock.edu\n",
      "roshanchhetri@simons-rock.edu\n",
      "sonamtenzin@simons-rock.edu\n",
      "sonamtobgay@simons-rock.edu\n",
      "sonamyangden@simons-rock.edu\n",
      "tandinom@simons-rock.edu\n",
      "tandinwangchuk@simons-rock.edu\n",
      "tashiom@simons-rock.edu\n",
      "tendayzangmo@simons-rock.edu\n",
      "tsheringpem@simons-rock.edu\n",
      "ugyenphurpa@simons-rock.edu\n",
      "marmitt@simons-rock.edu\n"
     ]
    }
   ],
   "source": [
    "#step 1: read Q2. txt into the list\n",
    "with open ('Q2.txt', 'r') as names:\n",
    "    header = names.readline()\n",
    "    namelist = names.readlines()\n",
    "    \n",
    "#step 2: create email for each name in the list and save them in the dictionary\n",
    "    import re\n",
    "    email_dict={}\n",
    "    for line in namelist:\n",
    "        name=line.strip();\n",
    "       \n",
    "        \n",
    "# You need to do the necessary data cleaning \n",
    "        \n",
    "# For example, removing the space and special characters if there is any, converting them to lower case\n",
    "        clean_name=re.sub(r'[^a-zA-Z0-9]','',name).lower()\n",
    "        email=f\"{clean_name}@simons-rock.edu\"\n",
    "\n",
    "        email_dict=email\n",
    "        print(email_dict)\n",
    "        \n",
    "\n",
    "    "
   ]
  },
  {
   "cell_type": "markdown",
   "metadata": {},
   "source": [
    "3) Write a Python program for \"Guessing Game: Guess the Number Challenge\"\n",
    "\n",
    "Step 1: Use a random function to generate a number.\n",
    "\n",
    "##### Game starts.......\n",
    "\n",
    "Step 2: Prompt the user to guess an integer number. Provide a range if needed to give the user context for their guess.\n",
    "\n",
    "Step 3: Check the condition of the guessed number compared to the generated number and provide feedback accordingly. For example, if the guess is too high or too low, inform the user.\n",
    "\n",
    "Step 4.1: If the guess is incorrect, allow the user to guess again. Repeat this process for a maximum of 10 guesses.\n",
    "\n",
    "Step 4.2: If the user guesses the number correctly, inform them that they have won. Also, indicate how many guesses were needed before guessing correctly.\n",
    "\n",
    "Step 4.3: If the user exhausts all 10 guesses without guessing the correct number, say \"goodbye.\"\n",
    "\n",
    "##### Game ends ... \n",
    "\n",
    "Step 5: Regardless of winning or losing, ask the user if they want to play again. This ensures the program's continuity and gives the user the option to continue playing if they wish."
   ]
  },
  {
   "cell_type": "code",
   "execution_count": 1,
   "metadata": {},
   "outputs": [
    {
     "name": "stdout",
     "output_type": "stream",
     "text": [
      "Welcome to the Guessing Game!\n",
      "I'm thinking of a number between 1 and 100.\n",
      "You have 10 attempts to guess it.\n",
      "Too low!\n",
      "Too low!\n",
      "Too low!\n",
      "Too low!\n",
      "Too high!\n",
      "Too high!\n",
      "Too high!\n",
      "Too high!\n",
      "Too high!\n",
      "Too low!\n",
      "Sorry, you've used all 10 guesses. The number was 92. Goodbye!\n",
      "Thanks for playing. Goodbye!\n"
     ]
    }
   ],
   "source": [
    "import random\n",
    "\n",
    "def play_game():\n",
    "    number_to_guess = random.randint(1, 100)\n",
    "    max_attempts = 10\n",
    "    attempts = 0\n",
    "\n",
    "    print(\"Welcome to the Guessing Game!\")\n",
    "    print(\"I'm thinking of a number between 1 and 100.\")\n",
    "    print(f\"You have {max_attempts} attempts to guess it.\")\n",
    "\n",
    "    while attempts < max_attempts:\n",
    "        try:\n",
    "            guess = int(input(f\"Attempt {attempts + 1}: Take a guess: \"))\n",
    "        except ValueError:\n",
    "            print(\"Please enter a valid integer.\")\n",
    "            continue\n",
    "\n",
    "        attempts += 1\n",
    "\n",
    "        if guess < number_to_guess:\n",
    "            print(\"Too low!\")\n",
    "        elif guess > number_to_guess:\n",
    "            print(\"Too high!\")\n",
    "        else:\n",
    "            print(f\"Congratulations! You guessed the number in {attempts} tries.\")\n",
    "            break\n",
    "    else:\n",
    "        print(f\"Sorry, you've used all {max_attempts} guesses. The number was {number_to_guess}. Goodbye!\")\n",
    "\n",
    "\n",
    "while True:\n",
    "    play_game()\n",
    "    again = input(\"Do you want to play again? (yes/no): \").strip().lower()\n",
    "    if again != \"yes\":\n",
    "        print(\"Thanks for playing. Goodbye!\")\n",
    "        break\n",
    "\n",
    "\n"
   ]
  }
 ],
 "metadata": {
  "kernelspec": {
   "display_name": "Python 3",
   "language": "python",
   "name": "python3"
  },
  "language_info": {
   "codemirror_mode": {
    "name": "ipython",
    "version": 3
   },
   "file_extension": ".py",
   "mimetype": "text/x-python",
   "name": "python",
   "nbconvert_exporter": "python",
   "pygments_lexer": "ipython3",
   "version": "3.13.5"
  }
 },
 "nbformat": 4,
 "nbformat_minor": 2
}
