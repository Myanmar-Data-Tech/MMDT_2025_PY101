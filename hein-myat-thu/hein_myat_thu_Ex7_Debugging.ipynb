{
  "cells": [
    {
      "cell_type": "markdown",
      "metadata": {
        "id": "FfcaCLWjAFfv"
      },
      "source": [
        "## Simple Debugging\n",
        "\n",
        "Add print statements to your program.\n",
        "Add input() to pause the program"
      ]
    },
    {
      "cell_type": "code",
      "execution_count": null,
      "metadata": {
        "colab": {
          "base_uri": "https://localhost:8080/"
        },
        "id": "CvOE1JOqAFfx",
        "outputId": "964d171e-2912-419a-99fd-e91a2fceb65e"
      },
      "outputs": [
        {
          "output_type": "stream",
          "name": "stdout",
          "text": [
            "random-number: 3\n",
            "Hello Hello Hello \n",
            "Hello Hello Hello \n",
            "Hello Hello Hello \n",
            "Hello Hello Hello \n",
            "Hello Hello Hello \n",
            "Hello Hello Hello \n"
          ]
        }
      ],
      "source": [
        "from random import randint\n",
        "\n",
        "#Step 1: generate a random number between 1 and 5\n",
        "rand_num = randint(1,5)\n",
        "\n",
        "# add print statment here to know the value of rand_num\n",
        "print(f\"random-number: {rand_num}\")\n",
        "\n",
        "# Step 2: What does this code do?\n",
        "''' This for loop prints 'Hello ' repeated rand_num times, for a total of 6 lines.'''\n",
        "for i in range(6):\n",
        "    print('Hello '*rand_num)"
      ]
    },
    {
      "cell_type": "code",
      "execution_count": null,
      "metadata": {
        "id": "cwFMXELIAFfy"
      },
      "outputs": [],
      "source": [
        "from random import randint\n",
        "\n",
        "# Step 1: generate a random number between 1 and 5\n",
        "rand_num = randint(1,5)\n",
        "\n",
        "# add print statment here to know the value of rand_num\n",
        "print(f\"random-number: {rand_num}\")\n",
        "\n",
        "# Step 2: What does this code do?\n",
        "'''\n",
        "This loop runs 6 times. In each iteration, it generates a new random number (1–5)\n",
        "and prints the word 'Hello' repeated that many times on one line.\n",
        "\n",
        "Thus, the above rand_num printed before the loop is just a standalone random number.\n",
        "It is nothing to do with the loop.\n",
        "'''\n",
        "for i in range(6):\n",
        "    rand_num = randint(1,5)\n",
        "    print('Hello '*rand_num)"
      ]
    },
    {
      "cell_type": "markdown",
      "metadata": {
        "id": "Gk2-UYRtAFfz"
      },
      "source": [
        "Write a program that generates 10000 random numbers between 1 and 100 and counts how many of them are multiples of 12."
      ]
    },
    {
      "cell_type": "code",
      "execution_count": null,
      "metadata": {
        "colab": {
          "base_uri": "https://localhost:8080/"
        },
        "id": "ztytj26rAFfz",
        "outputId": "9fea9084-9b5b-426c-9371-c53840c1e9c9"
      },
      "outputs": [
        {
          "output_type": "stream",
          "name": "stdout",
          "text": [
            "Number of multiples of 12: 749\n"
          ]
        }
      ],
      "source": [
        "# Step 1:\n",
        "from random import randint\n",
        "# Step 2:\n",
        "count = 0\n",
        "# Step 3:\n",
        "for i in range(10000):\n",
        "    #Step 4:\n",
        "    num = randint(1, 100)\n",
        "    #Step 5:\n",
        "    if num%12==0:\n",
        "        count=count+1\n",
        "    # Step 6:\n",
        "print('Number of multiples of 12:', count)\n"
      ]
    },
    {
      "cell_type": "markdown",
      "metadata": {
        "id": "b__7-R0pAFfz"
      },
      "source": [
        "The following program should counts how many of the squares of the numbers from 1 to 100 end in 1.  (Example: 1,81,121). Debug the code."
      ]
    },
    {
      "cell_type": "code",
      "execution_count": 3,
      "metadata": {
        "colab": {
          "base_uri": "https://localhost:8080/"
        },
        "id": "GCMlPDJKAFfz",
        "outputId": "dfedb22d-60e5-43e9-f6d9-7af7928593ed"
      },
      "outputs": [
        {
          "output_type": "execute_result",
          "data": {
            "text/plain": [
              "20"
            ]
          },
          "metadata": {},
          "execution_count": 3
        }
      ],
      "source": [
        "import numpy as np\n",
        "def fun_square_count():\n",
        "    num_list = np.arange(1,101)\n",
        "    # np.arange() returns a NumPy array, thus we can do math on the whole array at once, without any loop\n",
        "    squared_num = num_list ** 2\n",
        "    count = int(np.sum(squared_num % 10 == 1))\n",
        "    '''\n",
        "    since squared_num is array, we can drop for loop.\n",
        "    here, squares % 10 == 1 returns Boolean array: True if last digit is 1, False otherwise.\n",
        "    np.sum() adds up the Boolean values: True = 1, False = 0\n",
        "    int() ensures that the final result is a plain Python integer (not a NumPy int).\n",
        "    '''\n",
        "    return count\n",
        "\n",
        "fun_square_count()"
      ]
    },
    {
      "cell_type": "markdown",
      "metadata": {
        "id": "Zi7DL9XVAFf0"
      },
      "source": [
        "Debug the following programs"
      ]
    },
    {
      "cell_type": "code",
      "execution_count": 8,
      "metadata": {
        "id": "XeeKHvEQAFf0",
        "colab": {
          "base_uri": "https://localhost:8080/"
        },
        "outputId": "be592810-0f73-4f6e-ba02-172540e64519"
      },
      "outputs": [
        {
          "output_type": "stream",
          "name": "stdout",
          "text": [
            "Inputs must be integer!\n"
          ]
        }
      ],
      "source": [
        "def add(a, b):\n",
        "  try:\n",
        "    return a + b\n",
        "  except TypeError:\n",
        "    return \"Inputs must be integer!\"\n",
        "\n",
        "\n",
        "print(add(5, '2'))\n"
      ]
    },
    {
      "cell_type": "code",
      "execution_count": 22,
      "metadata": {
        "id": "emR4DGYLAFf0",
        "colab": {
          "base_uri": "https://localhost:8080/"
        },
        "outputId": "a278beb5-2d0a-4bc0-998d-1389238d1177"
      },
      "outputs": [
        {
          "output_type": "stream",
          "name": "stdout",
          "text": [
            "Cannot divide by zero!\n"
          ]
        }
      ],
      "source": [
        "def divide(a, b):\n",
        "  try:\n",
        "    result = a / b\n",
        "    return result\n",
        "  except ZeroDivisionError:\n",
        "    return \"Cannot divide by zero!\"\n",
        "  except TypeError:\n",
        "    return \"Inputs must be integer!\"\n",
        "\n",
        "print(divide(5, 0))"
      ]
    },
    {
      "cell_type": "code",
      "execution_count": 30,
      "metadata": {
        "id": "GTbsX4JfAFf0",
        "colab": {
          "base_uri": "https://localhost:8080/"
        },
        "outputId": "439e95a7-baa9-4543-db41-b1ad62bf7a97"
      },
      "outputs": [
        {
          "output_type": "stream",
          "name": "stdout",
          "text": [
            "False\n"
          ]
        }
      ],
      "source": [
        "def is_prime(n):\n",
        "    if n <= 0:\n",
        "        return False\n",
        "    for i in range(2, n):\n",
        "        if n % i == 0:\n",
        "            return False\n",
        "    return True\n",
        "\n",
        "print(is_prime(15))\n"
      ]
    }
  ],
  "metadata": {
    "kernelspec": {
      "display_name": "Python 3",
      "language": "python",
      "name": "python3"
    },
    "language_info": {
      "codemirror_mode": {
        "name": "ipython",
        "version": 3
      },
      "file_extension": ".py",
      "mimetype": "text/x-python",
      "name": "python",
      "nbconvert_exporter": "python",
      "pygments_lexer": "ipython3",
      "version": "3.12.1"
    },
    "colab": {
      "provenance": []
    }
  },
  "nbformat": 4,
  "nbformat_minor": 0
}