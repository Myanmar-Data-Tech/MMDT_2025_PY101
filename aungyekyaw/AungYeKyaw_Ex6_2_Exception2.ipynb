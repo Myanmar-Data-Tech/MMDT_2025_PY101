{
  "cells": [
    {
      "cell_type": "markdown",
      "metadata": {
        "id": "b-9CQP02cMrn"
      },
      "source": [
        "# Exception Handling\n"
      ]
    },
    {
      "cell_type": "markdown",
      "metadata": {
        "id": "0plQeKbicMrq"
      },
      "source": [
        "### Q2) Run the following programs and identify the potential errors.\n",
        "Use exception handling approach to handle and print all the potential erros.\n"
      ]
    },
    {
      "cell_type": "code",
      "execution_count": 3,
      "metadata": {
        "colab": {
          "base_uri": "https://localhost:8080/"
        },
        "id": "frSW-wQOcMrq",
        "outputId": "6f7e7e1b-6717-41aa-fcce-03b7d1e5a078"
      },
      "outputs": [
        {
          "output_type": "stream",
          "name": "stdout",
          "text": [
            "Please enter a number to divide a 0\n",
            "Error: Cannot divided by Zero\n"
          ]
        }
      ],
      "source": [
        "#Q2.1)\n",
        "a = 1\n",
        "b = int(input(\"Please enter a number to divide a \"))\n",
        "try:\n",
        "    a = a/b\n",
        "except ZeroDivisionError:\n",
        "    print(\"Error: Cannot divided by Zero\")\n",
        "except ValueError:\n",
        "    print(\"Error: You did not provide a number\")\n",
        "except TypeError:\n",
        "    print(\"Error : Please type a number\")\n",
        "else:\n",
        "    print(\"Success a= \",a)"
      ]
    },
    {
      "cell_type": "code",
      "execution_count": 2,
      "metadata": {
        "colab": {
          "base_uri": "https://localhost:8080/"
        },
        "id": "jQnYcQ7BcMrs",
        "outputId": "f9d7a85c-2e10-4b54-e7b9-6046d5828318"
      },
      "outputs": [
        {
          "output_type": "stream",
          "name": "stdout",
          "text": [
            "Iteration: 0 0.4\n",
            "Iteration completed\n",
            "Iteration: 1 0.6\n",
            "Iteration completed\n",
            "Iteration: 2 1.0\n",
            "Iteration completed\n",
            "Iteration: 3 -1.4\n",
            "Iteration completed\n",
            "Iteration: 4 1.6\n",
            "Iteration completed\n",
            "Iteration: 5 0.0\n",
            "Iteration completed\n",
            "Error: Index out of range\n",
            "Iteration completed\n"
          ]
        }
      ],
      "source": [
        "#Q2.2)\n",
        "mylist = [2, 3, 5, -7, 8, 0]\n",
        "idx = 0\n",
        "b = 5\n",
        "\n",
        "while idx<=6:\n",
        "  try:\n",
        "    print('Iteration:', idx, mylist[idx]/b)\n",
        "  except IndexError:\n",
        "    print(\"Error: Index out of range\")\n",
        "  idx = idx+1\n",
        "  print('Iteration completed')"
      ]
    },
    {
      "cell_type": "code",
      "execution_count": null,
      "metadata": {
        "id": "wXk678tKcMrs"
      },
      "outputs": [],
      "source": []
    }
  ],
  "metadata": {
    "kernelspec": {
      "display_name": "Python 3",
      "language": "python",
      "name": "python3"
    },
    "language_info": {
      "codemirror_mode": {
        "name": "ipython",
        "version": 3
      },
      "file_extension": ".py",
      "mimetype": "text/x-python",
      "name": "python",
      "nbconvert_exporter": "python",
      "pygments_lexer": "ipython3",
      "version": "3.8.8"
    },
    "colab": {
      "provenance": []
    }
  },
  "nbformat": 4,
  "nbformat_minor": 0
}