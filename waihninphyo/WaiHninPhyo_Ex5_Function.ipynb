{
 "cells": [
  {
   "cell_type": "markdown",
   "metadata": {
    "colab_type": "text",
    "id": "view-in-github"
   },
   "source": [
    "<a href=\"https://colab.research.google.com/github/myothida/PythonProgramming/blob/main/Ex5_Function.ipynb\" target=\"_parent\"><img src=\"https://colab.research.google.com/assets/colab-badge.svg\" alt=\"Open In Colab\"/></a>"
   ]
  },
  {
   "cell_type": "markdown",
   "metadata": {
    "id": "b-1b6ywy-O5i"
   },
   "source": [
    "Exercises are taken from : https://www.brianheinold.net/python/A_Practical_Introduction_to_Python_Programming_Heinold.pdf\n"
   ]
  },
  {
   "cell_type": "markdown",
   "metadata": {
    "id": "pps5xBbs-I9w"
   },
   "source": [
    "Ex 1: Write a function called rectangle that takes two integers m and n as arguments and prints\n",
    "out an m× n box consisting of asterisks. Shown below is the output of rectangle(2,4)\n",
    "****\n",
    "****"
   ]
  },
  {
   "cell_type": "code",
   "execution_count": 4,
   "metadata": {
    "id": "S_5WWVLH3u8y"
   },
   "outputs": [
    {
     "name": "stdout",
     "output_type": "stream",
     "text": [
      "****\n",
      "****\n"
     ]
    }
   ],
   "source": [
    "def rectangle(m,n):\n",
    "    for k in range(m):\n",
    "        print(n*'*')\n",
    "\n",
    "rectangle(2,4)\n"
   ]
  },
  {
   "cell_type": "markdown",
   "metadata": {
    "id": "0QS7SmPV-coO"
   },
   "source": [
    "Ex 2: Write a function that takes an integer n and returns a random integer with exactly n digits. For\n",
    "instance, if n is 3, then 125 and 593 would be valid return values, but 093 would not because\n",
    "that is really 93, which is a two-digit number."
   ]
  },
  {
   "cell_type": "code",
   "execution_count": 20,
   "metadata": {
    "id": "c4ejnmGJ-MzL"
   },
   "outputs": [
    {
     "data": {
      "text/plain": [
       "64"
      ]
     },
     "execution_count": 20,
     "metadata": {},
     "output_type": "execute_result"
    }
   ],
   "source": [
    "import random\n",
    "def calcualte_numbers ( n ): \n",
    "    result = random.randint(10**(n-1) , 10**(n)-1)\n",
    "\n",
    "\n",
    "    return result\n",
    "\n",
    "calcualte_numbers(2)"
   ]
  },
  {
   "cell_type": "markdown",
   "metadata": {
    "id": "B0P_F5Ld-ldg"
   },
   "source": [
    "Ex 3: Write a function called number_of_factors that takes an integer and returns how many\n",
    "factors the number has."
   ]
  },
  {
   "cell_type": "code",
   "execution_count": 24,
   "metadata": {
    "id": "Yr2BLCXp-oTi"
   },
   "outputs": [
    {
     "name": "stdout",
     "output_type": "stream",
     "text": [
      "6\n",
      "2\n"
     ]
    }
   ],
   "source": [
    "def number_of_factors(n):\n",
    "    count = 0\n",
    "    for i in range(1, abs(n) + 1):\n",
    "        if n % i == 0:\n",
    "            count += 1\n",
    "    return count\n",
    "\n",
    "print(number_of_factors(12)) \n",
    "print(number_of_factors(13))"
   ]
  },
  {
   "cell_type": "markdown",
   "metadata": {
    "id": "7w0DDTyY-o_4"
   },
   "source": [
    "Ex4: Write a function called first_diff that is given two strings and returns the first location in\n",
    "which the strings differ. If the strings are identical, it should return -1.Ignore the case in your function. It means h and H are the same."
   ]
  },
  {
   "cell_type": "code",
   "execution_count": 26,
   "metadata": {
    "id": "1WOvaf0z-6J6"
   },
   "outputs": [
    {
     "name": "stdout",
     "output_type": "stream",
     "text": [
      "-1\n",
      "2\n",
      "3\n",
      "1\n"
     ]
    }
   ],
   "source": [
    "def first_diff(s1, s2):\n",
    "    s1 = s1.lower()\n",
    "    s2 = s2.lower()\n",
    "    min_len = min(len(s1), len(s2))\n",
    "    \n",
    "    for i in range(min_len):\n",
    "        if s1[i] != s2[i]:\n",
    "            return i\n",
    "    \n",
    "    if len(s1) != len(s2):\n",
    "        return min_len \n",
    "    return -1 \n",
    "\n",
    "print(first_diff(\"hello\", \"heLLo\"))     \n",
    "print(first_diff(\"Python\", \"Pyxhon\"))   \n",
    "print(first_diff(\"cat\", \"cater\"))       \n",
    "print(first_diff(\"WORLD\", \"war\"))       "
   ]
  },
  {
   "cell_type": "markdown",
   "metadata": {
    "id": "jLM8fAg_-6th"
   },
   "source": [
    "Ex5: Write a function called root that is given a number x and an integer n and returns x/n. In\n",
    "the function definition, set the default value of n to 2."
   ]
  },
  {
   "cell_type": "code",
   "execution_count": 30,
   "metadata": {
    "id": "1TrSgTDa_Fu0"
   },
   "outputs": [
    {
     "name": "stdout",
     "output_type": "stream",
     "text": [
      "5.0\n",
      "3.0\n"
     ]
    }
   ],
   "source": [
    "def root(x, n=2):\n",
    "    return x / n\n",
    "\n",
    "print(root(10))      \n",
    "print(root(9, 3))"
   ]
  },
  {
   "cell_type": "markdown",
   "metadata": {},
   "source": [
    "Ex6: Write a function that solves the system of equations ax + by = e and cx +dy = f. Your function should takes 6 parameters, (a, b, c, d, e,f) and return the values of x and y."
   ]
  },
  {
   "cell_type": "code",
   "execution_count": 36,
   "metadata": {},
   "outputs": [
    {
     "name": "stdout",
     "output_type": "stream",
     "text": [
      "(0.9, 1.4)\n"
     ]
    }
   ],
   "source": [
    "def solve_2x2(a, b, c, d, e, f):\n",
    "    det = a * d - b * c\n",
    "    if det == 0:\n",
    "        return \"No unique solution\"\n",
    "    \n",
    "    x = (e * d - b * f) / det\n",
    "    y = (a * f - e * c) / det\n",
    "    return x, y\n",
    "\n",
    "print(solve_2x2(2, 3, 4, 1, 6, 5))"
   ]
  },
  {
   "cell_type": "markdown",
   "metadata": {},
   "source": [
    "Ex7:  Write a function called change_case that given a string, returns a string with each upper  case letter replaced by a lower case letter and vice-versa"
   ]
  },
  {
   "cell_type": "code",
   "execution_count": 38,
   "metadata": {},
   "outputs": [
    {
     "name": "stdout",
     "output_type": "stream",
     "text": [
      "hELLO wORLD!\n",
      "pYthON123\n"
     ]
    }
   ],
   "source": [
    "def change_case(s):\n",
    "    return s.swapcase()\n",
    "\n",
    "print(change_case(\"Hello World!\"))  \n",
    "print(change_case(\"PyTHon123\")) "
   ]
  },
  {
   "cell_type": "markdown",
   "metadata": {},
   "source": [
    "Ex8:  Write a function called primes that is given a number n and returns a list of the first n  primes. Let the default value of n be 100."
   ]
  },
  {
   "cell_type": "code",
   "execution_count": 40,
   "metadata": {},
   "outputs": [
    {
     "name": "stdout",
     "output_type": "stream",
     "text": [
      "[2, 3, 5, 7, 11, 13, 17, 19, 23, 29]\n"
     ]
    }
   ],
   "source": [
    "def primes(n=100):\n",
    "    result = []\n",
    "    num = 2\n",
    "\n",
    "    while len(result) < n:\n",
    "        is_prime = True\n",
    "        for i in range(2, num):\n",
    "            if num % i == 0:\n",
    "                is_prime = False\n",
    "                break\n",
    "        if is_prime:\n",
    "            result.append(num)\n",
    "        num += 1\n",
    "\n",
    "    return result\n",
    "\n",
    "print(primes(10))"
   ]
  },
  {
   "cell_type": "markdown",
   "metadata": {},
   "source": [
    "Ex9: A Tic-tac-toe board can be represented be a 3×3 two-dimensional list, where zeroes stand for  empty cells, ones stand for X’s and twos stand for O’s. Write a function that is given such a list and randomly chooses a spot in which to place  a 2 (O). The spot chosen must currently be empty and a spot must be chosen."
   ]
  },
  {
   "cell_type": "code",
   "execution_count": 44,
   "metadata": {},
   "outputs": [
    {
     "name": "stdout",
     "output_type": "stream",
     "text": [
      "[1, 2, 0]\n",
      "[2, 1, 0]\n",
      "[2, 0, 1]\n"
     ]
    }
   ],
   "source": [
    "import random\n",
    "\n",
    "def place_random_O(board):\n",
    "    # Find all empty spots (value 0)\n",
    "    empty_spots = []\n",
    "\n",
    "    for i in range(3):\n",
    "        for j in range(3):\n",
    "            if board[i][j] == 0:\n",
    "                empty_spots.append((i, j))\n",
    "\n",
    "    # If there are no empty spots, do nothing\n",
    "    if not empty_spots:\n",
    "        return \"Board is full\"\n",
    "\n",
    "    # Choose a random empty spot and place a 2\n",
    "    i, j = random.choice(empty_spots)\n",
    "    board[i][j] = 2\n",
    "\n",
    "    return board\n",
    "\n",
    "board = [\n",
    "    [1, 2, 0],\n",
    "    [0, 1, 0],\n",
    "    [2, 0, 1]\n",
    "]\n",
    "\n",
    "new_board = place_random_O(board)\n",
    "for row in new_board:\n",
    "    print(row)"
   ]
  },
  {
   "cell_type": "code",
   "execution_count": null,
   "metadata": {},
   "outputs": [],
   "source": []
  },
  {
   "cell_type": "markdown",
   "metadata": {},
   "source": [
    "Ex10:  Write a function that is given a 9 × 9 potentially solved Sudoku and returns True if it is solved correctly and False if there is a mistake. The Sudoku is correctly solved if there are\n",
    " no repeated numbers in any row or any column or in any of the nine “blocks.”\n"
   ]
  },
  {
   "cell_type": "code",
   "execution_count": 46,
   "metadata": {},
   "outputs": [],
   "source": [
    "def is_valid_sudoku(grid):\n",
    "    nums = set(range(1, 10))\n",
    "\n",
    "\n",
    "    for row in grid:\n",
    "        if set(row) != nums:\n",
    "            return False\n",
    "\n",
    "    for col in range(9):\n",
    "        column = [grid[row][col] for row in range(9)]\n",
    "        if set(column) != nums:\n",
    "            return False\n",
    "\n",
    "    \n",
    "    for i in range(0, 9, 3):\n",
    "        for j in range(0, 9, 3):\n",
    "            block = []\n",
    "            for r in range(i, i+3):\n",
    "                for c in range(j, j+3):\n",
    "                    block.append(grid[r][c])\n",
    "            if set(block) != nums:\n",
    "                return False\n",
    "\n",
    "    return True"
   ]
  },
  {
   "cell_type": "code",
   "execution_count": 48,
   "metadata": {},
   "outputs": [
    {
     "name": "stdout",
     "output_type": "stream",
     "text": [
      "True\n"
     ]
    }
   ],
   "source": [
    "sudoku = [\n",
    "    [5,3,4,6,7,8,9,1,2],\n",
    "    [6,7,2,1,9,5,3,4,8],\n",
    "    [1,9,8,3,4,2,5,6,7],\n",
    "    [8,5,9,7,6,1,4,2,3],\n",
    "    [4,2,6,8,5,3,7,9,1],\n",
    "    [7,1,3,9,2,4,8,5,6],\n",
    "    [9,6,1,5,3,7,2,8,4],\n",
    "    [2,8,7,4,1,9,6,3,5],\n",
    "    [3,4,5,2,8,6,1,7,9]\n",
    "]\n",
    "\n",
    "print(is_valid_sudoku(sudoku))"
   ]
  },
  {
   "cell_type": "code",
   "execution_count": null,
   "metadata": {},
   "outputs": [],
   "source": []
  }
 ],
 "metadata": {
  "colab": {
   "authorship_tag": "ABX9TyOc19BkvVV1F7h4PXyyYuJC",
   "include_colab_link": true,
   "name": "Ex5_Function.ipynb",
   "provenance": []
  },
  "kernelspec": {
   "display_name": "Python 3 (ipykernel)",
   "language": "python",
   "name": "python3"
  },
  "language_info": {
   "codemirror_mode": {
    "name": "ipython",
    "version": 3
   },
   "file_extension": ".py",
   "mimetype": "text/x-python",
   "name": "python",
   "nbconvert_exporter": "python",
   "pygments_lexer": "ipython3",
   "version": "3.12.4"
  }
 },
 "nbformat": 4,
 "nbformat_minor": 4
}
