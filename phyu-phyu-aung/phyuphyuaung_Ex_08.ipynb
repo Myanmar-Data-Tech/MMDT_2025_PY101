{
 "cells": [
  {
   "cell_type": "markdown",
   "metadata": {},
   "source": [
    "Q1). Write a lambda function that takes an integer 'year' and returns 'age'."
   ]
  },
  {
   "cell_type": "code",
   "execution_count": null,
   "metadata": {},
   "outputs": [
    {
     "name": "stdout",
     "output_type": "stream",
     "text": [
      "23\n"
     ]
    }
   ],
   "source": [
    "from datetime import datetime\n",
    "calculate_age = lambda year : datetime.now().year - year\n",
    "\n",
    "print(calculate_age(2002))"
   ]
  },
  {
   "cell_type": "markdown",
   "metadata": {},
   "source": [
    "Q2) Write a lambda function that takes a float \"cost\" and returns a float \"price\" by adding 10% to the cost."
   ]
  },
  {
   "cell_type": "code",
   "execution_count": 10,
   "metadata": {},
   "outputs": [
    {
     "data": {
      "text/plain": [
       "100.32"
      ]
     },
     "execution_count": 10,
     "metadata": {},
     "output_type": "execute_result"
    }
   ],
   "source": [
    "calculate_pirce = lambda cost: round(cost + cost * 0.10, 2)\n",
    "\n",
    "calculate_pirce(91.2)"
   ]
  },
  {
   "cell_type": "markdown",
   "metadata": {},
   "source": [
    "Q3) For the given name list : names = ['Richard', 'Karam', 'Karpo', 'Sonam', 'Ugyen']\n",
    "\n",
    "Write a python program that converts each name into email address. The domain is given as gmail."
   ]
  },
  {
   "cell_type": "code",
   "execution_count": 12,
   "metadata": {},
   "outputs": [
    {
     "name": "stdout",
     "output_type": "stream",
     "text": [
      "['richard@gmail.com', 'karam@gmail.com', 'karpo@gmail.com', 'sonam@gmail.com', 'ugyen@gmail.com']\n"
     ]
    }
   ],
   "source": [
    "names = ['Richard', 'Karam', 'Karpo', 'Sonam', 'Ugyen']\n",
    "emails = [name.lower() + '@gmail.com' for name in names]\n",
    "\n",
    "print(emails)\n"
   ]
  },
  {
   "cell_type": "markdown",
   "metadata": {},
   "source": [
    "Q4) Write a lambda function that takes two strings 'name' , 'domain' and returns an email address (string)."
   ]
  },
  {
   "cell_type": "code",
   "execution_count": 15,
   "metadata": {},
   "outputs": [
    {
     "name": "stdout",
     "output_type": "stream",
     "text": [
      "phyuphyuaung@gmail.com\n"
     ]
    }
   ],
   "source": [
    "create_email = lambda name, domain: f\"{name.lower()}@{domain.lower()}\"\n",
    "email = create_email(\"PhyuPhyuAung\", \"gmail.com\")\n",
    "\n",
    "print(email)"
   ]
  },
  {
   "cell_type": "markdown",
   "metadata": {},
   "source": [
    "Q5) old_list = [2, 4, 6, 7, 9] \n",
    "\n",
    "write a for loop to square each element of the given old_list. "
   ]
  },
  {
   "cell_type": "code",
   "execution_count": 17,
   "metadata": {},
   "outputs": [
    {
     "name": "stdout",
     "output_type": "stream",
     "text": [
      "[4, 16, 36, 49, 81] [4, 16, 36, 49, 81]\n"
     ]
    }
   ],
   "source": [
    "# list comprehension\n",
    "old_list = [2, 4, 6, 7, 9]\n",
    "new_list1 = []\n",
    "\n",
    "# method1\n",
    "for num in old_list :\n",
    "    squared = num ** 2\n",
    "    new_list1.append(squared)\n",
    "\n",
    "# method2\n",
    "new_list2 = [num ** 2 for num in old_list]\n",
    "\n",
    "print(new_list1, new_list2)"
   ]
  }
 ],
 "metadata": {
  "kernelspec": {
   "display_name": "Python 3",
   "language": "python",
   "name": "python3"
  },
  "language_info": {
   "codemirror_mode": {
    "name": "ipython",
    "version": 3
   },
   "file_extension": ".py",
   "mimetype": "text/x-python",
   "name": "python",
   "nbconvert_exporter": "python",
   "pygments_lexer": "ipython3",
   "version": "3.13.1"
  }
 },
 "nbformat": 4,
 "nbformat_minor": 2
}
