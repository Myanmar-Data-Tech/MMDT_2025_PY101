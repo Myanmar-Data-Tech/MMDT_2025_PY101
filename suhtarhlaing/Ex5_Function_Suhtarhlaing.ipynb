{
  "cells": [
    {
      "cell_type": "markdown",
      "metadata": {
        "id": "view-in-github",
        "colab_type": "text"
      },
      "source": [
        "<a href=\"https://colab.research.google.com/github/suhturhlaing/MMDT_2025_PY101/blob/suhturhlaing/suhtarhlaing/Ex5_Function_Suhtarhlaing.ipynb\" target=\"_parent\"><img src=\"https://colab.research.google.com/assets/colab-badge.svg\" alt=\"Open In Colab\"/></a>"
      ]
    },
    {
      "cell_type": "markdown",
      "metadata": {
        "id": "b-1b6ywy-O5i"
      },
      "source": [
        "Exercises are taken from : https://www.brianheinold.net/python/A_Practical_Introduction_to_Python_Programming_Heinold.pdf\n"
      ]
    },
    {
      "cell_type": "markdown",
      "metadata": {
        "id": "pps5xBbs-I9w"
      },
      "source": [
        "Ex 1: Write a function called rectangle that takes two integers m and n as arguments and prints\n",
        "out an m× n box consisting of asterisks. Shown below is the output of rectangle(2,4)\n",
        "****\n",
        "****"
      ]
    },
    {
      "cell_type": "code",
      "execution_count": 3,
      "metadata": {
        "id": "S_5WWVLH3u8y",
        "colab": {
          "base_uri": "https://localhost:8080/"
        },
        "outputId": "a1aa0497-94ce-480e-f781-cc0633f4a2e5"
      },
      "outputs": [
        {
          "output_type": "stream",
          "name": "stdout",
          "text": [
            "****\n",
            "****\n"
          ]
        }
      ],
      "source": [
        "def rectangle(m,n):\n",
        "    for k in range(m):\n",
        "        print(n*'*')\n",
        "\n",
        "rectangle(2,4)\n"
      ]
    },
    {
      "cell_type": "markdown",
      "metadata": {
        "id": "0QS7SmPV-coO"
      },
      "source": [
        "Ex 2: Write a function that takes an integer n and returns a random integer with exactly n digits. For\n",
        "instance, if n is 3, then 125 and 593 would be valid return values, but 093 would not because\n",
        "that is really 93, which is a two-digit number."
      ]
    },
    {
      "cell_type": "code",
      "execution_count": 5,
      "metadata": {
        "id": "c4ejnmGJ-MzL",
        "outputId": "fa90ff29-57f5-4a61-9dc7-bd99832d6083",
        "colab": {
          "base_uri": "https://localhost:8080/"
        }
      },
      "outputs": [
        {
          "output_type": "execute_result",
          "data": {
            "text/plain": [
              "594"
            ]
          },
          "metadata": {},
          "execution_count": 5
        }
      ],
      "source": [
        "import random\n",
        "def calcualte_numbers ( n ):\n",
        "    result = random.randint(10**(n-1) , 10**(n)-1)\n",
        "\n",
        "\n",
        "    return result\n",
        "\n",
        "calcualte_numbers(3)"
      ]
    },
    {
      "cell_type": "markdown",
      "metadata": {
        "id": "B0P_F5Ld-ldg"
      },
      "source": [
        "Ex 3: Write a function called number_of_factors that takes an integer and returns how many\n",
        "factors the number has."
      ]
    },
    {
      "cell_type": "code",
      "execution_count": 28,
      "metadata": {
        "id": "Yr2BLCXp-oTi",
        "colab": {
          "base_uri": "https://localhost:8080/"
        },
        "outputId": "79790d57-bfce-4e48-d329-d6744e14735f"
      },
      "outputs": [
        {
          "output_type": "stream",
          "name": "stdout",
          "text": [
            "Number of factors for 6: 4\n"
          ]
        }
      ],
      "source": [
        "\n",
        "def number_of_factors(num):\n",
        "\n",
        "    # Initialize a counter for the factors\n",
        "    count = 0\n",
        "\n",
        "    for i in range(1, num + 1):\n",
        "        # Check if 'i' is a factor of 'num'\n",
        "        if num % i == 0:\n",
        "            # If it is a factor, increment the counter\n",
        "            count += 1\n",
        "\n",
        "    # Return the total count of factors\n",
        "    return count\n",
        "print(f\"Number of factors for 6: {number_of_factors(6)}\")\n"
      ]
    },
    {
      "cell_type": "markdown",
      "metadata": {
        "id": "7w0DDTyY-o_4"
      },
      "source": [
        "Ex4: Write a function called first_diff that is given two strings and returns the first location in\n",
        "which the strings differ. If the strings are identical, it should return -1.Ignore the case in your function. It means h and H are the same."
      ]
    },
    {
      "cell_type": "code",
      "execution_count": 33,
      "metadata": {
        "id": "1WOvaf0z-6J6",
        "colab": {
          "base_uri": "https://localhost:8080/"
        },
        "outputId": "e5c4376f-1f01-4c3f-c4cb-2d146a48071e"
      },
      "outputs": [
        {
          "output_type": "stream",
          "name": "stdout",
          "text": [
            "first_diff : 6\n"
          ]
        }
      ],
      "source": [
        "def first_diff(str1, str2):\n",
        "    # Convert both strings to lowercase to ignore case\n",
        "    str1_lower = str1.lower()\n",
        "    str2_lower = str2.lower()\n",
        "\n",
        "    # Find the minimum length to prevent index out of range\n",
        "    min_len = min(len(str1_lower), len(str2_lower))\n",
        "\n",
        "    # Compare character by character\n",
        "    for i in range(min_len):\n",
        "        if str1_lower[i] != str2_lower[i]:\n",
        "            return i  # Return index of first difference\n",
        "\n",
        "    # If lengths differ, return the first index beyond the shorter one\n",
        "    if len(str1_lower) != len(str2_lower):\n",
        "        return min_len\n",
        "\n",
        "    # If identical\n",
        "    return -1\n",
        "\n",
        "# Example usage:\n",
        "print(\"first_diff :\",first_diff(\"school\", \"Schoolisschool\"))"
      ]
    },
    {
      "cell_type": "markdown",
      "metadata": {
        "id": "jLM8fAg_-6th"
      },
      "source": [
        "Ex5: Write a function called root that is given a number x and an integer n and returns x/n. In\n",
        "the function definition, set the default value of n to 2."
      ]
    },
    {
      "cell_type": "code",
      "execution_count": 37,
      "metadata": {
        "id": "1TrSgTDa_Fu0",
        "colab": {
          "base_uri": "https://localhost:8080/"
        },
        "outputId": "5855c042-1374-4e05-a09e-df082d3351a8"
      },
      "outputs": [
        {
          "output_type": "stream",
          "name": "stdout",
          "text": [
            "root: 2.0\n"
          ]
        }
      ],
      "source": [
        "def root(x, n=2):\n",
        "    return x / n\n",
        "\n",
        "def root(x, n = 2):\n",
        "  return x / n\n",
        "print(\"root:\",root(10,5))"
      ]
    },
    {
      "cell_type": "markdown",
      "metadata": {
        "id": "mJBjngL4wmz7"
      },
      "source": [
        "Ex6: Write a function that solves the system of equations ax + by = e and cx +dy = f. Your function should takes 6 parameters, (a, b, c, d, e,f) and return the values of x and y."
      ]
    },
    {
      "cell_type": "code",
      "execution_count": 41,
      "metadata": {
        "id": "0Syob0GXwmz8",
        "colab": {
          "base_uri": "https://localhost:8080/"
        },
        "outputId": "f66a1530-05cf-4e8a-bef1-610dc53c6a41"
      },
      "outputs": [
        {
          "output_type": "stream",
          "name": "stdout",
          "text": [
            "x = -4.0, y = 4.5\n"
          ]
        }
      ],
      "source": [
        "def solve_linear_system(a, b, c, d, e, f):\n",
        "    denominator = a * d - b * c\n",
        "    if denominator == 0:\n",
        "        raise ValueError(\"The system has no unique solution.\")\n",
        "    x = (e * d - b * f) / denominator\n",
        "    y = (a * f - e * c) / denominator\n",
        "    return x, y\n",
        "\n",
        "x, y = solve_linear_system(1, 2, 3, 4, 5, 6)\n",
        "\n",
        "print(f\"x = {x}, y = {y}\")"
      ]
    },
    {
      "cell_type": "markdown",
      "metadata": {
        "id": "mIQtTZMTwmz8"
      },
      "source": [
        "Ex7:  Write a function called change_case that given a string, returns a string with each upper  case letter replaced by a lower case letter and vice-versa"
      ]
    },
    {
      "cell_type": "code",
      "execution_count": 44,
      "metadata": {
        "id": "sjohqVW8wmz9",
        "colab": {
          "base_uri": "https://localhost:8080/"
        },
        "outputId": "fdd3ddb9-fb5e-4961-ee31-0844b642f2b6"
      },
      "outputs": [
        {
          "output_type": "stream",
          "name": "stdout",
          "text": [
            "Change case is :  hELLO wORLD\n",
            "Change case is :  UPPER\n"
          ]
        }
      ],
      "source": [
        "def change_case(s):\n",
        "    return s.swapcase()\n",
        "\n",
        "print(\"Change case is : \",change_case(\"Hello World\"))\n",
        "print(\"Change case is : \",change_case(\"upper\"))"
      ]
    },
    {
      "cell_type": "markdown",
      "metadata": {
        "id": "cjeHRRBiwmz9"
      },
      "source": [
        "Ex8:  Write a function called primes that is given a number n and returns a list of the first n  primes. Let the default value of n be 100."
      ]
    },
    {
      "cell_type": "code",
      "execution_count": 45,
      "metadata": {
        "id": "KmQYibkswmz9",
        "colab": {
          "base_uri": "https://localhost:8080/"
        },
        "outputId": "3152ad7d-3bf7-4395-bf13-063f6f730bfd"
      },
      "outputs": [
        {
          "output_type": "stream",
          "name": "stdout",
          "text": [
            "[2, 3, 5, 7, 11, 13, 17, 19, 23, 29, 31, 37, 41, 43, 47, 53, 59, 61, 67, 71, 73, 79, 83, 89, 97, 101, 103, 107, 109, 113, 127, 131, 137, 139, 149, 151, 157, 163, 167, 173, 179, 181, 191, 193, 197, 199, 211, 223, 227, 229, 233, 239, 241, 251, 257, 263, 269, 271, 277, 281, 283, 293, 307, 311, 313, 317, 331, 337, 347, 349, 353, 359, 367, 373, 379, 383, 389, 397, 401, 409, 419, 421, 431, 433, 439, 443, 449, 457, 461, 463, 467, 479, 487, 491, 499, 503, 509, 521, 523, 541]\n",
            "[2, 3, 5, 7, 11, 13, 17, 19, 23, 29]\n"
          ]
        }
      ],
      "source": [
        "def primes(n=100):\n",
        "    def is_prime(num):\n",
        "        if num < 2:\n",
        "            return False\n",
        "        for i in range(2, int(num**0.5) + 1):\n",
        "            if num % i == 0:\n",
        "                return False\n",
        "        return True\n",
        "\n",
        "    prime_list = []\n",
        "    candidate = 2\n",
        "\n",
        "    while len(prime_list) < n:\n",
        "        if is_prime(candidate):\n",
        "            prime_list.append(candidate)\n",
        "        candidate += 1\n",
        "\n",
        "    return prime_list\n",
        "\n",
        "# Example usage:\n",
        "print(primes())       # First 100 primes\n",
        "print(primes(10))     # First 10 primes\n"
      ]
    },
    {
      "cell_type": "markdown",
      "metadata": {
        "id": "ZusExgznwmz-"
      },
      "source": [
        "Ex9: A Tic-tac-toe board can be represented be a 3×3 two-dimensional list, where zeroes stand for  empty cells, ones stand for X’s and twos stand for O’s. Write a function that is given such a list and randomly chooses a spot in which to place  a 2 (O). The spot chosen must currently be empty and a spot must be chosen."
      ]
    },
    {
      "cell_type": "code",
      "execution_count": 59,
      "metadata": {
        "id": "q-jIFmENwmz-",
        "colab": {
          "base_uri": "https://localhost:8080/"
        },
        "outputId": "1ef05093-47a5-4b3e-a033-7693c7e5a988"
      },
      "outputs": [
        {
          "output_type": "stream",
          "name": "stdout",
          "text": [
            "[1, 2, 0]\n",
            "[0, 1, 2]\n",
            "[2, 0, 1]\n"
          ]
        }
      ],
      "source": [
        "import random\n",
        "\n",
        "def place_o(board):\n",
        "    # Find all empty positions (cells with 0)\n",
        "    empty_positions = [(i, j) for i in range(3) for j in range(3) if board[i][j] == 0]\n",
        "\n",
        "    if not empty_positions:\n",
        "        raise ValueError(\"No empty cells available to place an O.\")\n",
        "\n",
        "    # Randomly select one empty position\n",
        "    i, j = random.choice(empty_positions)\n",
        "\n",
        "    # Place O (2) in the chosen position\n",
        "    board[i][j] = 2\n",
        "\n",
        "    return board\n",
        "\n",
        "# Example board (0 = empty, 1 = X, 2 = O)\n",
        "board = [\n",
        "    [1, 2, 0],\n",
        "    [0, 1, 0],\n",
        "    [2, 0, 1]\n",
        "]\n",
        "\n",
        "new_board = place_o(board)\n",
        "\n",
        "# Print updated board\n",
        "for row in new_board:\n",
        "    print(row)\n"
      ]
    },
    {
      "cell_type": "markdown",
      "metadata": {
        "id": "LT4w_35mwmz-"
      },
      "source": [
        "Ex10:  Write a function that is given a 9 × 9 potentially solved Sudoku and returns True if it is solved correctly and False if there is a mistake. The Sudoku is correctly solved if there are\n",
        " no repeated numbers in any row or any column or in any of the nine “blocks.”\n"
      ]
    },
    {
      "cell_type": "code",
      "execution_count": 62,
      "metadata": {
        "id": "vdKacWDJwmz_",
        "colab": {
          "base_uri": "https://localhost:8080/"
        },
        "outputId": "c3bd2b32-a9d3-4d95-c1d0-bbe171e1be6f"
      },
      "outputs": [
        {
          "output_type": "stream",
          "name": "stdout",
          "text": [
            "True\n"
          ]
        }
      ],
      "source": [
        "def is_valid_sudoku(board):\n",
        "    def is_valid_group(group):\n",
        "        return sorted(group) == list(range(1, 10))\n",
        "\n",
        "    # Check rows\n",
        "    for row in board:\n",
        "        if not is_valid_group(row):\n",
        "            return False\n",
        "\n",
        "    # Check columns\n",
        "    for col in zip(*board):\n",
        "        if not is_valid_group(col):\n",
        "            return False\n",
        "\n",
        "    # Check 3x3 blocks\n",
        "    for i in range(0, 9, 3):  # block rows: 0, 3, 6\n",
        "        for j in range(0, 9, 3):  # block columns: 0, 3, 6\n",
        "            block = [board[x][y] for x in range(i, i+3)\n",
        "                                for y in range(j, j+3)]\n",
        "            if not is_valid_group(block):\n",
        "                return False\n",
        "\n",
        "    return True\n",
        "\n",
        "sudoku_board = [\n",
        "    [5, 3, 4, 6, 7, 8, 9, 1, 2],\n",
        "    [6, 7, 2, 1, 9, 5, 3, 4, 8],\n",
        "    [1, 9, 8, 3, 4, 2, 5, 6, 7],\n",
        "    [8, 5, 9, 7, 6, 1, 4, 2, 3],\n",
        "    [4, 2, 6, 8, 5, 3, 7, 9, 1],\n",
        "    [7, 1, 3, 9, 2, 4, 8, 5, 6],\n",
        "    [9, 6, 1, 5, 3, 7, 2, 8, 4],\n",
        "    [2, 8, 7, 4, 1, 9, 6, 3, 5],\n",
        "    [3, 4, 5, 2, 8, 6, 1, 7, 9]\n",
        "]\n",
        "\n",
        "print(is_valid_sudoku(sudoku_board))  # Output: True"
      ]
    }
  ],
  "metadata": {
    "colab": {
      "provenance": [],
      "include_colab_link": true
    },
    "kernelspec": {
      "display_name": "Python 3",
      "name": "python3"
    },
    "language_info": {
      "codemirror_mode": {
        "name": "ipython",
        "version": 3
      },
      "file_extension": ".py",
      "mimetype": "text/x-python",
      "name": "python",
      "nbconvert_exporter": "python",
      "pygments_lexer": "ipython3",
      "version": "3.12.1"
    }
  },
  "nbformat": 4,
  "nbformat_minor": 0
}