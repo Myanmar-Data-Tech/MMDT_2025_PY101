{
  "cells": [
    {
      "cell_type": "markdown",
      "metadata": {
        "colab_type": "text",
        "id": "view-in-github"
      },
      "source": [
        "<a href=\"https://colab.research.google.com/github/myothida/PythonProgramming/blob/main/Ex5_Function.ipynb\" target=\"_parent\"><img src=\"https://colab.research.google.com/assets/colab-badge.svg\" alt=\"Open In Colab\"/></a>"
      ]
    },
    {
      "cell_type": "markdown",
      "metadata": {
        "id": "b-1b6ywy-O5i"
      },
      "source": [
        "Exercises are taken from : https://www.brianheinold.net/python/A_Practical_Introduction_to_Python_Programming_Heinold.pdf\n"
      ]
    },
    {
      "cell_type": "markdown",
      "metadata": {
        "id": "pps5xBbs-I9w"
      },
      "source": [
        "Ex 1: Write a function called rectangle that takes two integers m and n as arguments and prints\n",
        "out an m× n box consisting of asterisks. Shown below is the output of rectangle(2,4)\n",
        "****\n",
        "****"
      ]
    },
    {
      "cell_type": "code",
      "execution_count": 2,
      "metadata": {
        "id": "S_5WWVLH3u8y"
      },
      "outputs": [
        {
          "name": "stdout",
          "output_type": "stream",
          "text": [
            "****\n",
            "****\n"
          ]
        }
      ],
      "source": [
        "def rectangle(m,n):\n",
        "    for k in range(m):\n",
        "        print(n*'*')\n",
        "\n",
        "rectangle(2,4)\n"
      ]
    },
    {
      "cell_type": "markdown",
      "metadata": {
        "id": "0QS7SmPV-coO"
      },
      "source": [
        "Ex 2: Write a function that takes an integer n and returns a random integer with exactly n digits. For\n",
        "instance, if n is 3, then 125 and 593 would be valid return values, but 093 would not because\n",
        "that is really 93, which is a two-digit number."
      ]
    },
    {
      "cell_type": "code",
      "execution_count": 6,
      "metadata": {
        "id": "c4ejnmGJ-MzL"
      },
      "outputs": [
        {
          "name": "stdout",
          "output_type": "stream",
          "text": [
            "21\n"
          ]
        }
      ],
      "source": [
        "import random\n",
        "def calcualte_numbers ( n ): \n",
        "    result = random.randint(10**(n-1) , 10**(n)-1)\n",
        "\n",
        "\n",
        "    return result\n",
        "\n",
        "print(calcualte_numbers(2))"
      ]
    },
    {
      "cell_type": "markdown",
      "metadata": {
        "id": "B0P_F5Ld-ldg"
      },
      "source": [
        "Ex 3: Write a function called number_of_factors that takes an integer and returns how many\n",
        "factors the number has."
      ]
    },
    {
      "cell_type": "code",
      "execution_count": 12,
      "metadata": {
        "id": "Yr2BLCXp-oTi"
      },
      "outputs": [
        {
          "data": {
            "text/plain": [
              "3"
            ]
          },
          "execution_count": 12,
          "metadata": {},
          "output_type": "execute_result"
        }
      ],
      "source": [
        "def num_of_factors(n):\n",
        "    count=0;\n",
        "    for i in range(1,n+1) :\n",
        "      if n%i==0:\n",
        "         count+=1;\n",
        "    return count;\n",
        "num_of_factors(4)"
      ]
    },
    {
      "cell_type": "markdown",
      "metadata": {
        "id": "7w0DDTyY-o_4"
      },
      "source": [
        "Ex4: Write a function called first_diff that is given two strings and returns the first location in\n",
        "which the strings differ. If the strings are identical, it should return -1.Ignore the case in your function. It means h and H are the same."
      ]
    },
    {
      "cell_type": "code",
      "execution_count": 22,
      "metadata": {
        "id": "1WOvaf0z-6J6"
      },
      "outputs": [
        {
          "name": "stdout",
          "output_type": "stream",
          "text": [
            "-1\n",
            "3\n",
            "2\n"
          ]
        }
      ],
      "source": [
        "def first_diff(s1,s2):\n",
        "    s1=s1.lower();\n",
        "    s2=s2.lower();\n",
        "    min_len=min(len(s1),len(s2))\n",
        "    for i in range(min_len):\n",
        "        if s1[i]!=s2[i]:\n",
        "         return i;\n",
        "    if len(s1)!=len(s2):\n",
        "       return min_len;\n",
        "    return -1;\n",
        "print(first_diff('hello','Hello'));\n",
        "print(first_diff('cat','cats'));\n",
        "print(first_diff('cat','car'))\n"
      ]
    },
    {
      "cell_type": "markdown",
      "metadata": {
        "id": "jLM8fAg_-6th"
      },
      "source": [
        "Ex5: Write a function called root that is given a number x and an integer n and returns x/n. In\n",
        "the function definition, set the default value of n to 2."
      ]
    },
    {
      "cell_type": "code",
      "execution_count": 21,
      "metadata": {
        "id": "1TrSgTDa_Fu0"
      },
      "outputs": [
        {
          "name": "stdout",
          "output_type": "stream",
          "text": [
            "4.0\n",
            "2.0\n"
          ]
        }
      ],
      "source": [
        "def root(x,n=2):\n",
        "    return x/n;\n",
        "print(root(8));\n",
        "print(root(8,4))"
      ]
    },
    {
      "cell_type": "markdown",
      "metadata": {},
      "source": [
        "Ex6: Write a function that solves the system of equations ax + by = e and cx +dy = f. Your function should takes 6 parameters, (a, b, c, d, e,f) and return the values of x and y."
      ]
    },
    {
      "cell_type": "code",
      "execution_count": 23,
      "metadata": {},
      "outputs": [
        {
          "name": "stdout",
          "output_type": "stream",
          "text": [
            "x = 1.6, y = 1.6\n"
          ]
        }
      ],
      "source": [
        "def solve_system(a, b, c, d, e, f):\n",
        "    D = a * d - b * c\n",
        "    if D == 0:\n",
        "        raise ValueError(\"The system has no unique solution (D = 0).\")\n",
        "\n",
        "    Dx = e * d - b * f\n",
        "    Dy = a * f - e * c\n",
        "\n",
        "    x = Dx / D\n",
        "    y = Dy / D\n",
        "\n",
        "    return x, y\n",
        "\n",
        "\n",
        "x, y = solve_system(2, 3, 1, -1, 8, 0)\n",
        "print(f\"x = {x}, y = {y}\")\n"
      ]
    },
    {
      "cell_type": "markdown",
      "metadata": {},
      "source": [
        "Ex7:  Write a function called change_case that given a string, returns a string with each upper  case letter replaced by a lower case letter and vice-versa"
      ]
    },
    {
      "cell_type": "code",
      "execution_count": 25,
      "metadata": {},
      "outputs": [
        {
          "data": {
            "text/plain": [
              "'wELCOME'"
            ]
          },
          "execution_count": 25,
          "metadata": {},
          "output_type": "execute_result"
        }
      ],
      "source": [
        "def change_case(s):\n",
        "    result = ''\n",
        "    for char in s:\n",
        "        if char.isupper():\n",
        "            result += char.lower()\n",
        "        elif char.islower():\n",
        "            result += char.upper()\n",
        "        else:\n",
        "            result += char\n",
        "    return result\n",
        "change_case('Welcome')"
      ]
    },
    {
      "cell_type": "markdown",
      "metadata": {},
      "source": [
        "Ex8:  Write a function called primes that is given a number n and returns a list of the first n  primes. Let the default value of n be 100."
      ]
    },
    {
      "cell_type": "code",
      "execution_count": 34,
      "metadata": {},
      "outputs": [
        {
          "data": {
            "text/plain": [
              "[2, 3, 5, 7, 11]"
            ]
          },
          "execution_count": 34,
          "metadata": {},
          "output_type": "execute_result"
        }
      ],
      "source": [
        "def primes(n=100):\n",
        "    def is_prime(num):\n",
        "        if num < 2:\n",
        "            return False\n",
        "        for i in range(2, int(num**0.5) + 1):\n",
        "            if num % i == 0:\n",
        "                return False\n",
        "        return True\n",
        "\n",
        "    prime_list = []\n",
        "    candidate = 2\n",
        "    while len(prime_list) < n:\n",
        "        if is_prime(candidate):\n",
        "            prime_list.append(candidate)\n",
        "        candidate += 1\n",
        "\n",
        "    return prime_list\n",
        "primes(5)\n",
        "\n",
        "\n",
        "\n"
      ]
    },
    {
      "cell_type": "markdown",
      "metadata": {},
      "source": [
        "Ex9: A Tic-tac-toe board can be represented be a 3×3 two-dimensional list, where zeroes stand for  empty cells, ones stand for X’s and twos stand for O’s. Write a function that is given such a list and randomly chooses a spot in which to place  a 2 (O). The spot chosen must currently be empty and a spot must be chosen."
      ]
    },
    {
      "cell_type": "code",
      "execution_count": 44,
      "metadata": {},
      "outputs": [
        {
          "name": "stdout",
          "output_type": "stream",
          "text": [
            "[1, 2, 0]\n",
            "[2, 1, 0]\n",
            "[2, 0, 1]\n"
          ]
        }
      ],
      "source": [
        "import random\n",
        "\n",
        "def place_o(board):\n",
        "    empty_spots = []\n",
        "\n",
        "    for i in range(3):\n",
        "        for j in range(3):\n",
        "            if board[i][j] == 0:\n",
        "                empty_spots.append((i, j))\n",
        "\n",
        "    if not empty_spots:\n",
        "        raise ValueError(\"No empty spots available to place O.\")\n",
        "\n",
        "    spot = random.choice(empty_spots)\n",
        "    row, col = spot\n",
        "\n",
        "    board[row][col] = 2\n",
        "\n",
        "    return board\n",
        "\n",
        "board = [\n",
        "    [1, 2, 0],\n",
        "    [0, 1, 0],\n",
        "    [2, 0, 1]\n",
        "]\n",
        "\n",
        "new_board = place_o(board)\n",
        "\n",
        "for row in new_board:\n",
        "    print(row)\n",
        "\n"
      ]
    },
    {
      "cell_type": "markdown",
      "metadata": {},
      "source": [
        "Ex10:  Write a function that is given a 9 × 9 potentially solved Sudoku and returns True if it is solved correctly and False if there is a mistake. The Sudoku is correctly solved if there are\n",
        " no repeated numbers in any row or any column or in any of the nine “blocks.”\n"
      ]
    },
    {
      "cell_type": "code",
      "execution_count": null,
      "metadata": {},
      "outputs": [
        {
          "name": "stdout",
          "output_type": "stream",
          "text": [
            "True\n"
          ]
        }
      ],
      "source": [
        "def is_valid_sudoku(board):\n",
        "    def is_valid_group(group):\n",
        "        return sorted(group) == list(range(1, 10))\n",
        "\n",
        "    for row in board:\n",
        "        if not is_valid_group(row):\n",
        "            return False\n",
        "\n",
        "   \n",
        "    for col in range(9):\n",
        "        column = [board[row][col] for row in range(9)]\n",
        "        if not is_valid_group(column):\n",
        "            return False\n",
        "\n",
        "    \n",
        "    for block_row in range(0, 9, 3):\n",
        "        for block_col in range(0, 9, 3):\n",
        "            block = []\n",
        "            for i in range(3):\n",
        "                for j in range(3):\n",
        "                    block.append(board[block_row + i][block_col + j])\n",
        "            if not is_valid_group(block):\n",
        "                return False\n",
        "\n",
        "    return True\n",
        "sudoku = [\n",
        "    [5 ,3, 4, 6, 7, 8, 9, 1, 2],\n",
        "    [6, 7, 2, 1, 9, 5, 3, 4, 8],\n",
        "    [1, 9, 8, 3, 4, 2, 5, 6, 7],\n",
        "    [8, 5, 9, 7, 6, 1, 4, 2, 3],\n",
        "    [4, 2, 6, 8, 5, 3, 7, 9, 1],\n",
        "    [7, 1, 3, 9, 2, 4, 8, 5, 6],\n",
        "    [9, 6, 1, 5, 3, 7, 2, 8, 4],\n",
        "    [2, 8, 7, 4, 1, 9, 6, 3, 5],\n",
        "    [3, 4, 5, 2, 8, 6, 1, 7, 9]\n",
        "]\n",
        "\n",
        "print(is_valid_sudoku(sudoku))  \n"
      ]
    }
  ],
  "metadata": {
    "colab": {
      "authorship_tag": "ABX9TyOc19BkvVV1F7h4PXyyYuJC",
      "include_colab_link": true,
      "name": "Ex5_Function.ipynb",
      "provenance": []
    },
    "kernelspec": {
      "display_name": "Python 3",
      "name": "python3"
    },
    "language_info": {
      "codemirror_mode": {
        "name": "ipython",
        "version": 3
      },
      "file_extension": ".py",
      "mimetype": "text/x-python",
      "name": "python",
      "nbconvert_exporter": "python",
      "pygments_lexer": "ipython3",
      "version": "3.13.5"
    }
  },
  "nbformat": 4,
  "nbformat_minor": 0
}
