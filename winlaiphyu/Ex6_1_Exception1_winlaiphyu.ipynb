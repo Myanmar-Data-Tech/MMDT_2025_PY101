{
  "nbformat": 4,
  "nbformat_minor": 0,
  "metadata": {
    "colab": {
      "provenance": [],
      "authorship_tag": "ABX9TyNjf++/B9WFr8MQMhuKqlFg",
      "include_colab_link": true
    },
    "kernelspec": {
      "name": "python3",
      "display_name": "Python 3"
    },
    "language_info": {
      "name": "python"
    }
  },
  "cells": [
    {
      "cell_type": "markdown",
      "metadata": {
        "id": "view-in-github",
        "colab_type": "text"
      },
      "source": [
        "<a href=\"https://colab.research.google.com/github/Winlai16/MMDT_2025_PY101/blob/winlaiphyu/winlaiphyu/Ex6_1_Exception1_winlaiphyu.ipynb\" target=\"_parent\"><img src=\"https://colab.research.google.com/assets/colab-badge.svg\" alt=\"Open In Colab\"/></a>"
      ]
    },
    {
      "cell_type": "markdown",
      "source": [
        "Exception Handling\n",
        "\n",
        "Q1) Run the following programs and identify the errors.\n",
        "Use exception handling approach to handle the erros."
      ],
      "metadata": {
        "id": "b_A-88WtuxNE"
      }
    },
    {
      "cell_type": "code",
      "source": [
        "#Q1.1) Zero division error\n",
        "def myfunction(a,b):\n",
        "  try:\n",
        "    answer = a/b\n",
        "    return answer\n",
        "    #return answer\n",
        "  except ZeroDivisionError:\n",
        "    print(\"Error: Cannot divide by zero!\")\n",
        "# Test cases\n",
        "print(myfunction(2, 0))"
      ],
      "metadata": {
        "colab": {
          "base_uri": "https://localhost:8080/"
        },
        "id": "k8uaVKgauztp",
        "outputId": "6100190b-8e7f-4240-c120-ef59d569611e"
      },
      "execution_count": null,
      "outputs": [
        {
          "output_type": "stream",
          "name": "stdout",
          "text": [
            "Error: Cannot divide by zero!\n",
            "None\n"
          ]
        }
      ]
    },
    {
      "cell_type": "code",
      "source": [
        "#Q1.2 Name Error\n",
        "def myfunction2(c):\n",
        "    try:\n",
        "        a = 10\n",
        "        answr = a / c  # Misspelled variable (should be 'answer')\n",
        "        return answr\n",
        "    except NameError:\n",
        "        print('Error: Variable name typo detected')\n",
        "        return None"
      ],
      "metadata": {
        "id": "MuuHjuoaw3Pg"
      },
      "execution_count": null,
      "outputs": []
    },
    {
      "cell_type": "code",
      "source": [
        "#Q1.3 IndexError\n",
        "a = [1, 2, 3]\n",
        "for k in range(0, 4):\n",
        "    try:\n",
        "        print(a[k])\n",
        "    except IndexError:\n",
        "        print(f\"Error: Index {k} is out of range for the list\")"
      ],
      "metadata": {
        "colab": {
          "base_uri": "https://localhost:8080/"
        },
        "id": "dNAs0zeqxky1",
        "outputId": "875f944b-d38c-4c50-e32d-02ab6ef06f69"
      },
      "execution_count": null,
      "outputs": [
        {
          "output_type": "stream",
          "name": "stdout",
          "text": [
            "1\n",
            "2\n",
            "3\n",
            "Error: Index 3 is out of range for the list\n"
          ]
        }
      ]
    },
    {
      "cell_type": "code",
      "source": [
        "#Q1.4 Zero Division Error, Value Error\n",
        "a = 1\n",
        "try:\n",
        "    b = int(input(\"Please enter a number to divide a: \"))\n",
        "    a = a / b\n",
        "    print(\"Success a=\", a)\n",
        "except ZeroDivisionError:\n",
        "    print(\"Error: Cannot divide by zero\")\n",
        "except ValueError:\n",
        "    print(\"Error: Please enter a valid integer\")"
      ],
      "metadata": {
        "colab": {
          "base_uri": "https://localhost:8080/"
        },
        "id": "pImpj-peyKhr",
        "outputId": "4cc3593b-0981-4b42-90bf-3e8d41e89555"
      },
      "execution_count": null,
      "outputs": [
        {
          "output_type": "stream",
          "name": "stdout",
          "text": [
            "Please enter a number to divide a: a\n",
            "Error: Please enter a valid integer\n"
          ]
        }
      ]
    },
    {
      "cell_type": "code",
      "source": [
        "def divide(a, b):\n",
        "    try:\n",
        "        result = a / b\n",
        "        print('The result of division is', result)\n",
        "    except ZeroDivisionError:\n",
        "        print('Numerator must be greater than zero')\n",
        "    except TypeError:\n",
        "        print('Inputs must be numbers')\n",
        "    else:\n",
        "        return result\n",
        "\n",
        "divide(\"10\",2)"
      ],
      "metadata": {
        "colab": {
          "base_uri": "https://localhost:8080/"
        },
        "id": "d1DIVj0qyf3y",
        "outputId": "8bac2d99-6acc-41a0-b829-ffdcece501ab"
      },
      "execution_count": null,
      "outputs": [
        {
          "output_type": "stream",
          "name": "stdout",
          "text": [
            "Inputs must be numbers\n"
          ]
        }
      ]
    },
    {
      "cell_type": "code",
      "source": [
        "def read_file(filename):\n",
        "    try:\n",
        "        with open(filename, 'r') as file1:\n",
        "            word_string = file1.read()\n",
        "        print(\"File reading completed successfully\")\n",
        "        return word_string\n",
        "    except FileNotFoundError:\n",
        "        print(\"File does not exist.\")\n",
        "\n",
        "read_file(\"./data/Q1.txt\")"
      ],
      "metadata": {
        "colab": {
          "base_uri": "https://localhost:8080/"
        },
        "id": "k40bL6tyzIfv",
        "outputId": "427bc481-1511-42d4-df25-8bb67890ebee"
      },
      "execution_count": null,
      "outputs": [
        {
          "output_type": "stream",
          "name": "stdout",
          "text": [
            "File does not exist.\n"
          ]
        }
      ]
    }
  ]
}