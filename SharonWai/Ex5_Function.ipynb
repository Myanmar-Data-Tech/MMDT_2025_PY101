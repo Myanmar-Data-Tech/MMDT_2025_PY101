{
  "cells": [
    {
      "cell_type": "markdown",
      "metadata": {
        "id": "view-in-github",
        "colab_type": "text"
      },
      "source": [
        "<a href=\"https://colab.research.google.com/github/SharonWai/MMDT_2025_PY101/blob/SharonWai1/SharonWai/Ex5_Function.ipynb\" target=\"_parent\"><img src=\"https://colab.research.google.com/assets/colab-badge.svg\" alt=\"Open In Colab\"/></a>"
      ]
    },
    {
      "cell_type": "markdown",
      "metadata": {
        "id": "b-1b6ywy-O5i"
      },
      "source": [
        "Exercises are taken from : https://www.brianheinold.net/python/A_Practical_Introduction_to_Python_Programming_Heinold.pdf\n"
      ]
    },
    {
      "cell_type": "markdown",
      "metadata": {
        "id": "pps5xBbs-I9w"
      },
      "source": [
        "Ex 1: Write a function called rectangle that takes two integers m and n as arguments and prints\n",
        "out an m× n box consisting of asterisks. Shown below is the output of rectangle(2,4)\n",
        "****\n",
        "****"
      ]
    },
    {
      "cell_type": "code",
      "execution_count": 12,
      "metadata": {
        "id": "S_5WWVLH3u8y",
        "colab": {
          "base_uri": "https://localhost:8080/"
        },
        "outputId": "291af0eb-dca6-4cc5-fa18-0d64831acb02"
      },
      "outputs": [
        {
          "output_type": "stream",
          "name": "stdout",
          "text": [
            "*****\n",
            "*****\n",
            "*****\n"
          ]
        }
      ],
      "source": [
        "def rectangle(m,n):\n",
        "    for k in range(m):\n",
        "        print(n*'*')\n",
        "\n",
        "rectangle(3, 5)\n"
      ]
    },
    {
      "cell_type": "markdown",
      "metadata": {
        "id": "0QS7SmPV-coO"
      },
      "source": [
        "Ex 2: Write a function that takes an integer n and returns a random integer with exactly n digits. For\n",
        "instance, if n is 3, then 125 and 593 would be valid return values, but 093 would not because\n",
        "that is really 93, which is a two-digit number."
      ]
    },
    {
      "cell_type": "code",
      "execution_count": 16,
      "metadata": {
        "id": "c4ejnmGJ-MzL",
        "colab": {
          "base_uri": "https://localhost:8080/"
        },
        "outputId": "00488f24-7c8d-4a6c-fcf2-7af3ceca9da1"
      },
      "outputs": [
        {
          "output_type": "execute_result",
          "data": {
            "text/plain": [
              "719"
            ]
          },
          "metadata": {},
          "execution_count": 16
        }
      ],
      "source": [
        "import random\n",
        "def calcualte_numbers ( n ):\n",
        "    result = random.randint(10**(n-1) , 10**(n)-1)\n",
        "\n",
        "\n",
        "    return result\n",
        "\n",
        "calcualte_numbers(3)"
      ]
    },
    {
      "cell_type": "markdown",
      "metadata": {
        "id": "B0P_F5Ld-ldg"
      },
      "source": [
        "Ex 3: Write a function called number_of_factors that takes an integer and returns how many\n",
        "factors the number has."
      ]
    },
    {
      "cell_type": "code",
      "source": [
        "def number_of_factors(n):\n",
        "    count = 0\n",
        "    for i in range(1, n + 1):\n",
        "       if n % i == 0:\n",
        "          count += 1\n",
        "    return count\n",
        "\n",
        "print(number_of_factors(8))\n"
      ],
      "metadata": {
        "colab": {
          "base_uri": "https://localhost:8080/"
        },
        "id": "ndJAN41FvVkw",
        "outputId": "d0822a00-989a-4785-9a80-9ca2e4bf315a"
      },
      "execution_count": 25,
      "outputs": [
        {
          "output_type": "stream",
          "name": "stdout",
          "text": [
            "4\n"
          ]
        }
      ]
    },
    {
      "cell_type": "markdown",
      "metadata": {
        "id": "7w0DDTyY-o_4"
      },
      "source": [
        "Ex4: Write a function called first_diff that is given two strings and returns the first location in\n",
        "which the strings differ. If the strings are identical, it should return -1.Ignore the case in your function. It means h and H are the same."
      ]
    },
    {
      "cell_type": "code",
      "execution_count": 42,
      "metadata": {
        "id": "1WOvaf0z-6J6",
        "colab": {
          "base_uri": "https://localhost:8080/"
        },
        "outputId": "c785420c-0369-4120-e651-ca2f18681d47"
      },
      "outputs": [
        {
          "output_type": "stream",
          "name": "stdout",
          "text": [
            "0\n",
            "-1\n"
          ]
        }
      ],
      "source": [
        "#Define the function called first_diff for two strings.\n",
        "def first_diff(str1, str2):\n",
        "  str1 = str1.lower()\n",
        "  str2 = str2.lower()\n",
        "\n",
        "  min_length = min(len(str1), len(str2))\n",
        "\n",
        "  for i in range(min_length):\n",
        "    if str1[i] != str2 [i]:\n",
        "      return i\n",
        "\n",
        "\n",
        "  if len(str1) != len(str2):\n",
        "   return min_length\n",
        "\n",
        "#If strings are identical, return is -1.\n",
        "  return -1\n",
        "\n",
        "print(first_diff(\"apple\",\"mango\"))\n",
        "print(first_diff(\"Good\",\"good\"))"
      ]
    },
    {
      "cell_type": "markdown",
      "metadata": {
        "id": "jLM8fAg_-6th"
      },
      "source": [
        "Ex5: Write a function called root that is given a number x and an integer n and returns x/n. In\n",
        "the function definition, set the default value of n to 2."
      ]
    },
    {
      "cell_type": "code",
      "execution_count": 47,
      "metadata": {
        "id": "1TrSgTDa_Fu0",
        "colab": {
          "base_uri": "https://localhost:8080/"
        },
        "outputId": "e2e04b13-5697-4d94-de3d-932d912f1646"
      },
      "outputs": [
        {
          "output_type": "stream",
          "name": "stdout",
          "text": [
            "2.5\n",
            "1.6\n"
          ]
        }
      ],
      "source": [
        "#defines a function called root.\n",
        "def root(x, n=4):\n",
        "  return x/n\n",
        "\n",
        "#Test the results.\n",
        "print(root(10))\n",
        "print(root(8, 5))"
      ]
    },
    {
      "cell_type": "markdown",
      "metadata": {
        "id": "uRkVhStlt5yd"
      },
      "source": [
        "Ex6: Write a function that solves the system of equations ax + by = e and cx +dy = f. Your function should takes 6 parameters, (a, b, c, d, e,f) and return the values of x and y."
      ]
    },
    {
      "cell_type": "code",
      "execution_count": 48,
      "metadata": {
        "id": "ZkFoR8Mit5ye"
      },
      "outputs": [],
      "source": [
        "#Defines the function name.\n",
        "def solve_system(a, b, c, d, e, f):\n",
        "  det = a * d - b * c\n",
        "\n",
        "  if det == 0:\n",
        "    print(\"The system has no unique solution\")\n",
        "    return None\n",
        "\n",
        "  x = (e * d - b * f) / det\n",
        "  y = (a * f - e * c) / det\n",
        "\n",
        "  return x, y"
      ]
    },
    {
      "cell_type": "markdown",
      "metadata": {
        "id": "qBDTb-5it5ye"
      },
      "source": [
        "Ex7:  Write a function called change_case that given a string, returns a string with each upper  case letter replaced by a lower case letter and vice-versa"
      ]
    },
    {
      "cell_type": "code",
      "execution_count": 49,
      "metadata": {
        "colab": {
          "base_uri": "https://localhost:8080/"
        },
        "id": "0rC9y0dAt5ye",
        "outputId": "c40e6bb7-bc66-4ba0-d6db-cbd61fdbeda5"
      },
      "outputs": [
        {
          "output_type": "stream",
          "name": "stdout",
          "text": [
            "hELLO, gOOD MORNING\n"
          ]
        }
      ],
      "source": [
        "def change_case(text):\n",
        "  result = text.swapcase()\n",
        "  return result\n",
        "\n",
        "input_string = \"Hello, Good morning\"\n",
        "output_string = change_case(input_string)\n",
        "print(output_string)"
      ]
    },
    {
      "cell_type": "markdown",
      "metadata": {
        "id": "6PngekL-t5ye"
      },
      "source": [
        "Ex8:  Write a function called primes that is given a number n and returns a list of the first n  primes. Let the default value of n be 100."
      ]
    },
    {
      "cell_type": "code",
      "execution_count": 63,
      "metadata": {
        "colab": {
          "base_uri": "https://localhost:8080/"
        },
        "id": "AR_ZI2qNt5yf",
        "outputId": "be19f409-70b2-48d9-cd8c-72946edef1eb"
      },
      "outputs": [
        {
          "output_type": "stream",
          "name": "stdout",
          "text": [
            "[2, 3, 5, 7, 11, 13, 17, 19, 23, 29]\n"
          ]
        }
      ],
      "source": [
        "#Defines the prime and default value of n be 100\n",
        "def primes(n=100):\n",
        "    prime_list = []\n",
        "    num = 2\n",
        "\n",
        "    while len(prime_list) < n:\n",
        "      is_prime = True\n",
        "      for i in range(2, int(num**0.5) + 1):\n",
        "          if num % i == 0:\n",
        "              is_prime = False\n",
        "              break\n",
        "\n",
        "      if is_prime:\n",
        "          prime_list.append(num)\n",
        "      num += 1\n",
        "\n",
        "    return prime_list\n",
        "\n",
        "print(primes(10))"
      ]
    },
    {
      "cell_type": "markdown",
      "metadata": {
        "id": "0Zhz5KzOt5yf"
      },
      "source": [
        "Ex9: A Tic-tac-toe board can be represented be a 3×3 two-dimensional list, where zeroes stand for  empty cells, ones stand for X’s and twos stand for O’s. Write a function that is given such a list and randomly chooses a spot in which to place  a 2 (O). The spot chosen must currently be empty and a spot must be chosen."
      ]
    },
    {
      "cell_type": "code",
      "execution_count": 65,
      "metadata": {
        "colab": {
          "base_uri": "https://localhost:8080/"
        },
        "id": "2oe_iqt9t5yf",
        "outputId": "288b1b3b-ba01-4fac-cd41-7a4af4aa1997"
      },
      "outputs": [
        {
          "output_type": "stream",
          "name": "stdout",
          "text": [
            "New Tic-Tac_Toe Board: \n",
            "[2, 1, 2]\n",
            "[2, 0, 1]\n",
            "[2, 1, 0]\n"
          ]
        }
      ],
      "source": [
        "import random\n",
        "\n",
        "def place_O(board):\n",
        "  empty_spots = []\n",
        "\n",
        "  for i in range(3):\n",
        "    for j in range(3):\n",
        "      if board[i][j] == 0:\n",
        "        empty_spots.append((i, j))\n",
        "\n",
        "  if empty_spots:\n",
        "    i, j = random.choice(empty_spots)\n",
        "    board[i][j] = 2\n",
        "\n",
        "  return board\n",
        "\n",
        "#Test Tic-tac-toe board result\n",
        "tic_tac_toe_board = [[0, 1, 2], [2, 0, 1], [2, 1, 0]]\n",
        "\n",
        "new_board = place_O(tic_tac_toe_board)\n",
        "\n",
        "print(\"New Tic-Tac_Toe Board: \")\n",
        "for row in new_board:\n",
        "  print(row)"
      ]
    },
    {
      "cell_type": "markdown",
      "metadata": {
        "id": "nIFJ4_h9t5yf"
      },
      "source": [
        "Ex10:  Write a function that is given a 9 × 9 potentially solved Sudoku and returns True if it is solved correctly and False if there is a mistake. The Sudoku is correctly solved if there are\n",
        " no repeated numbers in any row or any column or in any of the nine “blocks.”\n"
      ]
    },
    {
      "cell_type": "code",
      "source": [
        "def valid_sudoku(board):\n",
        "  def valid_group(group):\n",
        "    return sorted(group) == list(range(1, 10))\n",
        "\n",
        "  for row in board:\n",
        "    if not valid_group(row):\n",
        "      return False\n",
        "\n",
        "  for col in range(9):\n",
        "      column = [board[row][col] for row in range (9)]\n",
        "      if not valid_group(column):\n",
        "        return False\n",
        "\n",
        "  for box_row in range (0, 9, 3):\n",
        "    for box_col in range(0, 9, 3):\n",
        "      block = []\n",
        "      for i in range(3):\n",
        "        for j in range(3):\n",
        "          block.append(board[box_row + i] [box_col + j])\n",
        "      if not valid_group(block):\n",
        "         return False\n",
        "\n",
        "  return True\n",
        "\n",
        "valid_sudoku_board = [[5, 3, 4, 6, 7, 8, 9, 1, 2],\n",
        "                [6, 7, 2, 1, 9, 5, 3, 4, 8],\n",
        "                [1, 9, 8, 3, 4, 2, 5, 6, 7],\n",
        "                [8, 5, 9, 7, 6, 1, 4, 2, 3],\n",
        "                [4, 2, 6, 8, 5, 3, 7, 9, 1],\n",
        "                [7, 1, 3, 9, 2, 4, 8, 5, 6],\n",
        "                [9, 6, 1, 5, 3, 7, 2, 8, 4],\n",
        "                [2, 8, 7, 4, 1, 9, 6, 3, 5],\n",
        "                [3, 4, 5, 2, 8, 6, 1, 7, 9]]\n",
        "\n",
        "invalid_sudoku_board = [[5, 3, 4, 6, 7, 8, 9, 1, 2],\n",
        "                [6, 7, 2, 1, 9, 5, 3, 4, 8],\n",
        "                [1, 9, 8, 3, 4, 2, 5, 6, 7],\n",
        "                [8, 5, 9, 7, 6, 1, 4, 2, 3],\n",
        "                [4, 2, 6, 8, 5, 3, 7, 9, 1],\n",
        "                [7, 1, 3, 9, 2, 4, 8, 5, 6],\n",
        "                [9, 6, 1, 5, 3, 7, 7, 8, 4],\n",
        "                [2, 8, 7, 4, 1, 9, 6, 3, 5],\n",
        "                [3, 4, 5, 2, 8, 6, 6, 7, 9]]\n",
        "\n",
        "print(\"Valid Soduku is: \", valid_sudoku(valid_sudoku_board))\n",
        "print(\"Invalid Soduku is: \", valid_sudoku(invalid_sudoku_board))"
      ],
      "metadata": {
        "colab": {
          "base_uri": "https://localhost:8080/"
        },
        "id": "dbmKlwh_CT92",
        "outputId": "2ea4f5ee-4e54-4dc7-f8c1-7f1746db64c2"
      },
      "execution_count": 84,
      "outputs": [
        {
          "output_type": "stream",
          "name": "stdout",
          "text": [
            "Valid Soduku is:  True\n",
            "Invalid Soduku is:  False\n"
          ]
        }
      ]
    },
    {
      "cell_type": "code",
      "source": [],
      "metadata": {
        "id": "nYbDicR5JYGb"
      },
      "execution_count": null,
      "outputs": []
    }
  ],
  "metadata": {
    "colab": {
      "name": "Ex5_Function.ipynb",
      "provenance": [],
      "include_colab_link": true
    },
    "kernelspec": {
      "display_name": "Python 3",
      "name": "python3"
    },
    "language_info": {
      "codemirror_mode": {
        "name": "ipython",
        "version": 3
      },
      "file_extension": ".py",
      "mimetype": "text/x-python",
      "name": "python",
      "nbconvert_exporter": "python",
      "pygments_lexer": "ipython3",
      "version": "3.12.1"
    }
  },
  "nbformat": 4,
  "nbformat_minor": 0
}