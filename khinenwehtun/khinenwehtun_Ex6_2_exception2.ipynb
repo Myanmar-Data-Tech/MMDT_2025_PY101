{
  "nbformat": 4,
  "nbformat_minor": 0,
  "metadata": {
    "colab": {
      "provenance": [],
      "authorship_tag": "ABX9TyOqHzRAmuGpqIH1kDIpv4tk",
      "include_colab_link": true
    },
    "kernelspec": {
      "name": "python3",
      "display_name": "Python 3"
    },
    "language_info": {
      "name": "python"
    }
  },
  "cells": [
    {
      "cell_type": "markdown",
      "metadata": {
        "id": "view-in-github",
        "colab_type": "text"
      },
      "source": [
        "<a href=\"https://colab.research.google.com/github/khinenwehtun/MMDT_2025_PY101/blob/main/khinenwehtun/khinenwehtun_Ex6_2_exception2.ipynb\" target=\"_parent\"><img src=\"https://colab.research.google.com/assets/colab-badge.svg\" alt=\"Open In Colab\"/></a>"
      ]
    },
    {
      "cell_type": "code",
      "execution_count": 1,
      "metadata": {
        "colab": {
          "base_uri": "https://localhost:8080/"
        },
        "id": "ZN8VER2pTXGL",
        "outputId": "70dc1731-8128-4da3-f6b3-cc8d045fd0c7"
      },
      "outputs": [
        {
          "output_type": "stream",
          "name": "stdout",
          "text": [
            "Please enter a number to divide a 2\n",
            "Success a=  0.5\n"
          ]
        }
      ],
      "source": [
        "a = 1\n",
        "b = int(input(\"Please enter a number to divide a \"))\n",
        "a = a/b\n",
        "print(\"Success a= \",a)"
      ]
    },
    {
      "cell_type": "code",
      "source": [
        "mylist = [2, 3, 5, -7, 8, 0]\n",
        "idx = 0\n",
        "b = 5\n",
        "\n",
        "while idx <= 6:\n",
        "    try:\n",
        "        result = mylist[idx] / b\n",
        "        print('Iteration:', idx, result)\n",
        "    except IndexError:\n",
        "        print(f\"Error: Index {idx} is out of range.\")\n",
        "    except ZeroDivisionError:\n",
        "        print(\"Error: Division by zero is not allowed.\")\n",
        "    except TypeError:\n",
        "        print(f\"Error: Unsupported operand type at index {idx}.\")\n",
        "    finally:\n",
        "        print('Iteration completed')\n",
        "        idx = idx + 1"
      ],
      "metadata": {
        "colab": {
          "base_uri": "https://localhost:8080/"
        },
        "id": "mBUy4iBgTtce",
        "outputId": "2f64bdd1-6f29-4ed5-d236-4ead77319778"
      },
      "execution_count": 3,
      "outputs": [
        {
          "output_type": "stream",
          "name": "stdout",
          "text": [
            "Iteration: 0 0.4\n",
            "Iteration completed\n",
            "Iteration: 1 0.6\n",
            "Iteration completed\n",
            "Iteration: 2 1.0\n",
            "Iteration completed\n",
            "Iteration: 3 -1.4\n",
            "Iteration completed\n",
            "Iteration: 4 1.6\n",
            "Iteration completed\n",
            "Iteration: 5 0.0\n",
            "Iteration completed\n",
            "Error: Index 6 is out of range.\n",
            "Iteration completed\n"
          ]
        }
      ]
    },
    {
      "cell_type": "code",
      "source": [],
      "metadata": {
        "id": "eLIbmua0T5io"
      },
      "execution_count": null,
      "outputs": []
    }
  ]
}