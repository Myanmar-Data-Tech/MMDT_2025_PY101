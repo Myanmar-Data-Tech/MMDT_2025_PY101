{
  "cells": [
    {
      "cell_type": "markdown",
      "metadata": {
        "id": "view-in-github",
        "colab_type": "text"
      },
      "source": [
        "<a href=\"https://colab.research.google.com/github/SharonWai/MMDT_2025_PY101/blob/SharonWai1/SharonWai/SW_Ex7_Debugging.ipynb\" target=\"_parent\"><img src=\"https://colab.research.google.com/assets/colab-badge.svg\" alt=\"Open In Colab\"/></a>"
      ]
    },
    {
      "cell_type": "markdown",
      "metadata": {
        "id": "sVG6_I1cVXqQ"
      },
      "source": [
        "## Simple Debugging\n",
        "\n",
        "Add print statements to your program.\n",
        "Add input() to pause the program"
      ]
    },
    {
      "cell_type": "code",
      "execution_count": null,
      "metadata": {
        "colab": {
          "base_uri": "https://localhost:8080/"
        },
        "id": "wzSYCZC-VXqT",
        "outputId": "73852cdd-2aa8-4a5b-c887-61c993568b41"
      },
      "outputs": [
        {
          "name": "stdout",
          "output_type": "stream",
          "text": [
            "DEBUG: The random number generated is:  4\n",
            "Press Enter to start to loop\n",
            "Hello Hello Hello Hello \n",
            "Press Enter to continue to the next iteration, or type 'q' to  quit:q\n",
            "Breaking the loop\n"
          ]
        }
      ],
      "source": [
        "from random import randint\n",
        "\n",
        "#Step 1: generate a random number between 1 and 5\n",
        "rand_num = randint(1,5)\n",
        "\n",
        "# add print statment here to know the value of rand_num\n",
        "print(\"DEBUG: The random number generated is: \", rand_num)\n",
        "input(\"Press Enter to start to loop\")\n",
        "\n",
        "\n",
        "# Step 2: What does this code do?\n",
        "\n",
        "for i in range(6):\n",
        "    print('Hello '*rand_num)\n",
        "    user_input = input(\"Press Enter to continue to the next iteration, or type 'q' to  quit:\")\n",
        "\n",
        "    if user_input.lower() == 'q':\n",
        "     print(\"Breaking the loop\")\n",
        "     break"
      ]
    },
    {
      "cell_type": "code",
      "execution_count": null,
      "metadata": {
        "colab": {
          "base_uri": "https://localhost:8080/"
        },
        "id": "2BNFXUZxVXqV",
        "outputId": "dea064bb-6139-44c3-c82c-4b6a19ae15be"
      },
      "outputs": [
        {
          "name": "stdout",
          "output_type": "stream",
          "text": [
            "Generating a random number between 1 and 5\n",
            "DEBUG: Random number generated =  2\n",
            "Hello Hello \n",
            "Press Enter to continue to the next iteration, or type 'q' to  quit:\n",
            "DEBUG: Random number generated =  5\n",
            "Hello Hello Hello Hello Hello \n",
            "Press Enter to continue to the next iteration, or type 'q' to  quit:q\n",
            "Breaking the loop\n"
          ]
        }
      ],
      "source": [
        "from random import randint\n",
        "\n",
        "# Step 1: generate a random number between 1 and 5\n",
        "print(\"Generating a random number between 1 and 5\")\n",
        "\n",
        "# Step 2: What does this code do?\n",
        "\n",
        "for i in range(6):\n",
        "    rand_num = randint(1,5)\n",
        "    print(\"DEBUG: Random number generated = \", rand_num)\n",
        "    print('Hello '*rand_num)\n",
        "    user_input = input(\"Press Enter to continue to the next iteration, or type 'q' to  quit:\")\n",
        "\n",
        "    if user_input.lower() == 'q':\n",
        "     print(\"Breaking the loop\")\n",
        "     break"
      ]
    },
    {
      "cell_type": "markdown",
      "metadata": {
        "id": "XskPToPyVXqW"
      },
      "source": [
        "Write a program that generates 10000 random numbers between 1 and 100 and counts how many of them are multiples of 12."
      ]
    },
    {
      "cell_type": "code",
      "execution_count": null,
      "metadata": {
        "colab": {
          "base_uri": "https://localhost:8080/"
        },
        "id": "n2ZyNynSVXqX",
        "outputId": "9040fbad-7c0c-41fc-f698-fe112ba87135"
      },
      "outputs": [
        {
          "name": "stdout",
          "output_type": "stream",
          "text": [
            "Generates 10,000 random numbers between 1 and 100\n",
            "Number of multiples of 12: 806\n"
          ]
        }
      ],
      "source": [
        "# Step 1:\n",
        "from random import randint\n",
        "print(\"Generates 10,000 random numbers between 1 and 100\")\n",
        "\n",
        "# Step 2:\n",
        "count = 0\n",
        "\n",
        "# Step 3:\n",
        "for i in range(10000):\n",
        "    #Step 4:\n",
        "    num = randint(1, 100)\n",
        "    #Step 5:\n",
        "    if num%12==0:\n",
        "        count=count+1\n",
        "        if i < 10: # Corrected indentation\n",
        "            print(\"DEBUG: {} is a multiple of 12\".format(num))\n",
        "            input(\"Press Enter to continue.\") # Corrected input call\n",
        "    # Step 6:\n",
        "print('Number of multiples of 12:', count)"
      ]
    },
    {
      "cell_type": "markdown",
      "metadata": {
        "id": "t31wmDaHVXqY"
      },
      "source": [
        "The following program should counts how many of the squares of the numbers from 1 to 100 end in 1.  (Example: 1,81,121). Debug the code."
      ]
    },
    {
      "cell_type": "code",
      "execution_count": 26,
      "metadata": {
        "colab": {
          "base_uri": "https://localhost:8080/"
        },
        "id": "FidOVP_PVXqY",
        "outputId": "d096b215-a8e0-4421-b245-df9773f8e159"
      },
      "outputs": [
        {
          "name": "stdout",
          "output_type": "stream",
          "text": [
            "DEBUG: Generated list of numbers from 1 to 100\n",
            "Press Enter to sees squares\n",
            "DEBUG: First 10 squares: [1, 4, 9, 16, 25, 36, 49, 64, 81, 100]\n",
            "Press Enter to checking squares\n",
            "DEBUG: Square of 1 is 1, ends in 1\n",
            "Press Enter to continue....\n",
            "DEBUG: Square of 9 is 81, ends in 1\n",
            "Press Enter to continue....\n",
            "DEBUG: Square of 11 is 121, ends in 1\n",
            "Press Enter to continue....\n",
            "DEBUG: Square of 19 is 361, ends in 1\n",
            "Press Enter to continue....\n",
            "DEBUG: Square of 21 is 441, ends in 1\n",
            "Press Enter to continue....\n",
            "DEBUG: Square of 29 is 841, ends in 1\n",
            "Press Enter to continue....\n",
            "DEBUG: Square of 31 is 961, ends in 1\n",
            "Press Enter to continue....\n",
            "DEBUG: Square of 39 is 1521, ends in 1\n",
            "Press Enter to continue....\n",
            "DEBUG: Square of 41 is 1681, ends in 1\n",
            "Press Enter to continue....\n",
            "DEBUG: Square of 49 is 2401, ends in 1\n",
            "Press Enter to continue....\n",
            "DEBUG: Square of 51 is 2601, ends in 1\n",
            "Press Enter to continue....\n",
            "DEBUG: Square of 59 is 3481, ends in 1\n",
            "Press Enter to continue....\n",
            "DEBUG: Square of 61 is 3721, ends in 1\n",
            "Press Enter to continue....\n",
            "DEBUG: Square of 69 is 4761, ends in 1\n",
            "Press Enter to continue....\n",
            "DEBUG: Square of 71 is 5041, ends in 1\n",
            "Press Enter to continue....\n",
            "DEBUG: Square of 79 is 6241, ends in 1\n",
            "Press Enter to continue....\n",
            "DEBUG: Square of 81 is 6561, ends in 1\n",
            "Press Enter to continue....\n",
            "DEBUG: Square of 89 is 7921, ends in 1\n",
            "Press Enter to continue....\n",
            "DEBUG: Square of 91 is 8281, ends in 1\n",
            "Press Enter to continue....\n",
            "DEBUG: Square of 99 is 9801, ends in 1\n",
            "Press Enter to continue....\n"
          ]
        },
        {
          "output_type": "execute_result",
          "data": {
            "text/plain": [
              "20"
            ]
          },
          "metadata": {},
          "execution_count": 26
        }
      ],
      "source": [
        "import numpy as np\n",
        "\n",
        "def fun_square_count():\n",
        "    num_list = np.arange(1,101)\n",
        "    print(\"DEBUG: Generated list of numbers from 1 to 100\")\n",
        "    input(\"Press Enter to sees squares\")\n",
        "\n",
        "    squred_num = [int(value**2) for value in num_list]\n",
        "    print(\"DEBUG: First 10 squares:\", squred_num[:10])\n",
        "    input(\"Press Enter to checking squares\")\n",
        "\n",
        "    count=0\n",
        "    for i, num in enumerate (squred_num):\n",
        "        # Check if the number ends in 1\n",
        "        if(num % 10) == 1:\n",
        "            count +=1\n",
        "            print(f\"DEBUG: Square of {num_list[i]} is {num}, ends in 1\") # Corrected f-string\n",
        "            input(\"Press Enter to continue....\")\n",
        "\n",
        "    return count\n",
        "\n",
        "fun_square_count()"
      ]
    },
    {
      "cell_type": "markdown",
      "metadata": {
        "id": "kgRzKZ3AVXqZ"
      },
      "source": [
        "Debug the following programs"
      ]
    },
    {
      "cell_type": "code",
      "execution_count": 13,
      "metadata": {
        "id": "b0w4zhcSVXqa",
        "colab": {
          "base_uri": "https://localhost:8080/"
        },
        "outputId": "be7470ad-aeee-43a4-bbfc-6508b89631fc"
      },
      "outputs": [
        {
          "output_type": "stream",
          "name": "stdout",
          "text": [
            "DEBUG: a = {a}, type = {type(a)}\n",
            "DEBUG: b = {b}, type = {type(b)}\n",
            "Error: Unable to add values of different types.\n",
            "Final results:  None\n"
          ]
        }
      ],
      "source": [
        "def add(a, b):\n",
        "  print(\"DEBUG: a = {a}, type = {type(a)}\")\n",
        "  print(\"DEBUG: b = {b}, type = {type(b)}\")\n",
        "  try:\n",
        "    return a + b\n",
        "    print(\"DEBUG: result = {result}\")\n",
        "    return result\n",
        "\n",
        "  except TypeError:\n",
        "    print(\"Error: Unable to add values of different types.\")\n",
        "    return None\n",
        "\n",
        "print(\"Final results: \", add(5, '2'))\n"
      ]
    },
    {
      "cell_type": "code",
      "execution_count": 25,
      "metadata": {
        "id": "G6BLShBlVXqa",
        "colab": {
          "base_uri": "https://localhost:8080/"
        },
        "outputId": "da5cf222-2d62-48b9-df8b-925a8d6830ae"
      },
      "outputs": [
        {
          "output_type": "stream",
          "name": "stdout",
          "text": [
            "Test 1: divide(10, 5)\n",
            "DEBUG: a = {a}, type = {type(a)}\n",
            "DEBUG: b = {b}, type = {type(b)}\n",
            "Press Enter to attempt division\n",
            "DEBUG: result = {result}\n",
            "Result 1: 2.0\n",
            "Test 2: divide(15, 3)\n",
            "DEBUG: a = {a}, type = {type(a)}\n",
            "DEBUG: b = {b}, type = {type(b)}\n",
            "Press Enter to attempt division\n",
            "DEBUG: result = {result}\n",
            "Result 2:  5.0\n",
            "Test 3: divide(81, 9)\n",
            "DEBUG: a = {a}, type = {type(a)}\n",
            "DEBUG: b = {b}, type = {type(b)}\n",
            "Press Enter to attempt division\n",
            "DEBUG: result = {result}\n",
            "Result 3:  9.0\n"
          ]
        }
      ],
      "source": [
        "def divide(a, b):\n",
        "  print(\"DEBUG: a = {a}, type = {type(a)}\")\n",
        "  print(\"DEBUG: b = {b}, type = {type(b)}\")\n",
        "  input(\"Press Enter to attempt division\")\n",
        "\n",
        "  try:\n",
        "    result = a / b\n",
        "    print(\"DEBUG: result = {result}\")\n",
        "    return result\n",
        "  except ZeroDivisionError:\n",
        "    print(\"Error: The value is {} is not allowed to be zero\".format(b))\n",
        "    return None\n",
        "  except TypeError:\n",
        "    print(\"Error: The input must be a number\")\n",
        "    return None\n",
        "  else:\n",
        "    return result\n",
        "\n",
        "#Test the result.\n",
        "print(\"Test 1: divide(10, 5)\")\n",
        "print(\"Result 1:\", divide(10, 5))\n",
        "\n",
        "print(\"Test 2: divide(15, 3)\")\n",
        "print(\"Result 2: \", divide(15, 3))\n",
        "\n",
        "print(\"Test 3: divide(81, 9)\")\n",
        "print(\"Result 3: \", divide(81, 9))\n",
        "\n"
      ]
    },
    {
      "cell_type": "code",
      "execution_count": 20,
      "metadata": {
        "id": "S0b9soitVXqb",
        "colab": {
          "base_uri": "https://localhost:8080/"
        },
        "outputId": "534e6a7b-8c17-47ad-cc03-343ed52dbd3e"
      },
      "outputs": [
        {
          "output_type": "stream",
          "name": "stdout",
          "text": [
            "DEBUG: Checking if 15 is a prime number\n",
            "Result is:  None\n"
          ]
        }
      ],
      "source": [
        "def is_prime(n):\n",
        "  print(\"DEBUG: Checking if {} is a prime number\".format(n))\n",
        "\n",
        "  if n <= 0:\n",
        "    print(\"DEBUG: Number is less than or equal to 0, it is not prime\")\n",
        "    return False\n",
        "\n",
        "    for i in range(2, n):\n",
        "      print(\"DEBUG: Checking if {} can be divided by {}\".format(n , i))\n",
        "      if n % i == 0:\n",
        "        print(\"DEBUG: {} can be divided by {}, it's not a prime\".format(n, i))\n",
        "        return False\n",
        "\n",
        "    print(\"DEBUG: {} is a prime number\".format(n))\n",
        "    return True\n",
        "\n",
        "print(\"Result is: \", is_prime(15))\n"
      ]
    },
    {
      "cell_type": "code",
      "source": [],
      "metadata": {
        "id": "XrBP1ZgSIMy-"
      },
      "execution_count": null,
      "outputs": []
    }
  ],
  "metadata": {
    "colab": {
      "provenance": [],
      "include_colab_link": true
    },
    "kernelspec": {
      "display_name": "Python 3",
      "language": "python",
      "name": "python3"
    },
    "language_info": {
      "codemirror_mode": {
        "name": "ipython",
        "version": 3
      },
      "file_extension": ".py",
      "mimetype": "text/x-python",
      "name": "python",
      "nbconvert_exporter": "python",
      "pygments_lexer": "ipython3",
      "version": "3.12.1"
    }
  },
  "nbformat": 4,
  "nbformat_minor": 0
}