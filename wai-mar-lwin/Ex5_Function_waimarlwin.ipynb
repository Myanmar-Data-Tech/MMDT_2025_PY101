{
  "cells": [
    {
      "cell_type": "markdown",
      "metadata": {
        "colab_type": "text",
        "id": "view-in-github"
      },
      "source": [
        "<a href=\"https://colab.research.google.com/github/myothida/PythonProgramming/blob/main/Ex5_Function.ipynb\" target=\"_parent\"><img src=\"https://colab.research.google.com/assets/colab-badge.svg\" alt=\"Open In Colab\"/></a>"
      ]
    },
    {
      "cell_type": "markdown",
      "metadata": {
        "id": "b-1b6ywy-O5i"
      },
      "source": [
        "Exercises are taken from : https://www.brianheinold.net/python/A_Practical_Introduction_to_Python_Programming_Heinold.pdf\n"
      ]
    },
    {
      "cell_type": "markdown",
      "metadata": {
        "id": "pps5xBbs-I9w"
      },
      "source": [
        "Ex 1: Write a function called rectangle that takes two integers m and n as arguments and prints\n",
        "out an m× n box consisting of asterisks. Shown below is the output of rectangle(2,4)\n",
        "****\n",
        "****"
      ]
    },
    {
      "cell_type": "code",
      "execution_count": 2,
      "metadata": {
        "id": "S_5WWVLH3u8y"
      },
      "outputs": [
        {
          "name": "stdout",
          "output_type": "stream",
          "text": [
            "****\n",
            "****\n"
          ]
        }
      ],
      "source": [
        "def rectangle(m,n):\n",
        "    for k in range(m):\n",
        "        print(n*'*')\n",
        "\n",
        "rectangle(2,4)"
      ]
    },
    {
      "cell_type": "markdown",
      "metadata": {
        "id": "0QS7SmPV-coO"
      },
      "source": [
        "Ex 2: Write a function that takes an integer n and returns a random integer with exactly n digits. For\n",
        "instance, if n is 3, then 125 and 593 would be valid return values, but 093 would not because\n",
        "that is really 93, which is a two-digit number."
      ]
    },
    {
      "cell_type": "code",
      "execution_count": 9,
      "metadata": {
        "id": "c4ejnmGJ-MzL"
      },
      "outputs": [
        {
          "data": {
            "text/plain": [
              "9680"
            ]
          },
          "execution_count": 9,
          "metadata": {},
          "output_type": "execute_result"
        }
      ],
      "source": [
        "import random\n",
        "def calcualte_numbers ( n ): \n",
        "    result = random.randint(10**(n-1) , 10**(n)-1)\n",
        "\n",
        "\n",
        "    return result\n",
        "\n",
        "calcualte_numbers(4)"
      ]
    },
    {
      "cell_type": "markdown",
      "metadata": {
        "id": "B0P_F5Ld-ldg"
      },
      "source": [
        "Ex 3: Write a function called number_of_factors that takes an integer and returns how many\n",
        "factors the number has."
      ]
    },
    {
      "cell_type": "code",
      "execution_count": 14,
      "metadata": {
        "id": "Yr2BLCXp-oTi"
      },
      "outputs": [
        {
          "name": "stdout",
          "output_type": "stream",
          "text": [
            "[1, 2, 4, 8, 16, 32, 64, 128]\n",
            "8\n"
          ]
        }
      ],
      "source": [
        "def number_of_factors(n):\n",
        "    count =0\n",
        "    factors_list=[]\n",
        "    for d in range(1,n+1):\n",
        "        if(n % d ==0):\n",
        "            count +=1\n",
        "            factors_list +=[d]\n",
        "    print(factors_list)\n",
        "    return count\n",
        "print(number_of_factors(128))"
      ]
    },
    {
      "cell_type": "markdown",
      "metadata": {
        "id": "7w0DDTyY-o_4"
      },
      "source": [
        "Ex4: Write a function called first_diff that is given two strings and returns the first location in\n",
        "which the strings differ. If the strings are identical, it should return -1.Ignore the case in your function. It means h and H are the same."
      ]
    },
    {
      "cell_type": "code",
      "execution_count": 55,
      "metadata": {
        "id": "1WOvaf0z-6J6"
      },
      "outputs": [
        {
          "name": "stdout",
          "output_type": "stream",
          "text": [
            "-1\n",
            "3\n"
          ]
        }
      ],
      "source": [
        "def first_diff(str1, str2):\n",
        "    # Convert both strings to lowercase to ignore case\n",
        "    s1 = str1.lower()\n",
        "    s2 = str2.lower()\n",
        "    \n",
        "    # Find the length of the shorter string\n",
        "    length = min(len(s1), len(s2))\n",
        "    \n",
        "    # Compare characters one by one\n",
        "    for i in range(length):\n",
        "        if s1[i] != s2[i]:\n",
        "            return i  # Return the first index where they differ\n",
        "    \n",
        "    # If all characters matched in the shorter string,\n",
        "    # check if strings have different lengths\n",
        "    if len(s1) != len(s2):\n",
        "        return length  # Difference at the end of the shorter string\n",
        "    \n",
        "    # Strings are identical\n",
        "    return -1\n",
        "\n",
        "print(first_diff(\"Hello\", \"heLLo\")) \n",
        "print(first_diff(\"Hello\", \"heLp\"))"
      ]
    },
    {
      "cell_type": "markdown",
      "metadata": {
        "id": "jLM8fAg_-6th"
      },
      "source": [
        "Ex5: Write a function called root that is given a number x and an integer n and returns x/n. In\n",
        "the function definition, set the default value of n to 2."
      ]
    },
    {
      "cell_type": "code",
      "execution_count": 58,
      "metadata": {
        "id": "1TrSgTDa_Fu0"
      },
      "outputs": [
        {
          "data": {
            "text/plain": [
              "62.5"
            ]
          },
          "execution_count": 58,
          "metadata": {},
          "output_type": "execute_result"
        }
      ],
      "source": [
        "def root (x,n=2):\n",
        "    result = x/n\n",
        "    return result\n",
        "\n",
        "root(125)"
      ]
    },
    {
      "cell_type": "markdown",
      "metadata": {},
      "source": [
        "Ex6: Write a function that solves the system of equations ax + by = e and cx +dy = f. Your function should takes 6 parameters, (a, b, c, d, e,f) and return the values of x and y."
      ]
    },
    {
      "cell_type": "code",
      "execution_count": 26,
      "metadata": {},
      "outputs": [
        {
          "name": "stdout",
          "output_type": "stream",
          "text": [
            "The value of x is -4.0 and the value of y is 4.5\n"
          ]
        }
      ],
      "source": [
        "def solve_equation (a,b,c,d,e,f):\n",
        "    x = (d*e - b*f) / (a*d - b*c)\n",
        "    y = (a*f - c*e) / (a*d - b*c)\n",
        "    return x,y\n",
        "\n",
        "result = solve_equation(1,2,3,4,5,6)\n",
        "print(f\"The value of x is {result[0]} and the value of y is {result[1]}\")"
      ]
    },
    {
      "cell_type": "markdown",
      "metadata": {},
      "source": [
        "Ex7:  Write a function called change_case that given a string, returns a string with each upper  case letter replaced by a lower case letter and vice-versa"
      ]
    },
    {
      "cell_type": "code",
      "execution_count": 36,
      "metadata": {},
      "outputs": [
        {
          "data": {
            "text/plain": [
              "'hELLO pYTHON'"
            ]
          },
          "execution_count": 36,
          "metadata": {},
          "output_type": "execute_result"
        }
      ],
      "source": [
        "def case_change (s):\n",
        "    result = ''\n",
        "    for char in s:\n",
        "        if char.isupper():\n",
        "            result += char.lower()\n",
        "        elif char.islower():\n",
        "            result += char.upper()\n",
        "        else:\n",
        "            result += char\n",
        "    return result\n",
        "case_change(\"Hello Python\")"
      ]
    },
    {
      "cell_type": "markdown",
      "metadata": {},
      "source": [
        "Ex8:  Write a function called primes that is given a number n and returns a list of the first n  primes. Let the default value of n be 100."
      ]
    },
    {
      "cell_type": "code",
      "execution_count": 34,
      "metadata": {},
      "outputs": [
        {
          "name": "stdout",
          "output_type": "stream",
          "text": [
            "[2, 3, 5, 7, 11, 13, 17, 19, 23, 29, 31, 37]\n"
          ]
        }
      ],
      "source": [
        "def prime(n=100):\n",
        "    prime_list =[]\n",
        "    num = 2\n",
        "    while (len(prime_list) < n) :\n",
        "        for i in range (2,num):\n",
        "            if (num % i) == 0:\n",
        "                break\n",
        "        else:\n",
        "            prime_list.append(num)\n",
        "        num +=1\n",
        "    return prime_list\n",
        "\n",
        "print(prime(12))"
      ]
    },
    {
      "cell_type": "markdown",
      "metadata": {},
      "source": [
        "Ex9: A Tic-tac-toe board can be represented be a 3×3 two-dimensional list, where zeroes stand for  empty cells, ones stand for X’s and twos stand for O’s. Write a function that is given such a list and randomly chooses a spot in which to place  a 2 (O). The spot chosen must currently be empty and a spot must be chosen."
      ]
    },
    {
      "cell_type": "code",
      "execution_count": 57,
      "metadata": {},
      "outputs": [
        {
          "data": {
            "text/plain": [
              "[[1, 4, 2], [2, 1, 5], [3, 2, 1]]"
            ]
          },
          "execution_count": 57,
          "metadata": {},
          "output_type": "execute_result"
        }
      ],
      "source": [
        "import random\n",
        "\n",
        "def place_random(board):\n",
        "    # Step 1: Find all empty spots (cells with 0)\n",
        "    empty_spots = []\n",
        "    for i in range(3):\n",
        "        for j in range(3):\n",
        "            if board[i][j] == 0:\n",
        "                empty_spots.append((i, j))\n",
        "\n",
        "    # Step 2: Make sure there's at least one empty spot\n",
        "    if len(empty_spots) == 0:\n",
        "        print(\"No empty spots left on the board.\")\n",
        "        return board\n",
        "\n",
        "    # Step 3: Randomly pick one of the empty spots\n",
        "    i, j = random.choice(empty_spots)\n",
        "\n",
        "    # Step 4: Place a 2 (O) in the chosen spot\n",
        "    board[i][j] = 2\n",
        "\n",
        "    # Step 5: Return the updated board (optional)\n",
        "    return board\n",
        "\n",
        "board =[[1, 4, 0],[2, 1, 5],[3, 2, 1]]\n",
        "place_random(board)"
      ]
    },
    {
      "cell_type": "markdown",
      "metadata": {},
      "source": [
        "Ex10:  Write a function that is given a 9 × 9 potentially solved Sudoku and returns True if it is solved correctly and False if there is a mistake. The Sudoku is correctly solved if there are\n",
        " no repeated numbers in any row or any column or in any of the nine “blocks.”\n"
      ]
    },
    {
      "cell_type": "code",
      "execution_count": null,
      "metadata": {},
      "outputs": [
        {
          "name": "stdout",
          "output_type": "stream",
          "text": [
            "True\n"
          ]
        }
      ],
      "source": [
        "def is_valid_sudoku(board):\n",
        "    #get the value of each row from the board\n",
        "    for i in range(9):\n",
        "        row = board[i]\n",
        "\n",
        "        #getting all the values in one column of the Sudoku board and putting them into a list\n",
        "        col = []\n",
        "        for j in range(9):\n",
        "            col.append(board[j][i])\n",
        "\n",
        "        #to check if there are any repeated numbers in the row.\n",
        "        if len(row) != 9 or len(set(row)) != 9:\n",
        "            return False\n",
        "\n",
        "        #to check if there are any repeated numbers in the column\n",
        "        if len(col) != 9 or len(set(col)) != 9:\n",
        "            return False\n",
        "        \n",
        "    \n",
        "    for r in (0, 3, 6):     # For each block’s starting row: 0, 3, 6\n",
        "        for c in (0, 3, 6): # For each block’s starting column: 0, 3, 6\n",
        "            block = []\n",
        "\n",
        "            #Check 3 rows inside the block\n",
        "            for i in range(3):\n",
        "\n",
        "                #Check 3 columns inside the block\n",
        "                for j in range(3):\n",
        "                    # Add the number at this row and column to the block list\n",
        "                    block.append(board[r + i][c + j]) \n",
        "            '''\n",
        "            Check block\n",
        "            It must have exactly 9 numbers,\n",
        "            All numbers must be unique (no repeats)\n",
        "            '''\n",
        "            if len(block) != 9 in block or len(set(block)) != 9:\n",
        "                return False\n",
        "\n",
        "    return True\n",
        "\n",
        "sudoku_board = [\n",
        "    [50, 3, 4, 60, 7, 8, 9, 11, 0],\n",
        "    [6, 7, 2, 1, 96, 5, 3, 4, 81],\n",
        "    [1, 9, 8, 3, 4, 2, 5, 6, 74],\n",
        "    [8, 5, 98, 7, 6, 1, 4, 2, 3],\n",
        "    [4, 12, 6, 8, 5, 3, 7, 9, 1],\n",
        "    [7, 1, 37, 9, 2, 4, 8, 0, 6],\n",
        "    [9, 6, 1, 5, 3, 7, 2, 8, 4],\n",
        "    [2, 8, 7, 43, 1, 9, 6, 3, 5],\n",
        "    [30, 41, 500, 2, 88, 6, 1, 7, 90]\n",
        "]\n",
        "print(is_valid_sudoku(sudoku_board))\n"
      ]
    }
  ],
  "metadata": {
    "colab": {
      "authorship_tag": "ABX9TyOc19BkvVV1F7h4PXyyYuJC",
      "include_colab_link": true,
      "name": "Ex5_Function.ipynb",
      "provenance": []
    },
    "kernelspec": {
      "display_name": "myproject_kernel",
      "language": "python",
      "name": "myproject_kernel"
    },
    "language_info": {
      "codemirror_mode": {
        "name": "ipython",
        "version": 3
      },
      "file_extension": ".py",
      "mimetype": "text/x-python",
      "name": "python",
      "nbconvert_exporter": "python",
      "pygments_lexer": "ipython3",
      "version": "3.13.2"
    }
  },
  "nbformat": 4,
  "nbformat_minor": 0
}
