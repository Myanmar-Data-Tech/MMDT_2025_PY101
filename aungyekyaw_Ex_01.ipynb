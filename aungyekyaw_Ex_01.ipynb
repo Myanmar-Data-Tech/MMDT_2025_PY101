{
  "nbformat": 4,
  "nbformat_minor": 0,
  "metadata": {
    "colab": {
      "provenance": []
    },
    "kernelspec": {
      "name": "python3",
      "display_name": "Python 3"
    },
    "language_info": {
      "name": "python"
    }
  },
  "cells": [
    {
      "cell_type": "code",
      "execution_count": 5,
      "metadata": {
        "colab": {
          "base_uri": "https://localhost:8080/"
        },
        "collapsed": true,
        "id": "p4bbfnjD9don",
        "outputId": "fc200954-4a45-4292-8070-a554b1b7461c"
      },
      "outputs": [
        {
          "output_type": "stream",
          "name": "stdout",
          "text": [
            "Enter usd amount2000\n",
            "USD 2000 is equivalent to 1640.0\n"
          ]
        }
      ],
      "source": [
        "usd_amount = input(\"Enter usd amount\")\n",
        "pd_amount = int(usd_amount)* 0.82\n",
        "print (\"USD \" + str(usd_amount) + \" is equivalent to \" + str(pd_amount))"
      ]
    }
  ]
}