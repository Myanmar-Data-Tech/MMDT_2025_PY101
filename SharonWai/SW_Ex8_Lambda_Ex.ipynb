{
  "cells": [
    {
      "cell_type": "markdown",
      "metadata": {
        "id": "view-in-github",
        "colab_type": "text"
      },
      "source": [
        "<a href=\"https://colab.research.google.com/github/SharonWai/MMDT_2025_PY101/blob/SharonWai1/SharonWai/SW_Ex8_Lambda_Ex.ipynb\" target=\"_parent\"><img src=\"https://colab.research.google.com/assets/colab-badge.svg\" alt=\"Open In Colab\"/></a>"
      ]
    },
    {
      "cell_type": "markdown",
      "metadata": {
        "id": "SRyg8K3Svi0a"
      },
      "source": [
        "Q1). Write a lambda function that takes an integer 'year' and returns 'age'."
      ]
    },
    {
      "cell_type": "code",
      "execution_count": 6,
      "metadata": {
        "colab": {
          "base_uri": "https://localhost:8080/"
        },
        "id": "Q5VZ9DrMvi0c",
        "outputId": "bccb4860-574d-4b6d-9a20-3685324e0023"
      },
      "outputs": [
        {
          "output_type": "execute_result",
          "data": {
            "text/plain": [
              "30"
            ]
          },
          "metadata": {},
          "execution_count": 6
        }
      ],
      "source": [
        "import datetime\n",
        "\n",
        "age_calculator = lambda year : datetime.datetime.now().year-year\n",
        "age_calculator(1995)"
      ]
    },
    {
      "cell_type": "markdown",
      "metadata": {
        "id": "_Ip6HDBVvi0e"
      },
      "source": [
        "Q2) Write a lambda function that takes a float \"cost\" and returns a float \"price\" by adding 10% to the cost."
      ]
    },
    {
      "cell_type": "code",
      "execution_count": 8,
      "metadata": {
        "colab": {
          "base_uri": "https://localhost:8080/"
        },
        "id": "MxlciJEzvi0e",
        "outputId": "1e8da7b2-00d5-412e-9071-bc1600d13be4"
      },
      "outputs": [
        {
          "output_type": "execute_result",
          "data": {
            "text/plain": [
              "143.0"
            ]
          },
          "metadata": {},
          "execution_count": 8
        }
      ],
      "source": [
        "#Use lambda function that takes a 'cost' and returns a 'price' by adding addition 10% on the cost.\n",
        "get_price = lambda cost : cost*1.10\n",
        "get_price(130)"
      ]
    },
    {
      "cell_type": "markdown",
      "metadata": {
        "id": "VZSPky2Avi0f"
      },
      "source": [
        "Q3) For the given name list : names = ['Richard', 'Karam', 'Karpo', 'Sonam', 'Ugyen']\n",
        "\n",
        "Write a python program that converts each name into email address. The domain is given as gmail."
      ]
    },
    {
      "cell_type": "code",
      "execution_count": 9,
      "metadata": {
        "colab": {
          "base_uri": "https://localhost:8080/"
        },
        "id": "z7P0zDX4vi0f",
        "outputId": "ec906dcc-59d8-4936-e88a-aa2a33269e97"
      },
      "outputs": [
        {
          "output_type": "execute_result",
          "data": {
            "text/plain": [
              "['Richard@gmail.com',\n",
              " 'Karam@gmail.com',\n",
              " 'Karpo@gmail.com',\n",
              " 'Sonam@gmail.com',\n",
              " 'Ugyen@gmail.com']"
            ]
          },
          "metadata": {},
          "execution_count": 9
        }
      ],
      "source": [
        "names = ['Richard', 'Karam', 'Karpo', 'Sonam', 'Ugyen']\n",
        "\n",
        "#Write a code to converts each name into email address.\n",
        "email_generator = lambda name : name + '@' + 'gmail.com'\n",
        "email_list = [*map(email_generator, names)]\n",
        "email_list"
      ]
    },
    {
      "cell_type": "markdown",
      "metadata": {
        "id": "_BK5oAskvi0f"
      },
      "source": [
        "Q4) Write a lambda function that takes two strings 'name' , 'domain' and returns an email address (string)."
      ]
    },
    {
      "cell_type": "code",
      "execution_count": 12,
      "metadata": {
        "colab": {
          "base_uri": "https://localhost:8080/",
          "height": 35
        },
        "id": "kuBK2TdFvi0g",
        "outputId": "eb38f5ae-3a66-489e-a259-343045400a7a"
      },
      "outputs": [
        {
          "output_type": "execute_result",
          "data": {
            "text/plain": [
              "'sharon@yahoo.com'"
            ],
            "application/vnd.google.colaboratory.intrinsic+json": {
              "type": "string"
            }
          },
          "metadata": {},
          "execution_count": 12
        }
      ],
      "source": [
        "email = lambda name, domain : name + '@' + domain + '.com'\n",
        "email('sharon', 'yahoo')"
      ]
    },
    {
      "cell_type": "markdown",
      "metadata": {
        "id": "MCC0M6Syvi0g"
      },
      "source": [
        "Q5) old_list = [2, 4, 6, 7, 9]\n",
        "\n",
        "write a for loop to square each element of the given old_list."
      ]
    },
    {
      "cell_type": "code",
      "execution_count": 14,
      "metadata": {
        "colab": {
          "base_uri": "https://localhost:8080/"
        },
        "id": "l_jaUVdRvi0g",
        "outputId": "7204e250-bf32-441f-e067-37b489a1840a"
      },
      "outputs": [
        {
          "output_type": "execute_result",
          "data": {
            "text/plain": [
              "[4, 16, 36, 49, 81]"
            ]
          },
          "metadata": {},
          "execution_count": 14
        }
      ],
      "source": [
        "# list comprehension\n",
        "old_list = [2, 4, 6, 7, 9]\n",
        "new_list = []\n",
        "\n",
        "# Use list comprehension and square each element of the given old_list.\n",
        "new_list = [value**2 for value in old_list]\n",
        "new_list"
      ]
    },
    {
      "cell_type": "code",
      "source": [],
      "metadata": {
        "id": "0krHWdBxyoIn"
      },
      "execution_count": null,
      "outputs": []
    }
  ],
  "metadata": {
    "kernelspec": {
      "display_name": "base",
      "language": "python",
      "name": "python3"
    },
    "language_info": {
      "codemirror_mode": {
        "name": "ipython",
        "version": 3
      },
      "file_extension": ".py",
      "mimetype": "text/x-python",
      "name": "python",
      "nbconvert_exporter": "python",
      "pygments_lexer": "ipython3",
      "version": "3.12.1"
    },
    "colab": {
      "provenance": [],
      "include_colab_link": true
    }
  },
  "nbformat": 4,
  "nbformat_minor": 0
}