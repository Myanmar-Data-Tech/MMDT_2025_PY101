{
  "nbformat": 4,
  "nbformat_minor": 0,
  "metadata": {
    "colab": {
      "provenance": [],
      "authorship_tag": "ABX9TyPwo6Cgp6LhD7Ga58wZQUEU",
      "include_colab_link": true
    },
    "kernelspec": {
      "name": "python3",
      "display_name": "Python 3"
    },
    "language_info": {
      "name": "python"
    }
  },
  "cells": [
    {
      "cell_type": "markdown",
      "metadata": {
        "id": "view-in-github",
        "colab_type": "text"
      },
      "source": [
        "<a href=\"https://colab.research.google.com/github/khinenwehtun/MMDT_2025_PY101/blob/main/khinenwehtun/khinenwehtun_Ex7_debugging.ipynb\" target=\"_parent\"><img src=\"https://colab.research.google.com/assets/colab-badge.svg\" alt=\"Open In Colab\"/></a>"
      ]
    },
    {
      "cell_type": "code",
      "execution_count": 1,
      "metadata": {
        "id": "QnklPlUEVqTG",
        "outputId": "d7df3b69-813c-4682-b134-885cf6bbe3d1",
        "colab": {
          "base_uri": "https://localhost:8080/",
          "height": 261
        }
      },
      "outputs": [
        {
          "name": "stdout",
          "output_type": "stream",
          "text": [
            "Program started...\n",
            "Random number generated: 3\n",
            "Starting loop to print 'Hello' messages...\n",
            "\n",
            "Iteration 1:  Hello Hello Hello \n",
            "Iteration 2:  Hello Hello Hello \n",
            "Iteration 3:  Hello Hello Hello \n",
            "Iteration 4:  Hello Hello Hello \n",
            "Iteration 5:  Hello Hello Hello \n",
            "Iteration 6:  Hello Hello Hello \n",
            "\n",
            "All iterations completed.\n",
            "Press Enter to exit...\n"
          ]
        },
        {
          "output_type": "execute_result",
          "data": {
            "text/plain": [
              "''"
            ],
            "application/vnd.google.colaboratory.intrinsic+json": {
              "type": "string"
            }
          },
          "metadata": {},
          "execution_count": 1
        }
      ],
      "source": [
        "from random import randint\n",
        "print(\"Program started...\")\n",
        "\n",
        "rand_num = randint(1, 5)\n",
        "print(f\"Random number generated: {rand_num}\")\n",
        "\n",
        "print(\"Starting loop to print 'Hello' messages...\\n\")\n",
        "for i in range(6):\n",
        "    print(f\"Iteration {i+1}: \", 'Hello ' * rand_num)\n",
        "\n",
        "print(\"\\nAll iterations completed.\")\n",
        "\n",
        "\n",
        "input(\"Press Enter to exit...\")\n"
      ]
    },
    {
      "cell_type": "code",
      "source": [
        "from random import randint\n",
        "\n",
        "print(\"Program started...\")\n",
        "\n",
        "\n",
        "print(\"This program will print the word 'Hello' multiple times in each of 6 iterations.\")\n",
        "print(\"In each iteration, a random number between 1 and 5 is generated.\")\n",
        "print(\"The word 'Hello' will be repeated that many times.\\n\")\n",
        "\n",
        "rand_num = randint(1, 5)\n",
        "print(f\"Iteration {i+1}: rand_num = {rand_num}\")\n",
        "print('Hello ' * rand_num)\n",
        "\n",
        "\n",
        "input(\"\\nPress Enter to exit...\")"
      ],
      "metadata": {
        "colab": {
          "base_uri": "https://localhost:8080/"
        },
        "id": "e2pFtjjyW-zZ",
        "outputId": "440a8f83-f62e-4d8a-eba7-16936e6fdb7a"
      },
      "execution_count": null,
      "outputs": [
        {
          "output_type": "stream",
          "name": "stdout",
          "text": [
            "Program started...\n",
            "This program will print the word 'Hello' multiple times in each of 6 iterations.\n",
            "In each iteration, a random number between 1 and 5 is generated.\n",
            "The word 'Hello' will be repeated that many times.\n",
            "\n",
            "Iteration 6: rand_num = 1\n",
            "Hello \n"
          ]
        }
      ]
    },
    {
      "cell_type": "code",
      "source": [
        "import numpy as np\n",
        "\n",
        "def count_multiples_of_12():\n",
        "\n",
        "    random_numbers = np.random.randint(1, 101, size=10000)\n",
        "\n",
        "\n",
        "    count = np.sum(random_numbers % 12 == 0)\n",
        "\n",
        "    return count\n",
        "\n",
        "\n",
        "result = count_multiples_of_12()\n",
        "print(f\"Count of multiples of 12: {result}\")\n",
        "\n",
        "\n",
        "input(\"Press Enter to exit...\")"
      ],
      "metadata": {
        "colab": {
          "base_uri": "https://localhost:8080/"
        },
        "id": "uOwy90xvYVlC",
        "outputId": "0867449b-38be-4467-f600-7e26ffd076d9"
      },
      "execution_count": null,
      "outputs": [
        {
          "output_type": "stream",
          "name": "stdout",
          "text": [
            "Count of multiples of 12: 824\n"
          ]
        }
      ]
    },
    {
      "cell_type": "code",
      "source": [
        "def add(a, b):\n",
        "    try:\n",
        "        return a + b\n",
        "    except TypeError:\n",
        "        return \"Error: Cannot add different types.\"\n",
        "\n",
        "print(add(5, '2'))\n",
        "\n",
        "\n",
        "\n",
        "\n"
      ],
      "metadata": {
        "id": "ErACoZXfYsQK"
      },
      "execution_count": null,
      "outputs": []
    },
    {
      "cell_type": "code",
      "source": [
        "def divide(a, b):\n",
        "    try:\n",
        "        result = a / b\n",
        "        return result\n",
        "    except ZeroDivisionError:\n",
        "        return \"Error: Cannot divide by zero.\"\n",
        "    except TypeError:\n",
        "        return \"Error: Both inputs must be numbers.\"\n",
        "\n",
        "print(divide(10, 2))"
      ],
      "metadata": {
        "id": "uVOqCWd7ZKY_"
      },
      "execution_count": null,
      "outputs": []
    },
    {
      "cell_type": "code",
      "source": [
        "def is_prime(n):\n",
        "    if n <= 1:\n",
        "        return False\n",
        "    for i in range(2, int(n**0.5) + 1):\n",
        "        if n % i == 0:\n",
        "            return False\n",
        "    return True\n",
        "\n",
        "print(is_prime(15))\n"
      ],
      "metadata": {
        "id": "s2fgELe7Zad4"
      },
      "execution_count": null,
      "outputs": []
    },
    {
      "cell_type": "code",
      "source": [],
      "metadata": {
        "id": "-dW-ix29Zm3S"
      },
      "execution_count": null,
      "outputs": []
    }
  ]
}