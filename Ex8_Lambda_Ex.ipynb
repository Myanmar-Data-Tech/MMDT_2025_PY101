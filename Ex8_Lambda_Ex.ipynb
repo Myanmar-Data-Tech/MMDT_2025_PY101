{
  "cells": [
    {
      "cell_type": "markdown",
      "metadata": {
        "id": "cNmKcjreFq9h"
      },
      "source": [
        "Q1). Write a lambda function that takes an integer 'year' and returns 'age'."
      ]
    },
    {
      "cell_type": "code",
      "execution_count": null,
      "metadata": {
        "colab": {
          "base_uri": "https://localhost:8080/"
        },
        "id": "1mwPpR4AFq9k",
        "outputId": "f34e0a83-3fb1-41f2-b089-451d7c5c0dd5"
      },
      "outputs": [
        {
          "output_type": "stream",
          "name": "stdout",
          "text": [
            "25\n"
          ]
        }
      ],
      "source": [
        "from datetime import datetime\n",
        "calculate_age = lambda year: datetime.now().year - year\n",
        "print(calculate_age(2000))"
      ]
    },
    {
      "cell_type": "markdown",
      "metadata": {
        "id": "7icW5XYjFq9m"
      },
      "source": [
        "Q2) Write a lambda function that takes a float \"cost\" and returns a float \"price\" by adding 10% to the cost."
      ]
    },
    {
      "cell_type": "code",
      "execution_count": null,
      "metadata": {
        "colab": {
          "base_uri": "https://localhost:8080/"
        },
        "id": "tgiyBfIFFq9m",
        "outputId": "92725f51-13ea-4b71-f966-395cf457bc8c"
      },
      "outputs": [
        {
          "output_type": "stream",
          "name": "stdout",
          "text": [
            "110.00000000000001\n"
          ]
        }
      ],
      "source": [
        "add_ten_percent = lambda cost: cost * 1.10\n",
        "\n",
        "print(add_ten_percent(100.0))\n"
      ]
    },
    {
      "cell_type": "markdown",
      "metadata": {
        "id": "9f18zfE-Fq9n"
      },
      "source": [
        "Q3) For the given name list : names = ['Richard', 'Karam', 'Karpo', 'Sonam', 'Ugyen']\n",
        "\n",
        "Write a python program that converts each name into email address. The domain is given as gmail."
      ]
    },
    {
      "cell_type": "code",
      "execution_count": null,
      "metadata": {
        "colab": {
          "base_uri": "https://localhost:8080/"
        },
        "id": "XsmjsqKmFq9n",
        "outputId": "9797ef34-533c-49a2-d914-b1cde684e746"
      },
      "outputs": [
        {
          "output_type": "stream",
          "name": "stdout",
          "text": [
            "richard@gmail.com\n",
            "karam@gmail.com\n",
            "karpo@gmail.com\n",
            "sonam@gmail.com\n",
            "ugyen@gmail.com\n"
          ]
        }
      ],
      "source": [
        "names = ['Richard', 'Karam', 'Karpo', 'Sonam', 'Ugyen']\n",
        "domain = 'gmail.com'\n",
        "emails = [name.lower() + '@' + domain for name in names]\n",
        "for email in emails:\n",
        "    print(email)\n"
      ]
    },
    {
      "cell_type": "markdown",
      "metadata": {
        "id": "uBJ2NE2bFq9o"
      },
      "source": [
        "Q4) Write a lambda function that takes two strings 'name' , 'domain' and returns an email address (string)."
      ]
    },
    {
      "cell_type": "code",
      "execution_count": null,
      "metadata": {
        "colab": {
          "base_uri": "https://localhost:8080/"
        },
        "id": "N8-z1KqQFq9p",
        "outputId": "e369f35f-eaca-47cf-dd66-503078667d86"
      },
      "outputs": [
        {
          "output_type": "stream",
          "name": "stdout",
          "text": [
            "charlie@gmail.com\n"
          ]
        }
      ],
      "source": [
        "create_email = lambda name, domain: name.lower() + '@' + domain\n",
        "\n",
        "print(create_email('Charlie', 'gmail.com'))\n"
      ]
    },
    {
      "cell_type": "markdown",
      "metadata": {
        "id": "mMbpl9oDFq9q"
      },
      "source": [
        "Q5) old_list = [2, 4, 6, 7, 9]\n",
        "\n",
        "write a for loop to square each element of the given old_list."
      ]
    },
    {
      "cell_type": "code",
      "execution_count": null,
      "metadata": {
        "colab": {
          "base_uri": "https://localhost:8080/"
        },
        "id": "Jy39GSuRFq9q",
        "outputId": "48db5b4e-ad64-44ad-88ce-b10aa11fe1ac"
      },
      "outputs": [
        {
          "output_type": "stream",
          "name": "stdout",
          "text": [
            "[4, 16, 36, 49, 81]\n"
          ]
        }
      ],
      "source": [
        "old_list = [2, 4, 6, 7, 9]\n",
        "squared_list = []\n",
        "for num in old_list:\n",
        "    squared = num ** 2\n",
        "    squared_list.append(squared)\n",
        "print(squared_list)\n"
      ]
    }
  ],
  "metadata": {
    "kernelspec": {
      "display_name": "base",
      "language": "python",
      "name": "python3"
    },
    "language_info": {
      "codemirror_mode": {
        "name": "ipython",
        "version": 3
      },
      "file_extension": ".py",
      "mimetype": "text/x-python",
      "name": "python",
      "nbconvert_exporter": "python",
      "pygments_lexer": "ipython3",
      "version": "3.12.1"
    },
    "colab": {
      "provenance": []
    }
  },
  "nbformat": 4,
  "nbformat_minor": 0
}