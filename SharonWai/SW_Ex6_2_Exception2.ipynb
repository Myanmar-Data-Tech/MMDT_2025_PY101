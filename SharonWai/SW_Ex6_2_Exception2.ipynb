{
  "cells": [
    {
      "cell_type": "markdown",
      "metadata": {
        "id": "view-in-github",
        "colab_type": "text"
      },
      "source": [
        "<a href=\"https://colab.research.google.com/github/SharonWai/MMDT_2025_PY101/blob/SharonWai1/SharonWai/SW_Ex6_2_Exception2.ipynb\" target=\"_parent\"><img src=\"https://colab.research.google.com/assets/colab-badge.svg\" alt=\"Open In Colab\"/></a>"
      ]
    },
    {
      "cell_type": "markdown",
      "metadata": {
        "id": "KqJ1UltELuXZ"
      },
      "source": [
        "# Exception Handling\n"
      ]
    },
    {
      "cell_type": "markdown",
      "metadata": {
        "id": "g97zV-WkLuXe"
      },
      "source": [
        "### Q2) Run the following programs and identify the potential errors.\n",
        "Use exception handling approach to handle and print all the potential erros.\n"
      ]
    },
    {
      "cell_type": "code",
      "execution_count": 3,
      "metadata": {
        "colab": {
          "base_uri": "https://localhost:8080/"
        },
        "id": "hddDFhyyLuXf",
        "outputId": "f8ff3f71-7b58-4b60-b7ba-09afabffb890"
      },
      "outputs": [
        {
          "output_type": "stream",
          "name": "stdout",
          "text": [
            "Please enter a number to divide a 5\n",
            "Success a=  0.2\n"
          ]
        }
      ],
      "source": [
        "#Q2.1)\n",
        "a = 1\n",
        "try:\n",
        "  b = int(input(\"Please enter a number to divide a \"))\n",
        "  a = a/b\n",
        "except ValueError:\n",
        "  print(\"Error: You have to enter a valid integer\")\n",
        "except ZeroDivisionError:\n",
        "  print(\"Error: Divided by zero is not allowed.\")\n",
        "else:\n",
        "  print(\"Success a= \", a)"
      ]
    },
    {
      "cell_type": "code",
      "execution_count": 6,
      "metadata": {
        "colab": {
          "base_uri": "https://localhost:8080/"
        },
        "id": "HqSFmpSCLuXh",
        "outputId": "a980da2d-3015-4cd0-8a9d-ddf634262f4d"
      },
      "outputs": [
        {
          "output_type": "stream",
          "name": "stdout",
          "text": [
            "Iteration: 0 0.4\n",
            "Iteration completed\n",
            "Iteration: 1 0.6\n",
            "Iteration completed\n",
            "Iteration: 2 1.0\n",
            "Iteration completed\n",
            "Iteration: 3 -1.4\n",
            "Iteration completed\n",
            "Iteration: 4 1.6\n",
            "Iteration completed\n",
            "Iteration: 5 0.0\n",
            "Iteration completed\n",
            "Error: Index 6 is out of range for the list\n"
          ]
        }
      ],
      "source": [
        "#Q2.2)\n",
        "mylist = [2, 3, 5, -7, 8, 0]\n",
        "idx = 0\n",
        "b = 5\n",
        "while idx<=6:\n",
        "  try:\n",
        "    result = mylist[idx] / b\n",
        "    print('Iteration:', idx, result)\n",
        "  except ZeroDivisionError:\n",
        "    print(\"Error: Divided by zero is not allowed.\")\n",
        "  except IndexError:\n",
        "    print(\"Error: Index {} is out of range for the list\".format(idx))\n",
        "  except TypeError:\n",
        "    print(\"Error: The value must be a number.\")\n",
        "  else:\n",
        "     print('Iteration completed')\n",
        "  idx += 1"
      ]
    },
    {
      "cell_type": "code",
      "execution_count": null,
      "metadata": {
        "id": "XrNfiPl_LuXi"
      },
      "outputs": [],
      "source": []
    }
  ],
  "metadata": {
    "kernelspec": {
      "display_name": "Python 3",
      "language": "python",
      "name": "python3"
    },
    "language_info": {
      "codemirror_mode": {
        "name": "ipython",
        "version": 3
      },
      "file_extension": ".py",
      "mimetype": "text/x-python",
      "name": "python",
      "nbconvert_exporter": "python",
      "pygments_lexer": "ipython3",
      "version": "3.8.8"
    },
    "colab": {
      "provenance": [],
      "include_colab_link": true
    }
  },
  "nbformat": 4,
  "nbformat_minor": 0
}