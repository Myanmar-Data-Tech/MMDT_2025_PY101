{
  "cells": [
    {
      "cell_type": "markdown",
      "metadata": {
        "id": "view-in-github",
        "colab_type": "text"
      },
      "source": [
        "<a href=\"https://colab.research.google.com/github/drwaiyanbo/MMDT_2025_PY101/blob/waiyanbo/Waiyanbo/Ex8_Lambda_Waiyanbo.ipynb\" target=\"_parent\"><img src=\"https://colab.research.google.com/assets/colab-badge.svg\" alt=\"Open In Colab\"/></a>"
      ]
    },
    {
      "cell_type": "markdown",
      "metadata": {
        "id": "a-QuH9GoGwrv"
      },
      "source": [
        "Q1). Write a lambda function that takes an integer 'year' and returns 'age'."
      ]
    },
    {
      "cell_type": "code",
      "execution_count": 8,
      "metadata": {
        "colab": {
          "base_uri": "https://localhost:8080/"
        },
        "id": "ma8h3_bpGwrx",
        "outputId": "939e72bb-80e8-44ef-e57e-b3dccbaacf48"
      },
      "outputs": [
        {
          "output_type": "execute_result",
          "data": {
            "text/plain": [
              "41"
            ]
          },
          "metadata": {},
          "execution_count": 8
        }
      ],
      "source": [
        "from datetime import datetime\n",
        "\n",
        "current_year = datetime.now().year\n",
        "calculate_age = lambda year: current_year - year\n",
        "calculate_age(1984)"
      ]
    },
    {
      "cell_type": "markdown",
      "metadata": {
        "id": "zZZrP_7PGwry"
      },
      "source": [
        "Q2) Write a lambda function that takes a float \"cost\" and returns a float \"price\" by adding 10% to the cost."
      ]
    },
    {
      "cell_type": "code",
      "execution_count": 14,
      "metadata": {
        "colab": {
          "base_uri": "https://localhost:8080/"
        },
        "id": "dBpUrLh3Gwry",
        "outputId": "467ed7db-78ab-4bda-8433-3ff926cb22de"
      },
      "outputs": [
        {
          "output_type": "execute_result",
          "data": {
            "text/plain": [
              "110.0"
            ]
          },
          "metadata": {},
          "execution_count": 14
        }
      ],
      "source": [
        "calculate_price = lambda cost: cost + cost * 0.10\n",
        "calculate_price(100)"
      ]
    },
    {
      "cell_type": "markdown",
      "metadata": {
        "id": "LC9MSZRfGwry"
      },
      "source": [
        "Q3) For the given name list : names = ['Richard', 'Karam', 'Karpo', 'Sonam', 'Ugyen']\n",
        "\n",
        "Write a python program that converts each name into email address. The domain is given as gmail."
      ]
    },
    {
      "cell_type": "code",
      "execution_count": 16,
      "metadata": {
        "colab": {
          "base_uri": "https://localhost:8080/"
        },
        "id": "k-BF5e65Gwrz",
        "outputId": "6aaf547d-96d3-41e7-b045-34fab390a0f2"
      },
      "outputs": [
        {
          "output_type": "execute_result",
          "data": {
            "text/plain": [
              "['richard@gmail.com',\n",
              " 'karam@gmail.com',\n",
              " 'karpo@gmail.com',\n",
              " 'sonam@gmail.com',\n",
              " 'ugyen@gmail.com']"
            ]
          },
          "metadata": {},
          "execution_count": 16
        }
      ],
      "source": [
        "create_email = lambda name: name.lower() + \"@gmail.com\"\n",
        "emails = [*map(create_email, names)]\n",
        "emails"
      ]
    },
    {
      "cell_type": "markdown",
      "metadata": {
        "id": "fZW0uFMAGwrz"
      },
      "source": [
        "Q4) Write a lambda function that takes two strings 'name' , 'domain' and returns an email address (string)."
      ]
    },
    {
      "cell_type": "code",
      "execution_count": 18,
      "metadata": {
        "colab": {
          "base_uri": "https://localhost:8080/",
          "height": 36
        },
        "id": "dEzjuXqFGwrz",
        "outputId": "6817f9e2-e4cc-4f82-d786-13e5835c2b28"
      },
      "outputs": [
        {
          "output_type": "execute_result",
          "data": {
            "text/plain": [
              "'waiyanbo@gmail.com'"
            ],
            "application/vnd.google.colaboratory.intrinsic+json": {
              "type": "string"
            }
          },
          "metadata": {},
          "execution_count": 18
        }
      ],
      "source": [
        "create_custom_email = lambda name, domain: name.lower()+'@'+domain\n",
        "create_custom_email('waiyanbo', 'gmail.com')"
      ]
    },
    {
      "cell_type": "markdown",
      "metadata": {
        "id": "p9yRkVidGwrz"
      },
      "source": [
        "Q5) old_list = [2, 4, 6, 7, 9]\n",
        "\n",
        "write a for loop to square each element of the given old_list."
      ]
    },
    {
      "cell_type": "code",
      "execution_count": 22,
      "metadata": {
        "colab": {
          "base_uri": "https://localhost:8080/"
        },
        "id": "R_AurK5NGwrz",
        "outputId": "9e5f08e9-09f5-4296-9f00-b6dcd3fd3f2f"
      },
      "outputs": [
        {
          "output_type": "stream",
          "name": "stdout",
          "text": [
            "[4, 16, 36, 49, 81]\n"
          ]
        }
      ],
      "source": [
        "# list comprehension\n",
        "old_list = [2, 4, 6, 7, 9]\n",
        "new_list = [value**2 for value in old_list]\n",
        "\n",
        "\n",
        "print(new_list1)"
      ]
    }
  ],
  "metadata": {
    "kernelspec": {
      "display_name": "base",
      "language": "python",
      "name": "python3"
    },
    "language_info": {
      "codemirror_mode": {
        "name": "ipython",
        "version": 3
      },
      "file_extension": ".py",
      "mimetype": "text/x-python",
      "name": "python",
      "nbconvert_exporter": "python",
      "pygments_lexer": "ipython3",
      "version": "3.12.1"
    },
    "colab": {
      "provenance": [],
      "include_colab_link": true
    }
  },
  "nbformat": 4,
  "nbformat_minor": 0
}