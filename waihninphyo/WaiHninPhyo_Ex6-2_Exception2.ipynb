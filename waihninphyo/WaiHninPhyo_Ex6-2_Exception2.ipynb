{
 "cells": [
  {
   "cell_type": "markdown",
   "metadata": {},
   "source": [
    "# Exception Handling\n"
   ]
  },
  {
   "cell_type": "markdown",
   "metadata": {},
   "source": [
    "### Q2) Run the following programs and identify the potential errors. \n",
    "Use exception handling approach to handle and print all the potential erros. \n"
   ]
  },
  {
   "cell_type": "code",
   "execution_count": 7,
   "metadata": {},
   "outputs": [
    {
     "name": "stdin",
     "output_type": "stream",
     "text": [
      "Please enter a number to divide a:  0\n"
     ]
    },
    {
     "name": "stdout",
     "output_type": "stream",
     "text": [
      "Math Error: Division by zero is not allowed.\n"
     ]
    }
   ],
   "source": [
    "#Q2.1) \n",
    "try:\n",
    "    a = 1\n",
    "    b = int(input(\"Please enter a number to divide a: \"))\n",
    "    a = a / b\n",
    "    print(\"Success a= \", a)\n",
    "except ValueError as ve:\n",
    "    print(\"Input Error: Please enter a valid integer.\")\n",
    "except ZeroDivisionError as zde:\n",
    "    print(\"Math Error: Division by zero is not allowed.\")\n",
    "except Exception as e:\n",
    "    print(\"Unexpected Error:\", e)\n"
   ]
  },
  {
   "cell_type": "code",
   "execution_count": 9,
   "metadata": {},
   "outputs": [
    {
     "name": "stdout",
     "output_type": "stream",
     "text": [
      "Iteration: 0 0.4\n",
      "Iteration completed\n",
      "Iteration: 1 0.6\n",
      "Iteration completed\n",
      "Iteration: 2 1.0\n",
      "Iteration completed\n",
      "Iteration: 3 -1.4\n",
      "Iteration completed\n",
      "Iteration: 4 1.6\n",
      "Iteration completed\n",
      "Iteration: 5 0.0\n",
      "Iteration completed\n",
      "IndexError: Index 6 is out of range.\n",
      "Iteration completed\n"
     ]
    }
   ],
   "source": [
    "#Q2.2) \n",
    "mylist = [2, 3, 5, -7, 8, 0]\n",
    "idx = 0\n",
    "b = 5\n",
    "\n",
    "while idx <= 6:\n",
    "    try:\n",
    "        print('Iteration:', idx, mylist[idx] / b)\n",
    "    except IndexError as ie:\n",
    "        print(f\"IndexError: Index {idx} is out of range.\")\n",
    "    except ZeroDivisionError as zde:\n",
    "        print(\"Math Error: Division by zero is not allowed.\")\n",
    "    except Exception as e:\n",
    "        print(\"Unexpected error:\", e)\n",
    "    finally:\n",
    "        print('Iteration completed')\n",
    "    idx += 1\n",
    "        \n",
    "\n",
    "    \n",
    "    "
   ]
  },
  {
   "cell_type": "code",
   "execution_count": null,
   "metadata": {},
   "outputs": [],
   "source": []
  }
 ],
 "metadata": {
  "kernelspec": {
   "display_name": "Python 3 (ipykernel)",
   "language": "python",
   "name": "python3"
  },
  "language_info": {
   "codemirror_mode": {
    "name": "ipython",
    "version": 3
   },
   "file_extension": ".py",
   "mimetype": "text/x-python",
   "name": "python",
   "nbconvert_exporter": "python",
   "pygments_lexer": "ipython3",
   "version": "3.12.4"
  }
 },
 "nbformat": 4,
 "nbformat_minor": 4
}
