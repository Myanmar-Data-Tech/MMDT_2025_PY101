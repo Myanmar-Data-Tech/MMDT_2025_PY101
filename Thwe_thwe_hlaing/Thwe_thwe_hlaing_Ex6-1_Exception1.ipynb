{
 "cells": [
  {
   "cell_type": "markdown",
   "metadata": {},
   "source": [
    "# Exception Handling\n"
   ]
  },
  {
   "cell_type": "markdown",
   "metadata": {},
   "source": [
    "### Q1) Run the following programs and identify the errors. \n",
    "Use exception handling approach to handle the erros. \n"
   ]
  },
  {
   "cell_type": "code",
   "execution_count": 4,
   "metadata": {},
   "outputs": [
    {
     "name": "stdout",
     "output_type": "stream",
     "text": [
      "Error: Division by zero is not allowed.\n"
     ]
    }
   ],
   "source": [
    "#Q1.1) Zero division error\n",
    "def myfunction(a,b):\n",
    "    try:\n",
    "      answer = a/b\n",
    "      return answer\n",
    "    except ZeroDivisionError:\n",
    "     return \"Error: Division by zero is not allowed.\"\n",
    "      \n",
    "\n",
    "#Call the function as follows:\n",
    "print(myfunction(2,0))"
   ]
  },
  {
   "cell_type": "code",
   "execution_count": 6,
   "metadata": {},
   "outputs": [
    {
     "data": {
      "text/plain": [
       "\"Error:variable 'a' is not defined\""
      ]
     },
     "execution_count": 6,
     "metadata": {},
     "output_type": "execute_result"
    }
   ],
   "source": [
    "#Q1.2 Name Error\n",
    "\n",
    "def myfunction2(c):\n",
    "    try:\n",
    "     answer = a/c\n",
    "     return answer\n",
    "    except NameError:\n",
    "       return \"Error:variable 'a' is not defined\"\n",
    "    \n",
    "\n",
    "# Call the function as follows:\n",
    "myfunction2(3)"
   ]
  },
  {
   "cell_type": "code",
   "execution_count": 7,
   "metadata": {
    "scrolled": true
   },
   "outputs": [
    {
     "name": "stdout",
     "output_type": "stream",
     "text": [
      "1\n",
      "2\n",
      "3\n",
      "Index 3 is out of range.\n"
     ]
    }
   ],
   "source": [
    "#Q1.3 IndexError\n",
    "a = [1, 2, 3]\n",
    "for k in range(0,4):\n",
    "    try:\n",
    "     print(a[k])\n",
    "    except IndexError:\n",
    "       print(f\"Index {k} is out of range.\")\n"
   ]
  },
  {
   "cell_type": "code",
   "execution_count": 10,
   "metadata": {},
   "outputs": [
    {
     "name": "stdout",
     "output_type": "stream",
     "text": [
      "Error: Invalid input. Please enter a valid integer.\n"
     ]
    }
   ],
   "source": [
    "#Q1.4 Zero Division Error, Value Error\n",
    "a = 1\n",
    "try:\n",
    " b = int(input(\"Please enter a number to divide a\"))\n",
    " a = a/b\n",
    " print(\"Success a=\",a) \n",
    "except ZeroDivisionError:\n",
    " print(\"Error: Cannot divide by zero.\")   \n",
    "except ValueError:\n",
    "    print(\"Error: Invalid input. Please enter a valid integer.\")  \n"
   ]
  },
  {
   "cell_type": "code",
   "execution_count": 11,
   "metadata": {},
   "outputs": [
    {
     "name": "stdout",
     "output_type": "stream",
     "text": [
      "Inputs must be numbers\n"
     ]
    }
   ],
   "source": [
    "def divide(a, b):\n",
    "    try:\n",
    "        result = a / b\n",
    "        print('The result of division is', result)\n",
    "    except ZeroDivisionError:\n",
    "        print('Numerator must be greater than zero')\n",
    "    except TypeError:\n",
    "        print('Inputs must be numbers')\n",
    "    else:\n",
    "        return result\n",
    "\n",
    "\n",
    "divide(\"10\",2)"
   ]
  },
  {
   "cell_type": "code",
   "execution_count": 12,
   "metadata": {},
   "outputs": [
    {
     "name": "stdout",
     "output_type": "stream",
     "text": [
      "File does not exist.\n"
     ]
    }
   ],
   "source": [
    "def read_file(filename):\n",
    "    try:\n",
    "        with open(filename, 'r') as file1:\n",
    "            word_string = file1.read()\n",
    "        print(\"File reading completed successfully\")\n",
    "        return word_string\n",
    "    except FileNotFoundError:\n",
    "        print(\"File does not exist.\")\n",
    "\n",
    "\n",
    "\n",
    "read_file(\"./data/Q1.txt\")"
   ]
  }
 ],
 "metadata": {
  "kernelspec": {
   "display_name": "Python 3",
   "language": "python",
   "name": "python3"
  },
  "language_info": {
   "codemirror_mode": {
    "name": "ipython",
    "version": 3
   },
   "file_extension": ".py",
   "mimetype": "text/x-python",
   "name": "python",
   "nbconvert_exporter": "python",
   "pygments_lexer": "ipython3",
   "version": "3.13.5"
  }
 },
 "nbformat": 4,
 "nbformat_minor": 4
}
