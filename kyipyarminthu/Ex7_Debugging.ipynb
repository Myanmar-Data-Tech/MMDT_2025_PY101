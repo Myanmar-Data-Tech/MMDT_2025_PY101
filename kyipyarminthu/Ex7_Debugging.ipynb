{
 "cells": [
  {
   "cell_type": "markdown",
   "metadata": {},
   "source": [
    "## Simple Debugging\n",
    "\n",
    "Add print statements to your program.\n",
    "Add input() to pause the program"
   ]
  },
  {
   "cell_type": "code",
   "execution_count": 2,
   "metadata": {},
   "outputs": [
    {
     "name": "stdout",
     "output_type": "stream",
     "text": [
      "Random number generated: 2\n",
      "Hello Hello \n",
      "Hello Hello \n",
      "Hello Hello \n",
      "Hello Hello \n",
      "Hello Hello \n",
      "Hello Hello \n"
     ]
    }
   ],
   "source": [
    "from random import randint\n",
    "\n",
    "#Step 1: generate a random number between 1 and 5\n",
    "rand_num = randint(1,5)\n",
    "\n",
    "# add print statment here to know the value of rand_num\n",
    "print (\"Random number generated:\", rand_num)\n",
    "\n",
    "# Step 2: What does this code do? \n",
    "\n",
    "for i in range(6):\n",
    "    print('Hello '*rand_num)"
   ]
  },
  {
   "cell_type": "code",
   "execution_count": 4,
   "metadata": {},
   "outputs": [
    {
     "name": "stdout",
     "output_type": "stream",
     "text": [
      "Hello Hello Hello \n",
      "Hello \n",
      "Hello \n",
      "Hello Hello Hello \n",
      "Hello Hello Hello Hello \n",
      "Hello Hello Hello \n"
     ]
    }
   ],
   "source": [
    "from random import randint\n",
    "\n",
    "# Step 1: generate a random number between 1 and 5\n",
    "rand_num = randint(1,5)\n",
    "\n",
    "# Step 2: What does this code do? \n",
    "\n",
    "for i in range(6):\n",
    "    rand_num = randint(1,5)\n",
    "    print('Hello '*rand_num)"
   ]
  },
  {
   "cell_type": "markdown",
   "metadata": {},
   "source": [
    "Write a program that generates 10000 random numbers between 1 and 100 and counts how many of them are multiples of 12."
   ]
  },
  {
   "cell_type": "code",
   "execution_count": 5,
   "metadata": {},
   "outputs": [
    {
     "name": "stdout",
     "output_type": "stream",
     "text": [
      "Number of multiples of 12: 774\n"
     ]
    }
   ],
   "source": [
    "# Step 1:\n",
    "from random import randint\n",
    "# Step 2: \n",
    "count = 0\n",
    "# Step 3: \n",
    "for i in range(10000):\n",
    "    #Step 4:\n",
    "    num = randint(1, 100)\n",
    "    #Step 5: \n",
    "    if num%12==0:\n",
    "        count=count+1\n",
    "    # Step 6: \n",
    "print('Number of multiples of 12:', count)\n"
   ]
  },
  {
   "cell_type": "markdown",
   "metadata": {},
   "source": [
    "The following program should counts how many of the squares of the numbers from 1 to 100 end in 1.  (Example: 1,81,121). Debug the code."
   ]
  },
  {
   "cell_type": "code",
   "execution_count": 9,
   "metadata": {},
   "outputs": [
    {
     "ename": "ModuleNotFoundError",
     "evalue": "No module named 'numpy'",
     "output_type": "error",
     "traceback": [
      "\u001b[31m---------------------------------------------------------------------------\u001b[39m",
      "\u001b[31mModuleNotFoundError\u001b[39m                       Traceback (most recent call last)",
      "\u001b[36mCell\u001b[39m\u001b[36m \u001b[39m\u001b[32mIn[9]\u001b[39m\u001b[32m, line 1\u001b[39m\n\u001b[32m----> \u001b[39m\u001b[32m1\u001b[39m \u001b[38;5;28;01mimport\u001b[39;00m\u001b[38;5;250m \u001b[39m\u001b[34;01mnumpy\u001b[39;00m\u001b[38;5;250m \u001b[39m\u001b[38;5;28;01mas\u001b[39;00m\u001b[38;5;250m \u001b[39m\u001b[34;01mnp\u001b[39;00m\n\u001b[32m      2\u001b[39m \u001b[38;5;28;01mdef\u001b[39;00m\u001b[38;5;250m \u001b[39m\u001b[34mfun_square_count\u001b[39m():\n\u001b[32m      3\u001b[39m     num_list = np.arange(\u001b[32m1\u001b[39m,\u001b[32m101\u001b[39m)\n",
      "\u001b[31mModuleNotFoundError\u001b[39m: No module named 'numpy'"
     ]
    }
   ],
   "source": [
    "import numpy as np\n",
    "def fun_square_count():\n",
    "    num_list = np.arange(1,101)\n",
    "    squred_num = [value**2 for value in num_list]\n",
    "    count=0\n",
    "    for num in squred_num:\n",
    "        if(num//10) == 1:            \n",
    "            count +=1\n",
    "            \n",
    "return count\n",
    "\n",
    "print(fun_square_count())"
   ]
  },
  {
   "cell_type": "markdown",
   "metadata": {},
   "source": [
    "Debug the following programs"
   ]
  },
  {
   "cell_type": "code",
   "execution_count": null,
   "metadata": {},
   "outputs": [],
   "source": [
    "def add(a, b):\n",
    "    return a +  b\n",
    "\n",
    "print(add(5, '2'))\n"
   ]
  },
  {
   "cell_type": "code",
   "execution_count": 11,
   "metadata": {},
   "outputs": [
    {
     "name": "stdout",
     "output_type": "stream",
     "text": [
      "7\n"
     ]
    }
   ],
   "source": [
    "def add (a, b):\n",
    "    return a + int(b)\n",
    "print(add(5, '2'))\n",
    " # Output: 7"
   ]
  },
  {
   "cell_type": "code",
   "execution_count": null,
   "metadata": {},
   "outputs": [],
   "source": [
    "def divide(a, b):\n",
    "    result = a / b\n",
    "    return result\n",
    "\n"
   ]
  },
  {
   "cell_type": "code",
   "execution_count": 13,
   "metadata": {},
   "outputs": [],
   "source": [
    "def divde(a, b):\n",
    "    try:\n",
    "        result = a / b\n",
    "        return result\n",
    "    except ZeroDivisionError:\n",
    "        return \"Error: Division by zero is not allowed.\"\n",
    "    print(divide(10, 2))\n",
    "    print(divide(10, 0)) "
   ]
  },
  {
   "cell_type": "code",
   "execution_count": null,
   "metadata": {},
   "outputs": [],
   "source": [
    "def is_prime(n):\n",
    "    if n <= 0:\n",
    "        return False\n",
    "    for i in range(2, n):\n",
    "        if n // i == 0:\n",
    "            return False\n",
    "    return True\n",
    "\n",
    "print(is_prime(15))\n"
   ]
  },
  {
   "cell_type": "code",
   "execution_count": 14,
   "metadata": {},
   "outputs": [],
   "source": [
    "def is_prime(n):\n",
    "    if n <= 1:\n",
    "        return False\n",
    "    for i in range(2, n):\n",
    "        if n % i == 0:  # Use modulus for checking divisibility\n",
    "            return False\n",
    "    return True\n",
    "    print(is_prime(15)) \n",
    "    print (is_prime(13)) # Output: False"
   ]
  }
 ],
 "metadata": {
  "kernelspec": {
   "display_name": "Python 3",
   "language": "python",
   "name": "python3"
  },
  "language_info": {
   "codemirror_mode": {
    "name": "ipython",
    "version": 3
   },
   "file_extension": ".py",
   "mimetype": "text/x-python",
   "name": "python",
   "nbconvert_exporter": "python",
   "pygments_lexer": "ipython3",
   "version": "3.13.3"
  }
 },
 "nbformat": 4,
 "nbformat_minor": 2
}
