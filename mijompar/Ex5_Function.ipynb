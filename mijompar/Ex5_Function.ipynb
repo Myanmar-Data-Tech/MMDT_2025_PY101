{
  "cells": [
    {
      "cell_type": "markdown",
      "metadata": {
        "id": "view-in-github",
        "colab_type": "text"
      },
      "source": [
        "<a href=\"https://colab.research.google.com/github/Zhampar/MMDT_2025_PY101/blob/mijompar/Ex5_Function.ipynb\" target=\"_parent\"><img src=\"https://colab.research.google.com/assets/colab-badge.svg\" alt=\"Open In Colab\"/></a>"
      ]
    },
    {
      "cell_type": "markdown",
      "metadata": {
        "id": "b-1b6ywy-O5i"
      },
      "source": [
        "Exercises are taken from : https://www.brianheinold.net/python/A_Practical_Introduction_to_Python_Programming_Heinold.pdf\n"
      ]
    },
    {
      "cell_type": "markdown",
      "metadata": {
        "id": "pps5xBbs-I9w"
      },
      "source": [
        "Ex 1: Write a function called rectangle that takes two integers m and n as arguments and prints\n",
        "out an m× n box consisting of asterisks. Shown below is the output of rectangle(2,4)\n",
        "****\n",
        "****"
      ]
    },
    {
      "cell_type": "code",
      "execution_count": 21,
      "metadata": {
        "id": "S_5WWVLH3u8y",
        "outputId": "7e0418ec-5100-4b25-dfc1-719836ce0d73",
        "colab": {
          "base_uri": "https://localhost:8080/"
        }
      },
      "outputs": [
        {
          "output_type": "stream",
          "name": "stdout",
          "text": [
            "*****\n",
            "*****\n",
            "*****\n",
            "*****\n",
            "*****\n",
            "*****\n",
            "*****\n",
            "*****\n",
            "*****\n",
            "*****\n"
          ]
        }
      ],
      "source": [
        "def rectangle(m,n):\n",
        "    for k in range(m):\n",
        "        print(n*'*')\n",
        "\n",
        "rectangle(10,5)\n"
      ]
    },
    {
      "cell_type": "markdown",
      "metadata": {
        "id": "0QS7SmPV-coO"
      },
      "source": [
        "Ex 2: Write a function that takes an integer n and returns a random integer with exactly n digits. For\n",
        "instance, if n is 3, then 125 and 593 would be valid return values, but 093 would not because\n",
        "that is really 93, which is a two-digit number."
      ]
    },
    {
      "cell_type": "code",
      "execution_count": 20,
      "metadata": {
        "id": "c4ejnmGJ-MzL",
        "outputId": "3120ca66-8fe5-4acb-8970-a6414475ed10",
        "colab": {
          "base_uri": "https://localhost:8080/"
        }
      },
      "outputs": [
        {
          "output_type": "stream",
          "name": "stdout",
          "text": [
            "12\n"
          ]
        }
      ],
      "source": [
        "import random\n",
        "\n",
        "def calculate_numbers(n):\n",
        "    result = random.randint(10**(n - 1), 10**n - 1)\n",
        "    return result\n",
        "\n",
        "# Example usage:\n",
        "print(calculate_numbers(2))  # Outputs a random 2-digit number like 23 or 89"
      ]
    },
    {
      "cell_type": "markdown",
      "metadata": {
        "id": "B0P_F5Ld-ldg"
      },
      "source": [
        "Ex 3: Write a function called number_of_factors that takes an integer and returns how many\n",
        "factors the number has."
      ]
    },
    {
      "cell_type": "code",
      "execution_count": 7,
      "metadata": {
        "id": "Yr2BLCXp-oTi"
      },
      "outputs": [],
      "source": [
        "def number_of_factors(n):\n",
        "    if n <= 0:\n",
        "        raise ValueError(\"Input must be a positive integer.\")\n",
        "\n",
        "    count = 0\n",
        "    for i in range(1, n + 1):\n",
        "        if n % i == 0:\n",
        "            count += 1\n",
        "    return count"
      ]
    },
    {
      "cell_type": "markdown",
      "metadata": {
        "id": "7w0DDTyY-o_4"
      },
      "source": [
        "Ex4: Write a function called first_diff that is given two strings and returns the first location in\n",
        "which the strings differ. If the strings are identical, it should return -1.Ignore the case in your function. It means h and H are the same."
      ]
    },
    {
      "cell_type": "code",
      "execution_count": 19,
      "metadata": {
        "id": "1WOvaf0z-6J6"
      },
      "outputs": [],
      "source": [
        "def first_diff(s1, s2):\n",
        "    s1 = s1.lower()\n",
        "    s2 = s2.lower()\n",
        "\n",
        "    min_len = min(len(s1), len(s2))\n",
        "\n",
        "    for i in range(min_len):\n",
        "        if s1[i] != s2[i]:\n",
        "            return i\n",
        "\n",
        "    if len(s1) != len(s2):\n",
        "        return min_len  # Difference in length (extra chars in longer string)\n",
        "\n",
        "    return -1  # Strings are identical"
      ]
    },
    {
      "cell_type": "markdown",
      "metadata": {
        "id": "jLM8fAg_-6th"
      },
      "source": [
        "Ex5: Write a function called root that is given a number x and an integer n and returns x/n. In\n",
        "the function definition, set the default value of n to 2."
      ]
    },
    {
      "cell_type": "code",
      "execution_count": 9,
      "metadata": {
        "id": "1TrSgTDa_Fu0"
      },
      "outputs": [],
      "source": [
        "def root(x, n=2):\n",
        "    return x / n"
      ]
    },
    {
      "cell_type": "markdown",
      "metadata": {
        "id": "ZdTERG8-6ME-"
      },
      "source": [
        "Ex6: Write a function that solves the system of equations ax + by = e and cx +dy = f. Your function should takes 6 parameters, (a, b, c, d, e,f) and return the values of x and y."
      ]
    },
    {
      "cell_type": "code",
      "execution_count": 18,
      "metadata": {
        "id": "tQv7rI-G6ME_"
      },
      "outputs": [],
      "source": [
        "def solve_linear_system(a, b, c, d, e, f):\n",
        "    # Calculate the determinant\n",
        "    denominator = a * d - b * c\n",
        "\n",
        "    if denominator == 0:\n",
        "        raise ValueError(\"No unique solution exists (determinant is zero).\")\n",
        "\n",
        "    # Use Cramer's Rule to solve for x and y\n",
        "    x = (e * d - b * f) / denominator\n",
        "    y = (a * f - e * c) / denominator\n",
        "\n",
        "    return x, y"
      ]
    },
    {
      "cell_type": "markdown",
      "metadata": {
        "id": "1IFdPIgx6ME_"
      },
      "source": [
        "Ex7:  Write a function called change_case that given a string, returns a string with each upper  case letter replaced by a lower case letter and vice-versa"
      ]
    },
    {
      "cell_type": "code",
      "execution_count": 11,
      "metadata": {
        "id": "8ScQs6MF6MFA"
      },
      "outputs": [],
      "source": [
        "def change_case(s):\n",
        "    return s.swapcase()"
      ]
    },
    {
      "cell_type": "markdown",
      "metadata": {
        "id": "XMYPTQ-g6MFA"
      },
      "source": [
        "Ex8:  Write a function called primes that is given a number n and returns a list of the first n  primes. Let the default value of n be 100."
      ]
    },
    {
      "cell_type": "code",
      "execution_count": 17,
      "metadata": {
        "id": "zlqxu2BP6MFA"
      },
      "outputs": [],
      "source": [
        "def primes(n=100):\n",
        "    prime_list = []\n",
        "    num = 2  # Start checking from 2, the first prime number\n",
        "\n",
        "    while len(prime_list) < n:\n",
        "        # Check if num is prime\n",
        "        is_prime = True\n",
        "        for i in range(2, int(num ** 0.5) + 1):\n",
        "            if num % i == 0:\n",
        "                is_prime = False\n",
        "                break\n",
        "\n",
        "        if is_prime:\n",
        "            prime_list.append(num)\n",
        "        num += 1"
      ]
    },
    {
      "cell_type": "markdown",
      "metadata": {
        "id": "Ak8bPExB6MFA"
      },
      "source": [
        "Ex9: A Tic-tac-toe board can be represented be a 3×3 two-dimensional list, where zeroes stand for  empty cells, ones stand for X’s and twos stand for O’s. Write a function that is given such a list and randomly chooses a spot in which to place  a 2 (O). The spot chosen must currently be empty and a spot must be chosen."
      ]
    },
    {
      "cell_type": "code",
      "execution_count": 16,
      "metadata": {
        "id": "MJX8ESW96MFu"
      },
      "outputs": [],
      "source": [
        "import random\n",
        "\n",
        "def place_O(board):\n",
        "    # Find all empty positions (cells with 0)\n",
        "    empty_positions = [(i, j) for i in range(3) for j in range(3) if board[i][j] == 0]\n",
        "\n",
        "    if not empty_positions:\n",
        "        raise ValueError(\"No empty spots available to place O.\")\n",
        "\n",
        "    # Choose a random empty position\n",
        "    row, col = random.choice(empty_positions)\n",
        "\n",
        "    # Place 2 (O) at the chosen spot\n",
        "    board[row][col] = 2\n",
        "\n",
        "    return board"
      ]
    },
    {
      "cell_type": "markdown",
      "metadata": {
        "id": "ajTPbd_66MFv"
      },
      "source": [
        "Ex10:  Write a function that is given a 9 × 9 potentially solved Sudoku and returns True if it is solved correctly and False if there is a mistake. The Sudoku is correctly solved if there are\n",
        " no repeated numbers in any row or any column or in any of the nine “blocks.”\n"
      ]
    },
    {
      "cell_type": "code",
      "execution_count": 15,
      "metadata": {
        "id": "46EO2jAb6MFv"
      },
      "outputs": [],
      "source": [
        "def is_sudoku_solved(board):\n",
        "    def is_valid_group(group):\n",
        "        return sorted(group) == list(range(1, 10))\n",
        "\n",
        "    # Check rows\n",
        "    for row in board:\n",
        "        if not is_valid_group(row):\n",
        "            return False\n",
        "\n",
        "    # Check columns\n",
        "    for col_idx in range(9):\n",
        "        col = [board[row_idx][col_idx] for row_idx in range(9)]\n",
        "        if not is_valid_group(col):\n",
        "            return False\n",
        "\n",
        "    # Check 3x3 blocks\n",
        "    for block_row in range(3):\n",
        "        for block_col in range(3):\n",
        "            block = []\n",
        "            for i in range(3):\n",
        "                for j in range(3):\n",
        "                    block.append(board[block_row * 3 + i][block_col * 3 + j])\n",
        "            if not is_valid_group(block):\n",
        "                return False\n",
        "\n",
        "    return True"
      ]
    }
  ],
  "metadata": {
    "colab": {
      "name": "Ex5_Function.ipynb",
      "provenance": [],
      "include_colab_link": true
    },
    "kernelspec": {
      "display_name": "Python 3",
      "name": "python3"
    },
    "language_info": {
      "codemirror_mode": {
        "name": "ipython",
        "version": 3
      },
      "file_extension": ".py",
      "mimetype": "text/x-python",
      "name": "python",
      "nbconvert_exporter": "python",
      "pygments_lexer": "ipython3",
      "version": "3.12.1"
    }
  },
  "nbformat": 4,
  "nbformat_minor": 0
}