{
 "cells": [
  {
   "cell_type": "markdown",
   "metadata": {},
   "source": [
    "# Exception Handling\n"
   ]
  },
  {
   "cell_type": "markdown",
   "metadata": {},
   "source": [
    "### Q1) Run the following programs and identify the errors. \n",
    "Use exception handling approach to handle the erros. \n"
   ]
  },
  {
   "cell_type": "code",
   "execution_count": 43,
   "metadata": {},
   "outputs": [
    {
     "name": "stdout",
     "output_type": "stream",
     "text": [
      "Divisor cannot be zero!\n"
     ]
    }
   ],
   "source": [
    "#Q1.1) Zero division error\n",
    "def myfunction(a,b):\n",
    "    try:\n",
    "        answer = a/b\n",
    "        return answer\n",
    "    except ZeroDivisionError:\n",
    "        print(\"Divisor cannot be zero!\")\n",
    "    except Exception as e:\n",
    "        print(\"Something else went wrong\", e)\n",
    "\n",
    "#Call the function as follows:\n",
    "myfunction(2,0)"
   ]
  },
  {
   "cell_type": "code",
   "execution_count": 67,
   "metadata": {},
   "outputs": [
    {
     "data": {
      "text/plain": [
       "0.3333333333333333"
      ]
     },
     "execution_count": 67,
     "metadata": {},
     "output_type": "execute_result"
    }
   ],
   "source": [
    "#Q1.2 Name Error\n",
    "\n",
    "def myfunction2(c):\n",
    "    try:\n",
    "        answer = a/c\n",
    "        return answer\n",
    "    except NameError:\n",
    "        print(\"Variable a is not defined\")\n",
    "    except Exception as e:\n",
    "        print(\"Something else went wrong\", e)\n",
    "\n",
    "# Call the function as follows:\n",
    "myfunction2(3)"
   ]
  },
  {
   "cell_type": "code",
   "execution_count": 53,
   "metadata": {
    "scrolled": true
   },
   "outputs": [
    {
     "name": "stdout",
     "output_type": "stream",
     "text": [
      "1\n",
      "2\n",
      "3\n",
      "You are trying to access an item that does not exist!\n"
     ]
    }
   ],
   "source": [
    "#Q1.3 IndexError\n",
    "a = [1, 2, 3]\n",
    "for k in range(0,4):\n",
    "    try:\n",
    "        print(a[k])\n",
    "    except IndexError:\n",
    "          print(\"You are trying to access an item that does not exist!\")\n",
    "    except Exception as e:\n",
    "        print(\"Something else went wrong\", e)\n",
    "    \n"
   ]
  },
  {
   "cell_type": "code",
   "execution_count": 63,
   "metadata": {},
   "outputs": [
    {
     "name": "stdin",
     "output_type": "stream",
     "text": [
      "Please enter a number to divide a:  m\n"
     ]
    },
    {
     "name": "stdout",
     "output_type": "stream",
     "text": [
      "The input must be an integer number!\n"
     ]
    }
   ],
   "source": [
    "#Q1.4 Zero Division Error, Value Error\n",
    "a = 1\n",
    "\n",
    "try:\n",
    "    b = int(input(\"Please enter a number to divide a: \"))\n",
    "    a = a / b\n",
    "except ValueError:\n",
    "    print(\"The input must be an integer number!\")\n",
    "except ZeroDivisionError:\n",
    "    print(\"Divisor cannot be zero!\")\n",
    "except Exception as e:\n",
    "    print(\"Something else went wrong\", e)\n",
    "else:\n",
    "    print(\"Success a =\", a)\n",
    "\n",
    "     \n"
   ]
  },
  {
   "cell_type": "code",
   "execution_count": 59,
   "metadata": {},
   "outputs": [
    {
     "name": "stdout",
     "output_type": "stream",
     "text": [
      "Inputs must be numbers\n"
     ]
    }
   ],
   "source": [
    "def divide(a, b):\n",
    "    try:\n",
    "        result = a / b\n",
    "        print('The result of division is', result)\n",
    "    except ZeroDivisionError:\n",
    "        print('Denominator must be greater than zero')\n",
    "    except TypeError:\n",
    "        print('Inputs must be numbers')\n",
    "    except Exception as e:\n",
    "        print(\"Something else went wrong\", e)\n",
    "    else:\n",
    "        return result\n",
    "\n",
    "\n",
    "divide(\"10\",2)"
   ]
  },
  {
   "cell_type": "code",
   "execution_count": 61,
   "metadata": {},
   "outputs": [
    {
     "name": "stdout",
     "output_type": "stream",
     "text": [
      "File reading completed successfully\n"
     ]
    },
    {
     "data": {
      "text/plain": [
       "'I love this movie! It is sweet, but with satirical humor. The dialogs are great and the adventure scenes are fun. It manages to be romantic and whimsical while laughingat the conventions of the fairy tale genre. I would recommend it to just about anyone. I have seen it several times and I am always happy to see it again and again. '"
      ]
     },
     "execution_count": 61,
     "metadata": {},
     "output_type": "execute_result"
    }
   ],
   "source": [
    "def read_file(filename):\n",
    "    try:\n",
    "        with open(filename, 'r') as file1:\n",
    "            word_string = file1.read()\n",
    "        print(\"File reading completed successfully\")\n",
    "        return word_string\n",
    "    except FileNotFoundError:\n",
    "        print(\"File does not exist.\")\n",
    "\n",
    "\n",
    "\n",
    "read_file(\"./data/Q1.txt\")"
   ]
  },
  {
   "cell_type": "code",
   "execution_count": null,
   "metadata": {},
   "outputs": [],
   "source": []
  }
 ],
 "metadata": {
  "kernelspec": {
   "display_name": "Python [conda env:base] *",
   "language": "python",
   "name": "conda-base-py"
  },
  "language_info": {
   "codemirror_mode": {
    "name": "ipython",
    "version": 3
   },
   "file_extension": ".py",
   "mimetype": "text/x-python",
   "name": "python",
   "nbconvert_exporter": "python",
   "pygments_lexer": "ipython3",
   "version": "3.12.7"
  }
 },
 "nbformat": 4,
 "nbformat_minor": 4
}
