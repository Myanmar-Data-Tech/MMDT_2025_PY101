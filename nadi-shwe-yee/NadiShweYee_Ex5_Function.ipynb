{
 "cells": [
  {
   "cell_type": "markdown",
   "metadata": {
    "colab_type": "text",
    "id": "view-in-github"
   },
   "source": [
    "<a href=\"https://colab.research.google.com/github/myothida/PythonProgramming/blob/main/Ex5_Function.ipynb\" target=\"_parent\"><img src=\"https://colab.research.google.com/assets/colab-badge.svg\" alt=\"Open In Colab\"/></a>"
   ]
  },
  {
   "cell_type": "markdown",
   "metadata": {
    "id": "b-1b6ywy-O5i"
   },
   "source": [
    "Exercises are taken from : https://www.brianheinold.net/python/A_Practical_Introduction_to_Python_Programming_Heinold.pdf\n"
   ]
  },
  {
   "cell_type": "markdown",
   "metadata": {
    "id": "pps5xBbs-I9w"
   },
   "source": [
    "Ex 1: Write a function called rectangle that takes two integers m and n as arguments and prints\n",
    "out an m× n box consisting of asterisks. Shown below is the output of rectangle(2,4)\n",
    "****\n",
    "****"
   ]
  },
  {
   "cell_type": "code",
   "execution_count": 5,
   "metadata": {
    "id": "S_5WWVLH3u8y"
   },
   "outputs": [
    {
     "name": "stdout",
     "output_type": "stream",
     "text": [
      "****\n",
      "****\n"
     ]
    }
   ],
   "source": [
    "def rectangle(m,n):\n",
    "    for k in range(m):\n",
    "        print(n*'*')\n",
    "\n",
    "rectangle(2,4)\n"
   ]
  },
  {
   "cell_type": "markdown",
   "metadata": {
    "id": "0QS7SmPV-coO"
   },
   "source": [
    "Ex 2: Write a function that takes an integer n and returns a random integer with exactly n digits. For\n",
    "instance, if n is 3, then 125 and 593 would be valid return values, but 093 would not because\n",
    "that is really 93, which is a two-digit number."
   ]
  },
  {
   "cell_type": "code",
   "execution_count": 47,
   "metadata": {
    "id": "c4ejnmGJ-MzL"
   },
   "outputs": [
    {
     "data": {
      "text/plain": [
       "293"
      ]
     },
     "execution_count": 47,
     "metadata": {},
     "output_type": "execute_result"
    }
   ],
   "source": [
    "import random\n",
    "def calcualte_numbers ( n ): \n",
    "    result = random.randint(10**(n-1) , 10**(n)-1)\n",
    "\n",
    "\n",
    "    return result\n",
    "\n",
    "calcualte_numbers(3)"
   ]
  },
  {
   "cell_type": "markdown",
   "metadata": {
    "id": "B0P_F5Ld-ldg"
   },
   "source": [
    "Ex 3: Write a function called number_of_factors that takes an integer and returns how many\n",
    "factors the number has."
   ]
  },
  {
   "cell_type": "code",
   "execution_count": 55,
   "metadata": {
    "id": "Yr2BLCXp-oTi"
   },
   "outputs": [
    {
     "name": "stdout",
     "output_type": "stream",
     "text": [
      "Please enter a number:  6\n"
     ]
    },
    {
     "name": "stdout",
     "output_type": "stream",
     "text": [
      "The total number of factors is 4\n"
     ]
    }
   ],
   "source": [
    "def number_of_factors(n):\n",
    "    count = 0\n",
    "    for divisor in range(1,n+1):\n",
    "        if (n%divisor==0):\n",
    "            count += 1\n",
    "    return count\n",
    "    \n",
    "number = int(input(\"Please enter a number: \"))\n",
    "print(f\"The total number of factors is {number_of_factors(number)}\")\n",
    "\n",
    "    "
   ]
  },
  {
   "cell_type": "markdown",
   "metadata": {
    "id": "7w0DDTyY-o_4"
   },
   "source": [
    "Ex4: Write a function called first_diff that is given two strings and returns the first location in\n",
    "which the strings differ. If the strings are identical, it should return -1.Ignore the case in your function. It means h and H are the same."
   ]
  },
  {
   "cell_type": "code",
   "execution_count": 140,
   "metadata": {
    "id": "1WOvaf0z-6J6"
   },
   "outputs": [
    {
     "name": "stdout",
     "output_type": "stream",
     "text": [
      "4\n",
      "3\n",
      "3\n",
      "0\n",
      "-1\n"
     ]
    }
   ],
   "source": [
    "def first_diff(s1,s2):\n",
    "    s1 = s1.lower()\n",
    "    s2 = s2.lower()\n",
    "    differ = 0\n",
    "    \n",
    "    for index, (c1, c2) in enumerate(zip(s1, s2)):\n",
    "        if c1 != c2:\n",
    "            differ = index\n",
    "            break\n",
    "    else:\n",
    "        if len(s1) == len(s2):\n",
    "            differ = -1\n",
    "        else:\n",
    "            differ = min(len(s1), len(s2))\n",
    "    \n",
    "    return differ\n",
    "             \n",
    "   \n",
    "print(first_diff('Hello', 'hellp'))   \n",
    "print(first_diff('Hel', 'hellp'))     \n",
    "print(first_diff('Hello', 'hel'))   \n",
    "print(first_diff('Hello', 'arr'))\n",
    "print(first_diff('Hello', 'hello'))"
   ]
  },
  {
   "cell_type": "markdown",
   "metadata": {
    "id": "jLM8fAg_-6th"
   },
   "source": [
    "Ex5: Write a function called root that is given a number x and an integer n and returns x/n. In\n",
    "the function definition, set the default value of n to 2."
   ]
  },
  {
   "cell_type": "code",
   "execution_count": 138,
   "metadata": {
    "id": "1TrSgTDa_Fu0"
   },
   "outputs": [
    {
     "name": "stdout",
     "output_type": "stream",
     "text": [
      "5.0\n",
      "2.0\n"
     ]
    }
   ],
   "source": [
    "def root(x, n=2):\n",
    "    return x/n\n",
    "\n",
    "print(root(10))      \n",
    "print(root(10, 5))"
   ]
  },
  {
   "cell_type": "markdown",
   "metadata": {},
   "source": [
    "Ex6: Write a function that solves the system of equations ax + by = e and cx +dy = f. Your function should takes 6 parameters, (a, b, c, d, e,f) and return the values of x and y."
   ]
  },
  {
   "cell_type": "code",
   "execution_count": 114,
   "metadata": {},
   "outputs": [
    {
     "name": "stdout",
     "output_type": "stream",
     "text": [
      "(-4.0, 4.5)\n"
     ]
    }
   ],
   "source": [
    "def equation_solver(a, b, c, d, e, f):\n",
    "    denominator = (c * b) - (a * d)\n",
    "    \n",
    "    if denominator == 0 or a == 0:\n",
    "        print(\"This cannot be calculated.\")\n",
    "        return None  \n",
    "    else:\n",
    "        y = ((c * e) - (a * f)) / denominator\n",
    "        x = (e - (b * y)) / a\n",
    "        return x, y\n",
    "\n",
    "result = equation_solver(1, 2, 3, 4, 5, 6)\n",
    "print(result)"
   ]
  },
  {
   "cell_type": "markdown",
   "metadata": {},
   "source": [
    "Ex7:  Write a function called change_case that given a string, returns a string with each upper  case letter replaced by a lower case letter and vice-versa"
   ]
  },
  {
   "cell_type": "code",
   "execution_count": 124,
   "metadata": {},
   "outputs": [
    {
     "name": "stdout",
     "output_type": "stream",
     "text": [
      "hELLo\n"
     ]
    }
   ],
   "source": [
    "def change_case(str):\n",
    "    result = \"\"\n",
    "    for char in str:\n",
    "        if char.isupper():\n",
    "            result += char.lower()\n",
    "        else:\n",
    "            result += char.upper()\n",
    "    return result\n",
    "\n",
    "print(change_case(\"HellO\"))"
   ]
  },
  {
   "cell_type": "markdown",
   "metadata": {},
   "source": [
    "Ex8:  Write a function called primes that is given a number n and returns a list of the first n  primes. Let the default value of n be 100."
   ]
  },
  {
   "cell_type": "code",
   "execution_count": 136,
   "metadata": {
    "scrolled": true
   },
   "outputs": [
    {
     "name": "stdout",
     "output_type": "stream",
     "text": [
      "[2, 3, 5, 7, 11, 13, 17, 19, 23, 29, 31, 37, 41, 43, 47, 53, 59, 61, 67, 71, 73, 79, 83, 89, 97, 101, 103, 107, 109, 113, 127, 131, 137, 139, 149, 151, 157, 163, 167, 173, 179, 181, 191, 193, 197, 199, 211, 223, 227, 229, 233, 239, 241, 251, 257, 263, 269, 271, 277, 281, 283, 293, 307, 311, 313, 317, 331, 337, 347, 349, 353, 359, 367, 373, 379, 383, 389, 397, 401, 409, 419, 421, 431, 433, 439, 443, 449, 457, 461, 463, 467, 479, 487, 491, 499, 503, 509, 521, 523, 541]\n"
     ]
    }
   ],
   "source": [
    "def primes(n=100):\n",
    "    prime_lst = []\n",
    "    num = 2\n",
    "    while len(prime_lst) < n:\n",
    "        prime = True\n",
    "        for i in range(2, num):\n",
    "            if num % i == 0:\n",
    "                prime = False\n",
    "                break  \n",
    "        if prime:\n",
    "            prime_lst.append(num)\n",
    "        num += 1\n",
    "    return prime_lst\n",
    "\n",
    "print(primes())\n"
   ]
  },
  {
   "cell_type": "markdown",
   "metadata": {},
   "source": [
    "Ex9: A Tic-tac-toe board can be represented be a 3×3 two-dimensional list, where zeroes stand for  empty cells, ones stand for X’s and twos stand for O’s. Write a function that is given such a list and randomly chooses a spot in which to place  a 2 (O). The spot chosen must currently be empty and a spot must be chosen."
   ]
  },
  {
   "cell_type": "code",
   "execution_count": 10,
   "metadata": {},
   "outputs": [
    {
     "name": "stdout",
     "output_type": "stream",
     "text": [
      "[[0, 1, 2], [1, 2, 2], [1, 0, 0]]\n"
     ]
    }
   ],
   "source": [
    "import random\n",
    "\n",
    "def place_random_O(board):\n",
    "    empty_cells = []\n",
    "\n",
    "    for i in range(3):\n",
    "        for j in range(3):\n",
    "            if board[i][j] == 0:\n",
    "                empty_cells.append((i, j))\n",
    "\n",
    "    if len(empty_cells) > 0:\n",
    "        cell = random.choice(empty_cells)\n",
    "        i = cell[0]\n",
    "        j = cell[1]\n",
    "        board[i][j] = 2\n",
    "\n",
    "    return board\n",
    "\n",
    "    \n",
    "board = [[0,1,2],[1,2,0],[1,0,0]]\n",
    "new_board = place_random_O(board)\n",
    "print(new_board)"
   ]
  },
  {
   "cell_type": "markdown",
   "metadata": {},
   "source": [
    "Ex10:  Write a function that is given a 9 × 9 potentially solved Sudoku and returns True if it is solved correctly and False if there is a mistake. The Sudoku is correctly solved if there are\n",
    " no repeated numbers in any row or any column or in any of the nine “blocks.”\n"
   ]
  },
  {
   "cell_type": "code",
   "execution_count": 16,
   "metadata": {},
   "outputs": [
    {
     "name": "stdout",
     "output_type": "stream",
     "text": [
      "True\n"
     ]
    }
   ],
   "source": [
    "def is_sudoku_solved(sudoku):\n",
    "    for i in range(9):\n",
    "        numbers = [0] * 10 \n",
    "        for j in range(9):\n",
    "            num = sudoku[i][j]\n",
    "            if numbers[num] == 1:\n",
    "                return False  \n",
    "            numbers[num] = 1\n",
    "\n",
    "    for j in range(9):\n",
    "        numbers = [0] * 10\n",
    "        for i in range(9):\n",
    "            num = sudoku[i][j]\n",
    "            if numbers[num] == 1:\n",
    "                return False  \n",
    "            numbers[num] = 1\n",
    "\n",
    "    for block_row in [0, 3, 6]:\n",
    "        for block_col in [0, 3, 6]:\n",
    "            numbers = [0] * 10\n",
    "            for i in range(3):\n",
    "                for j in range(3):\n",
    "                    num = sudoku[block_row + i][block_col + j]\n",
    "                    if numbers[num] == 1:\n",
    "                        return False  # Duplicate in block\n",
    "                    numbers[num] = 1\n",
    "\n",
    "    return True\n",
    "\n",
    "sudoku = [\n",
    "    [5, 3, 4, 6, 7, 8, 9, 1, 2],\n",
    "    [6, 7, 2, 1, 9, 5, 3, 4, 8],\n",
    "    [1, 9, 8, 3, 4, 2, 5, 6, 7],\n",
    "\n",
    "    [8, 5, 9, 7, 6, 1, 4, 2, 3],\n",
    "    [4, 2, 6, 8, 5, 3, 7, 9, 1],\n",
    "    [7, 1, 3, 9, 2, 4, 8, 5, 6],\n",
    "\n",
    "    [9, 6, 1, 5, 3, 7, 2, 8, 4],\n",
    "    [2, 8, 7, 4, 1, 9, 6, 3, 5],\n",
    "    [3, 4, 5, 2, 8, 6, 1, 7, 9]\n",
    "]\n",
    "\n",
    "print(is_sudoku_solved(sudoku))"
   ]
  },
  {
   "cell_type": "code",
   "execution_count": null,
   "metadata": {},
   "outputs": [],
   "source": []
  }
 ],
 "metadata": {
  "colab": {
   "authorship_tag": "ABX9TyOc19BkvVV1F7h4PXyyYuJC",
   "include_colab_link": true,
   "name": "Ex5_Function.ipynb",
   "provenance": []
  },
  "kernelspec": {
   "display_name": "deepL",
   "language": "python",
   "name": "python3"
  },
  "language_info": {
   "codemirror_mode": {
    "name": "ipython",
    "version": 3
   },
   "file_extension": ".py",
   "mimetype": "text/x-python",
   "name": "python",
   "nbconvert_exporter": "python",
   "pygments_lexer": "ipython3",
   "version": "3.11.11"
  }
 },
 "nbformat": 4,
 "nbformat_minor": 4
}
