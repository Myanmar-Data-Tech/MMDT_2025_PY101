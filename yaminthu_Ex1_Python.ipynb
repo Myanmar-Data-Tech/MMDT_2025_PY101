{
  "cells": [
    {
      "cell_type": "markdown",
      "metadata": {
        "id": "view-in-github",
        "colab_type": "text"
      },
      "source": [
        "<a href=\"https://colab.research.google.com/github/YaminThu9/MMDT_2025_PY101/blob/main/yaminthu_Ex1_Python.ipynb\" target=\"_parent\"><img src=\"https://colab.research.google.com/assets/colab-badge.svg\" alt=\"Open In Colab\"/></a>"
      ]
    },
    {
      "cell_type": "markdown",
      "metadata": {
        "id": "thgO68_HZ0Aa"
      },
      "source": [
        "# Introduction"
      ]
    },
    {
      "cell_type": "markdown",
      "metadata": {
        "id": "PIh3i0c_Z_yP"
      },
      "source": [
        "This section introduces the Python Programming uisng Colab. Follow the instructions and complete the exercises."
      ]
    },
    {
      "cell_type": "markdown",
      "metadata": {
        "id": "gCw6SfeFZ78l"
      },
      "source": [
        "# Ex 1 : Check Version"
      ]
    },
    {
      "cell_type": "markdown",
      "metadata": {
        "id": "6Vm-27iLabjm"
      },
      "source": [
        "Using the below cell, Import the required library and check the version of the python in your environment."
      ]
    },
    {
      "cell_type": "code",
      "execution_count": null,
      "metadata": {
        "id": "PJDYHB4AXVdc"
      },
      "outputs": [],
      "source": [
        "import sys\n",
        "sys.version\n",
        "#Reference from Resources Lesson by Tr Myo"
      ]
    },
    {
      "cell_type": "markdown",
      "metadata": {
        "id": "5qTEiwGlawf5"
      },
      "source": [
        "# Ex2 : Convert Currency."
      ]
    },
    {
      "cell_type": "markdown",
      "metadata": {
        "id": "XH8K1p0ypVCg"
      },
      "source": [
        "Write a program that asks the user for the amount in usd and converts it to British pounds. The exchange rate is from usd to BP is given as 0.82"
      ]
    },
    {
      "cell_type": "code",
      "execution_count": null,
      "metadata": {
        "id": "x9xQXOnRa0MS"
      },
      "outputs": [],
      "source": [
        "usd_amount = input (\"Enter the amount in USD: \")\n",
        "bp_amount = int(usd_amount) *0.82\n",
        "print(\"{} usd is equivalent to {} british pound\".format(usd_amount, bp_amount))"
      ]
    },
    {
      "cell_type": "markdown",
      "metadata": {
        "id": "ePfECwUIpli4"
      },
      "source": [
        "# Ex 3: Temperature Converter"
      ]
    },
    {
      "cell_type": "markdown",
      "metadata": {
        "id": "Y60hUWDsp3pK"
      },
      "source": [
        "Write a program that convert temperature in Feranhite to celsius."
      ]
    },
    {
      "cell_type": "code",
      "execution_count": null,
      "metadata": {
        "id": "G9PbO6qPoUfn"
      },
      "outputs": [],
      "source": [
        "faranhite_temp = float(input (\"Enter the temperature in Feranhite: \"))\n",
        "celsius_temp = (faranhite_temp-32)*5/9\n",
        "print(\"{}°F  is equivalent to {}°C\".format(faranhite_temp,celsius_temp))"
      ]
    },
    {
      "cell_type": "markdown",
      "metadata": {
        "id": "a2kNRO9Vp7Qz"
      },
      "source": [
        "# Ex 4: Daily Maths"
      ]
    },
    {
      "cell_type": "markdown",
      "metadata": {
        "id": "lItKon9qqEUn"
      },
      "source": [
        "You are working in a retail shop. Write a program that computes the total cost for a customer that bought 3 differnt types of fruits : apple, orange, mango. Ask the user to enter the quantity and price for each type."
      ]
    },
    {
      "cell_type": "code",
      "execution_count": null,
      "metadata": {
        "id": "mIQFjH6wqDma"
      },
      "outputs": [],
      "source": [
        "apple_qty = int(input(\"Enter quantity of apples: \"))\n",
        "apple_price = int(input(\"Enter price per apple: \"))\n",
        "\n",
        "orange_qty = int(input(\"Enter quantity of oranges: \"))\n",
        "orange_price = int(input(\"Enter price per orange: \"))\n",
        "\n",
        "mango_qty = int(input(\"Enter quantity of mangoes: \"))\n",
        "mango_price = int(input(\"Enter price per mango: \"))\n",
        "\n",
        "\n",
        "total = (apple_qty * apple_price) + (orange_qty * orange_price) + (mango_qty * mango_price)\n",
        "\n",
        "print(\"Total cost is:\", {total})"
      ]
    },
    {
      "cell_type": "markdown",
      "metadata": {
        "id": "31fXlmEQqgvW"
      },
      "source": [
        "# Ex 5 : Greeting"
      ]
    },
    {
      "cell_type": "markdown",
      "metadata": {
        "id": "zvnmj8MGrJIw"
      },
      "source": [
        "Write a program to greet the customer who provides the user name. Your program should ask the name of the customer and print \"Hello + customer name\""
      ]
    },
    {
      "cell_type": "code",
      "execution_count": null,
      "metadata": {
        "id": "Z6ynxZMarIXh"
      },
      "outputs": [],
      "source": [
        "customer_name = input(\"Enter the name: \")\n",
        "print(\"Hello \" + customer_name)"
      ]
    },
    {
      "cell_type": "markdown",
      "metadata": {
        "id": "pbo_zmO3KqtJ"
      },
      "source": [
        "# Ex 6: Random Number\n",
        "Write a program that generates a random number, x, between 1 and 50, a random number y between 2 and 5, and computes x^y."
      ]
    },
    {
      "cell_type": "code",
      "execution_count": null,
      "metadata": {
        "id": "KMUo0VaHKqtJ"
      },
      "outputs": [],
      "source": [
        "from random import randint\n",
        "x = randint(1,10)\n",
        "print('A random number between 1 and 10: ', x)"
      ]
    },
    {
      "cell_type": "markdown",
      "metadata": {
        "id": "XqLUwTx1KqtJ"
      },
      "source": [
        "# Ex 7: Greet many times.\n",
        "Write a program that generates a random number between 1 and 10 and prints your name that many times."
      ]
    },
    {
      "cell_type": "code",
      "execution_count": 31,
      "metadata": {
        "id": "tHYFOazCKqtJ",
        "outputId": "8ebaf236-15a2-4f1c-a1bd-9feadf930840",
        "colab": {
          "base_uri": "https://localhost:8080/"
        }
      },
      "outputs": [
        {
          "output_type": "stream",
          "name": "stdout",
          "text": [
            "A random number between 1 and 10:  9\n"
          ]
        }
      ],
      "source": [
        "import random\n",
        "\n",
        "name = input(\"Enter your name: \")\n",
        "random_number = random.randint(1, 10)\n",
        "\n",
        "for _ in range(random_number):\n",
        "    print(name)\n",
        "\n",
        "    #Reference from google"
      ]
    },
    {
      "cell_type": "markdown",
      "metadata": {
        "id": "1W8lw3w1KqtJ"
      },
      "source": [
        "# Ex 8: Computing.\n",
        "Write a program that asks the user to enter two numbers, x and y, and computes |x-y|/(x+y)."
      ]
    },
    {
      "cell_type": "code",
      "execution_count": null,
      "metadata": {
        "id": "jR0SZEOmKqtK"
      },
      "outputs": [],
      "source": [
        "x = float(input(\"Enter the first number (x): \"))\n",
        "y = float(input(\"Enter the second number (y): \"))\n",
        "\n",
        "if x + y == 0:\n",
        "    print(\" Division not possible.\")\n",
        "else:\n",
        "   result = abs(x - y) / (x + y)\n",
        "   print(f\"The result of |x - y| / (x + y) is: {result:.4f}\")\n",
        "\n",
        "   #I'm zero level learner of progrmming thus I answer by searching in ChatGPt\n"
      ]
    },
    {
      "cell_type": "markdown",
      "metadata": {
        "id": "Vb0gEIR5KqtK"
      },
      "source": [
        "# Ex 9: Computing\n",
        "\n",
        "Write a program that asks the user for a number of seconds and prints out how many minutes and seconds that is. For instance, 200 seconds is 3 minutes and 20 seconds."
      ]
    },
    {
      "cell_type": "code",
      "execution_count": null,
      "metadata": {
        "id": "ton9u_TiKqtK"
      },
      "outputs": [],
      "source": [
        "number_of_second = int(input(\"Enter the number of second: \"))\n",
        "minute = number_of_second // 60\n",
        "second = number_of_second % 60\n",
        "\n",
        "print(\"{} seconds  is equivalent to {}minutes and {}seconds\".format(number_of_second,minute,second))\n"
      ]
    },
    {
      "cell_type": "markdown",
      "metadata": {
        "id": "74dfJbHcKqtK"
      },
      "source": [
        "# Ex 10: Using Math Module\n",
        "\n",
        "Write a program that asks the user for a number and then prints out the sine, cosine, and tangent of that number."
      ]
    },
    {
      "cell_type": "code",
      "execution_count": null,
      "metadata": {
        "id": "-dCEVk_6KqtK"
      },
      "outputs": [],
      "source": [
        "import math\n",
        "num = float(input(\"Enter a number:\"))\n",
        "sine_value = math.sin(num)\n",
        "print(sine_value)\n"
      ]
    }
  ],
  "metadata": {
    "colab": {
      "name": "Ex1_Python.ipynb",
      "provenance": [],
      "include_colab_link": true
    },
    "kernelspec": {
      "display_name": "Python 3",
      "language": "python",
      "name": "python3"
    },
    "language_info": {
      "codemirror_mode": {
        "name": "ipython",
        "version": 3
      },
      "file_extension": ".py",
      "mimetype": "text/x-python",
      "name": "python",
      "nbconvert_exporter": "python",
      "pygments_lexer": "ipython3",
      "version": "3.12.1"
    }
  },
  "nbformat": 4,
  "nbformat_minor": 0
}