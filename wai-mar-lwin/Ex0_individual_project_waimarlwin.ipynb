{
 "cells": [
  {
   "cell_type": "markdown",
   "metadata": {},
   "source": [
    "1) Write a Python program in the below cell to create a dictionary that count the frequency of words in the string given in Q1.txt. Find the most frequent occured word.\n",
    "\n",
    "Don't remove the comment lines provided. "
   ]
  },
  {
   "cell_type": "code",
   "execution_count": null,
   "metadata": {},
   "outputs": [
    {
     "name": "stdout",
     "output_type": "stream",
     "text": [
      "BancaProposalStatusReport was  at  6/24/2025 1:50:09 AM BancaProposalStatusReport at was\n",
      "['bancaproposalstatusreport', 'was', 'at', '6/24/2025', '1', '50', '09', 'am', 'bancaproposalstatusreport', 'at', 'was']\n",
      "<class 'list'>\n",
      "{'Q1.txt': ['bancaproposalstatusreport', 'was', 'at', '6/24/2025', '1', '50', '09', 'am', 'bancaproposalstatusreport', 'at', 'was']}\n",
      "{'bancaproposalstatusreport': 1, 'was': 2, 'at': 1, '6/24/2025': 1, '1': 1, '50': 1, '09': 1, 'am': 1}\n",
      "Most Frequent Word in Q1.txt : was\n"
     ]
    }
   ],
   "source": [
    "#step 1: read content from Q1.txt \n",
    "with open('./data/Q1.txt', 'r') as file1:\n",
    "    word_string = file1.read()\n",
    "    print(word_string)\n",
    "\n",
    "#step 2.1 - change the case to upper or lower.     \n",
    "word_string = word_string.lower()\n",
    "#print(word_string)\n",
    "\n",
    "#step 2.2 - remove pun : use replace\n",
    "word_string = word_string.replace(\":\",\" \")\n",
    "#print(word_string)\n",
    "\n",
    "#step 2.3 - split using space\n",
    "word_split = word_string.split()\n",
    "print(word_split)\n",
    "print(type(word_split))\n",
    "\n",
    "#Step 3: create a dictionary \n",
    "my_dict ={}\n",
    "my_dict[\"Q1.txt\"] = word_split\n",
    "print(my_dict)\n",
    "\n",
    "#Step 4: find the most frequent occured one\n",
    "text_list = my_dict[\"Q1.txt\"]\n",
    "\n",
    "for x in range(len(text_list)):\n",
    "    count =0\n",
    "    count_list ={}\n",
    "    for word in text_list:\n",
    "        if text_list[x] == word:\n",
    "            count += 1\n",
    "        count_list[word] = count\n",
    "print(count_list)\n",
    "max_word = count_list.values()\n",
    "m_frequent = max(max_word)\n",
    "\n",
    "for word in count_list:\n",
    "    if(count_list[word] == m_frequent):\n",
    "        print(f\"Most frequent occured word in Q1.txt: {word}\")"
   ]
  },
  {
   "cell_type": "markdown",
   "metadata": {},
   "source": [
    "2) Write a Python program to read the name from Q2.txt and create email using domain 'simons-rock.edu' and save the results as dictionary : {'name': 'name@simons-rock.edu'}.\n",
    "Please take note that your email should not include space or any special characters and all charcters should be in lowercase."
   ]
  },
  {
   "cell_type": "code",
   "execution_count": 23,
   "metadata": {},
   "outputs": [
    {
     "name": "stdout",
     "output_type": "stream",
     "text": [
      "['Ei Ei Aung\\n', 'Kyaw Kyaw Aung\\n', 'wai mar lwin\\n', 'wai wai aung\\n', 'Mg Mg Kyaw\\n', 'Kyaw Gyi']\n",
      "{'iiung': 'iiung@simons-rock.edu', 'yawyawung': 'yawyawung@simons-rock.edu', 'waimarlwin': 'waimarlwin@simons-rock.edu', 'waiwaiaung': 'waiwaiaung@simons-rock.edu', 'ggyaw': 'ggyaw@simons-rock.edu', 'yawyi': 'yawyi@simons-rock.edu'}\n"
     ]
    }
   ],
   "source": [
    "import re\n",
    "#step 1: read Q2. txt into the list\n",
    "with open ('./data/Q2.txt', 'r') as names:\n",
    "    header = names.readline()\n",
    "    namelist = names.readlines()\n",
    "    print(namelist)\n",
    "    \n",
    "#step 2: create email for each name in the list and save them in the dictionary\n",
    "name_email = {}\n",
    "for name in namelist:\n",
    "    name_email[name] = name + \"@simons-rock.edu\"\n",
    "#print(name_email)\n",
    "#print(type(name_email))\n",
    "\n",
    "# You need to do the necessary data cleaning \n",
    "# For example, removing the space and special characters if there is any, converting them to lower case\n",
    "clean_email={}\n",
    "for key,value in name_email.items():\n",
    "    clean_key = re.sub('[^a-z0-9]',\"\",key).lower()\n",
    "    clean_value = re.sub('[^a-z0-9@.-]',\"\",value).lower()\n",
    "    clean_email[clean_key] = clean_value\n",
    "    \n",
    "name_email = clean_email\n",
    "print(name_email)"
   ]
  },
  {
   "cell_type": "markdown",
   "metadata": {},
   "source": [
    "3) Write a Python program for \"Guessing Game: Guess the Number Challenge\"\n",
    "\n",
    "Step 1: Use a random function to generate a number.\n",
    "\n",
    "##### Game starts.......\n",
    "\n",
    "Step 2: Prompt the user to guess an integer number. Provide a range if needed to give the user context for their guess.\n",
    "\n",
    "Step 3: Check the condition of the guessed number compared to the generated number and provide feedback accordingly. For example, if the guess is too high or too low, inform the user.\n",
    "\n",
    "Step 4.1: If the guess is incorrect, allow the user to guess again. Repeat this process for a maximum of 10 guesses.\n",
    "\n",
    "Step 4.2: If the user guesses the number correctly, inform them that they have won. Also, indicate how many guesses were needed before guessing correctly.\n",
    "\n",
    "Step 4.3: If the user exhausts all 10 guesses without guessing the correct number, say \"goodbye.\"\n",
    "\n",
    "##### Game ends ... \n",
    "\n",
    "Step 5: Regardless of winning or losing, ask the user if they want to play again. This ensures the program's continuity and gives the user the option to continue playing if they wish."
   ]
  },
  {
   "cell_type": "code",
   "execution_count": null,
   "metadata": {},
   "outputs": [
    {
     "name": "stdout",
     "output_type": "stream",
     "text": [
      "The random number is: 36\n",
      "Your guess is too low.\n",
      "Your guess is too low.\n",
      "Your guess is too low.\n",
      "Your guess is too high.\n",
      "Your guess is too high.\n",
      "Your guess is too low.\n",
      "Your guess is too low.\n",
      "Your guess is too low.\n",
      "Your guess is too low.\n",
      "Your guess is a little high.\n",
      "Goodbye: you have exceeded the maximum allowed attempts.\n",
      "The random number is: 41\n",
      "Your guess is very close.\n",
      "Your guess is very close.\n",
      "Your guess is a little high.\n",
      "Your guess is too high.\n",
      "Your guess is too high.\n",
      "You won! It took you 6 attempts to guess the number.\n",
      "Thanks for playing\n"
     ]
    }
   ],
   "source": [
    "#Step1: random function to generate a number\n",
    "from random import randint\n",
    "while True :\n",
    "    x = randint(1,50)\n",
    "    print(f\"The random number is: {x}\")\n",
    "\n",
    "    #Step2: prompt the user to guess an integer number\n",
    "    guess_num = int(input(\"Please guess the random number (hint: it's between 1 and 50)\"))\n",
    "\n",
    "    #Step3: checked the condition of the guessed number and provide feedback\n",
    "    compare_num =0\n",
    "    attempt_count = 1\n",
    "\n",
    "    #Step4.1: if the guess is incorrect ,allow the user to guess 10 times\n",
    "    while (attempt_count <= 10):    \n",
    "        if( x > guess_num ):\n",
    "            compare_num = x - guess_num\n",
    "            if (compare_num >= 20):\n",
    "                print(\"Your guess is too low.\")\n",
    "            elif (compare_num >= 10):\n",
    "                print(\"Your guess is slightly low.\")\n",
    "            elif (compare_num >= 5):\n",
    "                print(\"Your guess is getting close.\")\n",
    "            else:\n",
    "                print(\"Your guess is very close.\")\n",
    "        elif( x < guess_num ):\n",
    "            compare_num = guess_num - x\n",
    "            if (compare_num >= 20):\n",
    "                print(\"Your guess is too high.\")\n",
    "            elif (compare_num >= 10):\n",
    "                print(\"Your guess is a little high.\")\n",
    "            elif (compare_num >= 5):\n",
    "                print(\"Your guess is getting close.\")\n",
    "            else:\n",
    "                print(\"Your guess is very close.\")\n",
    "\n",
    "        #Step4.2: if the guesses the number correctly, inform that they have won and show the attempt times\n",
    "        else:\n",
    "            print(f\"You won! you took {attempt_count} attempts to guess the number.\")\n",
    "            break\n",
    "\n",
    "        attempt_count += 1\n",
    "        if (attempt_count <= 10):\n",
    "            guess_num = int(input(\"Please guess again: \"))\n",
    "\n",
    "    #Step4.3: if the user exceed 10 times guess attempt\n",
    "    if (attempt_count > 10) :\n",
    "        print(\"Goodbye: you have exceeded the maximum allowed attempts.\")\n",
    "\n",
    "    #Step5: ask the user if they want to play again \n",
    "    play_again = input(\"Do you want to try again? (yes/no): \").lower()\n",
    "    if play_again != \"yes\":\n",
    "        print(\"Thanks for playing\")\n",
    "        break"
   ]
  }
 ],
 "metadata": {
  "kernelspec": {
   "display_name": "myproject_kernel",
   "language": "python",
   "name": "myproject_kernel"
  },
  "language_info": {
   "codemirror_mode": {
    "name": "ipython",
    "version": 3
   },
   "file_extension": ".py",
   "mimetype": "text/x-python",
   "name": "python",
   "nbconvert_exporter": "python",
   "pygments_lexer": "ipython3",
   "version": "3.13.2"
  }
 },
 "nbformat": 4,
 "nbformat_minor": 2
}
