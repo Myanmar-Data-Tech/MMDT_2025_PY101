{
  "cells": [
    {
      "cell_type": "markdown",
      "metadata": {
        "id": "09oPyWtO-h6U"
      },
      "source": [
        "# Exception Handling\n"
      ]
    },
    {
      "cell_type": "markdown",
      "metadata": {
        "id": "-3pXqY2f-h6W"
      },
      "source": [
        "### Q2) Run the following programs and identify the potential errors.\n",
        "Use exception handling approach to handle and print all the potential erros.\n"
      ]
    },
    {
      "cell_type": "code",
      "execution_count": 2,
      "metadata": {
        "colab": {
          "base_uri": "https://localhost:8080/"
        },
        "id": "R0htwFeL-h6W",
        "outputId": "91a67715-1391-4c17-bfac-e541ea0090af"
      },
      "outputs": [
        {
          "output_type": "stream",
          "name": "stdout",
          "text": [
            "Please enter a number to divide a :1\n",
            "Success a= 1.0 \n"
          ]
        }
      ],
      "source": [
        "\n",
        "#Q2.1)\n",
        "a = 1\n",
        "b = input(\"Please enter a number to divide a :\")\n",
        "try:\n",
        "    a = a/int(b) #to divide a, b value have to convert to integer and no appropriate for converting directly in line 2.\n",
        "except ZeroDivisionError:\n",
        "    print(\"The denominator value is {}. Input values except zero.\".format(b))\n",
        "except ValueError:\n",
        "    print(\"The input value must be number.\")\n",
        "except TypeError:\n",
        "    print(\"You must input numbers only.\")\n",
        "else:\n",
        "    print(\"Success a= {} \".format(a))"
      ]
    },
    {
      "cell_type": "code",
      "execution_count": 1,
      "metadata": {
        "colab": {
          "base_uri": "https://localhost:8080/"
        },
        "id": "86n5aIDC-h6X",
        "outputId": "771aeb79-fdc3-49e4-97db-ffb5cba39f31"
      },
      "outputs": [
        {
          "output_type": "stream",
          "name": "stdout",
          "text": [
            "Iteration: 0 0.4\n",
            "Iteration: 1 0.6\n",
            "Iteration: 2 1.0\n",
            "Iteration: 3 -1.4\n",
            "Iteration: 4 1.6\n",
            "Iteration: 5 0.0\n",
            "Index Error.\n",
            "Iteration completed\n"
          ]
        }
      ],
      "source": [
        "#Q2.2)\n",
        "mylist = [2, 3, 5, -7, 8, 0]\n",
        "idx = 0\n",
        "b = 5\n",
        "while idx<=6:\n",
        "    try:\n",
        "        print('Iteration:', idx, mylist[idx]/b)\n",
        "    except IndexError:\n",
        "        print(\"Index Error.\")\n",
        "    idx = idx+1\n",
        "print('Iteration completed')\n",
        ""
      ]
    },
    {
      "cell_type": "code",
      "execution_count": null,
      "metadata": {
        "id": "H41GDKvw-h6X"
      },
      "outputs": [],
      "source": []
    }
  ],
  "metadata": {
    "kernelspec": {
      "display_name": "Python 3",
      "language": "python",
      "name": "python3"
    },
    "language_info": {
      "codemirror_mode": {
        "name": "ipython",
        "version": 3
      },
      "file_extension": ".py",
      "mimetype": "text/x-python",
      "name": "python",
      "nbconvert_exporter": "python",
      "pygments_lexer": "ipython3",
      "version": "3.8.8"
    },
    "colab": {
      "provenance": []
    }
  },
  "nbformat": 4,
  "nbformat_minor": 0
}