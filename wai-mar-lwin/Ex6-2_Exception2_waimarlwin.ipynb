{
 "cells": [
  {
   "cell_type": "markdown",
   "metadata": {},
   "source": [
    "# Exception Handling\n"
   ]
  },
  {
   "cell_type": "markdown",
   "metadata": {},
   "source": [
    "### Q2) Run the following programs and identify the potential errors. \n",
    "Use exception handling approach to handle and print all the potential erros. \n"
   ]
  },
  {
   "cell_type": "code",
   "execution_count": 3,
   "metadata": {},
   "outputs": [
    {
     "name": "stdout",
     "output_type": "stream",
     "text": [
      "Success a=  0.5\n"
     ]
    }
   ],
   "source": [
    "#Q2.1) \n",
    "try:\n",
    "    a = 1\n",
    "    b = int(input(\"Please enter a number to divide a \"))\n",
    "    a = a/b\n",
    "    print(\"Success a= \",a)\n",
    "except ZeroDivisionError:\n",
    "    print('Numerator must be greater than zero')\n",
    "except ValueError:\n",
    "    print('Inputs should be whole numbers')"
   ]
  },
  {
   "cell_type": "code",
   "execution_count": null,
   "metadata": {},
   "outputs": [
    {
     "name": "stdout",
     "output_type": "stream",
     "text": [
      "Iteration: 0 0.4\n",
      "Iteration completed\n",
      "Iteration: 1 0.6\n",
      "Iteration completed\n",
      "Iteration: 2 1.0\n",
      "Iteration completed\n",
      "Iteration: 3 -1.4\n",
      "Iteration completed\n",
      "Iteration: 4 1.6\n",
      "Iteration completed\n",
      "Iteration: 5 0.0\n",
      "Iteration completed\n",
      "IndexError Occured\n"
     ]
    }
   ],
   "source": [
    "#Q2.2) \n",
    "try:\n",
    "    mylist = [2, 3, 5, -7, 8, 0]\n",
    "    idx = 0\n",
    "    b = 5\n",
    "    while idx<=6:\n",
    "        print('Iteration:', idx, mylist[idx]/b) \n",
    "        idx = idx+1\n",
    "        print('Iteration completed')\n",
    "\n",
    "except IndexError:\n",
    "    print(\"IndexError Occured\")    "
   ]
  }
 ],
 "metadata": {
  "kernelspec": {
   "display_name": "myproject_kernel",
   "language": "python",
   "name": "myproject_kernel"
  },
  "language_info": {
   "codemirror_mode": {
    "name": "ipython",
    "version": 3
   },
   "file_extension": ".py",
   "mimetype": "text/x-python",
   "name": "python",
   "nbconvert_exporter": "python",
   "pygments_lexer": "ipython3",
   "version": "3.13.2"
  }
 },
 "nbformat": 4,
 "nbformat_minor": 4
}
