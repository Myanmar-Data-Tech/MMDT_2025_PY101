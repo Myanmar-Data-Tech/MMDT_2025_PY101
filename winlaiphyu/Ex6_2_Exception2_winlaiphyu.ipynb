{
  "nbformat": 4,
  "nbformat_minor": 0,
  "metadata": {
    "colab": {
      "provenance": [],
      "authorship_tag": "ABX9TyMoXWtpvDpNjBh+Vg8MiaDg",
      "include_colab_link": true
    },
    "kernelspec": {
      "name": "python3",
      "display_name": "Python 3"
    },
    "language_info": {
      "name": "python"
    }
  },
  "cells": [
    {
      "cell_type": "markdown",
      "metadata": {
        "id": "view-in-github",
        "colab_type": "text"
      },
      "source": [
        "<a href=\"https://colab.research.google.com/github/Winlai16/MMDT_2025_PY101/blob/winlaiphyu/winlaiphyu/Ex6_2_Exception2_winlaiphyu.ipynb\" target=\"_parent\"><img src=\"https://colab.research.google.com/assets/colab-badge.svg\" alt=\"Open In Colab\"/></a>"
      ]
    },
    {
      "cell_type": "markdown",
      "source": [
        "Exception Handling\n",
        "\n",
        "Q2) Run the following programs and identify the potential errors.\n",
        "Use exception handling approach to handle and print all the potential erros."
      ],
      "metadata": {
        "id": "DG3XUhZhzvcb"
      }
    },
    {
      "cell_type": "code",
      "source": [
        "#Q2.1)\n",
        "try:\n",
        "  a = 1\n",
        "  b = int(input(\"Please enter a number to divide a \"))\n",
        "  a = a/b\n",
        "  print(\"Success a= \",a)\n",
        "except ZeroDivisionError:\n",
        "    print(\"Error: Cannot divide by zero!\")"
      ],
      "metadata": {
        "colab": {
          "base_uri": "https://localhost:8080/"
        },
        "id": "cKMf-cQLzz2A",
        "outputId": "be848f7b-d253-4113-c625-e03fee4733a7"
      },
      "execution_count": 1,
      "outputs": [
        {
          "output_type": "stream",
          "name": "stdout",
          "text": [
            "Please enter a number to divide a 0\n",
            "Error: Cannot divide by zero!\n"
          ]
        }
      ]
    },
    {
      "cell_type": "code",
      "source": [
        "#Q2.2)\n",
        "try:\n",
        "  mylist = [2, 3, 5, -7, 8, 0]\n",
        "  idx = 0\n",
        "  b = 5\n",
        "  while idx<=6:\n",
        "    print('Iteration:', idx, mylist[idx]/b)\n",
        "    idx = idx+1\n",
        "    print('Iteration completed')\n",
        "except IndexError:\n",
        "  print(\"IndexError: list index out of range\")"
      ],
      "metadata": {
        "colab": {
          "base_uri": "https://localhost:8080/"
        },
        "id": "2NIeZI320vAI",
        "outputId": "b33f73b5-4cef-4a51-f999-12ceb08b3c6c"
      },
      "execution_count": null,
      "outputs": [
        {
          "output_type": "stream",
          "name": "stdout",
          "text": [
            "Iteration: 0 0.4\n",
            "Iteration completed\n",
            "Iteration: 1 0.6\n",
            "Iteration completed\n",
            "Iteration: 2 1.0\n",
            "Iteration completed\n",
            "Iteration: 3 -1.4\n",
            "Iteration completed\n",
            "Iteration: 4 1.6\n",
            "Iteration completed\n",
            "Iteration: 5 0.0\n",
            "Iteration completed\n",
            "IndexError: list index out of range\n"
          ]
        }
      ]
    },
    {
      "cell_type": "code",
      "source": [],
      "metadata": {
        "id": "tBJH_rpI1byE"
      },
      "execution_count": null,
      "outputs": []
    }
  ]
}