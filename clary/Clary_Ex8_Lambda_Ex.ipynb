{
  "cells": [
    {
      "cell_type": "markdown",
      "metadata": {
        "id": "B0Zecjei8ZjW"
      },
      "source": [
        "Q1). Write a lambda function that takes an integer 'year' and returns 'age'."
      ]
    },
    {
      "cell_type": "code",
      "execution_count": 1,
      "metadata": {
        "colab": {
          "base_uri": "https://localhost:8080/"
        },
        "id": "KFiL4jlI8ZjX",
        "outputId": "7d384450-ea04-4ff9-a62a-6ab949f3c326"
      },
      "outputs": [
        {
          "output_type": "execute_result",
          "data": {
            "text/plain": [
              "25"
            ]
          },
          "metadata": {},
          "execution_count": 1
        }
      ],
      "source": [
        "from datetime import datetime\n",
        "\n",
        "current_year = datetime.now().year\n",
        "calculate_age = lambda year: current_year - year\n",
        "calculate_age(2000)"
      ]
    },
    {
      "cell_type": "markdown",
      "metadata": {
        "id": "RKtoakP-8ZjY"
      },
      "source": [
        "Q2) Write a lambda function that takes a float \"cost\" and returns a float \"price\" by adding 10% to the cost."
      ]
    },
    {
      "cell_type": "code",
      "execution_count": 2,
      "metadata": {
        "colab": {
          "base_uri": "https://localhost:8080/"
        },
        "id": "FFjEW3Fj8ZjY",
        "outputId": "13382fc8-05ac-4ea1-d941-0bb372d8b883"
      },
      "outputs": [
        {
          "output_type": "execute_result",
          "data": {
            "text/plain": [
              "61.6"
            ]
          },
          "metadata": {},
          "execution_count": 2
        }
      ],
      "source": [
        "calculate_pirce = lambda cost: cost + cost*0.10\n",
        "\n",
        "calculate_pirce(56)"
      ]
    },
    {
      "cell_type": "markdown",
      "metadata": {
        "id": "3VPHqXoK8ZjY"
      },
      "source": [
        "Q3) For the given name list : names = ['Richard', 'Karam', 'Karpo', 'Sonam', 'Ugyen']\n",
        "\n",
        "Write a python program that converts each name into email address. The domain is given as gmail."
      ]
    },
    {
      "cell_type": "code",
      "execution_count": 3,
      "metadata": {
        "colab": {
          "base_uri": "https://localhost:8080/"
        },
        "id": "AieH357B8ZjZ",
        "outputId": "81db1a06-d934-4115-9cd6-bd7dc20abde1"
      },
      "outputs": [
        {
          "output_type": "execute_result",
          "data": {
            "text/plain": [
              "['richard@gmail.com',\n",
              " 'karam@gmail.com',\n",
              " 'karpo@gmail.com',\n",
              " 'sonam@gmail.com',\n",
              " 'ugyen@gmail.com']"
            ]
          },
          "metadata": {},
          "execution_count": 3
        }
      ],
      "source": [
        "names = ['Richard', 'Karam', 'Karpo', 'Sonam', 'Ugyen']\n",
        "create_email = lambda name: name.lower()+'@gmail.com'\n",
        "emails = [*map(create_email, names)]\n",
        "emails\n"
      ]
    },
    {
      "cell_type": "markdown",
      "metadata": {
        "id": "Vsi-SoWU8ZjZ"
      },
      "source": [
        "Q4) Write a lambda function that takes two strings 'name' , 'domain' and returns an email address (string)."
      ]
    },
    {
      "cell_type": "code",
      "execution_count": 4,
      "metadata": {
        "colab": {
          "base_uri": "https://localhost:8080/",
          "height": 35
        },
        "id": "W83dEf2m8ZjZ",
        "outputId": "22957cd0-2caf-494f-e5c7-370d83529b0c"
      },
      "outputs": [
        {
          "output_type": "execute_result",
          "data": {
            "text/plain": [
              "'myo@drmyothida.com'"
            ],
            "application/vnd.google.colaboratory.intrinsic+json": {
              "type": "string"
            }
          },
          "metadata": {},
          "execution_count": 4
        }
      ],
      "source": [
        "create_custom_email = lambda name, domain: name.lower()+'@'+domain\n",
        "create_custom_email('myo', 'drmyothida.com')"
      ]
    },
    {
      "cell_type": "markdown",
      "metadata": {
        "id": "bZ3sggS98ZjZ"
      },
      "source": [
        "Q5) old_list = [2, 4, 6, 7, 9]\n",
        "\n",
        "write a for loop to square each element of the given old_list."
      ]
    },
    {
      "cell_type": "code",
      "execution_count": 6,
      "metadata": {
        "colab": {
          "base_uri": "https://localhost:8080/"
        },
        "id": "RXsfyv7k8ZjZ",
        "outputId": "969a537d-46ee-4397-864f-ad4845852f42"
      },
      "outputs": [
        {
          "output_type": "stream",
          "name": "stdout",
          "text": [
            "[4, 16, 36, 49, 81] [4, 16, 36, 49, 81]\n"
          ]
        }
      ],
      "source": [
        "# list comprehension\n",
        "old_list = [2, 4, 6, 7, 9]\n",
        "new_list1 = [item**2 for item in old_list]\n",
        "\n",
        "#2nd method\n",
        "new_list2 = []\n",
        "for item in old_list:\n",
        "    new_list2.append(item**2)\n",
        "\n",
        "print(new_list1, new_list2)"
      ]
    },
    {
      "cell_type": "markdown",
      "source": [
        "Ex8.1 Write a Python program to extract the passwords that are valid.(Password must have 8 numeric-characters to be valid)"
      ],
      "metadata": {
        "id": "-VzBF4nbBICZ"
      }
    },
    {
      "cell_type": "code",
      "source": [
        "password_list = ['p77&4cTE','n2M$92','bcG89&LW','96&1Q8y7','!fG810']\n",
        "valid_list = [password for password in password_list if len(password)==8]\n",
        "print (valid_list)"
      ],
      "metadata": {
        "colab": {
          "base_uri": "https://localhost:8080/"
        },
        "id": "mkzKMtyQBf_a",
        "outputId": "196580e7-878d-4293-adc9-885603758a14"
      },
      "execution_count": 11,
      "outputs": [
        {
          "output_type": "stream",
          "name": "stdout",
          "text": [
            "['p77&4cTE', 'bcG89&LW', '96&1Q8y7']\n"
          ]
        }
      ]
    },
    {
      "cell_type": "markdown",
      "source": [
        "Ex8.2 Given the list L=[12,34,56,78,90,15,61]. Count the number of elements that are greater then 50."
      ],
      "metadata": {
        "id": "XS4lOA6-CZu4"
      }
    },
    {
      "cell_type": "code",
      "source": [
        "L=[12,34,56,78,90,15,61]\n",
        "new_L= [value for value in L if value >50]\n",
        "print (len(new_L))"
      ],
      "metadata": {
        "colab": {
          "base_uri": "https://localhost:8080/"
        },
        "id": "6fF1n44qCxgh",
        "outputId": "0de7e956-0b29-41e4-e882-e4d738a2cea4"
      },
      "execution_count": 12,
      "outputs": [
        {
          "output_type": "stream",
          "name": "stdout",
          "text": [
            "4\n"
          ]
        }
      ]
    },
    {
      "cell_type": "markdown",
      "source": [
        "Ex8.3 Use a list comprehension to produce a list that consists of all palindromic numbers between 100 and 10000."
      ],
      "metadata": {
        "id": "YfaCzwOoDDfQ"
      }
    },
    {
      "cell_type": "code",
      "source": [
        "palindromes = [n for n in range(100, 10000) if str(n) == str(n)[::-1]]\n",
        "print(palindromes)"
      ],
      "metadata": {
        "colab": {
          "base_uri": "https://localhost:8080/"
        },
        "id": "-3asADeIDYRo",
        "outputId": "9fa90dd4-68c0-4d53-a036-11023db41080"
      },
      "execution_count": 13,
      "outputs": [
        {
          "output_type": "stream",
          "name": "stdout",
          "text": [
            "[101, 111, 121, 131, 141, 151, 161, 171, 181, 191, 202, 212, 222, 232, 242, 252, 262, 272, 282, 292, 303, 313, 323, 333, 343, 353, 363, 373, 383, 393, 404, 414, 424, 434, 444, 454, 464, 474, 484, 494, 505, 515, 525, 535, 545, 555, 565, 575, 585, 595, 606, 616, 626, 636, 646, 656, 666, 676, 686, 696, 707, 717, 727, 737, 747, 757, 767, 777, 787, 797, 808, 818, 828, 838, 848, 858, 868, 878, 888, 898, 909, 919, 929, 939, 949, 959, 969, 979, 989, 999, 1001, 1111, 1221, 1331, 1441, 1551, 1661, 1771, 1881, 1991, 2002, 2112, 2222, 2332, 2442, 2552, 2662, 2772, 2882, 2992, 3003, 3113, 3223, 3333, 3443, 3553, 3663, 3773, 3883, 3993, 4004, 4114, 4224, 4334, 4444, 4554, 4664, 4774, 4884, 4994, 5005, 5115, 5225, 5335, 5445, 5555, 5665, 5775, 5885, 5995, 6006, 6116, 6226, 6336, 6446, 6556, 6666, 6776, 6886, 6996, 7007, 7117, 7227, 7337, 7447, 7557, 7667, 7777, 7887, 7997, 8008, 8118, 8228, 8338, 8448, 8558, 8668, 8778, 8888, 8998, 9009, 9119, 9229, 9339, 9449, 9559, 9669, 9779, 9889, 9999]\n"
          ]
        }
      ]
    },
    {
      "cell_type": "markdown",
      "source": [
        "Ex8.4 Let L= [2,3,5,7,11,13,17,19,23,29,31,37,41,43,47]. Use a list comprehension to produce a list of the gaps between consecutive entries in L. Then find the maximum gap size and the percentage of gaps that have size 2."
      ],
      "metadata": {
        "id": "wsaN1gXTEWuW"
      }
    },
    {
      "cell_type": "code",
      "source": [
        "L = [2, 3, 5, 7, 11, 13, 17, 19, 23, 29, 31, 37, 41, 43, 47]\n",
        "\n",
        "gaps = [L[i+1] - L[i] for i in range(len(L)-1)]\n",
        "max_gap = max(gaps)\n",
        "percentage_size_2 = (gaps.count(2) / len(gaps)) * 100\n",
        "\n",
        "print(\"Gaps:\", gaps)\n",
        "print(\"Maximum gap:\", max_gap)\n",
        "print(\"Percentage of gaps of size 2:\", percentage_size_2, \"%\")\n"
      ],
      "metadata": {
        "colab": {
          "base_uri": "https://localhost:8080/"
        },
        "id": "tfJxBij3FitB",
        "outputId": "86a14792-4c90-412f-f60b-7a22650bc596"
      },
      "execution_count": 14,
      "outputs": [
        {
          "output_type": "stream",
          "name": "stdout",
          "text": [
            "Gaps: [1, 2, 2, 4, 2, 4, 2, 4, 6, 2, 6, 4, 2, 4]\n",
            "Maximum gap: 6\n",
            "Percentage of gaps of size 2: 42.857142857142854 %\n"
          ]
        }
      ]
    },
    {
      "cell_type": "markdown",
      "source": [],
      "metadata": {
        "id": "ADHgGqYDBSef"
      }
    }
  ],
  "metadata": {
    "kernelspec": {
      "display_name": ".venv",
      "language": "python",
      "name": "python3"
    },
    "language_info": {
      "codemirror_mode": {
        "name": "ipython",
        "version": 3
      },
      "file_extension": ".py",
      "mimetype": "text/x-python",
      "name": "python",
      "nbconvert_exporter": "python",
      "pygments_lexer": "ipython3",
      "version": "3.12.2"
    },
    "colab": {
      "provenance": []
    }
  },
  "nbformat": 4,
  "nbformat_minor": 0
}