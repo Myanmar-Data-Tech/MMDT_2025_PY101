{
  "cells": [
    {
      "cell_type": "markdown",
      "metadata": {
        "id": "fl_NtIdk4BhW"
      },
      "source": [
        "# Exception Handling\n"
      ]
    },
    {
      "cell_type": "markdown",
      "metadata": {
        "id": "mfOgp-zX4BhZ"
      },
      "source": [
        "### Q1) Run the following programs and identify the errors.\n",
        "Use exception handling approach to handle the erros.\n"
      ]
    },
    {
      "cell_type": "code",
      "execution_count": 4,
      "metadata": {
        "colab": {
          "base_uri": "https://localhost:8080/"
        },
        "id": "Y9pGm1IC4BhZ",
        "outputId": "eca096b6-68ea-4013-db6a-3e3d49320706"
      },
      "outputs": [
        {
          "output_type": "stream",
          "name": "stdout",
          "text": [
            "Denominator cannot be zero\n"
          ]
        }
      ],
      "source": [
        "#Q1.1) Zero division error\n",
        "def myfunction(a,b):\n",
        "  try:\n",
        "    answer = a/b\n",
        "    return answer\n",
        "\n",
        "  except ZeroDivisionError:\n",
        "    print(\"Denominator cannot be zero\")\n",
        "\n",
        "\n",
        "#Call the function as follows:\n",
        "myfunction(2,0)"
      ]
    },
    {
      "cell_type": "code",
      "execution_count": 14,
      "metadata": {
        "colab": {
          "base_uri": "https://localhost:8080/"
        },
        "id": "QdfIROnQ4Bha",
        "outputId": "839f8d3f-eb7f-48a2-fba6-7eb23adcd426"
      },
      "outputs": [
        {
          "output_type": "stream",
          "name": "stdout",
          "text": [
            "Variable a is not defined\n"
          ]
        }
      ],
      "source": [
        "#Q1.2 Name Error\n",
        "\n",
        "def myfunction2(c):\n",
        "  try:\n",
        "    answer = a/c\n",
        "    return answer\n",
        "\n",
        "  except NameError:\n",
        "    print(\"Variable a is not defined\")\n",
        "\n",
        "\n",
        "# Call the function as follows:\n",
        "myfunction2(3)"
      ]
    },
    {
      "cell_type": "code",
      "execution_count": 17,
      "metadata": {
        "scrolled": true,
        "colab": {
          "base_uri": "https://localhost:8080/"
        },
        "id": "rIKXYHLd4Bha",
        "outputId": "b90a6e1f-c6a1-46f6-9388-0058f7752fe5"
      },
      "outputs": [
        {
          "output_type": "stream",
          "name": "stdout",
          "text": [
            "1\n",
            "2\n",
            "3\n",
            "Index out of range\n"
          ]
        }
      ],
      "source": [
        "#Q1.3 IndexError\n",
        "a = [1, 2, 3]\n",
        "\n",
        "try:\n",
        "  for k in range(0,4):\n",
        "    print(a[k])\n",
        "\n",
        "except IndexError:\n",
        "  print(\"Index out of range\")\n"
      ]
    },
    {
      "cell_type": "code",
      "execution_count": 42,
      "metadata": {
        "colab": {
          "base_uri": "https://localhost:8080/"
        },
        "id": "TC0_Z6SR4Bhb",
        "outputId": "ae0cea58-6b06-47b6-9d97-40d2849570f5"
      },
      "outputs": [
        {
          "output_type": "stream",
          "name": "stdout",
          "text": [
            "Please enter a number to divide a: -9\n",
            "Success a= -0.1111111111111111\n"
          ]
        }
      ],
      "source": [
        "#Q1.4 Zero Division Error, Value Error\n",
        "a = 1\n",
        "\n",
        "try:\n",
        "  b = int(input(\"Please enter a number to divide a: \"))\n",
        "  a = a/b\n",
        "  print(\"Success a=\",a)\n",
        "\n",
        "except ZeroDivisionError:\n",
        "  print(\"Denominator cannot be zero\")\n",
        "\n",
        "except ValueError:\n",
        "  print(\"Please enter a valid number\")\n",
        "\n",
        "\n"
      ]
    },
    {
      "cell_type": "code",
      "execution_count": 45,
      "metadata": {
        "colab": {
          "base_uri": "https://localhost:8080/"
        },
        "id": "7FaSIgo64Bhb",
        "outputId": "70f9c455-865a-4239-8928-cdacdc9ed67c"
      },
      "outputs": [
        {
          "output_type": "stream",
          "name": "stdout",
          "text": [
            "The result of division is 5.0\n"
          ]
        },
        {
          "output_type": "execute_result",
          "data": {
            "text/plain": [
              "5.0"
            ]
          },
          "metadata": {},
          "execution_count": 45
        }
      ],
      "source": [
        "def divide(a, b):\n",
        "    try:\n",
        "        result = a / b\n",
        "        print('The result of division is', result)\n",
        "    except ZeroDivisionError:\n",
        "        print('Numerator must be greater than zero')\n",
        "    except TypeError:\n",
        "        print('Inputs must be numbers')\n",
        "    else:\n",
        "        return result\n",
        "\n",
        "\n",
        "divide(\"10\",2)"
      ]
    },
    {
      "cell_type": "code",
      "execution_count": 57,
      "metadata": {
        "colab": {
          "base_uri": "https://localhost:8080/"
        },
        "id": "sPk1kmr34Bhb",
        "outputId": "54051ff2-ed43-4e34-cd29-0174370dcd6b"
      },
      "outputs": [
        {
          "output_type": "stream",
          "name": "stdout",
          "text": [
            "File does not exist.\n"
          ]
        }
      ],
      "source": [
        "def read_file(filename):\n",
        "    try:\n",
        "        with open(filename, 'r') as file1:\n",
        "            word_string = file1.read()\n",
        "        print(\"File reading completed successfully\")\n",
        "        return word_string\n",
        "    except FileNotFoundError:\n",
        "        print(\"File does not exist.\")\n",
        "\n",
        "\n",
        "\n",
        "read_file(\"./data/Q1.txt\")"
      ]
    },
    {
      "cell_type": "markdown",
      "source": [],
      "metadata": {
        "id": "rIb2c0xC9nvN"
      }
    }
  ],
  "metadata": {
    "kernelspec": {
      "display_name": "Python 3",
      "language": "python",
      "name": "python3"
    },
    "language_info": {
      "codemirror_mode": {
        "name": "ipython",
        "version": 3
      },
      "file_extension": ".py",
      "mimetype": "text/x-python",
      "name": "python",
      "nbconvert_exporter": "python",
      "pygments_lexer": "ipython3",
      "version": "3.12.1"
    },
    "colab": {
      "provenance": []
    }
  },
  "nbformat": 4,
  "nbformat_minor": 0
}