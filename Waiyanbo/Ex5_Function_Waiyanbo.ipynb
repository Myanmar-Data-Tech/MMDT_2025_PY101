{
  "cells": [
    {
      "cell_type": "markdown",
      "metadata": {
        "id": "view-in-github",
        "colab_type": "text"
      },
      "source": [
        "<a href=\"https://colab.research.google.com/github/drwaiyanbo/MMDT_2025_PY101/blob/waiyanbo/Waiyanbo/Ex5_Function_Waiyanbo.ipynb\" target=\"_parent\"><img src=\"https://colab.research.google.com/assets/colab-badge.svg\" alt=\"Open In Colab\"/></a>"
      ]
    },
    {
      "cell_type": "markdown",
      "metadata": {
        "id": "b-1b6ywy-O5i"
      },
      "source": [
        "Exercises are taken from : https://www.brianheinold.net/python/A_Practical_Introduction_to_Python_Programming_Heinold.pdf\n"
      ]
    },
    {
      "cell_type": "markdown",
      "metadata": {
        "id": "pps5xBbs-I9w"
      },
      "source": [
        "Ex 1: Write a function called rectangle that takes two integers m and n as arguments and prints\n",
        "out an m× n box consisting of asterisks. Shown below is the output of rectangle(2,4)\n",
        "****\n",
        "****"
      ]
    },
    {
      "cell_type": "code",
      "execution_count": 1,
      "metadata": {
        "id": "S_5WWVLH3u8y",
        "outputId": "ad2b192b-f732-456f-aa0b-36893e1797aa",
        "colab": {
          "base_uri": "https://localhost:8080/"
        }
      },
      "outputs": [
        {
          "output_type": "stream",
          "name": "stdout",
          "text": [
            "*****\n",
            "*****\n",
            "*****\n",
            "*****\n",
            "*****\n",
            "*****\n",
            "*****\n",
            "*****\n",
            "*****\n",
            "*****\n"
          ]
        }
      ],
      "source": [
        "def rectangle(m,n):\n",
        "    for k in range(m):\n",
        "        print(n*'*')\n",
        "\n",
        "rectangle(10,5)\n"
      ]
    },
    {
      "cell_type": "markdown",
      "metadata": {
        "id": "0QS7SmPV-coO"
      },
      "source": [
        "Ex 2: Write a function that takes an integer n and returns a random integer with exactly n digits. For\n",
        "instance, if n is 3, then 125 and 593 would be valid return values, but 093 would not because\n",
        "that is really 93, which is a two-digit number."
      ]
    },
    {
      "cell_type": "code",
      "execution_count": 22,
      "metadata": {
        "id": "c4ejnmGJ-MzL",
        "outputId": "dbe0d113-8461-420f-d356-91f8e3768efe",
        "colab": {
          "base_uri": "https://localhost:8080/"
        }
      },
      "outputs": [
        {
          "output_type": "execute_result",
          "data": {
            "text/plain": [
              "412"
            ]
          },
          "metadata": {},
          "execution_count": 22
        }
      ],
      "source": [
        "import random\n",
        "def calcualte_numbers ( n ):\n",
        "    result = random.randint(10**(n-1) , 10**(n)-1)\n",
        "\n",
        "\n",
        "    return result\n",
        "\n",
        "calcualte_numbers(3)"
      ]
    },
    {
      "cell_type": "markdown",
      "metadata": {
        "id": "B0P_F5Ld-ldg"
      },
      "source": [
        "Ex 3: Write a function called number_of_factors that takes an integer and returns how many\n",
        "factors the number has."
      ]
    },
    {
      "cell_type": "code",
      "execution_count": 29,
      "metadata": {
        "id": "Yr2BLCXp-oTi",
        "outputId": "24f50722-0c10-41c8-b5b2-42a5155fd9cf",
        "colab": {
          "base_uri": "https://localhost:8080/"
        }
      },
      "outputs": [
        {
          "output_type": "execute_result",
          "data": {
            "text/plain": [
              "4"
            ]
          },
          "metadata": {},
          "execution_count": 29
        }
      ],
      "source": [
        "def number_of_factors(n):\n",
        "  count = 0\n",
        "  for i in range(1, n+1):\n",
        "    if n % i == 0:\n",
        "      count += 1\n",
        "  return count\n",
        "\n",
        "number_of_factors(8)"
      ]
    },
    {
      "cell_type": "markdown",
      "metadata": {
        "id": "7w0DDTyY-o_4"
      },
      "source": [
        "Ex4: Write a function called first_diff that is given two strings and returns the first location in\n",
        "which the strings differ. If the strings are identical, it should return -1.Ignore the case in your function. It means h and H are the same."
      ]
    },
    {
      "cell_type": "code",
      "execution_count": 37,
      "metadata": {
        "id": "1WOvaf0z-6J6",
        "outputId": "67d01260-47d3-4fd8-fc5d-5b4d468796b0",
        "colab": {
          "base_uri": "https://localhost:8080/"
        }
      },
      "outputs": [
        {
          "output_type": "stream",
          "name": "stdout",
          "text": [
            "-1\n",
            "4\n",
            "8\n"
          ]
        }
      ],
      "source": [
        "def first_diff(str1, str2):\n",
        "  # make the string to ignore the case\n",
        "  str1 = str1.lower()\n",
        "  str2 = str2.lower()\n",
        "\n",
        "  # call the loop for characters\n",
        "  for i in range(min(len(str1), len(str2))):\n",
        "    if str1[i] != str2[i]:\n",
        "      return i\n",
        "\n",
        "  # if the strings are ientical or one if a prefix of other,\n",
        "  if len(str1) != len(str2):\n",
        "    return min(len(str1), len(str2))\n",
        "  return -1\n",
        "\n",
        "print(first_diff(\"hello\", \"Hello\"))\n",
        "print(first_diff(\"hello\", \"hell21a\"))\n",
        "print(first_diff(\"waiyanbo\", \"WAIYANBO7\"))\n"
      ]
    },
    {
      "cell_type": "markdown",
      "metadata": {
        "id": "jLM8fAg_-6th"
      },
      "source": [
        "Ex5: Write a function called root that is given a number x and an integer n and returns x/n. In\n",
        "the function definition, set the default value of n to 2."
      ]
    },
    {
      "cell_type": "code",
      "execution_count": 45,
      "metadata": {
        "id": "1TrSgTDa_Fu0",
        "outputId": "85426cb9-b87c-4db3-e071-20a4c6d8a4d6",
        "colab": {
          "base_uri": "https://localhost:8080/"
        }
      },
      "outputs": [
        {
          "output_type": "stream",
          "name": "stdout",
          "text": [
            "5.0\n",
            "5.0\n"
          ]
        }
      ],
      "source": [
        "def root(x, n=2):\n",
        "  return (x/n)\n",
        "\n",
        "print(root(10, 2))\n",
        "print(root(10))"
      ]
    },
    {
      "cell_type": "markdown",
      "metadata": {
        "id": "oYScByU_iodz"
      },
      "source": [
        "Ex6: Write a function that solves the system of equations ax + by = e and cx +dy = f. Your function should takes 6 parameters, (a, b, c, d, e,f) and return the values of x and y."
      ]
    },
    {
      "cell_type": "code",
      "execution_count": 48,
      "metadata": {
        "id": "f6bzKsEYiod0",
        "outputId": "b9b389d6-fd1b-42fd-8905-a466fa3b57a8",
        "colab": {
          "base_uri": "https://localhost:8080/"
        }
      },
      "outputs": [
        {
          "output_type": "stream",
          "name": "stdout",
          "text": [
            "(-4.0, 4.5)\n"
          ]
        }
      ],
      "source": [
        "def solve_system(a, b, c, d, e, f):\n",
        "  x = (e*d - b*f) / (a*d - b*c)\n",
        "  y = (a*f - e*c) / (a*d - b*c)\n",
        "  return x, y\n",
        "\n",
        "print(solve_system(1, 2, 3, 4, 5, 6))"
      ]
    },
    {
      "cell_type": "markdown",
      "metadata": {
        "id": "OuC57oXaiod0"
      },
      "source": [
        "Ex7:  Write a function called change_case that given a string, returns a string with each upper  case letter replaced by a lower case letter and vice-versa"
      ]
    },
    {
      "cell_type": "code",
      "execution_count": 50,
      "metadata": {
        "id": "pZMMpS8Aiod1",
        "outputId": "8fc781f6-2070-4230-d86f-1d691f0d3717",
        "colab": {
          "base_uri": "https://localhost:8080/"
        }
      },
      "outputs": [
        {
          "output_type": "stream",
          "name": "stdout",
          "text": [
            "hElLO wOrLd\n"
          ]
        }
      ],
      "source": [
        "def change_case(str):\n",
        "  return str.swapcase()\n",
        "\n",
        "print(change_case(\"HeLlo WoRlD\"))"
      ]
    },
    {
      "cell_type": "markdown",
      "metadata": {
        "id": "GvcYTTSwiod1"
      },
      "source": [
        "Ex8:  Write a function called primes that is given a number n and returns a list of the first n  primes. Let the default value of n be 100."
      ]
    },
    {
      "cell_type": "code",
      "execution_count": 58,
      "metadata": {
        "id": "M4R6os5hiod1"
      },
      "outputs": [],
      "source": [
        "def is_prime(num):\n",
        "  if num < 2:\n",
        "    return False\n",
        "  for i in range(2, int(num ** 0.5)+1):\n",
        "    if num % i == 0:\n",
        "      return False\n",
        "  return True\n",
        "\n",
        "def prime(n=100):\n",
        "  prime_numbers = []\n",
        "  while len(prime_numbers) < n:\n",
        "    i += 1\n",
        "    if not is_prime(i):\n",
        "      continue\n",
        "    else:\n",
        "      prime_numbers.append(i)\n",
        "  return prime_numbers\n",
        "\n",
        "  print(prime(100))\n"
      ]
    },
    {
      "cell_type": "markdown",
      "metadata": {
        "id": "MOGnOX_qiod2"
      },
      "source": [
        "Ex9: A Tic-tac-toe board can be represented be a 3×3 two-dimensional list, where zeroes stand for  empty cells, ones stand for X’s and twos stand for O’s. Write a function that is given such a list and randomly chooses a spot in which to place  a 2 (O). The spot chosen must currently be empty and a spot must be chosen."
      ]
    },
    {
      "cell_type": "code",
      "execution_count": 65,
      "metadata": {
        "id": "geHyV77Siod2",
        "outputId": "2d79a5e4-13ae-4b97-8851-5198d2f3fc58",
        "colab": {
          "base_uri": "https://localhost:8080/"
        }
      },
      "outputs": [
        {
          "output_type": "stream",
          "name": "stdout",
          "text": [
            "Original Board:\n",
            "[1, 2, 0]\n",
            "[2, 1, 0]\n",
            "[0, 0, 1]\n",
            "\n",
            "Board after placing 'O':\n",
            "[1, 2, 2]\n",
            "[2, 1, 0]\n",
            "[0, 0, 1]\n"
          ]
        }
      ],
      "source": [
        "import random\n",
        "\n",
        "def place_o(board):\n",
        "    # Find all empty spots (represented by 0)\n",
        "    empty_spots = [(i, j) for i in range(3) for j in range(3) if board[i][j] == 0]\n",
        "\n",
        "    # Ensure there is at least one empty spot\n",
        "    if not empty_spots:\n",
        "        return \"No empty spots available\"\n",
        "\n",
        "    # Randomly choose an empty spot\n",
        "    row, col = random.choice(empty_spots)\n",
        "\n",
        "    # Place an 'O' (represented by 2) in the chosen spot\n",
        "    board[row][col] = 2\n",
        "\n",
        "    return board\n",
        "\n",
        "# Test the function\n",
        "board = [\n",
        "    [1, 2, 0],\n",
        "    [2, 1, 0],\n",
        "    [0, 0, 1]\n",
        "]\n",
        "\n",
        "print(\"Original Board:\")\n",
        "for row in board:\n",
        "    print(row)\n",
        "\n",
        "print(\"\\nBoard after placing 'O':\")\n",
        "new_board = place_o(board)\n",
        "for row in new_board:\n",
        "    print(row)\n"
      ]
    },
    {
      "cell_type": "markdown",
      "metadata": {
        "id": "nDNjnOzBiod2"
      },
      "source": [
        "Ex10:  Write a function that is given a 9 × 9 potentially solved Sudoku and returns True if it is solved correctly and False if there is a mistake. The Sudoku is correctly solved if there are\n",
        " no repeated numbers in any row or any column or in any of the nine “blocks.”\n"
      ]
    },
    {
      "cell_type": "code",
      "execution_count": 76,
      "metadata": {
        "id": "zkX1nwohiod3",
        "outputId": "c6a53823-ea6b-4398-efcc-6f65693bc75d",
        "colab": {
          "base_uri": "https://localhost:8080/"
        }
      },
      "outputs": [
        {
          "output_type": "stream",
          "name": "stdout",
          "text": [
            "False\n"
          ]
        }
      ],
      "source": [
        "def is_right_sudoku(board):\n",
        "    # Check each row\n",
        "    for row in board:\n",
        "        if sorted(row) != [1, 2, 3, 4, 5, 6, 7, 8, 9]:\n",
        "            return False\n",
        "\n",
        "    # Check each column\n",
        "    for col in range(9):\n",
        "        column = [board[row][col] for row in range(9)]\n",
        "        if sorted(column) != [1, 2, 3, 4, 5, 6, 7, 8, 9]:\n",
        "            return False\n",
        "\n",
        "    # Check each 3x3 block\n",
        "    for block_row in range(0, 9, 3):\n",
        "        for block_col in range(0, 9, 3):\n",
        "            block = [board[i][j] for i in range(block_row, block_row + 3)\n",
        "                               for j in range(block_col, block_col + 3)]\n",
        "            if sorted(block) != [1, 2, 3, 4, 5, 6, 7, 8, 9]:\n",
        "                return False\n",
        "\n",
        "    return True\n",
        "\n",
        "# Sample Sudoku board (invalid board)\n",
        "board = [\n",
        "    [5, 3, 5, 6, 8, 7, 1, 2, 2],\n",
        "    [1, 9, 8, 3, 4, 2, 5, 6, 7],\n",
        "    [8, 5, 9, 7, 6, 1, 4, 2, 3],\n",
        "    [4, 2, 6, 8, 5, 3, 7, 9, 1],\n",
        "    [7, 1, 3, 9, 2, 4, 8, 5, 6],\n",
        "    [9, 6, 1, 5, 3, 7, 2, 8, 4],\n",
        "    [2, 8, 7, 4, 1, 9, 6, 3, 5],\n",
        "    [3, 4, 5, 2, 8, 6, 1, 7, 9],\n",
        "    [6, 7, 2, 1, 9, 5, 3, 4, 8]\n",
        "]\n",
        "\n",
        "# Test the function\n",
        "print(is_right_sudoku(board))"
      ]
    }
  ],
  "metadata": {
    "colab": {
      "name": "Ex5_Function.ipynb",
      "provenance": [],
      "include_colab_link": true
    },
    "kernelspec": {
      "display_name": "Python 3",
      "name": "python3"
    },
    "language_info": {
      "codemirror_mode": {
        "name": "ipython",
        "version": 3
      },
      "file_extension": ".py",
      "mimetype": "text/x-python",
      "name": "python",
      "nbconvert_exporter": "python",
      "pygments_lexer": "ipython3",
      "version": "3.12.1"
    }
  },
  "nbformat": 4,
  "nbformat_minor": 0
}