{
  "cells": [
    {
      "cell_type": "markdown",
      "metadata": {
        "id": "view-in-github",
        "colab_type": "text"
      },
      "source": [
        "<a href=\"https://colab.research.google.com/github/drwaiyanbo/MMDT_2025_PY101/blob/waiyanbo/Waiyanbo/Ex6_1_Exception1_Waiyanbo.ipynb\" target=\"_parent\"><img src=\"https://colab.research.google.com/assets/colab-badge.svg\" alt=\"Open In Colab\"/></a>"
      ]
    },
    {
      "cell_type": "markdown",
      "metadata": {
        "id": "e5ML13-YN_At"
      },
      "source": [
        "# Exception Handling\n"
      ]
    },
    {
      "cell_type": "markdown",
      "metadata": {
        "id": "Kgnmcb1VN_Au"
      },
      "source": [
        "### Q1) Run the following programs and identify the errors.\n",
        "Use exception handling approach to handle the erros.\n"
      ]
    },
    {
      "cell_type": "code",
      "execution_count": 2,
      "metadata": {
        "colab": {
          "base_uri": "https://localhost:8080/"
        },
        "id": "0ZnALAxZN_Av",
        "outputId": "67c76e80-c252-499d-8ee6-3f003a0b5f64"
      },
      "outputs": [
        {
          "output_type": "stream",
          "name": "stdout",
          "text": [
            "Error: Cannot divide by zero\n"
          ]
        }
      ],
      "source": [
        "#Q1.1) Zero division error\n",
        "def myfunction(a,b):\n",
        "    try:\n",
        "        answer = a/b\n",
        "        return answer\n",
        "    except ZeroDivisionError:\n",
        "        print(\"Error: Cannot divide by zero\")\n",
        "        return None\n",
        "\n",
        "\n",
        "#Call the function as follows:\n",
        "result = myfunction(2,0)\n"
      ]
    },
    {
      "cell_type": "code",
      "execution_count": 4,
      "metadata": {
        "id": "EPQsgLs5N_Aw",
        "colab": {
          "base_uri": "https://localhost:8080/"
        },
        "outputId": "0dce36a4-5f53-4cf9-aff0-93b2041a2500"
      },
      "outputs": [
        {
          "output_type": "stream",
          "name": "stdout",
          "text": [
            "Error: Variable 'a' is not defined\n",
            "Result: None\n"
          ]
        }
      ],
      "source": [
        "#Q1.2 Name Error\n",
        "\n",
        "def myfunction2(c):\n",
        "  try:\n",
        "    answer = a/c\n",
        "    return answer\n",
        "  except NameError:\n",
        "    print(\"Error: Variable 'a' is not defined\")\n",
        "    return None\n",
        "\n",
        "\n",
        "# Call the function as follows:\n",
        "result = myfunction2(3)\n",
        "\n",
        "# Print the result\n",
        "print(\"Result:\", result)"
      ]
    },
    {
      "cell_type": "code",
      "execution_count": 7,
      "metadata": {
        "scrolled": true,
        "id": "WR3xihwnN_Aw",
        "colab": {
          "base_uri": "https://localhost:8080/"
        },
        "outputId": "8047b37c-dab8-4ab2-da1c-b22cbdf4cf6c"
      },
      "outputs": [
        {
          "output_type": "stream",
          "name": "stdout",
          "text": [
            "1\n",
            "2\n",
            "3\n",
            "Error: Index 3 is out of range.\n"
          ]
        }
      ],
      "source": [
        "#Q1.3 IndexError\n",
        "a = [1, 2, 3]\n",
        "for k in range(0,4):\n",
        "  try:\n",
        "    print(a[k])\n",
        "  except IndexError:\n",
        "    print(f\"Error: Index {k} is out of range.\")\n"
      ]
    },
    {
      "cell_type": "code",
      "execution_count": 9,
      "metadata": {
        "id": "d0coJulkN_Aw",
        "colab": {
          "base_uri": "https://localhost:8080/"
        },
        "outputId": "ccfec402-b379-4e59-cc7e-5d847a210e48"
      },
      "outputs": [
        {
          "output_type": "stream",
          "name": "stdout",
          "text": [
            "Please enter a number to divide a2\n",
            "Success a= 0.5\n"
          ]
        }
      ],
      "source": [
        "#Q1.4 Zero Division Error, Value Error\n",
        "a = 1\n",
        "try:\n",
        "  b = int(input(\"Please enter a number to divide a\"))\n",
        "  a = a/b\n",
        "  print(\"Success a=\",a)\n",
        "except ZeroDivisionError:\n",
        "  print(\"Error: Cannot divide by zero\")\n",
        "except ValueError:\n",
        "  print(\"Error: Invalid input. Please enter a valid number.\")\n"
      ]
    },
    {
      "cell_type": "code",
      "execution_count": 11,
      "metadata": {
        "id": "HGRb1zV1N_Aw",
        "outputId": "d15f9376-7f0f-4f2e-bcc9-839aa6a64513",
        "colab": {
          "base_uri": "https://localhost:8080/"
        }
      },
      "outputs": [
        {
          "output_type": "stream",
          "name": "stdout",
          "text": [
            "The result of division is 5.0\n"
          ]
        },
        {
          "output_type": "execute_result",
          "data": {
            "text/plain": [
              "5.0"
            ]
          },
          "metadata": {},
          "execution_count": 11
        }
      ],
      "source": [
        "def divide(a, b):\n",
        "    try:\n",
        "        a = float(a)\n",
        "        b = float(b)\n",
        "        result = a / b\n",
        "        print('The result of division is', result)\n",
        "    except ZeroDivisionError:\n",
        "        print('Error: Cannot divide by zero.')\n",
        "    except ValueError:\n",
        "        print('Error: Could not convert inputs to numbers.')\n",
        "    except TypeError:\n",
        "        print('Error: Inputs must be numbers.')\n",
        "    else:\n",
        "        return result\n",
        "\n",
        "divide(\"10\", 2)"
      ]
    },
    {
      "cell_type": "code",
      "execution_count": 13,
      "metadata": {
        "id": "I8cpNSmVN_Ax",
        "outputId": "8488a440-42b4-4ba7-a859-1b9a8d7a8002",
        "colab": {
          "base_uri": "https://localhost:8080/"
        }
      },
      "outputs": [
        {
          "output_type": "stream",
          "name": "stdout",
          "text": [
            "Error: File does not exist.\n",
            "Error: File does not exist.\n"
          ]
        }
      ],
      "source": [
        "def read_file(filename):\n",
        "\n",
        "    try:\n",
        "        with open(filename, 'r') as file1:\n",
        "            word_string = file1.read()\n",
        "        print(\"File reading completed successfully\")\n",
        "        return word_string\n",
        "    except FileNotFoundError:\n",
        "        print(\"Error: File does not exist.\")\n",
        "        return None\n",
        "    except PermissionError:\n",
        "        print(\"Error: You do not have permission to read this file.\")\n",
        "        return None\n",
        "    except Exception as e:\n",
        "        print(f\"An unexpected error occurred: {e}\")\n",
        "        return None\n",
        "\n",
        "# Use a raw string (r\"...\") to avoid issues with backslashes\n",
        "file_path = r\"D:\\Python\\PythonProgramming\\data\\Q1.txt\"\n",
        "\n",
        "# Call the function\n",
        "content = read_file(file_path)\n",
        "\n",
        "# Optional: preview the content\n",
        "if content:\n",
        "    print(\"File content preview:\")\n",
        "    print(content[:100])  # Print first 100 characters\n",
        "\n",
        "\n",
        "\n",
        "\n",
        "read_file(\"./data/Q1.txt\")"
      ]
    }
  ],
  "metadata": {
    "kernelspec": {
      "display_name": "Python 3",
      "language": "python",
      "name": "python3"
    },
    "language_info": {
      "codemirror_mode": {
        "name": "ipython",
        "version": 3
      },
      "file_extension": ".py",
      "mimetype": "text/x-python",
      "name": "python",
      "nbconvert_exporter": "python",
      "pygments_lexer": "ipython3",
      "version": "3.12.1"
    },
    "colab": {
      "provenance": [],
      "include_colab_link": true
    }
  },
  "nbformat": 4,
  "nbformat_minor": 0
}