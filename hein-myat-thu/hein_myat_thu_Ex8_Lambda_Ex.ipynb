{
  "cells": [
    {
      "cell_type": "markdown",
      "metadata": {
        "id": "F2CaCisbpdU7"
      },
      "source": [
        "Q1). Write a lambda function that takes an integer 'year' and returns 'age'."
      ]
    },
    {
      "cell_type": "code",
      "execution_count": 7,
      "metadata": {
        "colab": {
          "base_uri": "https://localhost:8080/"
        },
        "id": "kn0AkTcGpdU_",
        "outputId": "e8c73ad6-942f-450a-8b83-e3b31ac217be"
      },
      "outputs": [
        {
          "output_type": "stream",
          "name": "stdout",
          "text": [
            "Your age is: 22\n"
          ]
        }
      ],
      "source": [
        "from datetime import datetime\n",
        "\n",
        "current_year = datetime.now().year\n",
        "calculate_age = lambda year_born: current_year - year_born\n",
        "print(f\"Your age is: {calculate_age(2003)}\")"
      ]
    },
    {
      "cell_type": "markdown",
      "metadata": {
        "id": "IH9UWTdspdVA"
      },
      "source": [
        "Q2) Write a lambda function that takes a float \"cost\" and returns a float \"price\" by adding 10% to the cost."
      ]
    },
    {
      "cell_type": "code",
      "execution_count": 10,
      "metadata": {
        "colab": {
          "base_uri": "https://localhost:8080/"
        },
        "id": "5dUiW9japdVA",
        "outputId": "9869c0f1-044b-427a-d1ad-158d98d43b90"
      },
      "outputs": [
        {
          "output_type": "stream",
          "name": "stdout",
          "text": [
            "Total cost: $61.6\n"
          ]
        }
      ],
      "source": [
        "tax = 0.10\n",
        "\n",
        "calculate_pirce = lambda cost: cost + cost * tax\n",
        "\n",
        "print(f\"Total cost: ${calculate_pirce(56)}\")"
      ]
    },
    {
      "cell_type": "markdown",
      "metadata": {
        "id": "lXCsFMydpdVB"
      },
      "source": [
        "Q3) For the given name list : names = ['Richard', 'Karam', 'Karpo', 'Sonam', 'Ugyen']\n",
        "\n",
        "Write a python program that converts each name into email address. The domain is given as gmail."
      ]
    },
    {
      "cell_type": "code",
      "execution_count": 23,
      "metadata": {
        "colab": {
          "base_uri": "https://localhost:8080/"
        },
        "id": "uS4O5CoupdVB",
        "outputId": "2c17e066-d29a-4df2-e026-10bcab32c18e"
      },
      "outputs": [
        {
          "output_type": "stream",
          "name": "stdout",
          "text": [
            "richard@gmail.com\n",
            "karam@gmail.com\n",
            "karpo@gmail.com\n",
            "sonam@gmail.com\n",
            "ugyen@gmail.com\n"
          ]
        }
      ],
      "source": [
        "names = ['Richard', 'Karam', 'Karpo', 'Sonam', 'Ugyen']\n",
        "email = lambda name: name.lower() + \"@gmail.com\"\n",
        "for name in names:\n",
        "    print(email(name))\n",
        "\n",
        "# alternative way\n",
        "\n",
        "names = ['Richard', 'Karam', 'Karpo', 'Sonam', 'Ugyen']\n",
        "email = lambda name: name.lower() + \"@gmail.com\"\n",
        "print(*map(email, names), sep='\\n') # map(function, iterable, ...)\n"
      ]
    },
    {
      "cell_type": "markdown",
      "metadata": {
        "id": "cQ5wVD0MpdVB"
      },
      "source": [
        "Q4) Write a lambda function that takes two strings 'name' , 'domain' and returns an email address (string)."
      ]
    },
    {
      "cell_type": "code",
      "execution_count": 29,
      "metadata": {
        "colab": {
          "base_uri": "https://localhost:8080/"
        },
        "id": "uNUWRZVSpdVC",
        "outputId": "b41cfead-4bd8-4e73-f193-157251e7d79e"
      },
      "outputs": [
        {
          "output_type": "stream",
          "name": "stdout",
          "text": [
            "henrick27@gmail.com\n"
          ]
        }
      ],
      "source": [
        "email_generator = lambda name, domain: name.lower() + \"@\" + domain\n",
        "print(email_generator(\"henrick27\", \"gmail.com\"))"
      ]
    },
    {
      "cell_type": "markdown",
      "metadata": {
        "id": "0267s1F-pdVC"
      },
      "source": [
        "Q5) old_list = [2, 4, 6, 7, 9]\n",
        "\n",
        "write a for loop to square each element of the given old_list."
      ]
    },
    {
      "cell_type": "code",
      "execution_count": 36,
      "metadata": {
        "colab": {
          "base_uri": "https://localhost:8080/"
        },
        "id": "o8xrm-RqpdVC",
        "outputId": "91df14db-0302-4135-cfb0-aee82e4dbd1b"
      },
      "outputs": [
        {
          "output_type": "stream",
          "name": "stdout",
          "text": [
            "[4, 8, 12, 14, 18]\n",
            "[4, 8, 12, 14, 18]\n"
          ]
        }
      ],
      "source": [
        "# list comprehension\n",
        "old_list = [2, 4, 6, 7, 9]\n",
        "new_list = [num * 2 for num in old_list]\n",
        "print(new_list)\n",
        "\n",
        "#2nd method\n",
        "square_num = []\n",
        "for nums in old_list:\n",
        "  square_num.append(nums * 2)\n",
        "print(square_num)"
      ]
    }
  ],
  "metadata": {
    "kernelspec": {
      "display_name": "base",
      "language": "python",
      "name": "python3"
    },
    "language_info": {
      "codemirror_mode": {
        "name": "ipython",
        "version": 3
      },
      "file_extension": ".py",
      "mimetype": "text/x-python",
      "name": "python",
      "nbconvert_exporter": "python",
      "pygments_lexer": "ipython3",
      "version": "3.12.1"
    },
    "colab": {
      "provenance": []
    }
  },
  "nbformat": 4,
  "nbformat_minor": 0
}