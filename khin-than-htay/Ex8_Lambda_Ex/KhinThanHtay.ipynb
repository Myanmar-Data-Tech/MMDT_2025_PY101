{
  "cells": [
    {
      "cell_type": "markdown",
      "metadata": {
        "id": "bvsqPXYxPshc"
      },
      "source": [
        "Q1). Write a lambda function that takes an integer 'year' and returns 'age'."
      ]
    },
    {
      "cell_type": "code",
      "execution_count": 1,
      "metadata": {
        "id": "CBJg9YOxPshe",
        "outputId": "27fd6ae1-4aab-41d1-a72e-669d1645a393",
        "colab": {
          "base_uri": "https://localhost:8080/"
        }
      },
      "outputs": [
        {
          "output_type": "execute_result",
          "data": {
            "text/plain": [
              "25"
            ]
          },
          "metadata": {},
          "execution_count": 1
        }
      ],
      "source": [
        "from datetime import datetime\n",
        "\n",
        "current_year = datetime.now().year\n",
        "calculate_age = lambda year: current_year - year\n",
        "calculate_age(2000)"
      ]
    },
    {
      "cell_type": "markdown",
      "metadata": {
        "id": "MbDyaInpPshf"
      },
      "source": [
        "Q2) Write a lambda function that takes a float \"cost\" and returns a float \"price\" by adding 10% to the cost."
      ]
    },
    {
      "cell_type": "code",
      "execution_count": null,
      "metadata": {
        "id": "XmFGHKwrPshf",
        "outputId": "c5197999-1f3f-4dde-fa68-91287995dc5f"
      },
      "outputs": [
        {
          "data": {
            "text/plain": [
              "61.6"
            ]
          },
          "execution_count": 6,
          "metadata": {},
          "output_type": "execute_result"
        }
      ],
      "source": [
        "calculate_pirce = lambda cost: cost + cost*0.10\n",
        "\n",
        "calculate_pirce(56)"
      ]
    },
    {
      "cell_type": "markdown",
      "metadata": {
        "id": "PFD6Y04FPshg"
      },
      "source": [
        "Q3) For the given name list : names = ['Richard', 'Karam', 'Karpo', 'Sonam', 'Ugyen']\n",
        "\n",
        "Write a python program that converts each name into email address. The domain is given as gmail."
      ]
    },
    {
      "cell_type": "code",
      "execution_count": 2,
      "metadata": {
        "id": "fpTPIB5vPshg",
        "outputId": "89dd12e0-a4eb-44cf-eb3b-82a882f2010e",
        "colab": {
          "base_uri": "https://localhost:8080/"
        }
      },
      "outputs": [
        {
          "output_type": "execute_result",
          "data": {
            "text/plain": [
              "['richard@gmail.com',\n",
              " 'karam@gmail.com',\n",
              " 'karpo@gmail.com',\n",
              " 'sonam@gmail.com',\n",
              " 'ugyen@gmail.com']"
            ]
          },
          "metadata": {},
          "execution_count": 2
        }
      ],
      "source": [
        "names = ['Richard', 'Karam', 'Karpo', 'Sonam', 'Ugyen']\n",
        "create_email = lambda name: name.lower()+'@gmail.com'\n",
        "emails = [*map(create_email, names)]\n",
        "emails\n"
      ]
    },
    {
      "cell_type": "markdown",
      "metadata": {
        "id": "aQgmmcsHPshg"
      },
      "source": [
        "Q4) Write a lambda function that takes two strings 'name' , 'domain' and returns an email address (string)."
      ]
    },
    {
      "cell_type": "code",
      "execution_count": null,
      "metadata": {
        "id": "CaM5_t1WPshg",
        "outputId": "3f21105d-3b3a-4cf8-cc20-66fdd53c5b52"
      },
      "outputs": [
        {
          "data": {
            "text/plain": [
              "'myo@drmyothida.com'"
            ]
          },
          "execution_count": 8,
          "metadata": {},
          "output_type": "execute_result"
        }
      ],
      "source": [
        "create_custom_email = lambda name, domain: name.lower()+'@'+domain\n",
        "create_custom_email('myo', 'drmyothida.com')"
      ]
    },
    {
      "cell_type": "markdown",
      "metadata": {
        "id": "-6Y_lXQRPshg"
      },
      "source": [
        "Q5) old_list = [2, 4, 6, 7, 9]\n",
        "\n",
        "write a for loop to square each element of the given old_list."
      ]
    },
    {
      "cell_type": "code",
      "execution_count": null,
      "metadata": {
        "id": "HcsaFeslPshg",
        "outputId": "a88b3bc7-e8c2-4fa0-a857-3428be1c2814"
      },
      "outputs": [
        {
          "name": "stdout",
          "output_type": "stream",
          "text": [
            "[4, 16, 36, 49, 81] [4, 16, 36, 49, 81]\n"
          ]
        }
      ],
      "source": [
        "# list comprehension\n",
        "old_list = [2, 4, 6, 7, 9]\n",
        "new_list1 = [item**2 for item in old_list]\n",
        "\n",
        "#2nd method\n",
        "new_list2 = []\n",
        "for item in old_list:\n",
        "    new_list2.append(item**2)\n",
        "\n",
        "print(new_list1, new_list2)"
      ]
    }
  ],
  "metadata": {
    "kernelspec": {
      "display_name": "base",
      "language": "python",
      "name": "python3"
    },
    "language_info": {
      "codemirror_mode": {
        "name": "ipython",
        "version": 3
      },
      "file_extension": ".py",
      "mimetype": "text/x-python",
      "name": "python",
      "nbconvert_exporter": "python",
      "pygments_lexer": "ipython3",
      "version": "3.12.1"
    },
    "colab": {
      "provenance": []
    }
  },
  "nbformat": 4,
  "nbformat_minor": 0
}