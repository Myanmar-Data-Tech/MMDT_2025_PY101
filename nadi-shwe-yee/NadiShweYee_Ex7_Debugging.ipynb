{
 "cells": [
  {
   "cell_type": "markdown",
   "metadata": {},
   "source": [
    "## Simple Debugging\n",
    "\n",
    "Add print statements to your program.\n",
    "Add input() to pause the program"
   ]
  },
  {
   "cell_type": "code",
   "execution_count": 4,
   "metadata": {},
   "outputs": [
    {
     "name": "stdout",
     "output_type": "stream",
     "text": [
      "Random Number: 5\n"
     ]
    },
    {
     "name": "stdin",
     "output_type": "stream",
     "text": [
      "Press Enter to continue... \n"
     ]
    },
    {
     "name": "stdout",
     "output_type": "stream",
     "text": [
      "Hello Hello Hello Hello Hello \n",
      "Hello Hello Hello Hello Hello \n",
      "Hello Hello Hello Hello Hello \n",
      "Hello Hello Hello Hello Hello \n",
      "Hello Hello Hello Hello Hello \n",
      "Hello Hello Hello Hello Hello \n"
     ]
    }
   ],
   "source": [
    "from random import randint\n",
    "\n",
    "#Step 1: generate a random number between 1 and 5\n",
    "rand_num = randint(1,5)\n",
    "\n",
    "# add print statment here to know the value of rand_num\n",
    "print(\"Random Number: {}\".format(rand_num))\n",
    "input(\"Press Enter to continue...\")\n",
    "\n",
    "# Step 2: What does this code do? \n",
    "# this code generates one random number and then print 'Hello' random number times for 6 total lines.\n",
    "\n",
    "for i in range(6):\n",
    "    print('Hello '*rand_num)"
   ]
  },
  {
   "cell_type": "code",
   "execution_count": 12,
   "metadata": {},
   "outputs": [
    {
     "name": "stdout",
     "output_type": "stream",
     "text": [
      "Random Number: 2\n",
      "Hello Hello \n"
     ]
    },
    {
     "name": "stdin",
     "output_type": "stream",
     "text": [
      "Press Enter to continue... \n"
     ]
    },
    {
     "name": "stdout",
     "output_type": "stream",
     "text": [
      "Random Number: 2\n",
      "Hello Hello \n"
     ]
    },
    {
     "name": "stdin",
     "output_type": "stream",
     "text": [
      "Press Enter to continue... \n"
     ]
    },
    {
     "name": "stdout",
     "output_type": "stream",
     "text": [
      "Random Number: 4\n",
      "Hello Hello Hello Hello \n"
     ]
    },
    {
     "name": "stdin",
     "output_type": "stream",
     "text": [
      "Press Enter to continue... \n"
     ]
    },
    {
     "name": "stdout",
     "output_type": "stream",
     "text": [
      "Random Number: 1\n",
      "Hello \n"
     ]
    },
    {
     "name": "stdin",
     "output_type": "stream",
     "text": [
      "Press Enter to continue... \n"
     ]
    },
    {
     "name": "stdout",
     "output_type": "stream",
     "text": [
      "Random Number: 2\n",
      "Hello Hello \n"
     ]
    },
    {
     "name": "stdin",
     "output_type": "stream",
     "text": [
      "Press Enter to continue... \n"
     ]
    },
    {
     "name": "stdout",
     "output_type": "stream",
     "text": [
      "Random Number: 5\n",
      "Hello Hello Hello Hello Hello \n"
     ]
    },
    {
     "name": "stdin",
     "output_type": "stream",
     "text": [
      "Press Enter to continue... \n"
     ]
    }
   ],
   "source": [
    "from random import randint\n",
    "\n",
    "# Step 1: generate a random number between 1 and 5\n",
    "#rand_num = randint(1,5)\n",
    "\n",
    "# Step 2: What does this code do? \n",
    "#This code will print Hello between (1 to 5) random times in 6 lines.\n",
    "\n",
    "for i in range(6):\n",
    "    rand_num = randint(1,5)\n",
    "    print(\"Random Number: {}\".format(rand_num))\n",
    "    print('Hello '*rand_num)\n",
    "    input(\"Press Enter to continue...\")"
   ]
  },
  {
   "cell_type": "markdown",
   "metadata": {},
   "source": [
    "Write a program that generates 10000 random numbers between 1 and 100 and counts how many of them are multiples of 12."
   ]
  },
  {
   "cell_type": "code",
   "execution_count": 14,
   "metadata": {},
   "outputs": [
    {
     "name": "stdout",
     "output_type": "stream",
     "text": [
      "Number of multiples of 12: 823\n"
     ]
    }
   ],
   "source": [
    "# Step 1:\n",
    "from random import randint\n",
    "# Step 2: \n",
    "count = 0\n",
    "# Step 3: \n",
    "for i in range(10000):\n",
    "    #Step 4:\n",
    "    num = randint(1, 100)\n",
    "    #Step 5: \n",
    "    if num%12==0:\n",
    "        count=count+1\n",
    "    # Step 6: \n",
    "print('Number of multiples of 12:', count)\n"
   ]
  },
  {
   "cell_type": "markdown",
   "metadata": {},
   "source": [
    "The following program should counts how many of the squares of the numbers from 1 to 100 end in 1.  (Example: 1,81,121). Debug the code."
   ]
  },
  {
   "cell_type": "code",
   "execution_count": 22,
   "metadata": {},
   "outputs": [
    {
     "data": {
      "text/plain": [
       "20"
      ]
     },
     "execution_count": 22,
     "metadata": {},
     "output_type": "execute_result"
    }
   ],
   "source": [
    "import numpy as np\n",
    "def fun_square_count():\n",
    "    num_list = np.arange(1,101)\n",
    "    squred_num = [value**2 for value in num_list]\n",
    "    count=0\n",
    "    for num in squred_num:\n",
    "        if num%10 == 1:            \n",
    "            count +=1\n",
    "            \n",
    "    return count\n",
    "\n",
    "fun_square_count()"
   ]
  },
  {
   "cell_type": "markdown",
   "metadata": {},
   "source": [
    "Debug the following programs"
   ]
  },
  {
   "cell_type": "code",
   "execution_count": 7,
   "metadata": {},
   "outputs": [
    {
     "name": "stdout",
     "output_type": "stream",
     "text": [
      "You can only add same Type\n",
      "None\n"
     ]
    }
   ],
   "source": [
    "def add(a, b):\n",
    "    try:\n",
    "        return a + b\n",
    "    except TypeError:\n",
    "        print(\"You can only add same Type\")\n",
    "    except Exception as e:\n",
    "        print(\"Something else went wrong:\", e)\n",
    "        \n",
    "print(add(5, '2'))\n",
    "\n"
   ]
  },
  {
   "cell_type": "code",
   "execution_count": 9,
   "metadata": {},
   "outputs": [],
   "source": [
    "def divide(a, b):\n",
    "    try:\n",
    "        result = a / b\n",
    "        return result\n",
    "    except ZeroDivisionError:\n",
    "        print(\"Divisor cannot be Zero!\")\n",
    "    except TypeError:\n",
    "        print(\"The input must be number!\")\n",
    "    except Exception as e:\n",
    "        print(\"Something went wrong:\", e)\n",
    "\n"
   ]
  },
  {
   "cell_type": "code",
   "execution_count": 17,
   "metadata": {},
   "outputs": [
    {
     "name": "stdout",
     "output_type": "stream",
     "text": [
      "False\n"
     ]
    }
   ],
   "source": [
    "def is_prime(n):\n",
    "    try:\n",
    "        if not isinstance(n, int):\n",
    "            raise TypeError(\"Input must be an integer.\")\n",
    "        if n <= 1:\n",
    "            return False\n",
    "        for i in range(2, n):\n",
    "            if n % i == 0:  \n",
    "                return False\n",
    "        return True\n",
    "    except TypeError as e:\n",
    "        print(\"TypeError:\", e)\n",
    "        return False\n",
    "    except Exception as e:\n",
    "        print(\"Unexpected error:\", e)\n",
    "        return False\n",
    "\n",
    "print(is_prime(15))\n"
   ]
  },
  {
   "cell_type": "code",
   "execution_count": null,
   "metadata": {},
   "outputs": [],
   "source": []
  }
 ],
 "metadata": {
  "kernelspec": {
   "display_name": "Python [conda env:base] *",
   "language": "python",
   "name": "conda-base-py"
  },
  "language_info": {
   "codemirror_mode": {
    "name": "ipython",
    "version": 3
   },
   "file_extension": ".py",
   "mimetype": "text/x-python",
   "name": "python",
   "nbconvert_exporter": "python",
   "pygments_lexer": "ipython3",
   "version": "3.12.7"
  }
 },
 "nbformat": 4,
 "nbformat_minor": 4
}
