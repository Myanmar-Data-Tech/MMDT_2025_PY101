{
  "cells": [
    {
      "cell_type": "markdown",
      "metadata": {
        "id": "view-in-github",
        "colab_type": "text"
      },
      "source": [
        "<a href=\"https://colab.research.google.com/github/suhturhlaing/MMDT_2025_PY101/blob/suhturhlaing/suhtarhlaing/Ex7_Debugging_SuHtarHlaing.ipynb\" target=\"_parent\"><img src=\"https://colab.research.google.com/assets/colab-badge.svg\" alt=\"Open In Colab\"/></a>"
      ]
    },
    {
      "cell_type": "markdown",
      "metadata": {
        "id": "_QeQ0xzgQZwN"
      },
      "source": [
        "## Simple Debugging\n",
        "\n",
        "Add print statements to your program.\n",
        "Add input() to pause the program"
      ]
    },
    {
      "cell_type": "code",
      "execution_count": 4,
      "metadata": {
        "colab": {
          "base_uri": "https://localhost:8080/",
          "height": 174
        },
        "id": "OcC5ylgqQZwQ",
        "outputId": "0b662d22-926c-4dfb-c4c9-06a13fdadfdf"
      },
      "outputs": [
        {
          "name": "stdout",
          "output_type": "stream",
          "text": [
            "random number is  4\n",
            "Hello Hello Hello Hello \n",
            "Hello Hello Hello Hello \n",
            "Hello Hello Hello Hello \n",
            "Hello Hello Hello Hello \n",
            "Hello Hello Hello Hello \n",
            "Hello Hello Hello Hello \n",
            "Program finished. Press Enter to exit.\n"
          ]
        },
        {
          "output_type": "execute_result",
          "data": {
            "text/plain": [
              "''"
            ],
            "application/vnd.google.colaboratory.intrinsic+json": {
              "type": "string"
            }
          },
          "metadata": {},
          "execution_count": 4
        }
      ],
      "source": [
        "from random import randint\n",
        "\n",
        "#Step 1: generate a random number between 1 and 5\n",
        "rand_num = randint(1,5)\n",
        "\n",
        "# add print statment here to know the value of rand_num\n",
        "print('random number is ',rand_num )\n",
        "\n",
        "# Step 2: What does this code do?\n",
        "\n",
        "for i in range(6):\n",
        "    print('Hello '*rand_num)\n",
        "input(\"Program finished. Press Enter to exit.\")"
      ]
    },
    {
      "cell_type": "code",
      "execution_count": 7,
      "metadata": {
        "colab": {
          "base_uri": "https://localhost:8080/"
        },
        "id": "q2p1JXFdQZwR",
        "outputId": "a34216a8-a6ce-4528-dce8-21589740a289"
      },
      "outputs": [
        {
          "output_type": "stream",
          "name": "stdout",
          "text": [
            "the random number is :  1\n",
            "Hello \n",
            "the random number is :  5\n",
            "Hello Hello Hello Hello Hello \n",
            "the random number is :  3\n",
            "Hello Hello Hello \n",
            "the random number is :  1\n",
            "Hello \n",
            "the random number is :  5\n",
            "Hello Hello Hello Hello Hello \n",
            "the random number is :  5\n",
            "Hello Hello Hello Hello Hello \n"
          ]
        }
      ],
      "source": [
        "from random import randint\n",
        "\n",
        "# Step 1: generate a random number between 1 and 5\n",
        "\n",
        "\n",
        "# Step 2: What does this code do?\n",
        "\n",
        "for i in range(6):\n",
        "    rand_num = randint(1,5)\n",
        "    print(\"the random number is : \",rand_num )\n",
        "    print('Hello '*rand_num)"
      ]
    },
    {
      "cell_type": "markdown",
      "metadata": {
        "id": "Atv6iR_gQZwS"
      },
      "source": [
        "Write a program that generates 10000 random numbers between 1 and 100 and counts how many of them are multiples of 12."
      ]
    },
    {
      "cell_type": "code",
      "execution_count": 20,
      "metadata": {
        "colab": {
          "base_uri": "https://localhost:8080/"
        },
        "id": "M4CNPZYSQZwS",
        "outputId": "98756850-e10d-4fb0-db64-2a48d7bf4ef5"
      },
      "outputs": [
        {
          "output_type": "stream",
          "name": "stdout",
          "text": [
            "Number of multiples of 12: 797\n",
            "Count of multiples of 12 in 1-100: [12, 24, 36, 48, 60, 72, 84, 96] (Total: 8)\n"
          ]
        }
      ],
      "source": [
        "\n",
        "# Step 1:\n",
        "from random import randint\n",
        "# Step 2:\n",
        "count = 0\n",
        "# Step 3:\n",
        "for i in range(10000):\n",
        "    #Step 4:\n",
        "    num = randint(1, 100)\n",
        "    #Step 5:\n",
        "    if num%12==0:\n",
        "        count=count+1\n",
        "\n",
        "#to count number for num % 12\n",
        "num_count = []\n",
        "for num in range(1, 100):\n",
        "    if num % 12 == 0:\n",
        "      num_count.append(num)\n",
        "\n",
        "    # Step 6:\n",
        "print('Number of multiples of 12:', count)\n",
        "print(f\"Count of multiples of 12 in 1-100: {num_count} (Total: {len(num_count)})\")\n",
        "\n"
      ]
    },
    {
      "cell_type": "markdown",
      "metadata": {
        "id": "-eQFkzyJQZwS"
      },
      "source": [
        "The following program should counts how many of the squares of the numbers from\n",
        "\n",
        "---\n",
        "\n",
        "1 to 100 end in 1.  (Example: 1,81,121). Debug the code."
      ]
    },
    {
      "cell_type": "code",
      "execution_count": 25,
      "metadata": {
        "colab": {
          "base_uri": "https://localhost:8080/"
        },
        "id": "nlSLT2lRQZwT",
        "outputId": "be01c591-0e5b-4e2b-8517-bbaab0cef8f9"
      },
      "outputs": [
        {
          "output_type": "execute_result",
          "data": {
            "text/plain": [
              "20"
            ]
          },
          "metadata": {},
          "execution_count": 25
        }
      ],
      "source": [
        "import numpy as np\n",
        "def fun_square_count():\n",
        "    num_list = np.arange(1,101)\n",
        "    squred_num = [value**2 for value in num_list]\n",
        "    count=0\n",
        "    for num in squred_num:\n",
        "\n",
        "      # Check if last digit is 1\n",
        "       # if(num//10) == 1:\n",
        "         if num % 10 == 1:\n",
        "            count += 1\n",
        "\n",
        "    return count\n",
        "\n",
        "fun_square_count()\n",
        "\n",
        "\n"
      ]
    },
    {
      "cell_type": "markdown",
      "metadata": {
        "id": "85BEbVUIQZwT"
      },
      "source": [
        "Debug the following programs"
      ]
    },
    {
      "cell_type": "code",
      "execution_count": 28,
      "metadata": {
        "colab": {
          "base_uri": "https://localhost:8080/"
        },
        "id": "EPtM2BDLQZwT",
        "outputId": "820a3a43-b775-4de3-bbbd-4d3c92598d87"
      },
      "outputs": [
        {
          "output_type": "stream",
          "name": "stdout",
          "text": [
            "please use for b number with no '' \n"
          ]
        }
      ],
      "source": [
        "def add(a, b):\n",
        "    return a + b\n",
        "try:\n",
        "  print(add(5, '2'))\n",
        "except TypeError:\n",
        "    print(\"please use for b number with no '' \")\n",
        "\n",
        "\n",
        "\n",
        "\n"
      ]
    },
    {
      "cell_type": "code",
      "execution_count": 33,
      "metadata": {
        "colab": {
          "base_uri": "https://localhost:8080/"
        },
        "id": "5gz5fxEoQZwU",
        "outputId": "3278e109-e39b-431e-ed1f-4f0ce9ba1dcd"
      },
      "outputs": [
        {
          "output_type": "stream",
          "name": "stdout",
          "text": [
            "Inputs must be numbers\n"
          ]
        }
      ],
      "source": [
        "def divide(a, b):\n",
        "  try:\n",
        "    result = a / b\n",
        "    return result\n",
        "  except ZeroDivisionError:\n",
        "      print('Numerator must be greater than zero')\n",
        "  except TypeError:\n",
        "      print('Inputs must be numbers')\n",
        "  else:\n",
        "      return result\n",
        "divide(10,'0')\n",
        "\n"
      ]
    },
    {
      "cell_type": "code",
      "execution_count": 38,
      "metadata": {
        "colab": {
          "base_uri": "https://localhost:8080/"
        },
        "id": "K7Jo0o9VQZwU",
        "outputId": "4148136a-1d66-4df0-9f22-fb26fab4f720"
      },
      "outputs": [
        {
          "output_type": "stream",
          "name": "stdout",
          "text": [
            "True\n"
          ]
        }
      ],
      "source": [
        "\n",
        "def is_prime(n):\n",
        "    if n <= 0:\n",
        "        return False\n",
        "    for i in range(2, n):\n",
        "        if n // i == 0:\n",
        "            return False\n",
        "    return True\n",
        "\n",
        "print(is_prime(15))\n",
        "\n",
        "\n"
      ]
    }
  ],
  "metadata": {
    "kernelspec": {
      "display_name": ".venv",
      "language": "python",
      "name": "python3"
    },
    "language_info": {
      "codemirror_mode": {
        "name": "ipython",
        "version": 3
      },
      "file_extension": ".py",
      "mimetype": "text/x-python",
      "name": "python",
      "nbconvert_exporter": "python",
      "pygments_lexer": "ipython3",
      "version": "3.12.2"
    },
    "colab": {
      "provenance": [],
      "include_colab_link": true
    }
  },
  "nbformat": 4,
  "nbformat_minor": 0
}