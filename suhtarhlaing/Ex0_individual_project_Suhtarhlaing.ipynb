{
  "cells": [
    {
      "cell_type": "markdown",
      "metadata": {
        "id": "view-in-github",
        "colab_type": "text"
      },
      "source": [
        "<a href=\"https://colab.research.google.com/github/suhturhlaing/MMDT_2025_PY101/blob/suhturhlaing/suhtarhlaing/Ex0_individual_project_Suhtarhlaing.ipynb\" target=\"_parent\"><img src=\"https://colab.research.google.com/assets/colab-badge.svg\" alt=\"Open In Colab\"/></a>"
      ]
    },
    {
      "cell_type": "markdown",
      "metadata": {
        "id": "pOv2QGGgtsSy"
      },
      "source": [
        "1) Write a Python program in the below cell to create a dictionary that count the frequency of words in the string given in Q1.txt. Find the most frequent occured word.\n",
        "\n",
        "Don't remove the comment lines provided."
      ]
    },
    {
      "cell_type": "code",
      "execution_count": 11,
      "metadata": {
        "colab": {
          "base_uri": "https://localhost:8080/"
        },
        "id": "VBM3EAFGtsS0",
        "outputId": "3311d5ef-2fb1-4768-b47b-c0a31d04231f"
      },
      "outputs": [
        {
          "output_type": "stream",
          "name": "stdout",
          "text": [
            "I love this movie! It is sweet, but with satirical humor. The dialogs are great and the adventure scenes are fun. It manages to be romantic and whimsical while laughingat the conventions of the fairy tale genre. I would recommend it to just about anyone. I have seen it several times and I am always happy to see it again and again. \n",
            "i love this movie! it is sweet, but with satirical humor. the dialogs are great and the adventure scenes are fun. it manages to be romantic and whimsical while laughingat the conventions of the fairy tale genre. i would recommend it to just about anyone. i have seen it several times and i am always happy to see it again and again. \n",
            "i love this movie it is sweet but with satirical humor the dialogs are great and the adventure scenes are fun it manages to be romantic and whimsical while laughingat the conventions of the fairy tale genre i would recommend it to just about anyone i have seen it several times and i am always happy to see it again and again \n",
            "['i', 'love', 'this', 'movie', 'it', 'is', 'sweet', 'but', 'with', 'satirical', 'humor', 'the', 'dialogs', 'are', 'great', 'and', 'the', 'adventure', 'scenes', 'are', 'fun', 'it', 'manages', 'to', 'be', 'romantic', 'and', 'whimsical', 'while', 'laughingat', 'the', 'conventions', 'of', 'the', 'fairy', 'tale', 'genre', 'i', 'would', 'recommend', 'it', 'to', 'just', 'about', 'anyone', 'i', 'have', 'seen', 'it', 'several', 'times', 'and', 'i', 'am', 'always', 'happy', 'to', 'see', 'it', 'again', 'and', 'again']\n",
            "{'i': 4, 'love': 1, 'this': 1, 'movie': 1, 'it': 5, 'is': 1, 'sweet': 1, 'but': 1, 'with': 1, 'satirical': 1, 'humor': 1, 'the': 4, 'dialogs': 1, 'are': 2, 'great': 1, 'and': 4, 'adventure': 1, 'scenes': 1, 'fun': 1, 'manages': 1, 'to': 3, 'be': 1, 'romantic': 1, 'whimsical': 1, 'while': 1, 'laughingat': 1, 'conventions': 1, 'of': 1, 'fairy': 1, 'tale': 1, 'genre': 1, 'would': 1, 'recommend': 1, 'just': 1, 'about': 1, 'anyone': 1, 'have': 1, 'seen': 1, 'several': 1, 'times': 1, 'am': 1, 'always': 1, 'happy': 1, 'see': 1, 'again': 2}\n",
            "it\n",
            "the most frequent occured one : 'it' occurred 5 times.\n"
          ]
        }
      ],
      "source": [
        "#step 1: read content from Q1.txt\n",
        "with open('/content/Q1.txt', 'r') as file1:\n",
        "    word_string = file1.read()\n",
        "    print(word_string)\n",
        "\n",
        "\n",
        "\n",
        "#step 2.1 - change the case to upper or lower.\n",
        "lower_text = word_string.lower()\n",
        "print(lower_text)\n",
        "\n",
        "#step 2.2 - remove pun : use replace\n",
        "import re\n",
        "remove_pun = re.sub(r'[^\\w\\s]', '', lower_text)  # removes punctuation\n",
        "print(remove_pun)\n",
        "\n",
        "\n",
        "#step 2.3 - split using space\n",
        "\n",
        "split_words = remove_pun.split()\n",
        "print(split_words)\n",
        "\n",
        "\n",
        "#Step 3: create a dictionary\n",
        "word_list = {}\n",
        "\n",
        "for dict_word in split_words:\n",
        "    if dict_word in word_list:\n",
        "        word_list[dict_word] += 1\n",
        "    else:\n",
        "        word_list[dict_word] = 1\n",
        "\n",
        "print(word_list)\n",
        "\n",
        "#Step 4: find the most frequent occured one\n",
        "\n",
        "most_frequent = max(word_list, key=word_list.get)\n",
        "print(most_frequent)\n",
        "print(f\"the most frequent occured one : '{most_frequent}' occurred {word_list[most_frequent]} times.\")\n",
        "\n",
        "\n",
        "# I use AI how to catch most frequence value and time.\n",
        "\n",
        ""
      ]
    },
    {
      "cell_type": "markdown",
      "metadata": {
        "id": "MygdCEfstsS1"
      },
      "source": [
        "2) Write a Python program to read the name from Q2.txt and create email using domain 'simons-rock.edu' and save the results as dictionary : {'name': 'name@simons-rock.edu'}.\n",
        "Please take note that your email should not include space or any special characters and all charcters should be in lowercase."
      ]
    },
    {
      "cell_type": "code",
      "execution_count": 25,
      "metadata": {
        "colab": {
          "base_uri": "https://localhost:8080/"
        },
        "id": "dOUelixRtsS1",
        "outputId": "b4e2e57c-c0ad-4415-8cf4-b1ac87a797fa"
      },
      "outputs": [
        {
          "output_type": "stream",
          "name": "stdout",
          "text": [
            "Header: Name\n",
            "\n",
            "Name list: ['Dechen Dorji\\n', 'Deki Tshomo\\n', 'Dorji Tshering\\n', 'Dorji Wangmo\\n', 'Gem Tshering Lepcha\\n', 'Jigme Dorji\\n', 'Kinley Cheki\\n', 'Kinley Wangmo\\n', 'Ngawang Dema Karpo\\n', 'Roshan Chhetri\\n', 'Sonam Tenzin\\n', 'Sonam Tobgay\\n', 'Sonam Yangden\\n', 'Tandin Om\\n', 'Tandin Wangchuk\\n', 'Tashi Om\\n', 'Tenday Zangmo\\n', 'Tshering Pem\\n', 'Ugyen Phurpa\\n', 'Marmitt']\n",
            "{'dechen dorji': 'dechendorji@example.com'}\n",
            "{'dechen dorji': 'dechendorji@example.com', 'deki tshomo': 'dekitshomo@example.com'}\n",
            "{'dechen dorji': 'dechendorji@example.com', 'deki tshomo': 'dekitshomo@example.com', 'dorji tshering': 'dorjitshering@example.com'}\n",
            "{'dechen dorji': 'dechendorji@example.com', 'deki tshomo': 'dekitshomo@example.com', 'dorji tshering': 'dorjitshering@example.com', 'dorji wangmo': 'dorjiwangmo@example.com'}\n",
            "{'dechen dorji': 'dechendorji@example.com', 'deki tshomo': 'dekitshomo@example.com', 'dorji tshering': 'dorjitshering@example.com', 'dorji wangmo': 'dorjiwangmo@example.com', 'gem tshering lepcha': 'gemtsheringlepcha@example.com'}\n",
            "{'dechen dorji': 'dechendorji@example.com', 'deki tshomo': 'dekitshomo@example.com', 'dorji tshering': 'dorjitshering@example.com', 'dorji wangmo': 'dorjiwangmo@example.com', 'gem tshering lepcha': 'gemtsheringlepcha@example.com', 'jigme dorji': 'jigmedorji@example.com'}\n",
            "{'dechen dorji': 'dechendorji@example.com', 'deki tshomo': 'dekitshomo@example.com', 'dorji tshering': 'dorjitshering@example.com', 'dorji wangmo': 'dorjiwangmo@example.com', 'gem tshering lepcha': 'gemtsheringlepcha@example.com', 'jigme dorji': 'jigmedorji@example.com', 'kinley cheki': 'kinleycheki@example.com'}\n",
            "{'dechen dorji': 'dechendorji@example.com', 'deki tshomo': 'dekitshomo@example.com', 'dorji tshering': 'dorjitshering@example.com', 'dorji wangmo': 'dorjiwangmo@example.com', 'gem tshering lepcha': 'gemtsheringlepcha@example.com', 'jigme dorji': 'jigmedorji@example.com', 'kinley cheki': 'kinleycheki@example.com', 'kinley wangmo': 'kinleywangmo@example.com'}\n",
            "{'dechen dorji': 'dechendorji@example.com', 'deki tshomo': 'dekitshomo@example.com', 'dorji tshering': 'dorjitshering@example.com', 'dorji wangmo': 'dorjiwangmo@example.com', 'gem tshering lepcha': 'gemtsheringlepcha@example.com', 'jigme dorji': 'jigmedorji@example.com', 'kinley cheki': 'kinleycheki@example.com', 'kinley wangmo': 'kinleywangmo@example.com', 'ngawang dema karpo': 'ngawangdemakarpo@example.com'}\n",
            "{'dechen dorji': 'dechendorji@example.com', 'deki tshomo': 'dekitshomo@example.com', 'dorji tshering': 'dorjitshering@example.com', 'dorji wangmo': 'dorjiwangmo@example.com', 'gem tshering lepcha': 'gemtsheringlepcha@example.com', 'jigme dorji': 'jigmedorji@example.com', 'kinley cheki': 'kinleycheki@example.com', 'kinley wangmo': 'kinleywangmo@example.com', 'ngawang dema karpo': 'ngawangdemakarpo@example.com', 'roshan chhetri': 'roshanchhetri@example.com'}\n",
            "{'dechen dorji': 'dechendorji@example.com', 'deki tshomo': 'dekitshomo@example.com', 'dorji tshering': 'dorjitshering@example.com', 'dorji wangmo': 'dorjiwangmo@example.com', 'gem tshering lepcha': 'gemtsheringlepcha@example.com', 'jigme dorji': 'jigmedorji@example.com', 'kinley cheki': 'kinleycheki@example.com', 'kinley wangmo': 'kinleywangmo@example.com', 'ngawang dema karpo': 'ngawangdemakarpo@example.com', 'roshan chhetri': 'roshanchhetri@example.com', 'sonam tenzin': 'sonamtenzin@example.com'}\n",
            "{'dechen dorji': 'dechendorji@example.com', 'deki tshomo': 'dekitshomo@example.com', 'dorji tshering': 'dorjitshering@example.com', 'dorji wangmo': 'dorjiwangmo@example.com', 'gem tshering lepcha': 'gemtsheringlepcha@example.com', 'jigme dorji': 'jigmedorji@example.com', 'kinley cheki': 'kinleycheki@example.com', 'kinley wangmo': 'kinleywangmo@example.com', 'ngawang dema karpo': 'ngawangdemakarpo@example.com', 'roshan chhetri': 'roshanchhetri@example.com', 'sonam tenzin': 'sonamtenzin@example.com', 'sonam tobgay': 'sonamtobgay@example.com'}\n",
            "{'dechen dorji': 'dechendorji@example.com', 'deki tshomo': 'dekitshomo@example.com', 'dorji tshering': 'dorjitshering@example.com', 'dorji wangmo': 'dorjiwangmo@example.com', 'gem tshering lepcha': 'gemtsheringlepcha@example.com', 'jigme dorji': 'jigmedorji@example.com', 'kinley cheki': 'kinleycheki@example.com', 'kinley wangmo': 'kinleywangmo@example.com', 'ngawang dema karpo': 'ngawangdemakarpo@example.com', 'roshan chhetri': 'roshanchhetri@example.com', 'sonam tenzin': 'sonamtenzin@example.com', 'sonam tobgay': 'sonamtobgay@example.com', 'sonam yangden': 'sonamyangden@example.com'}\n",
            "{'dechen dorji': 'dechendorji@example.com', 'deki tshomo': 'dekitshomo@example.com', 'dorji tshering': 'dorjitshering@example.com', 'dorji wangmo': 'dorjiwangmo@example.com', 'gem tshering lepcha': 'gemtsheringlepcha@example.com', 'jigme dorji': 'jigmedorji@example.com', 'kinley cheki': 'kinleycheki@example.com', 'kinley wangmo': 'kinleywangmo@example.com', 'ngawang dema karpo': 'ngawangdemakarpo@example.com', 'roshan chhetri': 'roshanchhetri@example.com', 'sonam tenzin': 'sonamtenzin@example.com', 'sonam tobgay': 'sonamtobgay@example.com', 'sonam yangden': 'sonamyangden@example.com', 'tandin om': 'tandinom@example.com'}\n",
            "{'dechen dorji': 'dechendorji@example.com', 'deki tshomo': 'dekitshomo@example.com', 'dorji tshering': 'dorjitshering@example.com', 'dorji wangmo': 'dorjiwangmo@example.com', 'gem tshering lepcha': 'gemtsheringlepcha@example.com', 'jigme dorji': 'jigmedorji@example.com', 'kinley cheki': 'kinleycheki@example.com', 'kinley wangmo': 'kinleywangmo@example.com', 'ngawang dema karpo': 'ngawangdemakarpo@example.com', 'roshan chhetri': 'roshanchhetri@example.com', 'sonam tenzin': 'sonamtenzin@example.com', 'sonam tobgay': 'sonamtobgay@example.com', 'sonam yangden': 'sonamyangden@example.com', 'tandin om': 'tandinom@example.com', 'tandin wangchuk': 'tandinwangchuk@example.com'}\n",
            "{'dechen dorji': 'dechendorji@example.com', 'deki tshomo': 'dekitshomo@example.com', 'dorji tshering': 'dorjitshering@example.com', 'dorji wangmo': 'dorjiwangmo@example.com', 'gem tshering lepcha': 'gemtsheringlepcha@example.com', 'jigme dorji': 'jigmedorji@example.com', 'kinley cheki': 'kinleycheki@example.com', 'kinley wangmo': 'kinleywangmo@example.com', 'ngawang dema karpo': 'ngawangdemakarpo@example.com', 'roshan chhetri': 'roshanchhetri@example.com', 'sonam tenzin': 'sonamtenzin@example.com', 'sonam tobgay': 'sonamtobgay@example.com', 'sonam yangden': 'sonamyangden@example.com', 'tandin om': 'tandinom@example.com', 'tandin wangchuk': 'tandinwangchuk@example.com', 'tashi om': 'tashiom@example.com'}\n",
            "{'dechen dorji': 'dechendorji@example.com', 'deki tshomo': 'dekitshomo@example.com', 'dorji tshering': 'dorjitshering@example.com', 'dorji wangmo': 'dorjiwangmo@example.com', 'gem tshering lepcha': 'gemtsheringlepcha@example.com', 'jigme dorji': 'jigmedorji@example.com', 'kinley cheki': 'kinleycheki@example.com', 'kinley wangmo': 'kinleywangmo@example.com', 'ngawang dema karpo': 'ngawangdemakarpo@example.com', 'roshan chhetri': 'roshanchhetri@example.com', 'sonam tenzin': 'sonamtenzin@example.com', 'sonam tobgay': 'sonamtobgay@example.com', 'sonam yangden': 'sonamyangden@example.com', 'tandin om': 'tandinom@example.com', 'tandin wangchuk': 'tandinwangchuk@example.com', 'tashi om': 'tashiom@example.com', 'tenday zangmo': 'tendayzangmo@example.com'}\n",
            "{'dechen dorji': 'dechendorji@example.com', 'deki tshomo': 'dekitshomo@example.com', 'dorji tshering': 'dorjitshering@example.com', 'dorji wangmo': 'dorjiwangmo@example.com', 'gem tshering lepcha': 'gemtsheringlepcha@example.com', 'jigme dorji': 'jigmedorji@example.com', 'kinley cheki': 'kinleycheki@example.com', 'kinley wangmo': 'kinleywangmo@example.com', 'ngawang dema karpo': 'ngawangdemakarpo@example.com', 'roshan chhetri': 'roshanchhetri@example.com', 'sonam tenzin': 'sonamtenzin@example.com', 'sonam tobgay': 'sonamtobgay@example.com', 'sonam yangden': 'sonamyangden@example.com', 'tandin om': 'tandinom@example.com', 'tandin wangchuk': 'tandinwangchuk@example.com', 'tashi om': 'tashiom@example.com', 'tenday zangmo': 'tendayzangmo@example.com', 'tshering pem': 'tsheringpem@example.com'}\n",
            "{'dechen dorji': 'dechendorji@example.com', 'deki tshomo': 'dekitshomo@example.com', 'dorji tshering': 'dorjitshering@example.com', 'dorji wangmo': 'dorjiwangmo@example.com', 'gem tshering lepcha': 'gemtsheringlepcha@example.com', 'jigme dorji': 'jigmedorji@example.com', 'kinley cheki': 'kinleycheki@example.com', 'kinley wangmo': 'kinleywangmo@example.com', 'ngawang dema karpo': 'ngawangdemakarpo@example.com', 'roshan chhetri': 'roshanchhetri@example.com', 'sonam tenzin': 'sonamtenzin@example.com', 'sonam tobgay': 'sonamtobgay@example.com', 'sonam yangden': 'sonamyangden@example.com', 'tandin om': 'tandinom@example.com', 'tandin wangchuk': 'tandinwangchuk@example.com', 'tashi om': 'tashiom@example.com', 'tenday zangmo': 'tendayzangmo@example.com', 'tshering pem': 'tsheringpem@example.com', 'ugyen phurpa': 'ugyenphurpa@example.com'}\n",
            "{'dechen dorji': 'dechendorji@example.com', 'deki tshomo': 'dekitshomo@example.com', 'dorji tshering': 'dorjitshering@example.com', 'dorji wangmo': 'dorjiwangmo@example.com', 'gem tshering lepcha': 'gemtsheringlepcha@example.com', 'jigme dorji': 'jigmedorji@example.com', 'kinley cheki': 'kinleycheki@example.com', 'kinley wangmo': 'kinleywangmo@example.com', 'ngawang dema karpo': 'ngawangdemakarpo@example.com', 'roshan chhetri': 'roshanchhetri@example.com', 'sonam tenzin': 'sonamtenzin@example.com', 'sonam tobgay': 'sonamtobgay@example.com', 'sonam yangden': 'sonamyangden@example.com', 'tandin om': 'tandinom@example.com', 'tandin wangchuk': 'tandinwangchuk@example.com', 'tashi om': 'tashiom@example.com', 'tenday zangmo': 'tendayzangmo@example.com', 'tshering pem': 'tsheringpem@example.com', 'ugyen phurpa': 'ugyenphurpa@example.com', 'marmitt': 'marmitt@example.com'}\n"
          ]
        }
      ],
      "source": [
        "#step 1: read Q2. txt into the list\n",
        "with open ('/content/Q2.txt', 'r') as names:\n",
        "    header = names.readline()\n",
        "    namelist = names.readlines()\n",
        "    print(\"Header:\", header)\n",
        "    print(\"Name list:\", namelist)\n",
        "\n",
        "\n",
        "#step 2: create email for each name in the list and save them in the dictionary\n",
        "email_dict = {}\n",
        "    #to clean the data\n",
        "for name in namelist:\n",
        "    clean_name = name.strip()\n",
        "    #  clean_name = re.sub(r'[^\\w\\s]', '', clean_name)\n",
        "\n",
        "    #to change lower case\n",
        "    name_lower = clean_name.lower()\n",
        "\n",
        "    # Split into first and last name\n",
        "    parts = name_lower.split()\n",
        "\n",
        "    if len(parts) >= 2:\n",
        "        email_name = ''.join(parts)            # Join parts together without space\n",
        "\n",
        "\n",
        "    else:\n",
        "        email_name = parts[0]\n",
        "\n",
        "\n",
        "    email = email_name + '@example.com'\n",
        "\n",
        "    email_dict[name_lower] = email\n",
        "    print(email_dict)\n",
        "\n",
        "\n",
        "\n",
        "\n",
        "\n",
        "# You need to do the necessary data cleaning\n",
        "# For example, removing the space and special characters if there is any, converting them to lower case\n",
        "\n",
        ""
      ]
    },
    {
      "cell_type": "markdown",
      "metadata": {
        "id": "3l5AK6U5tsS1"
      },
      "source": [
        "3) Write a Python program for \"Guessing Game: Guess the Number Challenge\"\n",
        "\n",
        "Step 1: Use a random function to generate a number.\n",
        "\n",
        "##### Game starts.......\n",
        "\n",
        "Step 2: Prompt the user to guess an integer number. Provide a range if needed to give the user context for their guess.\n",
        "\n",
        "Step 3: Check the condition of the guessed number compared to the generated number and provide feedback accordingly. For example, if the guess is too high or too low, inform the user.\n",
        "\n",
        "Step 4.1: If the guess is incorrect, allow the user to guess again. Repeat this process for a maximum of 10 guesses.\n",
        "\n",
        "Step 4.2: If the user guesses the number correctly, inform them that they have won. Also, indicate how many guesses were needed before guessing correctly.\n",
        "\n",
        "Step 4.3: If the user exhausts all 10 guesses without guessing the correct number, say \"goodbye.\"\n",
        "\n",
        "##### Game ends ...\n",
        "\n",
        "Step 5: Regardless of winning or losing, ask the user if they want to play again. This ensures the program's continuity and gives the user the option to continue playing if they wish."
      ]
    },
    {
      "cell_type": "code",
      "execution_count": 36,
      "metadata": {
        "id": "ZCZPk-6WtsS2"
      },
      "outputs": [],
      "source": [
        "\n",
        "#To generate the random number\n",
        "import random\n",
        "\n",
        "def play_game():\n",
        "  number_to_guess = random.randint(1, 100)\n",
        "  print(number_to_guess)\n",
        "  attempts = 0\n",
        "  max_attempts = 10\n",
        "  print(\"\\n🎯 Game starts... Guess the number between 1 and 100!\")\n"
      ]
    },
    {
      "cell_type": "code",
      "source": [
        "\n",
        "\n",
        "#To generate the random number\n",
        "import random\n",
        "\n",
        "def play_game():\n",
        "  number_to_guess = random.randint(1, 100)\n",
        "\n",
        "  attempts = 0\n",
        "  max_attempts = 10\n",
        "  print(\"\\n🎯 Game starts... Guess the number between 1 and 100!\")\n",
        "\n",
        "  #to ask the random number\n",
        "  while attempts < max_attempts:\n",
        "    try:\n",
        "      guess = int(input(f\"Attempt {attempts + 1}/10 - Enter your guess: \"))\n",
        "    except ValueError :\n",
        "      print(\"Invalid input! Please enter an integer.\")\n",
        "      continue\n",
        "    attempts += 1\n",
        "    if guess == number_to_guess:\n",
        "      print(f\"✅ Correct! You guessed it in {attempts} attempt(s). 🎉 You have won.\")\n",
        "      break\n",
        "    elif guess < number_to_guess:\n",
        "            print(\"🔻 Too low!\")\n",
        "    else:\n",
        "          print(\"🔺 Too high!\")\n",
        "\n",
        "  if attempts == max_attempts and guess != number_to_guess:\n",
        "    print(f\"💥 You've used all 10 attempts. The correct number was {number_to_guess}. Goodbye!\")\n",
        "\n",
        "  print(\"Game ends...\")\n",
        "\n",
        "def start_game():\n",
        "    while True:\n",
        "        play_game()\n",
        "        choice = input(\"\\nDo you want to play again? (yes/no): \").strip().lower()\n",
        "        if choice != 'yes':\n",
        "            print(\"👋 Thanks for playing! Goodbye.\")\n",
        "            break\n",
        "\n",
        "# Start the game\n",
        "start_game()\n"
      ],
      "metadata": {
        "colab": {
          "base_uri": "https://localhost:8080/"
        },
        "id": "rWyymwJvgoSr",
        "outputId": "7e6fb8ae-2d67-40f0-a894-a474240c0f11"
      },
      "execution_count": 53,
      "outputs": [
        {
          "output_type": "stream",
          "name": "stdout",
          "text": [
            "\n",
            "🎯 Game starts... Guess the number between 1 and 100!\n",
            "Attempt 1/10 - Enter your guess: f\n",
            "Invalid input! Please enter an integer.\n",
            "Attempt 1/10 - Enter your guess: 56\n",
            "🔻 Too low!\n",
            "Attempt 2/10 - Enter your guess: 89\n",
            "🔺 Too high!\n",
            "Attempt 3/10 - Enter your guess: 90\n",
            "🔺 Too high!\n",
            "Attempt 4/10 - Enter your guess: 76\n",
            "🔻 Too low!\n",
            "Attempt 5/10 - Enter your guess: 80\n",
            "🔻 Too low!\n",
            "Attempt 6/10 - Enter your guess: 90\n",
            "🔺 Too high!\n",
            "Attempt 7/10 - Enter your guess: 89\n",
            "🔺 Too high!\n",
            "Attempt 8/10 - Enter your guess: 76\n",
            "🔻 Too low!\n",
            "Attempt 9/10 - Enter your guess: 79\n",
            "🔻 Too low!\n",
            "Attempt 10/10 - Enter your guess: 81\n",
            "🔻 Too low!\n",
            "💥 You've used all 10 attempts. The correct number was 87. Goodbye!\n",
            "Game ends...\n",
            "\n",
            "Do you want to play again? (yes/no): no\n",
            "👋 Thanks for playing! Goodbye.\n"
          ]
        }
      ]
    }
  ],
  "metadata": {
    "kernelspec": {
      "display_name": ".venv",
      "language": "python",
      "name": "python3"
    },
    "language_info": {
      "codemirror_mode": {
        "name": "ipython",
        "version": 3
      },
      "file_extension": ".py",
      "mimetype": "text/x-python",
      "name": "python",
      "nbconvert_exporter": "python",
      "pygments_lexer": "ipython3",
      "version": "3.12.2"
    },
    "colab": {
      "provenance": [],
      "include_colab_link": true
    }
  },
  "nbformat": 4,
  "nbformat_minor": 0
}