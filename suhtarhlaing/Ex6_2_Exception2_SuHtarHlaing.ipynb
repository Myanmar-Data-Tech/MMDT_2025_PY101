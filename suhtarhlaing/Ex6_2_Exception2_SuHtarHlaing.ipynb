{
  "cells": [
    {
      "cell_type": "markdown",
      "metadata": {
        "id": "view-in-github",
        "colab_type": "text"
      },
      "source": [
        "<a href=\"https://colab.research.google.com/github/suhturhlaing/MMDT_2025_PY101/blob/suhturhlaing/suhtarhlaing/Ex6_2_Exception2_SuHtarHlaing.ipynb\" target=\"_parent\"><img src=\"https://colab.research.google.com/assets/colab-badge.svg\" alt=\"Open In Colab\"/></a>"
      ]
    },
    {
      "cell_type": "markdown",
      "metadata": {
        "id": "qt3_W_QUOROB"
      },
      "source": [
        "# Exception Handling\n"
      ]
    },
    {
      "cell_type": "markdown",
      "metadata": {
        "id": "IrkoljdSOROE"
      },
      "source": [
        "### Q2) Run the following programs and identify the potential errors.\n",
        "Use exception handling approach to handle and print all the potential erros.\n"
      ]
    },
    {
      "cell_type": "code",
      "source": [],
      "metadata": {
        "id": "bWbZFTMYPIv9"
      },
      "execution_count": null,
      "outputs": []
    },
    {
      "cell_type": "code",
      "execution_count": 5,
      "metadata": {
        "colab": {
          "base_uri": "https://localhost:8080/"
        },
        "id": "0XOOP6HxOROF",
        "outputId": "d08e34ed-f124-43cf-e47c-f2c98e639467"
      },
      "outputs": [
        {
          "output_type": "stream",
          "name": "stdout",
          "text": [
            "Please enter a number to divide a e\n",
            "Value Error : Please enter a valid int\n"
          ]
        }
      ],
      "source": [
        "#Q2.1)\n",
        "try:\n",
        "  a = 1\n",
        "  b = int(input(\"Please enter a number to divide a \"))\n",
        "  a = a/b\n",
        "  print(\"Success a= \",a)\n",
        "except ZeroDivisionError:\n",
        "  print(\"Error: Denominator value is {} not allowed\".format(b))\n",
        "except ValueError:\n",
        "  print(\"Value Error : Please enter a valid int\")\n",
        "except Exception as e:\n",
        "    print(f\"An unexpected error occurred: {e}\")\n",
        "\n"
      ]
    },
    {
      "cell_type": "code",
      "execution_count": 6,
      "metadata": {
        "colab": {
          "base_uri": "https://localhost:8080/"
        },
        "id": "PMJ5aTY9OROG",
        "outputId": "11d5820d-730a-4619-b96d-501cb5be7b28"
      },
      "outputs": [
        {
          "output_type": "stream",
          "name": "stdout",
          "text": [
            "Iteration: 0 0.4\n",
            "Iteration completed\n",
            "Iteration: 1 0.6\n",
            "Iteration completed\n",
            "Iteration: 2 1.0\n",
            "Iteration completed\n",
            "Iteration: 3 -1.4\n",
            "Iteration completed\n",
            "Iteration: 4 1.6\n",
            "Iteration completed\n",
            "Iteration: 5 0.0\n",
            "Iteration completed\n",
            "Index idx is out of the range 6\n"
          ]
        }
      ],
      "source": [
        "#Q2.2)\n",
        "try:\n",
        "  mylist = [2, 3, 5, -7, 8, 0]\n",
        "  idx = 0\n",
        "  b = 5\n",
        "  while idx<=6:\n",
        "      print('Iteration:', idx, mylist[idx]/b)\n",
        "      idx = idx+1\n",
        "      print('Iteration completed')\n",
        "except IndexError:\n",
        "    print(\"Index idx is out of the range {}\".format(idx))\n",
        "\n",
        "\n",
        "\n",
        ""
      ]
    }
  ],
  "metadata": {
    "kernelspec": {
      "display_name": ".venv",
      "language": "python",
      "name": "python3"
    },
    "language_info": {
      "codemirror_mode": {
        "name": "ipython",
        "version": 3
      },
      "file_extension": ".py",
      "mimetype": "text/x-python",
      "name": "python",
      "nbconvert_exporter": "python",
      "pygments_lexer": "ipython3",
      "version": "3.12.2"
    },
    "colab": {
      "provenance": [],
      "include_colab_link": true
    }
  },
  "nbformat": 4,
  "nbformat_minor": 0
}