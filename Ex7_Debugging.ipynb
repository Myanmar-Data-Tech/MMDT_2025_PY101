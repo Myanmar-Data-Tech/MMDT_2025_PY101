{
  "cells": [
    {
      "cell_type": "markdown",
      "metadata": {
        "id": "vAh88BfjZN3u"
      },
      "source": [
        "## Simple Debugging\n",
        "\n",
        "Add print statements to your program.\n",
        "Add input() to pause the program"
      ]
    },
    {
      "cell_type": "code",
      "execution_count": 1,
      "metadata": {
        "colab": {
          "base_uri": "https://localhost:8080/"
        },
        "id": "0OHyj8aAZN3z",
        "outputId": "d04f2be0-d0a9-472f-c716-7f6ceb8c6f03"
      },
      "outputs": [
        {
          "name": "stdout",
          "output_type": "stream",
          "text": [
            "Generated random number (1 to 5): 4\n",
            "Press Enter to continue to Step 2...Hello\n",
            "Iteration 1: Hello Hello Hello Hello \n",
            "Press Enter to proceed to the next iteration...Enter\n",
            "Iteration 2: Hello Hello Hello Hello \n",
            "Press Enter to proceed to the next iteration...\n",
            "Iteration 3: Hello Hello Hello Hello \n",
            "Press Enter to proceed to the next iteration...\n",
            "Iteration 4: Hello Hello Hello Hello \n",
            "Press Enter to proceed to the next iteration...\n",
            "Iteration 5: Hello Hello Hello Hello \n",
            "Press Enter to proceed to the next iteration...\n",
            "Iteration 6: Hello Hello Hello Hello \n",
            "Press Enter to proceed to the next iteration...\n"
          ]
        }
      ],
      "source": [
        "from random import randint\n",
        "\n",
        "# Step 1: generate a random number between 1 and 5\n",
        "rand_num = randint(1, 5)\n",
        "\n",
        "# 🔎 Print the random number for transparency\n",
        "print(f\"Generated random number (1 to 5): {rand_num}\")\n",
        "\n",
        "#  Pause so the user can see it before continuing\n",
        "input(\"Press Enter to continue to Step 2...\")\n",
        "\n",
        "# Step 2: Repeat 'Hello' rand_num times, 6 times total\n",
        "for i in range(6):\n",
        "    print(f\"Iteration {i + 1}:\", 'Hello ' * rand_num)\n",
        "    input(\"Press Enter to proceed to the next iteration...\")\n"
      ]
    },
    {
      "cell_type": "code",
      "execution_count": 2,
      "metadata": {
        "colab": {
          "base_uri": "https://localhost:8080/"
        },
        "id": "wyf7tDlRZN31",
        "outputId": "a83c4870-e2d9-4ecf-cfc3-940254dc7973"
      },
      "outputs": [
        {
          "name": "stdout",
          "output_type": "stream",
          "text": [
            "Starting the loop...\n",
            "\n",
            "Iteration 1: rand_num = 5\n",
            "Hello Hello Hello Hello Hello \n",
            "Press Enter to continue...\n",
            "\n",
            "Iteration 2: rand_num = 2\n",
            "Hello Hello \n",
            "Press Enter to continue...\n",
            "\n",
            "Iteration 3: rand_num = 2\n",
            "Hello Hello \n",
            "Press Enter to continue...\n",
            "\n",
            "Iteration 4: rand_num = 1\n",
            "Hello \n",
            "Press Enter to continue...\n",
            "\n",
            "Iteration 5: rand_num = 3\n",
            "Hello Hello Hello \n",
            "Press Enter to continue...\n",
            "\n",
            "Iteration 6: rand_num = 5\n",
            "Hello Hello Hello Hello Hello \n",
            "Press Enter to continue...\n",
            "\n"
          ]
        }
      ],
      "source": [
        "from random import randint\n",
        "\n",
        "print(\"Starting the loop...\\n\")\n",
        "\n",
        "for i in range(6):\n",
        "    rand_num = randint(1, 5)\n",
        "    print(f\"Iteration {i+1}: rand_num = {rand_num}\")\n",
        "    print('Hello ' * rand_num)\n",
        "    input(\"Press Enter to continue...\\n\")\n"
      ]
    },
    {
      "cell_type": "markdown",
      "metadata": {
        "id": "SfylxKy8ZN32"
      },
      "source": [
        "Write a program that generates 10000 random numbers between 1 and 100 and counts how many of them are multiples of 12."
      ]
    },
    {
      "cell_type": "code",
      "execution_count": 9,
      "metadata": {
        "colab": {
          "base_uri": "https://localhost:8080/"
        },
        "id": "XSe4lpz_ZN33",
        "outputId": "8025f3b0-2ca7-4fa8-9b9c-ec5636d6afa6"
      },
      "outputs": [
        {
          "output_type": "stream",
          "name": "stdout",
          "text": [
            "Number of multiples of 12: 789\n"
          ]
        }
      ],
      "source": [
        "from random import randint\n",
        "\n",
        "count = 0\n",
        "\n",
        "for i in range(10000):\n",
        "    num = randint(1, 100)\n",
        "    if num % 12 == 0:\n",
        "        count += 1\n",
        "\n",
        "print('Number of multiples of 12:', count)\n"
      ]
    },
    {
      "cell_type": "markdown",
      "metadata": {
        "id": "Q0K4EBPhZN34"
      },
      "source": [
        "The following program should counts how many of the squares of the numbers from 1 to 100 end in 1.  (Example: 1,81,121). Debug the code."
      ]
    },
    {
      "cell_type": "code",
      "execution_count": 8,
      "metadata": {
        "colab": {
          "base_uri": "https://localhost:8080/"
        },
        "id": "BAkZ0ldzZN35",
        "outputId": "d16fd991-9852-4acf-d154-563cc29e815b"
      },
      "outputs": [
        {
          "output_type": "stream",
          "name": "stdout",
          "text": [
            "20\n"
          ]
        }
      ],
      "source": [
        "import numpy as np\n",
        "\n",
        "def fun_square_count():\n",
        "    num_list = np.arange(1, 101)\n",
        "    squared_num = [value**2 for value in num_list]\n",
        "    count = 0\n",
        "    for num in squared_num:\n",
        "        if num % 10 == 1:\n",
        "            count += 1\n",
        "    return count\n",
        "\n",
        "print(fun_square_count())\n"
      ]
    },
    {
      "cell_type": "markdown",
      "metadata": {
        "id": "GtvxMOUEZN36"
      },
      "source": [
        "Debug the following programs"
      ]
    },
    {
      "cell_type": "code",
      "execution_count": 7,
      "metadata": {
        "colab": {
          "base_uri": "https://localhost:8080/"
        },
        "id": "Kcy7BisBZN37",
        "outputId": "733e67ea-1743-446b-e13d-6d3817c723b3"
      },
      "outputs": [
        {
          "output_type": "stream",
          "name": "stdout",
          "text": [
            "7\n"
          ]
        }
      ],
      "source": [
        "def add(a, b):\n",
        "    return a + int(b)\n",
        "\n",
        "print(add(5, '2'))\n"
      ]
    },
    {
      "cell_type": "code",
      "execution_count": 5,
      "metadata": {
        "id": "TnLnp6kjZN37"
      },
      "outputs": [],
      "source": [
        "def divide(a, b):\n",
        "    try:\n",
        "        result = a / b\n",
        "        return result\n",
        "    except ZeroDivisionError:\n",
        "        return \"Error: Division by zero is not allowed\"\n"
      ]
    },
    {
      "cell_type": "code",
      "execution_count": 6,
      "metadata": {
        "colab": {
          "base_uri": "https://localhost:8080/"
        },
        "id": "wQsNH2JRZN38",
        "outputId": "09bdfdec-ac94-46c8-ed24-b35609f5f715"
      },
      "outputs": [
        {
          "output_type": "stream",
          "name": "stdout",
          "text": [
            "False\n"
          ]
        }
      ],
      "source": [
        "def is_prime(n):\n",
        "    if n <= 1:  # zero and one are not prime\n",
        "        return False\n",
        "    for i in range(2, n):\n",
        "        if n % i == 0:  # use modulus to check for divisibility\n",
        "            return False\n",
        "    return True\n",
        "\n",
        "print(is_prime(15))\n"
      ]
    }
  ],
  "metadata": {
    "kernelspec": {
      "display_name": "Python 3",
      "language": "python",
      "name": "python3"
    },
    "language_info": {
      "codemirror_mode": {
        "name": "ipython",
        "version": 3
      },
      "file_extension": ".py",
      "mimetype": "text/x-python",
      "name": "python",
      "nbconvert_exporter": "python",
      "pygments_lexer": "ipython3",
      "version": "3.12.1"
    },
    "colab": {
      "provenance": []
    }
  },
  "nbformat": 4,
  "nbformat_minor": 0
}