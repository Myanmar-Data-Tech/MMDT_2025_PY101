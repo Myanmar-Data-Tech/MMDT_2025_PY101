{
  "cells": [
    {
      "cell_type": "markdown",
      "metadata": {
        "id": "NdzYmtVwvZGZ"
      },
      "source": [
        "Q1). Write a lambda function that takes an integer 'year' and returns 'age'."
      ]
    },
    {
      "cell_type": "code",
      "execution_count": null,
      "metadata": {
        "id": "OpBIXnALvZGf",
        "colab": {
          "base_uri": "https://localhost:8080/"
        },
        "outputId": "45b2b68d-ad06-4334-b9a6-c22a3e044967"
      },
      "outputs": [
        {
          "output_type": "execute_result",
          "data": {
            "text/plain": [
              "25"
            ]
          },
          "metadata": {},
          "execution_count": 2
        }
      ],
      "source": [
        "from datetime import datetime\n",
        "\n",
        "current_yr = datetime.now().year\n",
        "age = lambda yr: current_yr - yr\n",
        "age(2000)"
      ]
    },
    {
      "cell_type": "markdown",
      "metadata": {
        "id": "zMO_Z3oevZGj"
      },
      "source": [
        "Q2) Write a lambda function that takes a float \"cost\" and returns a float \"price\" by adding 10% to the cost."
      ]
    },
    {
      "cell_type": "code",
      "execution_count": null,
      "metadata": {
        "id": "0RC2Iy8DvZGl",
        "colab": {
          "base_uri": "https://localhost:8080/"
        },
        "outputId": "2bd8b0c9-26ab-4d55-f7af-5912682c167d"
      },
      "outputs": [
        {
          "output_type": "execute_result",
          "data": {
            "text/plain": [
              "110.0"
            ]
          },
          "metadata": {},
          "execution_count": 7
        }
      ],
      "source": [
        "pirce = lambda cost: cost + cost*(10/100)\n",
        "\n",
        "pirce(100)"
      ]
    },
    {
      "cell_type": "markdown",
      "metadata": {
        "id": "9Fm8rCEsvZGm"
      },
      "source": [
        "Q3) For the given name list : names = ['Richard', 'Karam', 'Karpo', 'Sonam', 'Ugyen']\n",
        "\n",
        "Write a python program that converts each name into email address. The domain is given as gmail."
      ]
    },
    {
      "cell_type": "code",
      "execution_count": null,
      "metadata": {
        "id": "2r4VkfIxvZGn",
        "colab": {
          "base_uri": "https://localhost:8080/"
        },
        "outputId": "d2d854cc-01fc-4308-ceb0-2a024629c34f"
      },
      "outputs": [
        {
          "output_type": "execute_result",
          "data": {
            "text/plain": [
              "['richard@gmail.com',\n",
              " 'karam@gmail.com',\n",
              " 'karpo@gmail.com',\n",
              " 'sonam@gmail.com',\n",
              " 'ugyen@gmail.com']"
            ]
          },
          "metadata": {},
          "execution_count": 8
        }
      ],
      "source": [
        "names = ['Richard', 'Karam', 'Karpo', 'Sonam', 'Ugyen']\n",
        "create_email = lambda name: name.lower()+'@gmail.com'\n",
        "emails = [*map(create_email, names)]\n",
        "emails\n"
      ]
    },
    {
      "cell_type": "markdown",
      "metadata": {
        "id": "9yyDutrtvZGo"
      },
      "source": [
        "Q4) Write a lambda function that takes two strings 'name' , 'domain' and returns an email address (string)."
      ]
    },
    {
      "cell_type": "code",
      "execution_count": null,
      "metadata": {
        "id": "CwWPMCndvZGq",
        "colab": {
          "base_uri": "https://localhost:8080/",
          "height": 35
        },
        "outputId": "043212cf-8102-478f-95a4-3f68acff2658"
      },
      "outputs": [
        {
          "output_type": "execute_result",
          "data": {
            "text/plain": [
              "'myo@drmyothida.com'"
            ],
            "application/vnd.google.colaboratory.intrinsic+json": {
              "type": "string"
            }
          },
          "metadata": {},
          "execution_count": 9
        }
      ],
      "source": [
        "email = lambda name, domain: name.lower()+'@'+domain\n",
        "email('myo', 'drmyothida.com')"
      ]
    },
    {
      "cell_type": "markdown",
      "metadata": {
        "id": "j_KXaR_UvZGr"
      },
      "source": [
        "Q5) old_list = [2, 4, 6, 7, 9]\n",
        "\n",
        "write a for loop to square each element of the given old_list."
      ]
    },
    {
      "cell_type": "code",
      "execution_count": null,
      "metadata": {
        "id": "P41EcNK9vZGt",
        "outputId": "b944842f-c865-47bf-d027-385789d431f5",
        "colab": {
          "base_uri": "https://localhost:8080/"
        }
      },
      "outputs": [
        {
          "output_type": "stream",
          "name": "stdout",
          "text": [
            "[4, 16, 36, 49, 81] [4, 16, 36, 49, 81]\n"
          ]
        }
      ],
      "source": [
        "# list comprehension\n",
        "old_list = [2, 4, 6, 7, 9]\n",
        "new_list1 = [value**2 for value in old_list]\n",
        "\n",
        "#2nd method\n",
        "new_list2 = []\n",
        "for value in old_list:\n",
        "    new_list2.append(value**2)\n",
        "\n",
        "print(new_list1, new_list2)"
      ]
    }
  ],
  "metadata": {
    "kernelspec": {
      "display_name": ".venv",
      "language": "python",
      "name": "python3"
    },
    "language_info": {
      "codemirror_mode": {
        "name": "ipython",
        "version": 3
      },
      "file_extension": ".py",
      "mimetype": "text/x-python",
      "name": "python",
      "nbconvert_exporter": "python",
      "pygments_lexer": "ipython3",
      "version": "3.12.2"
    },
    "colab": {
      "provenance": []
    }
  },
  "nbformat": 4,
  "nbformat_minor": 0
}