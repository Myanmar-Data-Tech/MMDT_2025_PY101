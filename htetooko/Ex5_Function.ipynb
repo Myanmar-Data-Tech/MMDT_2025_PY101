{
  "cells": [
    {
      "cell_type": "markdown",
      "metadata": {
        "id": "view-in-github",
        "colab_type": "text"
      },
      "source": [
        "<a href=\"https://colab.research.google.com/github/Loriita/MMDT_2025_PY101/blob/htetooko/htetooko/Ex5_Function.ipynb\" target=\"_parent\"><img src=\"https://colab.research.google.com/assets/colab-badge.svg\" alt=\"Open In Colab\"/></a>"
      ]
    },
    {
      "cell_type": "markdown",
      "metadata": {
        "id": "b-1b6ywy-O5i"
      },
      "source": [
        "Exercises are taken from : https://www.brianheinold.net/python/A_Practical_Introduction_to_Python_Programming_Heinold.pdf\n"
      ]
    },
    {
      "cell_type": "markdown",
      "metadata": {
        "id": "pps5xBbs-I9w"
      },
      "source": [
        "Ex 1: Write a function called rectangle that takes two integers m and n as arguments and prints\n",
        "out an m× n box consisting of asterisks. Shown below is the output of rectangle(2,4)\n",
        "****\n",
        "****"
      ]
    },
    {
      "cell_type": "code",
      "execution_count": 1,
      "metadata": {
        "id": "S_5WWVLH3u8y",
        "outputId": "9822ec97-5608-4f5e-ea18-9312b35e6ced",
        "colab": {
          "base_uri": "https://localhost:8080/"
        }
      },
      "outputs": [
        {
          "output_type": "stream",
          "name": "stdout",
          "text": [
            "*****\n",
            "*****\n",
            "*****\n",
            "*****\n",
            "*****\n",
            "*****\n",
            "*****\n",
            "*****\n",
            "*****\n",
            "*****\n"
          ]
        }
      ],
      "source": [
        "def rectangle(m,n):\n",
        "    for k in range(m):\n",
        "        print(n*'*')\n",
        "\n",
        "rectangle(10,5)\n"
      ]
    },
    {
      "cell_type": "markdown",
      "metadata": {
        "id": "0QS7SmPV-coO"
      },
      "source": [
        "Ex 2: Write a function that takes an integer n and returns a random integer with exactly n digits. For\n",
        "instance, if n is 3, then 125 and 593 would be valid return values, but 093 would not because\n",
        "that is really 93, which is a two-digit number."
      ]
    },
    {
      "cell_type": "code",
      "execution_count": 3,
      "metadata": {
        "id": "c4ejnmGJ-MzL",
        "outputId": "a7197905-e312-472e-f679-2bf64913e201",
        "colab": {
          "base_uri": "https://localhost:8080/"
        }
      },
      "outputs": [
        {
          "output_type": "execute_result",
          "data": {
            "text/plain": [
              "83"
            ]
          },
          "metadata": {},
          "execution_count": 3
        }
      ],
      "source": [
        "import random\n",
        "def calcualte_numbers ( n ):\n",
        "    result = random.randint(10**(n-1) , 10**(n)-1)\n",
        "\n",
        "\n",
        "    return result\n",
        "\n",
        "calcualte_numbers(2)"
      ]
    },
    {
      "cell_type": "markdown",
      "metadata": {
        "id": "B0P_F5Ld-ldg"
      },
      "source": [
        "Ex 3: Write a function called number_of_factors that takes an integer and returns how many\n",
        "factors the number has."
      ]
    },
    {
      "cell_type": "code",
      "execution_count": 16,
      "metadata": {
        "id": "Yr2BLCXp-oTi",
        "outputId": "7e91560a-6b4f-4893-d9f1-0a4db37b8ac1",
        "colab": {
          "base_uri": "https://localhost:8080/"
        }
      },
      "outputs": [
        {
          "output_type": "stream",
          "name": "stdout",
          "text": [
            "The factor of 6 is 1\n",
            "The factor of 6 is 2\n",
            "The factor of 6 is 3\n",
            "The factor of 6 is 6\n"
          ]
        },
        {
          "output_type": "execute_result",
          "data": {
            "text/plain": [
              "4"
            ]
          },
          "metadata": {},
          "execution_count": 16
        }
      ],
      "source": [
        "def number_of_factors(num):\n",
        "    count = 0\n",
        "    for i in range(1, num + 1):\n",
        "        if num % i == 0:\n",
        "            print(f\"The factor of {num} is {i}\")\n",
        "            count += 1\n",
        "    return count\n",
        "\n",
        "number_of_factors(6)"
      ]
    },
    {
      "cell_type": "markdown",
      "metadata": {
        "id": "7w0DDTyY-o_4"
      },
      "source": [
        "Ex4: Write a function called first_diff that is given two strings and returns the first location in\n",
        "which the strings differ. If the strings are identical, it should return -1.Ignore the case in your function. It means h and H are the same."
      ]
    },
    {
      "cell_type": "code",
      "execution_count": 33,
      "metadata": {
        "id": "1WOvaf0z-6J6",
        "outputId": "1d49c24d-5b42-42ce-d7c0-f60a1872f050",
        "colab": {
          "base_uri": "https://localhost:8080/"
        }
      },
      "outputs": [
        {
          "output_type": "stream",
          "name": "stdout",
          "text": [
            "-1\n",
            "2\n",
            "3\n"
          ]
        }
      ],
      "source": [
        "def first_diff(str1, str2):\n",
        "\n",
        "    s1 = str1.lower()\n",
        "    s2 = str2.lower()\n",
        "\n",
        "    # Find the length of the shorter string\n",
        "    min_len = min(len(s1), len(s2))\n",
        "\n",
        "    # Compare characters one by one\n",
        "    for i in range(min_len):\n",
        "        if s1[i] != s2[i]:\n",
        "            return i\n",
        "\n",
        "    # If one string is longer than the other\n",
        "    if len(s1) != len(s2):\n",
        "        return min_len\n",
        "\n",
        "    # Strings are identical\n",
        "    return -1\n",
        "\n",
        "print(first_diff(\"hello\", \"heLLo\"))\n",
        "print(first_diff(\"hello\", \"hey\"))\n",
        "print(first_diff(\"Cat\", \"catalog\"))"
      ]
    },
    {
      "cell_type": "markdown",
      "metadata": {
        "id": "jLM8fAg_-6th"
      },
      "source": [
        "Ex5: Write a function called root that is given a number x and an integer n and returns x/n. In\n",
        "the function definition, set the default value of n to 2."
      ]
    },
    {
      "cell_type": "code",
      "execution_count": 34,
      "metadata": {
        "id": "1TrSgTDa_Fu0",
        "outputId": "e81e1ac9-61c5-424f-d75a-311dd6e5cd22",
        "colab": {
          "base_uri": "https://localhost:8080/"
        }
      },
      "outputs": [
        {
          "output_type": "stream",
          "name": "stdout",
          "text": [
            "5.0\n",
            "2.0\n"
          ]
        }
      ],
      "source": [
        "def root(x, n=2):\n",
        "    return x / n\n",
        "\n",
        "print(root(10))\n",
        "print(root(10, 5))"
      ]
    },
    {
      "cell_type": "markdown",
      "metadata": {
        "id": "GFc4DjbPTYmS"
      },
      "source": [
        "Ex6: Write a function that solves the system of equations ax + by = e and cx +dy = f. Your function should takes 6 parameters, (a, b, c, d, e,f) and return the values of x and y."
      ]
    },
    {
      "cell_type": "code",
      "execution_count": 35,
      "metadata": {
        "id": "KoeujveCTYmS",
        "outputId": "1ff4081a-b539-4477-fdc9-a39971daa95c",
        "colab": {
          "base_uri": "https://localhost:8080/"
        }
      },
      "outputs": [
        {
          "output_type": "stream",
          "name": "stdout",
          "text": [
            "x = 1.6 , y = 1.6\n"
          ]
        }
      ],
      "source": [
        "def solve_system(a, b, c, d, e, f):\n",
        "    denominator = a * d - b * c\n",
        "    if denominator == 0:\n",
        "        return \"No unique solution\"\n",
        "\n",
        "    x = (e * d - b * f) / denominator\n",
        "    y = (a * f - e * c) / denominator\n",
        "    return x, y\n",
        "\n",
        "result = solve_system(2, 3, 1, -1, 8, 0)\n",
        "print(\"x =\", result[0], \", y =\", result[1])  # Outputs the solution (x, y)"
      ]
    },
    {
      "cell_type": "markdown",
      "metadata": {
        "id": "ucT85TllTYmS"
      },
      "source": [
        "Ex7:  Write a function called change_case that given a string, returns a string with each upper  case letter replaced by a lower case letter and vice-versa"
      ]
    },
    {
      "cell_type": "code",
      "execution_count": 36,
      "metadata": {
        "id": "BegoK529TYmT",
        "outputId": "c9ba5a8f-0034-49f3-ba28-16778f359ed7",
        "colab": {
          "base_uri": "https://localhost:8080/"
        }
      },
      "outputs": [
        {
          "output_type": "stream",
          "name": "stdout",
          "text": [
            "hELLO wORLD\n",
            "mAN\n"
          ]
        }
      ],
      "source": [
        "def change_case(s):\n",
        "    return s.swapcase()\n",
        "\n",
        "print(change_case(\"Hello World\"))\n",
        "print(change_case(\"Man\"))"
      ]
    },
    {
      "cell_type": "markdown",
      "metadata": {
        "id": "v5AhlJrpTYmT"
      },
      "source": [
        "Ex8:  Write a function called primes that is given a number n and returns a list of the first n  primes. Let the default value of n be 100."
      ]
    },
    {
      "cell_type": "code",
      "execution_count": 37,
      "metadata": {
        "id": "7NhBXVv2TYmT",
        "outputId": "098e089b-6f28-4226-ec59-5941a8f08ead",
        "colab": {
          "base_uri": "https://localhost:8080/"
        }
      },
      "outputs": [
        {
          "output_type": "stream",
          "name": "stdout",
          "text": [
            "[2, 3, 5, 7, 11, 13, 17, 19, 23, 29]\n"
          ]
        }
      ],
      "source": [
        "def primes(n=100):\n",
        "    prime_list = []\n",
        "    num = 2\n",
        "    while len(prime_list) < n:\n",
        "        # Check if num is prime\n",
        "        is_prime = True\n",
        "        for i in range(2, int(num**0.5) + 1):\n",
        "            if num % i == 0:\n",
        "                is_prime = False\n",
        "                break\n",
        "        if is_prime:\n",
        "            prime_list.append(num)\n",
        "        num += 1\n",
        "    return prime_list\n",
        "\n",
        "# Example usage:\n",
        "print(primes(10))"
      ]
    },
    {
      "cell_type": "markdown",
      "metadata": {
        "id": "Oq7aA3tYTYmT"
      },
      "source": [
        "Ex9: A Tic-tac-toe board can be represented be a 3×3 two-dimensional list, where zeroes stand for  empty cells, ones stand for X’s and twos stand for O’s. Write a function that is given such a list and randomly chooses a spot in which to place  a 2 (O). The spot chosen must currently be empty and a spot must be chosen."
      ]
    },
    {
      "cell_type": "code",
      "execution_count": null,
      "metadata": {
        "id": "d1LP7n9KTYmT"
      },
      "outputs": [],
      "source": []
    },
    {
      "cell_type": "markdown",
      "metadata": {
        "id": "UTmt51cITYmT"
      },
      "source": [
        "Ex10:  Write a function that is given a 9 × 9 potentially solved Sudoku and returns True if it is solved correctly and False if there is a mistake. The Sudoku is correctly solved if there are\n",
        " no repeated numbers in any row or any column or in any of the nine “blocks.”\n"
      ]
    },
    {
      "cell_type": "code",
      "execution_count": null,
      "metadata": {
        "id": "psx0KkF9TYmT"
      },
      "outputs": [],
      "source": []
    }
  ],
  "metadata": {
    "colab": {
      "name": "Ex5_Function.ipynb",
      "provenance": [],
      "include_colab_link": true
    },
    "kernelspec": {
      "display_name": "Python 3",
      "name": "python3"
    },
    "language_info": {
      "codemirror_mode": {
        "name": "ipython",
        "version": 3
      },
      "file_extension": ".py",
      "mimetype": "text/x-python",
      "name": "python",
      "nbconvert_exporter": "python",
      "pygments_lexer": "ipython3",
      "version": "3.12.1"
    }
  },
  "nbformat": 4,
  "nbformat_minor": 0
}