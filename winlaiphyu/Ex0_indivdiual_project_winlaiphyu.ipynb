{
  "nbformat": 4,
  "nbformat_minor": 0,
  "metadata": {
    "colab": {
      "provenance": [],
      "authorship_tag": "ABX9TyO15PWFQcz8Xse+1fTVrBZY",
      "include_colab_link": true
    },
    "kernelspec": {
      "name": "python3",
      "display_name": "Python 3"
    },
    "language_info": {
      "name": "python"
    }
  },
  "cells": [
    {
      "cell_type": "markdown",
      "metadata": {
        "id": "view-in-github",
        "colab_type": "text"
      },
      "source": [
        "<a href=\"https://colab.research.google.com/github/Winlai16/MMDT_2025_PY101/blob/winlaiphyu/winlaiphyu/Ex0_indivdiual_project_winlaiphyu.ipynb\" target=\"_parent\"><img src=\"https://colab.research.google.com/assets/colab-badge.svg\" alt=\"Open In Colab\"/></a>"
      ]
    },
    {
      "cell_type": "markdown",
      "source": [
        "Write a Python program in the below cell to create a dictionary that count the frequency of words in the string given in Q1.txt. Find the most frequent occured word. Don't remove the comment lines provided."
      ],
      "metadata": {
        "id": "oe3dw5_E7-ps"
      }
    },
    {
      "cell_type": "code",
      "source": [
        "#step 1: read content from Q1.txt\n",
        "with open('/content/Q1.txt', 'r') as file1:\n",
        "    word_string = file1.read()\n",
        "    print(word_string)\n",
        "\n",
        "#step 2.1 - change the case to upper or lower.\n",
        "upper = word_string.upper()\n",
        "print(upper)\n",
        "\n",
        "#step 2.2 - remove pun : use replace\n",
        "new_text = upper.replace(\",\",\" \").replace(\"!\",\" \").replace(\".\",\" \")\n",
        "print(new_text)\n",
        "\n",
        "#step 2.3 - split using space\n",
        "x= new_text.split()\n",
        "print(x)\n",
        "\n",
        "#Step 3: create a dictionary\n",
        "dict = {'Text':x}\n",
        "print(dict)\n",
        "\n",
        "#Step 4: find the most frequent occured one\n",
        "most_frequency = max(set(x),key=x.count)\n",
        "frequency = x.count(most_frequency)\n",
        "\n",
        "print(most_frequency, frequency)"
      ],
      "metadata": {
        "colab": {
          "base_uri": "https://localhost:8080/"
        },
        "id": "BhZWhGC18Cqi",
        "outputId": "35688c9b-b8d6-4361-f633-7e3dcc350837"
      },
      "execution_count": 1,
      "outputs": [
        {
          "output_type": "stream",
          "name": "stdout",
          "text": [
            "I love this movie! It is sweet, but with satirical humor. The dialogs are great and the adventure scenes are fun. It manages to be romantic and whimsical while laughingat the conventions of the fairy tale genre. I would recommend it to just about anyone. I have seen it several times and I am always happy to see it again and again. \n",
            "I LOVE THIS MOVIE! IT IS SWEET, BUT WITH SATIRICAL HUMOR. THE DIALOGS ARE GREAT AND THE ADVENTURE SCENES ARE FUN. IT MANAGES TO BE ROMANTIC AND WHIMSICAL WHILE LAUGHINGAT THE CONVENTIONS OF THE FAIRY TALE GENRE. I WOULD RECOMMEND IT TO JUST ABOUT ANYONE. I HAVE SEEN IT SEVERAL TIMES AND I AM ALWAYS HAPPY TO SEE IT AGAIN AND AGAIN. \n",
            "I LOVE THIS MOVIE  IT IS SWEET  BUT WITH SATIRICAL HUMOR  THE DIALOGS ARE GREAT AND THE ADVENTURE SCENES ARE FUN  IT MANAGES TO BE ROMANTIC AND WHIMSICAL WHILE LAUGHINGAT THE CONVENTIONS OF THE FAIRY TALE GENRE  I WOULD RECOMMEND IT TO JUST ABOUT ANYONE  I HAVE SEEN IT SEVERAL TIMES AND I AM ALWAYS HAPPY TO SEE IT AGAIN AND AGAIN  \n",
            "['I', 'LOVE', 'THIS', 'MOVIE', 'IT', 'IS', 'SWEET', 'BUT', 'WITH', 'SATIRICAL', 'HUMOR', 'THE', 'DIALOGS', 'ARE', 'GREAT', 'AND', 'THE', 'ADVENTURE', 'SCENES', 'ARE', 'FUN', 'IT', 'MANAGES', 'TO', 'BE', 'ROMANTIC', 'AND', 'WHIMSICAL', 'WHILE', 'LAUGHINGAT', 'THE', 'CONVENTIONS', 'OF', 'THE', 'FAIRY', 'TALE', 'GENRE', 'I', 'WOULD', 'RECOMMEND', 'IT', 'TO', 'JUST', 'ABOUT', 'ANYONE', 'I', 'HAVE', 'SEEN', 'IT', 'SEVERAL', 'TIMES', 'AND', 'I', 'AM', 'ALWAYS', 'HAPPY', 'TO', 'SEE', 'IT', 'AGAIN', 'AND', 'AGAIN']\n",
            "{'Text': ['I', 'LOVE', 'THIS', 'MOVIE', 'IT', 'IS', 'SWEET', 'BUT', 'WITH', 'SATIRICAL', 'HUMOR', 'THE', 'DIALOGS', 'ARE', 'GREAT', 'AND', 'THE', 'ADVENTURE', 'SCENES', 'ARE', 'FUN', 'IT', 'MANAGES', 'TO', 'BE', 'ROMANTIC', 'AND', 'WHIMSICAL', 'WHILE', 'LAUGHINGAT', 'THE', 'CONVENTIONS', 'OF', 'THE', 'FAIRY', 'TALE', 'GENRE', 'I', 'WOULD', 'RECOMMEND', 'IT', 'TO', 'JUST', 'ABOUT', 'ANYONE', 'I', 'HAVE', 'SEEN', 'IT', 'SEVERAL', 'TIMES', 'AND', 'I', 'AM', 'ALWAYS', 'HAPPY', 'TO', 'SEE', 'IT', 'AGAIN', 'AND', 'AGAIN']}\n",
            "IT 5\n"
          ]
        }
      ]
    },
    {
      "cell_type": "markdown",
      "source": [
        "Write a Python program to read the name from Q2.txt and create email using domain 'simons-rock.edu' and save the results as dictionary : {'name': 'name@simons-rock.edu'}. Please take note that your email should not include space or any special characters and all charcters should be in lowercase.\n",
        "\n"
      ],
      "metadata": {
        "id": "E8uscjFT8Kjk"
      }
    },
    {
      "cell_type": "code",
      "source": [
        "#step 1: read Q2. txt into the list\n",
        "with open ('/content/Q2.txt', 'r') as names:\n",
        "    lines = names.readlines()\n",
        "    #read = names.read()\n",
        "    #header = names.readline()\n",
        "    #namelist = names.readlines()\n",
        "    header = lines[0]\n",
        "    namelist = lines[1:]\n",
        "\n",
        "#step 2: create email for each name in the list and save them in the dictionary\n",
        "email_dict = {}\n",
        "for name in namelist:\n",
        "    name = name.strip()  # Remove leading/trailing whitespace and newline\n",
        "    clean_name = ''.join(char for char in name if char.isalnum() or char == ' ')\n",
        "    email = clean_name.lower().replace(\" \", \".\") + \"@simons-rock.edu\"\n",
        "    email_dict[name] = email\n",
        "    print(email)\n",
        "\n",
        "\n",
        "# You need to do the necessary data cleaning\n",
        "\n",
        "# For example, removing the space and special characters if there is any, converting them to lower case\n"
      ],
      "metadata": {
        "colab": {
          "base_uri": "https://localhost:8080/"
        },
        "id": "c3UJCrKw8Qr2",
        "outputId": "e301c5b9-b075-4350-c27a-140a8d32962d"
      },
      "execution_count": 2,
      "outputs": [
        {
          "output_type": "stream",
          "name": "stdout",
          "text": [
            "dechen.dorji@simons-rock.edu\n",
            "deki.tshomo@simons-rock.edu\n",
            "dorji.tshering@simons-rock.edu\n",
            "dorji.wangmo@simons-rock.edu\n",
            "gem.tshering.lepcha@simons-rock.edu\n",
            "jigme.dorji@simons-rock.edu\n",
            "kinley.cheki@simons-rock.edu\n",
            "kinley.wangmo@simons-rock.edu\n",
            "ngawang.dema.karpo@simons-rock.edu\n",
            "roshan.chhetri@simons-rock.edu\n",
            "sonam.tenzin@simons-rock.edu\n",
            "sonam.tobgay@simons-rock.edu\n",
            "sonam.yangden@simons-rock.edu\n",
            "tandin.om@simons-rock.edu\n",
            "tandin.wangchuk@simons-rock.edu\n",
            "tashi.om@simons-rock.edu\n",
            "tenday.zangmo@simons-rock.edu\n",
            "tshering.pem@simons-rock.edu\n",
            "ugyen.phurpa@simons-rock.edu\n",
            "marmitt@simons-rock.edu\n"
          ]
        }
      ]
    },
    {
      "cell_type": "markdown",
      "source": [
        "Write a Python program for \"Guessing Game: Guess the Number Challenge\" Step 1: Use a random function to generate a number.\n",
        "\n",
        "Game starts....... Step 2: Prompt the user to guess an integer number. Provide a range if needed to give the user context for their guess.\n",
        "\n",
        "Step 3: Check the condition of the guessed number compared to the generated number and provide feedback accordingly. For example, if the guess is too high or too low, inform the user.\n",
        "\n",
        "Step 4.1: If the guess is incorrect, allow the user to guess again. Repeat this process for a maximum of 10 guesses.\n",
        "\n",
        "Step 4.2: If the user guesses the number correctly, inform them that they have won. Also, indicate how many guesses were needed before guessing correctly.\n",
        "\n",
        "Step 4.3: If the user exhausts all 10 guesses without guessing the correct number, say \"goodbye.\"\n",
        "\n",
        "Game ends ... Step 5: Regardless of winning or losing, ask the user if they want to play again. This ensures the program's continuity and gives the user the option to continue playing if they wish."
      ],
      "metadata": {
        "id": "EdBXH7BB8be-"
      }
    },
    {
      "cell_type": "code",
      "source": [
        "##I used for this program writing with AI assist\n",
        "import random\n",
        "\n",
        "def play_game():\n",
        "    print(\"Game starts.......\")\n",
        "    secret_number = random.randint(1, 100)  # Step 1: Generate a random number between 1 and 100\n",
        "    max_guesses = 10\n",
        "\n",
        "    for attempt in range(1, max_guesses + 1):  # Step 4.1: Allow up to 10 guesses\n",
        "        try:\n",
        "            guess = int(input(f\"\\nGuess #{attempt} - Enter a number between 1 and 100: \"))  # Step 2: Prompt user\n",
        "        except ValueError:\n",
        "            print(\"Invalid input! Please enter an integer number.\")\n",
        "            continue\n",
        "\n",
        "        if guess < secret_number:\n",
        "            print(\"Too low!\")  # Step 3: Feedback if guess is low\n",
        "        elif guess > secret_number:\n",
        "            print(\"Too high!\")  # Step 3: Feedback if guess is high\n",
        "        else:\n",
        "            print(f\"\\n🎉 Congratulations! You guessed the number {secret_number} correctly in {attempt} tries.\")\n",
        "            break  # Step 4.2: User guessed correctly\n",
        "    else:\n",
        "        print(f\"\\n❌ You've used all {max_guesses} guesses. The correct number was {secret_number}. Goodbye!\")  # Step 4.3\n",
        "\n",
        "    print(\"Game ends...\")\n",
        "\n",
        "# Step 5: Ask if user wants to play again\n",
        "while True:\n",
        "    play_game()\n",
        "    again = input(\"\\nDo you want to play again? (yes/no): \").strip().lower()\n",
        "    if again not in ['yes', 'y']:\n",
        "        print(\"Thanks for playing! See you next time.\")\n",
        "        break"
      ],
      "metadata": {
        "id": "WWu1NU4c8dub"
      },
      "execution_count": null,
      "outputs": []
    }
  ]
}