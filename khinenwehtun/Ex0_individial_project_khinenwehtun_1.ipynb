{
  "nbformat": 4,
  "nbformat_minor": 0,
  "metadata": {
    "colab": {
      "provenance": [],
      "authorship_tag": "ABX9TyP2cdPQlTWm66C88IPhzthy",
      "include_colab_link": true
    },
    "kernelspec": {
      "name": "python3",
      "display_name": "Python 3"
    },
    "language_info": {
      "name": "python"
    }
  },
  "cells": [
    {
      "cell_type": "markdown",
      "metadata": {
        "id": "view-in-github",
        "colab_type": "text"
      },
      "source": [
        "<a href=\"https://colab.research.google.com/github/khinenwehtun/MMDT_2025_PY101/blob/main/khinenwehtun/Ex0_individial_project_khinenwehtun_1.ipynb\" target=\"_parent\"><img src=\"https://colab.research.google.com/assets/colab-badge.svg\" alt=\"Open In Colab\"/></a>"
      ]
    },
    {
      "cell_type": "code",
      "source": [
        "!git clone https://github.com/khinenwehtun/PythonProgramming.git"
      ],
      "metadata": {
        "id": "c8i4D62eEJk6",
        "outputId": "93a54bfe-abac-44b2-c80d-1b23e564afc8",
        "colab": {
          "base_uri": "https://localhost:8080/"
        }
      },
      "execution_count": 2,
      "outputs": [
        {
          "output_type": "stream",
          "name": "stdout",
          "text": [
            "Cloning into 'PythonProgramming'...\n",
            "remote: Enumerating objects: 1896, done.\u001b[K\n",
            "remote: Counting objects: 100% (116/116), done.\u001b[K\n",
            "remote: Compressing objects: 100% (51/51), done.\u001b[K\n",
            "remote: Total 1896 (delta 102), reused 65 (delta 65), pack-reused 1780 (from 2)\u001b[K\n",
            "Receiving objects: 100% (1896/1896), 6.43 MiB | 10.64 MiB/s, done.\n",
            "Resolving deltas: 100% (316/316), done.\n"
          ]
        }
      ]
    },
    {
      "cell_type": "code",
      "execution_count": 3,
      "metadata": {
        "id": "rkr6DlM_XjIZ",
        "outputId": "520fdb79-319f-4a25-f95a-4ffa0ca77c0f",
        "colab": {
          "base_uri": "https://localhost:8080/"
        }
      },
      "outputs": [
        {
          "output_type": "stream",
          "name": "stdout",
          "text": [
            "I love this movie! It is sweet, but with satirical humor. The dialogs are great and the adventure scenes are fun. It manages to be romantic and whimsical while laughingat the conventions of the fairy tale genre. I would recommend it to just about anyone. I have seen it several times and I am always happy to see it again and again. \n",
            "Most frequent word: it\n",
            "Frequency: 5\n"
          ]
        }
      ],
      "source": [
        "with open(\"/content/PythonProgramming/data/Q1.txt\", \"r\") as file:\n",
        "    word_string = file.read()\n",
        "    print(word_string)\n",
        "\n",
        "word_string = word_string.lower()\n",
        "\n",
        "for ch in [\",\", \".\", \"!\", \"?\", \":\", \";\", \"-\", \"(\", \")\", \"[\", \"]\", \"{\", \"}\", \"'\"]:\n",
        "    word_string = word_string.replace(ch, \"\")\n",
        "\n",
        "words = word_string.split()\n",
        "\n",
        "word_count = {}\n",
        "for word in words:\n",
        "    if word in word_count:\n",
        "        word_count[word] += 1\n",
        "    else:\n",
        "        word_count[word] = 1\n",
        "\n",
        "most_frequent = max(word_count, key=word_count.get)\n",
        "print(\"Most frequent word:\", most_frequent)\n",
        "print(\"Frequency:\", word_count[most_frequent])\n"
      ]
    },
    {
      "cell_type": "code",
      "source": [
        "with open(\"/content/PythonProgramming/data/Q2.txt\", \"r\") as file:\n",
        "    contents = file.read()\n",
        "    print(contents)\n",
        "    email_dict = {}\n",
        "\n",
        "with open(\"/content/PythonProgramming/data/Q2.txt\", \"r\") as file:\n",
        "    for line in file:\n",
        "        original_name = line.strip()\n",
        "\n",
        "        cleaned_name = ''.join(char for char in original_name if char.isalnum()).lower()\n",
        "\n",
        "        email = cleaned_name + \"@simons-rock.edu\"\n",
        "        email_dict[original_name] = email\n",
        "\n",
        "print(email_dict)"
      ],
      "metadata": {
        "colab": {
          "base_uri": "https://localhost:8080/"
        },
        "id": "WqCJ5EYuXlI9",
        "outputId": "0c66cdbe-fc77-44fd-9e54-ce17bc65f4be"
      },
      "execution_count": 5,
      "outputs": [
        {
          "output_type": "stream",
          "name": "stdout",
          "text": [
            "Name\n",
            "Dechen Dorji\n",
            "Deki Tshomo\n",
            "Dorji Tshering\n",
            "Dorji Wangmo\n",
            "Gem Tshering Lepcha\n",
            "Jigme Dorji\n",
            "Kinley Cheki\n",
            "Kinley Wangmo\n",
            "Ngawang Dema Karpo\n",
            "Roshan Chhetri\n",
            "Sonam Tenzin\n",
            "Sonam Tobgay\n",
            "Sonam Yangden\n",
            "Tandin Om\n",
            "Tandin Wangchuk\n",
            "Tashi Om\n",
            "Tenday Zangmo\n",
            "Tshering Pem\n",
            "Ugyen Phurpa\n",
            "Marmitt\n",
            "{'Name': 'name@simons-rock.edu', 'Dechen Dorji': 'dechendorji@simons-rock.edu', 'Deki Tshomo': 'dekitshomo@simons-rock.edu', 'Dorji Tshering': 'dorjitshering@simons-rock.edu', 'Dorji Wangmo': 'dorjiwangmo@simons-rock.edu', 'Gem Tshering Lepcha': 'gemtsheringlepcha@simons-rock.edu', 'Jigme Dorji': 'jigmedorji@simons-rock.edu', 'Kinley Cheki': 'kinleycheki@simons-rock.edu', 'Kinley Wangmo': 'kinleywangmo@simons-rock.edu', 'Ngawang Dema Karpo': 'ngawangdemakarpo@simons-rock.edu', 'Roshan Chhetri': 'roshanchhetri@simons-rock.edu', 'Sonam Tenzin': 'sonamtenzin@simons-rock.edu', 'Sonam Tobgay': 'sonamtobgay@simons-rock.edu', 'Sonam Yangden': 'sonamyangden@simons-rock.edu', 'Tandin Om': 'tandinom@simons-rock.edu', 'Tandin Wangchuk': 'tandinwangchuk@simons-rock.edu', 'Tashi Om': 'tashiom@simons-rock.edu', 'Tenday Zangmo': 'tendayzangmo@simons-rock.edu', 'Tshering Pem': 'tsheringpem@simons-rock.edu', 'Ugyen Phurpa': 'ugyenphurpa@simons-rock.edu', 'Marmitt': 'marmitt@simons-rock.edu'}\n"
          ]
        }
      ]
    },
    {
      "cell_type": "code",
      "source": [
        "import random\n",
        "number = random.randint(1, 100)\n",
        "\n",
        "def play_game():\n",
        "    number = random.randint(1, 100)\n",
        "    max_guesses = 10\n",
        "    attempts = 0\n",
        "\n",
        "    print(\"Game starts... 🎮\")\n",
        "    print(\"I'm thinking of a number between 1 and 100.\")\n",
        "\n",
        "    while attempts < max_guesses:\n",
        "        try:\n",
        "            guess = int(input(f\"Attempt {attempts + 1}: Guess the number: \"))\n",
        "        except ValueError:\n",
        "            print(\"Please enter a valid integer.\")\n",
        "            continue\n",
        "\n",
        "        attempts += 1\n",
        "\n",
        "        if guess < number:\n",
        "            print(\"Too low!\")\n",
        "        elif guess > number:\n",
        "            print(\"Too high!\")\n",
        "        else:\n",
        "            print(f\"🎉 Correct! You guessed it in {attempts} tries.\")\n",
        "            break\n",
        "    else:\n",
        "        print(f\"😢 Game over. The number was {number}. Goodbye.\")\n",
        "\n",
        "    again = input(\"Do you want to play again? (yes/no): \").strip().lower()\n",
        "    if again == \"yes\":\n",
        "        play_game()\n",
        "    else:\n",
        "        print(\"Thanks for playing! 👋\")\n",
        "\n",
        "play_game()\n"
      ],
      "metadata": {
        "colab": {
          "base_uri": "https://localhost:8080/"
        },
        "id": "zvcKaD0fZVNx",
        "outputId": "369826da-e744-4d8d-a79e-052bcbcccd0c"
      },
      "execution_count": null,
      "outputs": [
        {
          "metadata": {
            "tags": null
          },
          "name": "stdout",
          "output_type": "stream",
          "text": [
            "Game starts... 🎮\n",
            "I'm thinking of a number between 1 and 100.\n",
            "Too high!\n"
          ]
        }
      ]
    },
    {
      "cell_type": "code",
      "source": [],
      "metadata": {
        "id": "Qhe-cdnRaTMN"
      },
      "execution_count": null,
      "outputs": []
    }
  ]
}