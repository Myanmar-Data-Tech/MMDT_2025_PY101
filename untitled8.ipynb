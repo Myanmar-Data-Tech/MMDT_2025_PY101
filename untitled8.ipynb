{
  "nbformat": 4,
  "nbformat_minor": 0,
  "metadata": {
    "colab": {
      "provenance": [],
      "include_colab_link": true
    },
    "kernelspec": {
      "name": "python3",
      "display_name": "Python 3"
    },
    "language_info": {
      "name": "python"
    }
  },
  "cells": [
    {
      "cell_type": "markdown",
      "metadata": {
        "id": "view-in-github",
        "colab_type": "text"
      },
      "source": [
        "<a href=\"https://colab.research.google.com/github/Zhampar/MMDT_2025_PY101/blob/mijompar/untitled8.ipynb\" target=\"_parent\"><img src=\"https://colab.research.google.com/assets/colab-badge.svg\" alt=\"Open In Colab\"/></a>"
      ]
    },
    {
      "cell_type": "code",
      "execution_count": 1,
      "metadata": {
        "colab": {
          "base_uri": "https://localhost:8080/"
        },
        "id": "ei779zV8lfko",
        "outputId": "753492b3-0d8c-4c42-9f2d-e18fc885020b"
      },
      "outputs": [
        {
          "output_type": "stream",
          "name": "stdout",
          "text": [
            "25\n"
          ]
        }
      ],
      "source": [
        "from datetime import datetime\n",
        "\n",
        "# Get the current year\n",
        "current_year = datetime.now().year\n",
        "\n",
        "# Lambda function to calculate age\n",
        "calculate_age = lambda year: current_year - year\n",
        "\n",
        "# Example usage\n",
        "print(calculate_age(2000))  # Output: 24 (as of 2024)\n"
      ]
    },
    {
      "cell_type": "code",
      "source": [
        "# Lambda function to calculate price with 10% added\n",
        "calculate_price = lambda cost: cost + cost * 0.10\n",
        "\n",
        "# Example usage\n",
        "print(calculate_price(56))  # Output: 61.6\n"
      ],
      "metadata": {
        "colab": {
          "base_uri": "https://localhost:8080/"
        },
        "id": "Wz8BLneXmtX5",
        "outputId": "da300508-8bc7-4e25-8d97-f210c91ec973"
      },
      "execution_count": 2,
      "outputs": [
        {
          "output_type": "stream",
          "name": "stdout",
          "text": [
            "61.6\n"
          ]
        }
      ]
    },
    {
      "cell_type": "code",
      "source": [],
      "metadata": {
        "id": "ak_FLIdBKIc0"
      },
      "execution_count": null,
      "outputs": []
    },
    {
      "cell_type": "code",
      "source": [
        "names = ['Richard', 'Karam', 'Karpo', 'Sonam', 'Ugyen']\n",
        "\n",
        "# Lambda function to create email address\n",
        "create_email = lambda name: name.lower() + '@gmail.com'\n",
        "\n",
        "# Apply the lambda function to each name\n",
        "emails = [*map(create_email, names)]\n",
        "\n",
        "# Output the result\n",
        "print(emails)\n"
      ],
      "metadata": {
        "colab": {
          "base_uri": "https://localhost:8080/"
        },
        "id": "OzOdWVdTnAeX",
        "outputId": "32dfd208-cd07-467c-f67a-1aabd52786f2"
      },
      "execution_count": 3,
      "outputs": [
        {
          "output_type": "stream",
          "name": "stdout",
          "text": [
            "['richard@gmail.com', 'karam@gmail.com', 'karpo@gmail.com', 'sonam@gmail.com', 'ugyen@gmail.com']\n"
          ]
        }
      ]
    },
    {
      "cell_type": "code",
      "source": [
        "old_list = [2, 4, 6, 7, 9]\n",
        "\n",
        "# Method 1: List comprehension\n",
        "new_list1 = [item**2 for item in old_list]\n",
        "\n",
        "# Method 2: For loop\n",
        "new_list2 = []\n",
        "for item in old_list:\n",
        "    new_list2.append(item**2)\n",
        "\n",
        "print(new_list1, new_list2)\n"
      ],
      "metadata": {
        "colab": {
          "base_uri": "https://localhost:8080/"
        },
        "id": "JSEmNOYFnDF2",
        "outputId": "b2a9517c-769a-4014-f2dc-bfd809d79412"
      },
      "execution_count": 4,
      "outputs": [
        {
          "output_type": "stream",
          "name": "stdout",
          "text": [
            "[4, 16, 36, 49, 81] [4, 16, 36, 49, 81]\n"
          ]
        }
      ]
    }
  ]
}