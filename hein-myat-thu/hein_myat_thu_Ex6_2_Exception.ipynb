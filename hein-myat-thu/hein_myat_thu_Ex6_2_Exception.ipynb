{
  "cells": [
    {
      "cell_type": "markdown",
      "metadata": {
        "id": "T2PnRzvo-W86"
      },
      "source": [
        "# Exception Handling\n"
      ]
    },
    {
      "cell_type": "markdown",
      "metadata": {
        "id": "RCLN7GpT-W87"
      },
      "source": [
        "### Q2) Run the following programs and identify the potential errors.\n",
        "Use exception handling approach to handle and print all the potential erros.\n"
      ]
    },
    {
      "cell_type": "code",
      "execution_count": 7,
      "metadata": {
        "colab": {
          "base_uri": "https://localhost:8080/"
        },
        "id": "QN2R7oiY-W88",
        "outputId": "6c214ffd-9d41-4c9c-e5ce-9f98929f29d5"
      },
      "outputs": [
        {
          "output_type": "stream",
          "name": "stdout",
          "text": [
            "Please enter a number to divide a 0.9\n",
            "Please enter a number\n"
          ]
        }
      ],
      "source": [
        "#Q2.1)\n",
        "a = 1\n",
        "try:\n",
        "  b = int(input(\"Please enter a number to divide a \"))\n",
        "  a = a/b\n",
        "  print(\"Success a= \",a)\n",
        "except ZeroDivisionError:\n",
        "  print(\"Denominator cannot be zero\")\n",
        "except ValueError:\n",
        "  print(\"Please enter an integer.\")\n"
      ]
    },
    {
      "cell_type": "code",
      "execution_count": 13,
      "metadata": {
        "colab": {
          "base_uri": "https://localhost:8080/"
        },
        "id": "LsPlxSgh-W89",
        "outputId": "a284c42c-9530-436b-f425-883dbf6959c4"
      },
      "outputs": [
        {
          "output_type": "stream",
          "name": "stdout",
          "text": [
            "Iteration: 0 0.4\n",
            "Iteration completed\n",
            "Iteration: 1 0.6\n",
            "Iteration completed\n",
            "Iteration: 2 1.0\n",
            "Iteration completed\n",
            "Iteration: 3 -1.4\n",
            "Iteration completed\n",
            "Iteration: 4 1.6\n",
            "Iteration completed\n",
            "Iteration: 5 0.0\n",
            "Iteration completed\n",
            "Index out of range\n"
          ]
        }
      ],
      "source": [
        "#Q2.2)\n",
        "mylist = [2, 3, 5, -7, 8, 0]\n",
        "idx = 0\n",
        "b = 5\n",
        "try:\n",
        "  while idx<=6:\n",
        "      print('Iteration:', idx, mylist[idx]/b)\n",
        "      idx = idx+1\n",
        "      print('Iteration completed')\n",
        "except IndexError:\n",
        "  print(\"Index out of range\")\n",
        "\n",
        "\n",
        "\n",
        ""
      ]
    },
    {
      "cell_type": "code",
      "execution_count": null,
      "metadata": {
        "id": "pasctMgE-W89"
      },
      "outputs": [],
      "source": []
    }
  ],
  "metadata": {
    "kernelspec": {
      "display_name": "Python 3",
      "language": "python",
      "name": "python3"
    },
    "language_info": {
      "codemirror_mode": {
        "name": "ipython",
        "version": 3
      },
      "file_extension": ".py",
      "mimetype": "text/x-python",
      "name": "python",
      "nbconvert_exporter": "python",
      "pygments_lexer": "ipython3",
      "version": "3.8.8"
    },
    "colab": {
      "provenance": []
    }
  },
  "nbformat": 4,
  "nbformat_minor": 0
}