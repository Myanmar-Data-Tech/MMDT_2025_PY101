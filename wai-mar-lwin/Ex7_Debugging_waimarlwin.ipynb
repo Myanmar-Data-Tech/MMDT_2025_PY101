{
 "cells": [
  {
   "cell_type": "markdown",
   "metadata": {},
   "source": [
    "## Simple Debugging\n",
    "\n",
    "Add print statements to your program.\n",
    "Add input() to pause the program"
   ]
  },
  {
   "cell_type": "code",
   "execution_count": 3,
   "metadata": {},
   "outputs": [
    {
     "name": "stdout",
     "output_type": "stream",
     "text": [
      "1\n",
      "Hello \n",
      "Hello \n",
      "Hello \n",
      "Hello \n",
      "Hello \n",
      "Hello \n",
      "5\n",
      "Hello Hello Hello Hello Hello \n",
      "Hello Hello Hello Hello Hello \n",
      "Hello Hello Hello Hello Hello \n",
      "Hello Hello Hello Hello Hello \n",
      "Hello Hello Hello Hello Hello \n",
      "Hello Hello Hello Hello Hello \n",
      "5\n",
      "Hello Hello Hello Hello Hello \n",
      "Hello Hello Hello Hello Hello \n",
      "Hello Hello Hello Hello Hello \n",
      "Hello Hello Hello Hello Hello \n",
      "Hello Hello Hello Hello Hello \n",
      "Hello Hello Hello Hello Hello \n",
      "Thank You\n"
     ]
    }
   ],
   "source": [
    "while True:\n",
    "    from random import randint\n",
    "\n",
    "    #Step 1: generate a random number between 1 and 5\n",
    "    rand_num = randint(1,5)\n",
    "\n",
    "    # add print statment here to know the value of rand_num\n",
    "    print(rand_num)\n",
    "\n",
    "    # Step 2: What does this code do? \n",
    "\n",
    "    for i in range(6):\n",
    "        print('Hello '*rand_num)\n",
    "        \n",
    "    progress_again = input(\"Press Enter to run again or type 'q' to quit:\").lower()\n",
    "    if progress_again == \"q\":\n",
    "        print(\"Thank You\")\n",
    "        break"
   ]
  },
  {
   "cell_type": "code",
   "execution_count": null,
   "metadata": {},
   "outputs": [
    {
     "name": "stdout",
     "output_type": "stream",
     "text": [
      "Hello Hello Hello Hello \n",
      "Hello Hello \n",
      "Hello Hello \n",
      "Hello Hello Hello Hello \n",
      "Hello Hello Hello Hello Hello \n",
      "Hello \n",
      "Thank You\n"
     ]
    }
   ],
   "source": [
    "while True:\n",
    "    from random import randint\n",
    "\n",
    "# Step 1: generate a random number between 1 and 5\n",
    "\n",
    "# Step 2: What does this code do? \n",
    "\n",
    "    for i in range(6):\n",
    "        rand_num = randint(1,5)\n",
    "        print('Hello '*rand_num)\n",
    "    \n",
    "    progress_again = input(\"Press Enter to run again or type 'q' to quit:\").lower()\n",
    "    if progress_again == \"q\":\n",
    "        print(\"Thank You\")\n",
    "        break"
   ]
  },
  {
   "cell_type": "markdown",
   "metadata": {},
   "source": [
    "Write a program that generates 10000 random numbers between 1 and 100 and counts how many of them are multiples of 12."
   ]
  },
  {
   "cell_type": "code",
   "execution_count": 4,
   "metadata": {},
   "outputs": [
    {
     "name": "stdout",
     "output_type": "stream",
     "text": [
      "Number of multiples of 12: 860\n",
      "All multiples of 12 found:[24, 12, 72, 96, 24, 36, 72, 48, 12, 60, 48, 84, 84, 24, 36, 24, 12, 48, 84, 84, 36, 24, 36, 24, 24, 48, 48, 84, 84, 84, 84, 36, 48, 84, 84, 48, 12, 48, 48, 96, 36, 24, 84, 12, 72, 24, 12, 24, 24, 60, 48, 60, 72, 12, 24, 48, 12, 24, 60, 84, 60, 96, 12, 48, 84, 36, 84, 72, 12, 12, 48, 36, 12, 48, 60, 96, 60, 24, 12, 60, 36, 24, 84, 48, 96, 96, 84, 12, 36, 36, 60, 36, 84, 12, 60, 84, 36, 96, 84, 84, 60, 12, 12, 36, 48, 84, 36, 12, 84, 60, 72, 84, 36, 72, 60, 96, 84, 96, 96, 72, 48, 84, 48, 60, 72, 48, 24, 60, 36, 24, 84, 60, 84, 36, 48, 96, 24, 12, 72, 96, 12, 84, 84, 24, 60, 84, 72, 36, 72, 48, 72, 60, 36, 36, 24, 24, 24, 36, 72, 84, 96, 84, 24, 60, 36, 24, 72, 60, 12, 60, 72, 24, 12, 12, 96, 84, 36, 60, 84, 96, 96, 60, 48, 72, 72, 36, 72, 24, 12, 60, 60, 96, 24, 24, 12, 60, 96, 48, 48, 48, 48, 96, 36, 48, 48, 84, 12, 36, 48, 96, 84, 12, 48, 24, 48, 96, 12, 72, 48, 24, 36, 84, 12, 48, 72, 48, 96, 24, 24, 96, 84, 24, 72, 48, 24, 48, 60, 84, 96, 48, 96, 24, 72, 60, 96, 12, 84, 60, 72, 12, 84, 24, 72, 12, 96, 24, 72, 60, 60, 84, 84, 96, 24, 84, 60, 60, 84, 24, 72, 12, 36, 12, 84, 48, 48, 84, 12, 72, 36, 36, 12, 60, 24, 36, 96, 84, 60, 24, 96, 60, 60, 84, 36, 24, 48, 60, 96, 96, 24, 60, 96, 60, 96, 48, 84, 12, 96, 24, 48, 84, 84, 12, 96, 96, 48, 12, 24, 24, 24, 48, 84, 72, 72, 48, 48, 72, 72, 72, 36, 60, 12, 48, 60, 84, 60, 60, 60, 48, 48, 12, 72, 24, 96, 96, 48, 72, 12, 96, 24, 96, 60, 24, 36, 84, 48, 60, 24, 72, 72, 96, 96, 84, 60, 84, 36, 36, 60, 24, 84, 48, 60, 72, 36, 60, 12, 48, 60, 36, 48, 24, 84, 12, 84, 12, 36, 72, 36, 60, 96, 12, 72, 12, 72, 72, 48, 12, 36, 12, 96, 12, 24, 12, 72, 24, 12, 24, 36, 36, 24, 36, 36, 36, 48, 12, 60, 36, 84, 72, 96, 24, 60, 72, 84, 60, 60, 60, 96, 72, 60, 24, 24, 60, 84, 12, 84, 48, 36, 48, 36, 60, 72, 60, 60, 72, 36, 24, 72, 60, 84, 60, 96, 96, 96, 36, 84, 60, 36, 72, 72, 36, 36, 96, 84, 24, 96, 84, 48, 60, 24, 84, 36, 96, 72, 72, 24, 72, 96, 96, 48, 96, 96, 60, 48, 60, 60, 48, 60, 96, 24, 60, 84, 12, 12, 12, 60, 24, 96, 60, 84, 12, 36, 60, 96, 84, 12, 60, 60, 36, 12, 96, 96, 60, 24, 84, 72, 12, 72, 96, 24, 96, 48, 48, 60, 12, 84, 48, 36, 84, 24, 24, 96, 72, 72, 48, 72, 48, 84, 24, 72, 12, 48, 36, 60, 36, 72, 84, 12, 12, 60, 48, 96, 24, 12, 36, 48, 12, 96, 60, 60, 48, 24, 84, 96, 84, 48, 96, 48, 36, 24, 12, 60, 60, 12, 48, 48, 36, 96, 24, 12, 24, 48, 72, 72, 36, 60, 36, 12, 12, 60, 12, 84, 36, 12, 96, 96, 96, 24, 72, 48, 60, 36, 60, 96, 72, 60, 24, 96, 48, 12, 84, 48, 60, 60, 24, 72, 84, 72, 96, 60, 12, 96, 96, 96, 12, 84, 24, 48, 84, 12, 36, 84, 84, 48, 12, 60, 60, 72, 12, 36, 12, 48, 72, 96, 24, 36, 84, 96, 72, 12, 36, 24, 24, 36, 72, 12, 48, 72, 48, 84, 12, 36, 24, 12, 60, 60, 72, 36, 72, 24, 96, 72, 12, 60, 12, 84, 12, 72, 48, 48, 48, 72, 84, 84, 72, 48, 48, 96, 36, 24, 12, 72, 84, 48, 36, 96, 48, 96, 36, 96, 24, 84, 48, 24, 24, 12, 36, 96, 36, 84, 48, 48, 12, 72, 36, 24, 84, 24, 84, 12, 24, 12, 12, 60, 24, 84, 48, 96, 36, 96, 72, 48, 96, 72, 84, 48, 96, 12, 72, 24, 72, 84, 72, 72, 84, 48, 84, 12, 72, 12, 12, 24, 36, 48, 72, 96, 36, 24, 24, 72, 24, 48, 60, 96, 60, 72, 84, 24, 96, 60, 60, 24, 72, 36, 72, 72, 96, 84, 84, 96, 48, 36, 72, 84, 36, 12, 36, 36, 12, 84, 84, 36, 96, 24, 12, 96, 72, 48, 60, 96, 36, 72, 48, 12, 84, 60, 96, 84, 48, 12, 48, 96, 48, 36, 72, 48, 84, 36, 36, 36, 84, 60, 24, 96, 84, 60, 60, 72, 12, 84, 12, 60, 24, 60, 48, 84, 24, 60, 12, 60, 72, 96, 12, 72, 96, 36, 60, 84, 60, 84, 48, 12, 24, 48, 48, 12, 36, 72, 24, 12, 84]\n"
     ]
    }
   ],
   "source": [
    "# Step 1:\n",
    "from random import randint\n",
    "# Step 2: \n",
    "count = 0\n",
    "multiples_of_12 = []\n",
    "# Step 3: \n",
    "for i in range(10000):\n",
    "    #Step 4:\n",
    "    num = randint(1, 100)\n",
    "    #Step 5: \n",
    "    if num%12==0:\n",
    "        count=count+1\n",
    "        multiples_of_12.append(num)\n",
    "    # Step 6: \n",
    "print('Number of multiples of 12:', count)\n",
    "print(f\"All multiples of 12 found:{multiples_of_12}\")"
   ]
  },
  {
   "cell_type": "markdown",
   "metadata": {},
   "source": [
    "The following program should counts how many of the squares of the numbers from 1 to 100 end in 1.  (Example: 1,81,121). Debug the code."
   ]
  },
  {
   "cell_type": "code",
   "execution_count": 15,
   "metadata": {},
   "outputs": [
    {
     "name": "stdout",
     "output_type": "stream",
     "text": [
      "Squares ending with 1: [1, 81, 121, 361, 441, 841, 961, 1521, 1681, 2401, 2601, 3481, 3721, 4761, 5041, 6241, 6561, 7921, 8281, 9801]\n",
      "Count: 20\n"
     ]
    }
   ],
   "source": [
    "import numpy as np\n",
    "def fun_square_count():\n",
    "    num_list = np.arange(1,101)\n",
    "    square_list = []\n",
    "    squred_num = [value**2 for value in num_list]\n",
    "    count=0\n",
    "    for num in squred_num:\n",
    "        if(num%10) == 1:            \n",
    "            count +=1\n",
    "            square_list.append(int(num))\n",
    "            \n",
    "    print(\"Squares ending with 1:\", square_list)\n",
    "    return count\n",
    "\n",
    "print(\"Count:\", fun_square_count())"
   ]
  },
  {
   "cell_type": "markdown",
   "metadata": {},
   "source": [
    "Debug the following programs"
   ]
  },
  {
   "cell_type": "code",
   "execution_count": null,
   "metadata": {},
   "outputs": [
    {
     "name": "stdout",
     "output_type": "stream",
     "text": [
      "1.6279468469983496\n",
      "The input should be numbers\n"
     ]
    }
   ],
   "source": [
    "def add(a, b):\n",
    "    try:\n",
    "        return a + b    \n",
    "    except TypeError:\n",
    "        return \"The input should be numbers\"\n",
    "\n",
    "print(add(-1/2.687788,2))\n",
    "print(add(5, 'string'))"
   ]
  },
  {
   "cell_type": "code",
   "execution_count": 91,
   "metadata": {},
   "outputs": [
    {
     "name": "stdout",
     "output_type": "stream",
     "text": [
      "Cannot divide by zero\n",
      "Inputs must be numbers\n"
     ]
    }
   ],
   "source": [
    "def divide(a, b):\n",
    "    try:\n",
    "        return a / b\n",
    "    except ZeroDivisionError:\n",
    "        return \"Cannot divide by zero\"\n",
    "    except TypeError:\n",
    "        return \"Inputs must be numbers\"\n",
    "\n",
    "print(divide(2, 0))\n",
    "print(divide(-2.7877, '1'))\n"
   ]
  },
  {
   "cell_type": "code",
   "execution_count": 7,
   "metadata": {},
   "outputs": [
    {
     "name": "stdout",
     "output_type": "stream",
     "text": [
      "Input must be an integer\n",
      "True\n",
      "Input must be an integer\n"
     ]
    }
   ],
   "source": [
    "def is_prime(n):\n",
    "    try:\n",
    "        if n <= 0:\n",
    "            return False\n",
    "        for i in range(2, n):\n",
    "            if n % i == 0:\n",
    "                return False\n",
    "        return True\n",
    "    except TypeError:\n",
    "        return \"Input must be an integer\"\n",
    "\n",
    "print(is_prime('5'))\n",
    "print(is_prime(11))\n",
    "print(is_prime('apple'))"
   ]
  }
 ],
 "metadata": {
  "kernelspec": {
   "display_name": "myproject_kernel",
   "language": "python",
   "name": "myproject_kernel"
  },
  "language_info": {
   "codemirror_mode": {
    "name": "ipython",
    "version": 3
   },
   "file_extension": ".py",
   "mimetype": "text/x-python",
   "name": "python",
   "nbconvert_exporter": "python",
   "pygments_lexer": "ipython3",
   "version": "3.13.2"
  }
 },
 "nbformat": 4,
 "nbformat_minor": 2
}
