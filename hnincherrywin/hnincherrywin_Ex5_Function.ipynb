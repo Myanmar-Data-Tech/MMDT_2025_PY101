{
  "cells": [
    {
      "cell_type": "markdown",
      "metadata": {
        "id": "view-in-github",
        "colab_type": "text"
      },
      "source": [
        "<a href=\"https://colab.research.google.com/github/hnincherrywin/MMDT_2025_PY101/blob/hnincherrywin/hnincherrywin_Ex5_Function.ipynb\" target=\"_parent\"><img src=\"https://colab.research.google.com/assets/colab-badge.svg\" alt=\"Open In Colab\"/></a>"
      ]
    },
    {
      "cell_type": "markdown",
      "metadata": {
        "id": "b-1b6ywy-O5i"
      },
      "source": [
        "Exercises are taken from : https://www.brianheinold.net/python/A_Practical_Introduction_to_Python_Programming_Heinold.pdf\n"
      ]
    },
    {
      "cell_type": "markdown",
      "metadata": {
        "id": "pps5xBbs-I9w"
      },
      "source": [
        "Ex 1: Write a function called rectangle that takes two integers m and n as arguments and prints\n",
        "out an m× n box consisting of asterisks. Shown below is the output of rectangle(2,4)\n",
        "****\n",
        "****"
      ]
    },
    {
      "cell_type": "code",
      "execution_count": 12,
      "metadata": {
        "id": "S_5WWVLH3u8y"
      },
      "outputs": [],
      "source": [
        "def rectangle(m, n):\n",
        "    for i in range(m):\n",
        "        print('*' * n)\n"
      ]
    },
    {
      "cell_type": "markdown",
      "metadata": {
        "id": "0QS7SmPV-coO"
      },
      "source": [
        "Ex 2: Write a function that takes an integer n and returns a random integer with exactly n digits. For\n",
        "instance, if n is 3, then 125 and 593 would be valid return values, but 093 would not because\n",
        "that is really 93, which is a two-digit number."
      ]
    },
    {
      "cell_type": "code",
      "execution_count": 23,
      "metadata": {
        "id": "c4ejnmGJ-MzL",
        "outputId": "7fd93f7b-77f9-4e21-8c2e-38ea8270dfce",
        "colab": {
          "base_uri": "https://localhost:8080/"
        }
      },
      "outputs": [
        {
          "output_type": "stream",
          "name": "stdout",
          "text": [
            "Random 3-digit number: 546\n"
          ]
        }
      ],
      "source": [
        "import random\n",
        "\n",
        "def random_n_digit_number(n):\n",
        "    if n <= 0:\n",
        "        raise ValueError(\"n must be a positive integer\")\n",
        "\n",
        "    lower_bound = 10**(n - 1)\n",
        "    upper_bound = 10**n - 1\n",
        "\n",
        "    return random.randint(lower_bound, upper_bound)\n",
        "\n",
        "result = random_n_digit_number(3)\n",
        "print(\"Random 3-digit number:\", result)\n"
      ]
    },
    {
      "cell_type": "markdown",
      "metadata": {
        "id": "B0P_F5Ld-ldg"
      },
      "source": [
        "Ex 3: Write a function called number_of_factors that takes an integer and returns how many\n",
        "factors the number has."
      ]
    },
    {
      "cell_type": "code",
      "execution_count": 24,
      "metadata": {
        "id": "Yr2BLCXp-oTi",
        "outputId": "09e2c519-ac22-4985-d6b9-818e0526684b",
        "colab": {
          "base_uri": "https://localhost:8080/"
        }
      },
      "outputs": [
        {
          "output_type": "stream",
          "name": "stdout",
          "text": [
            "Number of factors of 12: 6\n"
          ]
        }
      ],
      "source": [
        "def number_of_factors(n):\n",
        "    if n <= 0:\n",
        "        raise ValueError(\"Input must be a positive integer\")\n",
        "\n",
        "    count = 0\n",
        "    for i in range(1, n + 1):\n",
        "        if n % i == 0:\n",
        "            count += 1\n",
        "    return count\n",
        "result = number_of_factors(12)\n",
        "print(\"Number of factors of 12:\", result)\n"
      ]
    },
    {
      "cell_type": "markdown",
      "metadata": {
        "id": "7w0DDTyY-o_4"
      },
      "source": [
        "Ex4: Write a function called first_diff that is given two strings and returns the first location in\n",
        "which the strings differ. If the strings are identical, it should return -1.Ignore the case in your function. It means h and H are the same."
      ]
    },
    {
      "cell_type": "code",
      "execution_count": 25,
      "metadata": {
        "id": "1WOvaf0z-6J6",
        "outputId": "32a7bb12-971f-44fb-b8ff-75f75933ce9f",
        "colab": {
          "base_uri": "https://localhost:8080/"
        }
      },
      "outputs": [
        {
          "output_type": "stream",
          "name": "stdout",
          "text": [
            "First difference at index: 6\n"
          ]
        }
      ],
      "source": [
        "def first_diff(s1, s2):\n",
        "\n",
        "    s1_lower = s1.lower()\n",
        "    s2_lower = s2.lower()\n",
        "    min_len = min(len(s1_lower), len(s2_lower))\n",
        "    for i in range(min_len):\n",
        "        if s1_lower[i] != s2_lower[i]:\n",
        "            return i\n",
        "    if len(s1_lower) != len(s2_lower):\n",
        "        return min_len\n",
        "    return -1\n",
        "result = first_diff(\"HelloWorld\", \"helloWxrld\")\n",
        "print(\"First difference at index:\", result)\n"
      ]
    },
    {
      "cell_type": "markdown",
      "metadata": {
        "id": "jLM8fAg_-6th"
      },
      "source": [
        "Ex5: Write a function called root that is given a number x and an integer n and returns x/n. In\n",
        "the function definition, set the default value of n to 2."
      ]
    },
    {
      "cell_type": "code",
      "execution_count": 26,
      "metadata": {
        "id": "1TrSgTDa_Fu0",
        "outputId": "0ad52142-897f-46ed-f88a-a5aacc4ee052",
        "colab": {
          "base_uri": "https://localhost:8080/"
        }
      },
      "outputs": [
        {
          "output_type": "stream",
          "name": "stdout",
          "text": [
            "Result of root(10): 5.0\n"
          ]
        }
      ],
      "source": [
        "def root(x, n=2):\n",
        "    return x / n\n",
        "\n",
        "result = root(10)\n",
        "print(\"Result of root(10):\", result)\n",
        "\n"
      ]
    },
    {
      "cell_type": "markdown",
      "metadata": {
        "id": "TIA6PrcXfC7y"
      },
      "source": [
        "Ex6: Write a function that solves the system of equations ax + by = e and cx +dy = f. Your function should takes 6 parameters, (a, b, c, d, e,f) and return the values of x and y."
      ]
    },
    {
      "cell_type": "code",
      "execution_count": 27,
      "metadata": {
        "id": "w5jMmIrTfC7y",
        "outputId": "938e202d-956e-4644-efa8-6561af7ee5a2",
        "colab": {
          "base_uri": "https://localhost:8080/"
        }
      },
      "outputs": [
        {
          "output_type": "stream",
          "name": "stdout",
          "text": [
            "x = 3.4\n",
            "y = 0.4\n"
          ]
        }
      ],
      "source": [
        "def solve_system(a, b, c, d, e, f):\n",
        "    denominator = a * d - b * c\n",
        "\n",
        "    if denominator == 0:\n",
        "        raise ValueError(\"The system has no unique solution (determinant is zero).\")\n",
        "\n",
        "    x = (e * d - b * f) / denominator\n",
        "    y = (a * f - e * c) / denominator\n",
        "\n",
        "    return x, y\n",
        "x, y = solve_system(2, 3, 1, -1, 8, 3)\n",
        "print(\"x =\", x)\n",
        "print(\"y =\", y)\n",
        "\n"
      ]
    },
    {
      "cell_type": "markdown",
      "metadata": {
        "id": "XkPmNsMwfC7z"
      },
      "source": [
        "Ex7:  Write a function called change_case that given a string, returns a string with each upper  case letter replaced by a lower case letter and vice-versa"
      ]
    },
    {
      "cell_type": "code",
      "execution_count": 28,
      "metadata": {
        "id": "goHz5STYfC7z",
        "outputId": "b0aaa1e2-5249-4b60-d9b2-41089fe7fd1e",
        "colab": {
          "base_uri": "https://localhost:8080/"
        }
      },
      "outputs": [
        {
          "output_type": "stream",
          "name": "stdout",
          "text": [
            "Changed case: hELLO wORLD!\n"
          ]
        }
      ],
      "source": [
        "def change_case(s):\n",
        "    return s.swapcase()\n",
        "\n",
        "result = change_case(\"Hello World!\")\n",
        "print(\"Changed case:\", result)\n"
      ]
    },
    {
      "cell_type": "markdown",
      "metadata": {
        "id": "o6BMDTRSfC70"
      },
      "source": [
        "Ex8:  Write a function called primes that is given a number n and returns a list of the first n  primes. Let the default value of n be 100."
      ]
    },
    {
      "cell_type": "code",
      "execution_count": 29,
      "metadata": {
        "id": "R8cvMuEcfC70",
        "outputId": "a893f771-df19-4db8-9321-4cc1e869d46b",
        "colab": {
          "base_uri": "https://localhost:8080/"
        }
      },
      "outputs": [
        {
          "output_type": "stream",
          "name": "stdout",
          "text": [
            "First 10 prime numbers: [2, 3, 5, 7, 11, 13, 17, 19, 23, 29]\n"
          ]
        }
      ],
      "source": [
        "def primes(n=100):\n",
        "    def is_prime(num):\n",
        "        if num < 2:\n",
        "            return False\n",
        "        for i in range(2, int(num**0.5) + 1):\n",
        "            if num % i == 0:\n",
        "                return False\n",
        "        return True\n",
        "\n",
        "    prime_list = []\n",
        "    candidate = 2\n",
        "\n",
        "    while len(prime_list) < n:\n",
        "        if is_prime(candidate):\n",
        "            prime_list.append(candidate)\n",
        "        candidate += 1\n",
        "\n",
        "    return prime_list\n",
        "result = primes(10)\n",
        "print(\"First 10 prime numbers:\", result)\n"
      ]
    },
    {
      "cell_type": "markdown",
      "metadata": {
        "id": "2JTRj2NlfC70"
      },
      "source": [
        "Ex9: A Tic-tac-toe board can be represented be a 3×3 two-dimensional list, where zeroes stand for  empty cells, ones stand for X’s and twos stand for O’s. Write a function that is given such a list and randomly chooses a spot in which to place  a 2 (O). The spot chosen must currently be empty and a spot must be chosen."
      ]
    },
    {
      "cell_type": "code",
      "execution_count": 35,
      "metadata": {
        "id": "fBPkYAKBfC71",
        "outputId": "cf548154-630b-4811-d26d-22415994b1d6",
        "colab": {
          "base_uri": "https://localhost:8080/"
        }
      },
      "outputs": [
        {
          "output_type": "stream",
          "name": "stdout",
          "text": [
            "Updated Tic-tac-toe board:\n",
            "[1, 0, 2]\n",
            "[0, 1, 2]\n",
            "[2, 0, 0]\n"
          ]
        }
      ],
      "source": [
        "import random\n",
        "\n",
        "def place_O(board):\n",
        "    empty_positions = [(i, j) for i in range(3) for j in range(3) if board[i][j] == 0]\n",
        "\n",
        "    if not empty_positions:\n",
        "        raise ValueError(\"No empty spots available on the board.\")\n",
        "\n",
        "    i, j = random.choice(empty_positions)\n",
        "    board[i][j] = 2\n",
        "\n",
        "    return board\n",
        "board = [\n",
        "    [1, 0, 2],\n",
        "    [0, 1, 0],\n",
        "    [2, 0, 0]\n",
        "]\n",
        "updated_board = place_O(board)\n",
        "print(\"Updated Tic-tac-toe board:\")\n",
        "for row in updated_board:\n",
        "    print(row)\n"
      ]
    },
    {
      "cell_type": "markdown",
      "metadata": {
        "id": "yL5BZ4fafC71"
      },
      "source": [
        "Ex10:  Write a function that is given a 9 × 9 potentially solved Sudoku and returns True if it is solved correctly and False if there is a mistake. The Sudoku is correctly solved if there are\n",
        " no repeated numbers in any row or any column or in any of the nine “blocks.”\n"
      ]
    },
    {
      "cell_type": "code",
      "execution_count": 43,
      "metadata": {
        "id": "PUVtGexBfC71",
        "outputId": "4608b2d2-6961-410e-e39b-ab636d4b126d",
        "colab": {
          "base_uri": "https://localhost:8080/"
        }
      },
      "outputs": [
        {
          "output_type": "stream",
          "name": "stdout",
          "text": [
            "Is the Sudoku solved correctly? True\n"
          ]
        }
      ],
      "source": [
        "def is_valid_sudoku(grid):\n",
        "    def is_valid_group(group):\n",
        "        return sorted(group) == list(range(1, 10))\n",
        "    for row in grid:\n",
        "        if not is_valid_group(row):\n",
        "            return False\n",
        "    for col in range(9):\n",
        "        column = [grid[row][col] for row in range(9)]\n",
        "        if not is_valid_group(column):\n",
        "            return False\n",
        "    for block_row in range(0, 9, 3):\n",
        "        for block_col in range(0, 9, 3):\n",
        "            block = []\n",
        "            for i in range(3):\n",
        "                for j in range(3):\n",
        "                    block.append(grid[block_row + i][block_col + j])\n",
        "            if not is_valid_group(block):\n",
        "                return False\n",
        "\n",
        "    return True\n",
        "\n",
        "\n",
        "\n",
        "#result = is_valid_sudoku(sudoku)\n",
        "print(\"Is the Sudoku solved correctly?\", result)\n"
      ]
    }
  ],
  "metadata": {
    "colab": {
      "name": "Ex5_Function.ipynb",
      "provenance": [],
      "include_colab_link": true
    },
    "kernelspec": {
      "display_name": "Python 3",
      "name": "python3"
    },
    "language_info": {
      "codemirror_mode": {
        "name": "ipython",
        "version": 3
      },
      "file_extension": ".py",
      "mimetype": "text/x-python",
      "name": "python",
      "nbconvert_exporter": "python",
      "pygments_lexer": "ipython3",
      "version": "3.12.1"
    }
  },
  "nbformat": 4,
  "nbformat_minor": 0
}