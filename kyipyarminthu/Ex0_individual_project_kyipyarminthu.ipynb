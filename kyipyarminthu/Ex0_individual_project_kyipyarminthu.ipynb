{
 "cells": [
  {
   "cell_type": "markdown",
   "metadata": {},
   "source": [
    "1) Write a Python program in the below cell to create a dictionary that count the frequency of words in the string given in Q1.txt. Find the most frequent occured word.\n",
    "\n",
    "Don't remove the comment lines provided. "
   ]
  },
  {
   "cell_type": "code",
   "execution_count": 7,
   "metadata": {},
   "outputs": [
    {
     "name": "stdout",
     "output_type": "stream",
     "text": [
      "['i', 'love', 'this', 'movie!', 'it', 'is', 'sweet,', 'but', 'with', 'satirical', 'humor.', 'the', 'dialogs', 'are', 'great', 'and', 'the', 'adventure', 'scenes', 'are', 'fun.', 'it', 'manages', 'to', 'be', 'romantic', 'and', 'whimsical', 'while', 'laughingat', 'the', 'conventions', 'of', 'the', 'fairy', 'tale', 'genre.', 'i', 'would', 'recommend', 'it', 'to', 'just', 'about', 'anyone.', 'i', 'have', 'seen', 'it', 'several', 'times', 'and', 'i', 'am', 'always', 'happy', 'to', 'see', 'it', 'again', 'and', 'again.']\n",
      "{'i': 4, 'love': 1, 'this': 1, 'movie!': 1, 'it': 5, 'is': 1, 'sweet,': 1, 'but': 1, 'with': 1, 'satirical': 1, 'humor.': 1, 'the': 4, 'dialogs': 1, 'are': 2, 'great': 1, 'and': 4, 'adventure': 1, 'scenes': 1, 'fun.': 1, 'manages': 1, 'to': 3, 'be': 1, 'romantic': 1, 'whimsical': 1, 'while': 1, 'laughingat': 1, 'conventions': 1, 'of': 1, 'fairy': 1, 'tale': 1, 'genre.': 1, 'would': 1, 'recommend': 1, 'just': 1, 'about': 1, 'anyone.': 1, 'have': 1, 'seen': 1, 'several': 1, 'times': 1, 'am': 1, 'always': 1, 'happy': 1, 'see': 1, 'again': 1, 'again.': 1}\n",
      "it 5\n"
     ]
    }
   ],
   "source": [
    "#step 1: read content from Q1.txt \n",
    "with open('./Data/Q1.txt', 'r') as file1:\n",
    "    word_string = file1.read()\n",
    "    \n",
    "#step 2.1 - change the case to upper or lower. \n",
    "word_string=word_string.lower() \n",
    "\n",
    "#step 2.2 - remove pun : use replace\n",
    "for ch in [\":\"]:\n",
    "    word_string=word_string.replace(ch,\"\")\n",
    "\n",
    "#step 2.3 - split using space\n",
    "word_string=word_string.split()\n",
    "\n",
    "#Step 3: create a dictionary \n",
    "mydict={}\n",
    "#Step 4: find the most frequent occured one\n",
    "print (word_string)\n",
    "for word in word_string:\n",
    "    if word in mydict:\n",
    "        mydict[word]+=1\n",
    "    else:\n",
    "        mydict[word]=  1\n",
    "print(mydict)\n",
    "most_frequent=max(mydict,key=mydict.get)\n",
    "print(most_frequent,mydict[most_frequent])\n",
    "\n",
    "\n",
    "\n",
    "    "
   ]
  },
  {
   "cell_type": "markdown",
   "metadata": {},
   "source": [
    "2) Write a Python program to read the name from Q2.txt and create email using domain 'simons-rock.edu' and save the results as dictionary : {'name': 'name@simons-rock.edu'}.\n",
    "Please take note that your email should not include space or any special characters and all charcters should be in lowercase."
   ]
  },
  {
   "cell_type": "code",
   "execution_count": 13,
   "metadata": {},
   "outputs": [
    {
     "name": "stdout",
     "output_type": "stream",
     "text": [
      "{'dechen.dorji': 'dechen.dorji@simons-rock.edu', 'deki.tshomo': 'deki.tshomo@simons-rock.edu', 'dorji.tshering': 'dorji.tshering@simons-rock.edu', 'dorji.wangmo': 'dorji.wangmo@simons-rock.edu', 'gem.tshering.lepcha': 'gem.tshering.lepcha@simons-rock.edu', 'jigme.dorji': 'jigme.dorji@simons-rock.edu', 'kinley.cheki': 'kinley.cheki@simons-rock.edu', 'kinley.wangmo': 'kinley.wangmo@simons-rock.edu', 'ngawang.dema.karpo': 'ngawang.dema.karpo@simons-rock.edu', 'roshan.chhetri': 'roshan.chhetri@simons-rock.edu', 'sonam.tenzin': 'sonam.tenzin@simons-rock.edu', 'sonam.tobgay': 'sonam.tobgay@simons-rock.edu', 'sonam.yangden': 'sonam.yangden@simons-rock.edu', 'tandin.om': 'tandin.om@simons-rock.edu', 'tandin.wangchuk': 'tandin.wangchuk@simons-rock.edu', 'tashi.om': 'tashi.om@simons-rock.edu', 'tenday.zangmo': 'tenday.zangmo@simons-rock.edu', 'tshering.pem': 'tshering.pem@simons-rock.edu', 'ugyen.phurpa': 'ugyen.phurpa@simons-rock.edu', 'marmitt': 'marmitt@simons-rock.edu'}\n"
     ]
    }
   ],
   "source": [
    "#step 1: read Q2. txt into the list\n",
    "with open ('./Data/Q2.txt', 'r') as names:\n",
    "    header = names.readline()\n",
    "    namelist = names.readlines()\n",
    "    \n",
    "#step 2: create email for each name in the list and save them in the dictionary\n",
    "# You need to do the necessary data cleaning \n",
    "# For example, removing the space and special characters if there is any, converting them to lower case\n",
    "email_dict={}\n",
    "for name_entry in namelist:\n",
    "    clean_name = name_entry.lower()\n",
    "    clean_name = clean_name.replace(\" \", \".\")\n",
    "    clean_name = clean_name.replace(\"\\n\", \"\")\n",
    "    email = clean_name +\"@simons-rock.edu\"\n",
    "    email_dict[clean_name]=email\n",
    "print(email_dict)"
   ]
  },
  {
   "cell_type": "markdown",
   "metadata": {},
   "source": [
    "3) Write a Python program for \"Guessing Game: Guess the Number Challenge\"\n",
    "\n",
    "Step 1: Use a random function to generate a number.\n",
    "\n",
    "##### Game starts.......\n",
    "\n",
    "Step 2: Prompt the user to guess an integer number. Provide a range if needed to give the user context for their guess.\n",
    "\n",
    "Step 3: Check the condition of the guessed number compared to the generated number and provide feedback accordingly. For example, if the guess is too high or too low, inform the user.\n",
    "\n",
    "Step 4.1: If the guess is incorrect, allow the user to guess again. Repeat this process for a maximum of 10 guesses.\n",
    "\n",
    "Step 4.2: If the user guesses the number correctly, inform them that they have won. Also, indicate how many guesses were needed before guessing correctly.\n",
    "\n",
    "Step 4.3: If the user exhausts all 10 guesses without guessing the correct number, say \"goodbye.\"\n",
    "\n",
    "##### Game ends ... \n",
    "\n",
    "Step 5: Regardless of winning or losing, ask the user if they want to play again. This ensures the program's continuity and gives the user the option to continue playing if they wish.\n"
   ]
  },
  {
   "cell_type": "code",
   "execution_count": 14,
   "metadata": {},
   "outputs": [
    {
     "name": "stdout",
     "output_type": "stream",
     "text": [
      "Game Starts\n",
      "Guess number between 1 to 100\n",
      "You can guess max 10 times\n"
     ]
    },
    {
     "name": "stdout",
     "output_type": "stream",
     "text": [
      "Please enter vaild int number:\n",
      "It is too high\n",
      "It is too low\n",
      "It is too low\n",
      "Congratulations! You guessed the number in 4 times\n",
      "Game Ends\n",
      "Thank you for playing.\n"
     ]
    }
   ],
   "source": [
    "\n",
    "import random \n",
    "\n",
    "def play_game():\n",
    "    secret_number=random.randint(1,100)\n",
    "\n",
    "    print (\"Game Starts\")\n",
    "    print (\"Guess number between 1 to 100\")\n",
    "    print (\"You can guess max 10 times\")\n",
    "\n",
    "    attempt=1\n",
    "    while attempt <=10:\n",
    "            try :\n",
    "                guess=int(input( f\"Attempt {attempt}: Enter your guess: \"))\n",
    "            except ValueError :\n",
    "                print(\"Please enter vaild int number:\")\n",
    "                continue\n",
    "            if guess < secret_number:\n",
    "                print (\"It is too low\")\n",
    "            elif guess > secret_number:\n",
    "                print (\"It is too high\")\n",
    "            else:\n",
    "                print (f\"Congratulations! You guessed the number in {attempt} times\")\n",
    "                break\n",
    "            attempt+=1\n",
    "    else:\n",
    "            print(f\"Sorry! you used all attempt. The number is {secret_number}\")\n",
    "            print (\"Goodbye\")\n",
    "\n",
    "    print (\"Game Ends\")\n",
    "\n",
    "while True:\n",
    "\n",
    "    play_game()\n",
    "    play_again=input(\"Do you want to play again? (y/n)\")\n",
    "    if play_again != \"y\":\n",
    "        print (\"Thank you for playing.\")\n",
    "        break\n",
    "\n"
   ]
  }
 ],
 "metadata": {
  "kernelspec": {
   "display_name": "Python 3",
   "language": "python",
   "name": "python3"
  },
  "language_info": {
   "codemirror_mode": {
    "name": "ipython",
    "version": 3
   },
   "file_extension": ".py",
   "mimetype": "text/x-python",
   "name": "python",
   "nbconvert_exporter": "python",
   "pygments_lexer": "ipython3",
   "version": "3.13.3"
  }
 },
 "nbformat": 4,
 "nbformat_minor": 2
}
