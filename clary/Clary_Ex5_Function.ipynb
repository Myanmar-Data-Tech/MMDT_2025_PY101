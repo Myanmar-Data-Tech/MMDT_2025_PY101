{
  "cells": [
    {
      "cell_type": "markdown",
      "metadata": {
        "id": "b-1b6ywy-O5i"
      },
      "source": [
        "Exercises are taken from : https://www.brianheinold.net/python/A_Practical_Introduction_to_Python_Programming_Heinold.pdf\n"
      ]
    },
    {
      "cell_type": "markdown",
      "metadata": {
        "id": "pps5xBbs-I9w"
      },
      "source": [
        "Ex 1: Write a function called rectangle that takes two integers m and n as arguments and prints\n",
        "out an m× n box consisting of asterisks. Shown below is the output of rectangle(2,4)\n",
        "****\n",
        "****"
      ]
    },
    {
      "cell_type": "code",
      "execution_count": 3,
      "metadata": {
        "id": "S_5WWVLH3u8y",
        "outputId": "2a03f6f2-75f5-49b3-f604-84a57c026d7d",
        "colab": {
          "base_uri": "https://localhost:8080/"
        }
      },
      "outputs": [
        {
          "output_type": "stream",
          "name": "stdout",
          "text": [
            "*****\n",
            "*****\n",
            "*****\n",
            "*****\n",
            "*****\n",
            "*****\n",
            "*****\n",
            "*****\n",
            "*****\n",
            "*****\n",
            "****\n",
            "****\n"
          ]
        }
      ],
      "source": [
        "def rectangle(m,n):\n",
        "    for k in range(m):\n",
        "        print(n*'*')\n",
        "\n",
        "rectangle(10,5)\n",
        "rectangle (2,4)\n"
      ]
    },
    {
      "cell_type": "markdown",
      "metadata": {
        "id": "0QS7SmPV-coO"
      },
      "source": [
        "Ex 2: Write a function that takes an integer n and returns a random integer with exactly n digits. For\n",
        "instance, if n is 3, then 125 and 593 would be valid return values, but 093 would not because\n",
        "that is really 93, which is a two-digit number."
      ]
    },
    {
      "cell_type": "code",
      "execution_count": 6,
      "metadata": {
        "id": "c4ejnmGJ-MzL",
        "outputId": "0c561a57-14e5-4c66-b4a3-b5ce3dc56f27",
        "colab": {
          "base_uri": "https://localhost:8080/"
        }
      },
      "outputs": [
        {
          "output_type": "execute_result",
          "data": {
            "text/plain": [
              "823"
            ]
          },
          "metadata": {},
          "execution_count": 6
        }
      ],
      "source": [
        "import random\n",
        "def calcualte_numbers ( n ):\n",
        "    result = random.randint(10**(n-1) , 10**(n)-1)\n",
        "\n",
        "\n",
        "    return result\n",
        "\n",
        "calcualte_numbers(2)\n",
        "calcualte_numbers(3)"
      ]
    },
    {
      "cell_type": "markdown",
      "metadata": {
        "id": "B0P_F5Ld-ldg"
      },
      "source": [
        "Ex 3: Write a function called number_of_factors that takes an integer and returns how many\n",
        "factors the number has."
      ]
    },
    {
      "cell_type": "code",
      "execution_count": 7,
      "metadata": {
        "id": "Yr2BLCXp-oTi",
        "outputId": "0fef98e0-d27c-489d-b765-298b2f663764",
        "colab": {
          "base_uri": "https://localhost:8080/"
        }
      },
      "outputs": [
        {
          "output_type": "stream",
          "name": "stdout",
          "text": [
            "6\n",
            "4\n"
          ]
        }
      ],
      "source": [
        "def number_of_factors(num):\n",
        "    count = 0\n",
        "    for i in range(1, num + 1):\n",
        "        if num % i == 0:\n",
        "            count += 1\n",
        "    return count\n",
        "\n",
        "print(number_of_factors(12))\n",
        "print(number_of_factors(6))"
      ]
    },
    {
      "cell_type": "markdown",
      "metadata": {
        "id": "7w0DDTyY-o_4"
      },
      "source": [
        "Ex4: Write a function called first_diff that is given two strings and returns the first location in\n",
        "which the strings differ. If the strings are identical, it should return -1.Ignore the case in your function. It means h and H are the same."
      ]
    },
    {
      "cell_type": "code",
      "execution_count": 15,
      "metadata": {
        "id": "1WOvaf0z-6J6",
        "outputId": "aff3fcd8-14af-4342-b852-95e89a9dc65e",
        "colab": {
          "base_uri": "https://localhost:8080/"
        }
      },
      "outputs": [
        {
          "output_type": "stream",
          "name": "stdout",
          "text": [
            "-1\n",
            "2\n",
            "4\n"
          ]
        }
      ],
      "source": [
        "def first_diff(s1, s2):\n",
        "    s1 = s1.lower()\n",
        "    s2 = s2.lower()\n",
        "    min_len = min(len(s1), len(s2))\n",
        "    for i in range(min_len):\n",
        "        if s1[i] != s2[i]:\n",
        "            return i\n",
        "    if len(s1) != len(s2):\n",
        "        return min_len\n",
        "\n",
        "    return -1\n",
        "\n",
        "\n",
        "print(first_diff(\"Morning\", \"morning\"))\n",
        "print(first_diff(\"Apple\", \"apricot\"))\n",
        "print(first_diff(\"Cold\", \"colder\"))"
      ]
    },
    {
      "cell_type": "markdown",
      "metadata": {
        "id": "jLM8fAg_-6th"
      },
      "source": [
        "Ex5: Write a function called root that is given a number x and an integer n and returns x/n. In\n",
        "the function definition, set the default value of n to 2."
      ]
    },
    {
      "cell_type": "code",
      "execution_count": 20,
      "metadata": {
        "id": "1TrSgTDa_Fu0",
        "outputId": "3b3407d8-8a7b-4162-9445-33b0f27b9b6f",
        "colab": {
          "base_uri": "https://localhost:8080/"
        }
      },
      "outputs": [
        {
          "output_type": "stream",
          "name": "stdout",
          "text": [
            "7.0\n"
          ]
        }
      ],
      "source": [
        "def root(x, n=2):\n",
        "    return x** (1/n)\n",
        "\n",
        "\n",
        "print(root(49))\n"
      ]
    },
    {
      "cell_type": "markdown",
      "metadata": {
        "id": "p-wLuGRWBQWk"
      },
      "source": [
        "Ex6: Write a function that solves the system of equations ax + by = e and cx +dy = f. Your function should takes 6 parameters, (a, b, c, d, e,f) and return the values of x and y."
      ]
    },
    {
      "cell_type": "code",
      "execution_count": 23,
      "metadata": {
        "id": "N4l3OMfGBQWk",
        "outputId": "086d719c-7ac1-4db8-80b4-19a72c9a40db",
        "colab": {
          "base_uri": "https://localhost:8080/"
        }
      },
      "outputs": [
        {
          "output_type": "stream",
          "name": "stdout",
          "text": [
            "(-4.0, 4.5)\n",
            "(1.0, 1.0)\n"
          ]
        }
      ],
      "source": [
        "def solve_system(a, b, c, d, e, f):\n",
        "    # Calculate the determinant\n",
        "    determinant = a * d - b * c\n",
        "\n",
        "    if determinant == 0:\n",
        "        return \"No unique solution\"\n",
        "\n",
        "    # Use Cramer's Rule to solve for x and y\n",
        "    x = (e * d - b * f) / determinant\n",
        "    y = (a * f - e * c) / determinant\n",
        "\n",
        "    return x, y\n",
        "\n",
        "# Example usage:\n",
        "print(solve_system(1, 2, 3, 4, 5, 6))  # No unique solution (parallel lines)\n",
        "print(solve_system(2, 1, 1, -1, 3, 0)) # Should return x=1.0, y=1.0\n"
      ]
    },
    {
      "cell_type": "markdown",
      "metadata": {
        "id": "820M32zXBQWk"
      },
      "source": [
        "Ex7:  Write a function called change_case that given a string, returns a string with each upper  case letter replaced by a lower case letter and vice-versa"
      ]
    },
    {
      "cell_type": "code",
      "execution_count": 25,
      "metadata": {
        "id": "ROHwlarjBQWk",
        "outputId": "b187a8e3-f7cc-4bf0-e385-b2819043bc86",
        "colab": {
          "base_uri": "https://localhost:8080/"
        }
      },
      "outputs": [
        {
          "output_type": "stream",
          "name": "stdout",
          "text": [
            "hELLO world\n",
            "gOOD mORNING!\n"
          ]
        }
      ],
      "source": [
        "def change_case(s):\n",
        "    return ''.join(map(lambda c: c.lower() if c.isupper() else c.upper(), s))\n",
        "\n",
        "\n",
        "print(change_case(\"Hello WORLD\"))\n",
        "print(change_case(\"Good Morning!\"))\n"
      ]
    },
    {
      "cell_type": "markdown",
      "metadata": {
        "id": "BDOQvHOjBQWk"
      },
      "source": [
        "Ex8:  Write a function called primes that is given a number n and returns a list of the first n  primes. Let the default value of n be 100."
      ]
    },
    {
      "cell_type": "code",
      "execution_count": 27,
      "metadata": {
        "id": "gQLCVkItBQWk",
        "outputId": "e83b230f-acaa-4778-dcaa-3c52a3b50770",
        "colab": {
          "base_uri": "https://localhost:8080/"
        }
      },
      "outputs": [
        {
          "output_type": "stream",
          "name": "stdout",
          "text": [
            "[2, 3, 5, 7, 11, 13, 17, 19, 23, 29]\n",
            "[2, 3, 5, 7, 11]\n"
          ]
        }
      ],
      "source": [
        "def primes(n=100):\n",
        "    primes_list = []\n",
        "    num = 2\n",
        "\n",
        "    while len(primes_list) < n:\n",
        "        is_prime = True\n",
        "        for p in primes_list:\n",
        "            if p * p > num:\n",
        "                break\n",
        "            if num % p == 0:\n",
        "                is_prime = False\n",
        "                break\n",
        "        if is_prime:\n",
        "            primes_list.append(num)\n",
        "        num += 1\n",
        "\n",
        "    return primes_list\n",
        "\n",
        "\n",
        "print(primes(10))\n",
        "print(primes(5))\n"
      ]
    },
    {
      "cell_type": "markdown",
      "metadata": {
        "id": "tAqrUCJ4BQWk"
      },
      "source": [
        "Ex9: A Tic-tac-toe board can be represented be a 3×3 two-dimensional list, where zeroes stand for  empty cells, ones stand for X’s and twos stand for O’s. Write a function that is given such a list and randomly chooses a spot in which to place  a 2 (O). The spot chosen must currently be empty and a spot must be chosen."
      ]
    },
    {
      "cell_type": "markdown",
      "metadata": {
        "id": "D0T1W2s3BQWk"
      },
      "source": [
        "Ex10:  Write a function that is given a 9 × 9 potentially solved Sudoku and returns True if it is solved correctly and False if there is a mistake. The Sudoku is correctly solved if there are\n",
        " no repeated numbers in any row or any column or in any of the nine “blocks.”\n"
      ]
    },
    {
      "cell_type": "code",
      "execution_count": null,
      "metadata": {
        "id": "6ABakcanBQWl"
      },
      "outputs": [],
      "source": [
        "\n",
        ""
      ]
    }
  ],
  "metadata": {
    "colab": {
      "name": "Ex5_Function.ipynb",
      "provenance": []
    },
    "kernelspec": {
      "display_name": "Python 3",
      "name": "python3"
    },
    "language_info": {
      "codemirror_mode": {
        "name": "ipython",
        "version": 3
      },
      "file_extension": ".py",
      "mimetype": "text/x-python",
      "name": "python",
      "nbconvert_exporter": "python",
      "pygments_lexer": "ipython3",
      "version": "3.12.1"
    }
  },
  "nbformat": 4,
  "nbformat_minor": 0
}