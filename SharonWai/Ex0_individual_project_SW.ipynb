{
  "cells": [
    {
      "cell_type": "markdown",
      "metadata": {
        "id": "view-in-github",
        "colab_type": "text"
      },
      "source": [
        "<a href=\"https://colab.research.google.com/github/SharonWai/MMDT_2025_PY101/blob/SharonWai1/SharonWai/Ex0_individual_project_SW.ipynb\" target=\"_parent\"><img src=\"https://colab.research.google.com/assets/colab-badge.svg\" alt=\"Open In Colab\"/></a>"
      ]
    },
    {
      "cell_type": "markdown",
      "metadata": {
        "id": "PmnqJHm3fbnC"
      },
      "source": [
        "1) Write a Python program in the below cell to create a dictionary that count the frequency of words in the string given in Q1.txt. Find the most frequent occured word.\n",
        "\n",
        "Don't remove the comment lines provided."
      ]
    },
    {
      "cell_type": "code",
      "execution_count": 13,
      "metadata": {
        "colab": {
          "base_uri": "https://localhost:8080/"
        },
        "id": "9va0altbfbnD",
        "outputId": "e84a24bb-c4db-4b37-867a-befc5748c7b3"
      },
      "outputs": [
        {
          "output_type": "stream",
          "name": "stdout",
          "text": [
            "Word Count:  {'i': 4, 'love': 1, 'this': 1, 'movie': 1, 'it': 5, 'is': 1, 'sweet': 1, 'but': 1, 'with': 1, 'satirical': 1, 'humor': 1, 'the': 4, 'dialogs': 1, 'are': 2, 'great': 1, 'and': 4, 'adventure': 1, 'scenes': 1, 'fun': 1, 'manages': 1, 'to': 3, 'be': 1, 'romantic': 1, 'whimsical': 1, 'while': 1, 'laughingat': 1, 'conventions': 1, 'of': 1, 'fairy': 1, 'tale': 1, 'genre': 1, 'would': 1, 'recommend': 1, 'just': 1, 'about': 1, 'anyone': 1, 'have': 1, 'seen': 1, 'several': 1, 'times': 1, 'am': 1, 'always': 1, 'happy': 1, 'see': 1, 'again': 2}\n",
            "Most Frequent Word:  it\n",
            "Max Frequency:  5\n"
          ]
        }
      ],
      "source": [
        "#step 1: read content from Q1.txt\n",
        "with open('/content/Q1_data/Q1.txt', 'r') as file1:\n",
        "    word_string = file1.read()\n",
        "\n",
        "#step 2.1 - change the case to upper or lower. Convert to lowercase.\n",
        "    word_string = word_string.lower()\n",
        "\n",
        "#step 2.2 - remove pun : use replace\n",
        "for punct in [\".\", \",\", \"/\", \"(\", \")\", \"!\", \"?\", \"-\", \":\"]:\n",
        "    word_string = word_string.replace(punct, \"\")\n",
        "\n",
        "#step 2.3 - split using space\n",
        "words = word_string.split()\n",
        "\n",
        "#Step 3: create a dictionary\n",
        "word_count = {}\n",
        "for word in words:\n",
        "  if word in word_count:\n",
        "     word_count[word] += 1\n",
        "  else:\n",
        "     word_count[word] = 1\n",
        "\n",
        "#Step 4: find the most frequent occured one\n",
        "most_frequent_word = max(word_count, key=word_count.get)\n",
        "max_frequency = word_count[most_frequent_word]\n",
        "\n",
        "#Print the results.\n",
        "print(\"Word Count: \", word_count)\n",
        "print(\"Most Frequent Word: \", most_frequent_word)\n",
        "print(\"Max Frequency: \", max_frequency)"
      ]
    },
    {
      "cell_type": "markdown",
      "metadata": {
        "id": "NdZp80WLfbnE"
      },
      "source": [
        "2) Write a Python program to read the name from Q2.txt and create email using domain 'simons-rock.edu' and save the results as dictionary : {'name': 'name@simons-rock.edu'}.\n",
        "Please take note that your email should not include space or any special characters and all charcters should be in lowercase."
      ]
    },
    {
      "cell_type": "code",
      "source": [
        "#step 1: read Q2. txt into the list\n",
        "with open ('/content/Q2_data/Q2.txt', 'r') as names:\n",
        "    header = names.readline()\n",
        "    namelist = names.readlines()\n",
        "\n",
        "#step 2: create email for each name in the list and save them in the dictionary\n",
        "email_dict = {}\n",
        "domain = 'simons-rock.edu'\n",
        "\n",
        "# You need to do the necessary data cleaning\n",
        "# For example, removing the space and special characters if there is any, converting them to lower case\n",
        "for name in namelist:\n",
        "  clean_name = name.strip().lower()\n",
        "  clean_name = clean_name.replace(\" \", \"\")\n",
        "  email = clean_name + \"@\" + domain\n",
        "  email_dict[clean_name] = email\n",
        "\n",
        "# Print each name and email address vertically.\n",
        "for name, email in email_dict.items():\n",
        "  print(\"Name: \", name)\n",
        "  print(\"Email address: \", email)\n",
        "  print()"
      ],
      "metadata": {
        "id": "M04cW5XOAjJq",
        "outputId": "3a82d384-0842-43b0-e0e9-ab5abd339e45",
        "colab": {
          "base_uri": "https://localhost:8080/"
        }
      },
      "execution_count": 30,
      "outputs": [
        {
          "output_type": "stream",
          "name": "stdout",
          "text": [
            "Name:  dechendorji\n",
            "Email address:  dechendorji@simons-rock.edu\n",
            "\n",
            "Name:  dekitshomo\n",
            "Email address:  dekitshomo@simons-rock.edu\n",
            "\n",
            "Name:  dorjitshering\n",
            "Email address:  dorjitshering@simons-rock.edu\n",
            "\n",
            "Name:  dorjiwangmo\n",
            "Email address:  dorjiwangmo@simons-rock.edu\n",
            "\n",
            "Name:  gemtsheringlepcha\n",
            "Email address:  gemtsheringlepcha@simons-rock.edu\n",
            "\n",
            "Name:  jigmedorji\n",
            "Email address:  jigmedorji@simons-rock.edu\n",
            "\n",
            "Name:  kinleycheki\n",
            "Email address:  kinleycheki@simons-rock.edu\n",
            "\n",
            "Name:  kinleywangmo\n",
            "Email address:  kinleywangmo@simons-rock.edu\n",
            "\n",
            "Name:  ngawangdemakarpo\n",
            "Email address:  ngawangdemakarpo@simons-rock.edu\n",
            "\n",
            "Name:  roshanchhetri\n",
            "Email address:  roshanchhetri@simons-rock.edu\n",
            "\n",
            "Name:  sonamtenzin\n",
            "Email address:  sonamtenzin@simons-rock.edu\n",
            "\n",
            "Name:  sonamtobgay\n",
            "Email address:  sonamtobgay@simons-rock.edu\n",
            "\n",
            "Name:  sonamyangden\n",
            "Email address:  sonamyangden@simons-rock.edu\n",
            "\n",
            "Name:  tandinom\n",
            "Email address:  tandinom@simons-rock.edu\n",
            "\n",
            "Name:  tandinwangchuk\n",
            "Email address:  tandinwangchuk@simons-rock.edu\n",
            "\n",
            "Name:  tashiom\n",
            "Email address:  tashiom@simons-rock.edu\n",
            "\n",
            "Name:  tendayzangmo\n",
            "Email address:  tendayzangmo@simons-rock.edu\n",
            "\n",
            "Name:  tsheringpem\n",
            "Email address:  tsheringpem@simons-rock.edu\n",
            "\n",
            "Name:  ugyenphurpa\n",
            "Email address:  ugyenphurpa@simons-rock.edu\n",
            "\n",
            "Name:  marmitt\n",
            "Email address:  marmitt@simons-rock.edu\n",
            "\n"
          ]
        }
      ]
    },
    {
      "cell_type": "markdown",
      "metadata": {
        "id": "hnNKyvkLfbnE"
      },
      "source": [
        "3) Write a Python program for \"Guessing Game: Guess the Number Challenge\"\n",
        "\n",
        "Step 1: Use a random function to generate a number.\n",
        "\n",
        "##### Game starts.......\n",
        "\n",
        "Step 2: Prompt the user to guess an integer number. Provide a range if needed to give the user context for their guess.\n",
        "\n",
        "Step 3: Check the condition of the guessed number compared to the generated number and provide feedback accordingly. For example, if the guess is too high or too low, inform the user.\n",
        "\n",
        "Step 4.1: If the guess is incorrect, allow the user to guess again. Repeat this process for a maximum of 10 guesses.\n",
        "\n",
        "Step 4.2: If the user guesses the number correctly, inform them that they have won. Also, indicate how many guesses were needed before guessing correctly.\n",
        "\n",
        "Step 4.3: If the user exhausts all 10 guesses without guessing the correct number, say \"goodbye.\"\n",
        "\n",
        "##### Game ends ...\n",
        "\n",
        "Step 5: Regardless of winning or losing, ask the user if they want to play again. This ensures the program's continuity and gives the user the option to continue playing if they wish."
      ]
    },
    {
      "cell_type": "code",
      "execution_count": 39,
      "metadata": {
        "colab": {
          "base_uri": "https://localhost:8080/"
        },
        "id": "wY8dBRzUfbnF",
        "outputId": "c07bea55-32d8-49e7-dc4d-cba7ee262511"
      },
      "outputs": [
        {
          "output_type": "stream",
          "name": "stdout",
          "text": [
            "Welcome to the Game!\n",
            "Game Starts!\n",
            "\n",
            "Guess a number between 1 and 100: 50\n",
            "Your number is too high. Try again\n",
            "\n",
            "Guess a number between 1 and 100: 30\n",
            "Your number is too high. Try again\n",
            "\n",
            "Guess a number between 1 and 100: 20\n",
            "Your number is too high. Try again\n",
            "\n",
            "Guess a number between 1 and 100: 10\n",
            "Your number is too high. Try again\n",
            "\n",
            "Guess a number between 1 and 100: 5\n",
            "Your number is too high. Try again\n",
            "\n",
            "Guess a number between 1 and 100: 3\n",
            "Congratulations! You guessed the correct number in 6 attempt(s).\n",
            "\n",
            "Guess a number between 1 and 100: 50\n",
            "Your number is too high. Try again\n",
            "\n",
            "Guess a number between 1 and 100: 10\n",
            "Your number is too high. Try again\n",
            "\n",
            "Guess a number between 1 and 100: 5\n",
            "Your number is too high. Try again\n",
            "\n",
            "Guess a number between 1 and 100: 2\n",
            "Your number is too low. Try again\n",
            "\n",
            "Sorry, You've exhausted all guesses. The correct number was 3. Goodbye!\n",
            "\n",
            "Do you wish to play again? (Yes/No): n\n",
            "Thank you for playing game. Game Ends!\n"
          ]
        }
      ],
      "source": [
        "#Step 1: Generate an integer number between 1 to 100.\n",
        "import random\n",
        "\n",
        "unknown_number = random.randint(1, 100)\n",
        "\n",
        "print(\"Welcome to the Game!\")\n",
        "print(\"Game Starts!\")\n",
        "print()\n",
        "\n",
        "#Step 2 to 4 : Game Start and user to guess an integer number. Each user has maximum of 10 guesses.\n",
        "max_guesses = 10\n",
        "attempts = 0\n",
        "\n",
        "while attempts < max_guesses:\n",
        "  guess = int(input(\"Guess a number between 1 and 100: \"))\n",
        "  attempts += 1\n",
        "\n",
        "  if guess < unknown_number:\n",
        "     print(\"Your number is too low. Try again\")\n",
        "     print()\n",
        "  elif guess > unknown_number:\n",
        "     print(\"Your number is too high. Try again\")\n",
        "     print()\n",
        "  else:\n",
        "     print(f\"Congratulations! You guessed the correct number in {attempts} attempt(s).\")\n",
        "     print()\n",
        "\n",
        "else:\n",
        "  print(f\"Sorry, You've exhausted all guesses. The correct number was {unknown_number}. Goodbye!\")\n",
        "  print()\n",
        "\n",
        "# Step 5: Game end. Ensure the program's continuity and gives the user the option to continue playing if they wish.\n",
        "while True:\n",
        "  replay = input(\"Do you wish to play again? (Yes/No): \").strip().lower()\n",
        "  if replay not in [\"yes\", \"y\"]:\n",
        "    print(\"Thank you for playing game. Game Ends!\")\n",
        "    break"
      ]
    },
    {
      "cell_type": "code",
      "source": [],
      "metadata": {
        "id": "Y4JqRjoaKFqe"
      },
      "execution_count": null,
      "outputs": []
    }
  ],
  "metadata": {
    "kernelspec": {
      "display_name": "Python 3",
      "language": "python",
      "name": "python3"
    },
    "language_info": {
      "codemirror_mode": {
        "name": "ipython",
        "version": 3
      },
      "file_extension": ".py",
      "mimetype": "text/x-python",
      "name": "python",
      "nbconvert_exporter": "python",
      "pygments_lexer": "ipython3",
      "version": "3.12.1"
    },
    "colab": {
      "provenance": [],
      "include_colab_link": true
    }
  },
  "nbformat": 4,
  "nbformat_minor": 0
}