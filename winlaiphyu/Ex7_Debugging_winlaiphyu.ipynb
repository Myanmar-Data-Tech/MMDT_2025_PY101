{
  "nbformat": 4,
  "nbformat_minor": 0,
  "metadata": {
    "colab": {
      "provenance": [],
      "authorship_tag": "ABX9TyPT9JqaVOUVkxcdJ9hvGNfb",
      "include_colab_link": true
    },
    "kernelspec": {
      "name": "python3",
      "display_name": "Python 3"
    },
    "language_info": {
      "name": "python"
    }
  },
  "cells": [
    {
      "cell_type": "markdown",
      "metadata": {
        "id": "view-in-github",
        "colab_type": "text"
      },
      "source": [
        "<a href=\"https://colab.research.google.com/github/Winlai16/MMDT_2025_PY101/blob/winlaiphyu/winlaiphyu/Ex7_Debugging_winlaiphyu.ipynb\" target=\"_parent\"><img src=\"https://colab.research.google.com/assets/colab-badge.svg\" alt=\"Open In Colab\"/></a>"
      ]
    },
    {
      "cell_type": "markdown",
      "source": [
        "Simple Debugging\n",
        "\n",
        "Add print statements to your program. Add input() to pause the program\n"
      ],
      "metadata": {
        "id": "1JY7f8XW2AqV"
      }
    },
    {
      "cell_type": "code",
      "source": [
        "from random import randint\n",
        "\n",
        "#Step 1: generate a random number between 1 and 5\n",
        "rand_num = randint(1,5)\n",
        "\n",
        "# add print statment here to know the value of rand_num\n",
        "print(rand_num)\n",
        "\n",
        "# Step 2: What does this code do?\n",
        "\n",
        "for i in range(6):\n",
        "    print('Hello '*rand_num)"
      ],
      "metadata": {
        "colab": {
          "base_uri": "https://localhost:8080/"
        },
        "id": "8v5CSebA2H4n",
        "outputId": "239d19b8-2787-461c-8cb1-70a972b0d305"
      },
      "execution_count": null,
      "outputs": [
        {
          "output_type": "stream",
          "name": "stdout",
          "text": [
            "2\n",
            "Hello Hello \n",
            "Hello Hello \n",
            "Hello Hello \n",
            "Hello Hello \n",
            "Hello Hello \n",
            "Hello Hello \n"
          ]
        }
      ]
    },
    {
      "cell_type": "markdown",
      "source": [
        "\n",
        "Write a program that generates 10000 random numbers between 1 and 100 and counts how many of them are multiples of 12."
      ],
      "metadata": {
        "id": "LseoNM723JPs"
      }
    },
    {
      "cell_type": "code",
      "source": [
        "# Step 1:\n",
        "from random import randint\n",
        "# Step 2:\n",
        "count = 0\n",
        "# Step 3:\n",
        "for i in range(10000):\n",
        "    #Step 4:\n",
        "    num = randint(1, 100)\n",
        "    #Step 5:\n",
        "    if num%12 ==0:\n",
        "        count=count+1\n",
        "    # Step 6:\n",
        "print('Number of multiples of 12:', count)\n",
        "\n",
        "multiples = []\n",
        "for num in range(1, 101):\n",
        "    if num % 12 == 0:\n",
        "        multiples.append(num)\n",
        "\n",
        "print(f\"Possible multiples of 12 in 1-100: {multiples} (Total: {len(multiples)})\")"
      ],
      "metadata": {
        "colab": {
          "base_uri": "https://localhost:8080/"
        },
        "id": "WM0agH5F3NJU",
        "outputId": "35af9fb9-23e6-4b04-8287-d516e963e90c"
      },
      "execution_count": null,
      "outputs": [
        {
          "output_type": "stream",
          "name": "stdout",
          "text": [
            "Number of multiples of 12: 768\n",
            "Possible multiples of 12 in 1-100: [12, 24, 36, 48, 60, 72, 84, 96] (Total: 8)\n"
          ]
        }
      ]
    },
    {
      "cell_type": "markdown",
      "source": [
        "The following program should counts how many of the squares of the numbers from 1 to 100 end in 1. (Example: 1,81,121). Debug the code."
      ],
      "metadata": {
        "id": "9A9sATxo5AIY"
      }
    },
    {
      "cell_type": "code",
      "source": [
        "import numpy as np\n",
        "def fun_square_count():\n",
        "    num_list = np.arange(1,101)\n",
        "    squred_num = [value**2 for value in num_list]\n",
        "    count=0\n",
        "    for num in squred_num:\n",
        "        if(num//10) == 1:\n",
        "            count +=1\n",
        "\n",
        "    return count\n",
        "\n",
        "fun_square_count()"
      ],
      "metadata": {
        "colab": {
          "base_uri": "https://localhost:8080/"
        },
        "id": "bLgyiZzA5Dpo",
        "outputId": "3a937c28-c14a-437b-e0df-38d59231def0"
      },
      "execution_count": null,
      "outputs": [
        {
          "output_type": "execute_result",
          "data": {
            "text/plain": [
              "1"
            ]
          },
          "metadata": {},
          "execution_count": 1
        }
      ]
    },
    {
      "cell_type": "markdown",
      "source": [
        "Debug the following programs"
      ],
      "metadata": {
        "id": "gyW5IuzS5YmT"
      }
    },
    {
      "cell_type": "code",
      "source": [
        "def add(a, b):\n",
        "    return a + b\n",
        "try:\n",
        "  print(add(5, '2'))\n",
        "except TypeError:\n",
        "  print(\"unsupported operand type(s),please use number with no '' \")"
      ],
      "metadata": {
        "colab": {
          "base_uri": "https://localhost:8080/"
        },
        "id": "hAt-g27p5dXW",
        "outputId": "b08df7ee-85a4-46a8-982e-ff284769e60c"
      },
      "execution_count": null,
      "outputs": [
        {
          "output_type": "stream",
          "name": "stdout",
          "text": [
            "unsupported operand type(s),please use number with no '' \n"
          ]
        }
      ]
    },
    {
      "cell_type": "code",
      "source": [
        "def divide(a, b):\n",
        "    result = a / b\n",
        "    return result\n",
        "divide(3,7)"
      ],
      "metadata": {
        "id": "bkVd8MhW5h7Y",
        "colab": {
          "base_uri": "https://localhost:8080/"
        },
        "outputId": "8c67af08-19e0-4e32-fee4-10de292d96fa"
      },
      "execution_count": null,
      "outputs": [
        {
          "output_type": "execute_result",
          "data": {
            "text/plain": [
              "0.42857142857142855"
            ]
          },
          "metadata": {},
          "execution_count": 4
        }
      ]
    },
    {
      "cell_type": "code",
      "source": [
        "def is_prime(n):\n",
        "    if n <= 0:\n",
        "        return False\n",
        "    for i in range(2, n):\n",
        "        if n // i == 0:\n",
        "            return False\n",
        "    return True\n",
        "\n",
        "print(is_prime(15))"
      ],
      "metadata": {
        "colab": {
          "base_uri": "https://localhost:8080/"
        },
        "id": "UwiimtIY5jUF",
        "outputId": "08116590-299b-4dca-89e9-d2a37a5b8787"
      },
      "execution_count": null,
      "outputs": [
        {
          "output_type": "stream",
          "name": "stdout",
          "text": [
            "True\n"
          ]
        }
      ]
    }
  ]
}