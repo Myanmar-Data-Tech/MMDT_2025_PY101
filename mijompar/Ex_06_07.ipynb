{
  "nbformat": 4,
  "nbformat_minor": 0,
  "metadata": {
    "colab": {
      "provenance": []
    },
    "kernelspec": {
      "name": "python3",
      "display_name": "Python 3"
    },
    "language_info": {
      "name": "python"
    }
  },
  "cells": [
    {
      "cell_type": "code",
      "execution_count": 1,
      "metadata": {
        "colab": {
          "base_uri": "https://localhost:8080/"
        },
        "id": "9ShzHbGh5SKA",
        "outputId": "bb3a1536-4d7d-4279-d056-1324700c5d33"
      },
      "outputs": [
        {
          "output_type": "stream",
          "name": "stdout",
          "text": [
            "False\n"
          ]
        }
      ],
      "source": [
        "def divide(a, b):\n",
        "    result = a / b\n",
        "    return result\n",
        "\n",
        "def is_prime(n):\n",
        "    if n <= 1:  # 0 and 1 are not prime numbers\n",
        "        return False\n",
        "    for i in range(2, int(n ** 0.5) + 1):  # check up to square root of n\n",
        "        if n % i == 0:  # divisible by i → not prime\n",
        "            return False\n",
        "    return True\n",
        "\n",
        "# Example: check if 15 is prime\n",
        "print(is_prime(15))  # Output: False\n"
      ]
    },
    {
      "cell_type": "code",
      "source": [
        "# Q2.1\n",
        "a = 1\n",
        "try:\n",
        "    b = int(input(\"Please enter a number to divide a: \"))\n",
        "    a = a / b\n",
        "    print(\"Success a= \", a)\n",
        "except ValueError:\n",
        "    print(\"Error: You must enter a valid integer.\")\n",
        "except ZeroDivisionError:\n",
        "    print(\"Error: Cannot divide by zero.\")\n",
        "except Exception as e:\n",
        "    print(\"Unexpected error:\", e)\n",
        "\n",
        "\n",
        "# Q2.2\n",
        "mylist = [2, 3, 5, -7, 8, 0]\n",
        "idx = 0\n",
        "b = 5\n",
        "\n",
        "while idx <= 6:\n",
        "    try:\n",
        "        print('Iteration:', idx, mylist[idx] / b)\n",
        "    except IndexError:\n",
        "        print(f\"Error: Index {idx} is out of range.\")\n",
        "    except ZeroDivisionError:\n",
        "        print(\"Error: Division by zero.\")\n",
        "    except Exception as e:\n",
        "        print(\"Unexpected error:\", e)\n",
        "    finally:\n",
        "        idx += 1\n",
        "        print('Iteration completed')\n"
      ],
      "metadata": {
        "id": "cEtqjTR85nPy"
      },
      "execution_count": null,
      "outputs": []
    },
    {
      "cell_type": "code",
      "source": [
        "# Q2.2\n",
        "mylist = [2, 3, 5, -7, 8, 0]\n",
        "idx = 0\n",
        "b = 5\n",
        "\n",
        "while idx <= 6:\n",
        "    try:\n",
        "        print('Iteration:', idx, mylist[idx] / b)\n",
        "    except IndexError:\n",
        "        print(f\"Error: Index {idx} is out of range.\")\n",
        "    except ZeroDivisionError:\n",
        "        print(\"Error: Division by zero.\")\n",
        "    except Exception as e:\n",
        "        print(\"Unexpected error:\", e)\n",
        "    finally:\n",
        "        idx += 1\n",
        "        print('Iteration completed')\n"
      ],
      "metadata": {
        "id": "dEsMjcgP5vK_"
      },
      "execution_count": null,
      "outputs": []
    }
  ]
}