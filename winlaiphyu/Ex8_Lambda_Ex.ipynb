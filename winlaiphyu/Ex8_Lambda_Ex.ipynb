{
  "nbformat": 4,
  "nbformat_minor": 0,
  "metadata": {
    "colab": {
      "provenance": [],
      "authorship_tag": "ABX9TyPDJjm7Ld3a9ZU9KSyI0BN3",
      "include_colab_link": true
    },
    "kernelspec": {
      "name": "python3",
      "display_name": "Python 3"
    },
    "language_info": {
      "name": "python"
    }
  },
  "cells": [
    {
      "cell_type": "markdown",
      "metadata": {
        "id": "view-in-github",
        "colab_type": "text"
      },
      "source": [
        "<a href=\"https://colab.research.google.com/github/Winlai16/MMDT_2025_PY101/blob/winlaiphyu/winlaiphyu/Ex8_Lambda_Ex.ipynb\" target=\"_parent\"><img src=\"https://colab.research.google.com/assets/colab-badge.svg\" alt=\"Open In Colab\"/></a>"
      ]
    },
    {
      "cell_type": "markdown",
      "source": [
        "Q1). Write a lambda function that takes an integer 'year' and returns 'age'."
      ],
      "metadata": {
        "id": "NH01aHlVz9Hw"
      }
    },
    {
      "cell_type": "code",
      "source": [
        "from datetime import datetime\n",
        "\n",
        "current_year = datetime.now().year\n",
        "calculate_age = lambda year: current_year - year\n",
        "calculate_age(2000)"
      ],
      "metadata": {
        "colab": {
          "base_uri": "https://localhost:8080/"
        },
        "id": "klOkpFOOz-Fn",
        "outputId": "6a70a54d-eb48-4db6-f8b0-53dfae991515"
      },
      "execution_count": 1,
      "outputs": [
        {
          "output_type": "execute_result",
          "data": {
            "text/plain": [
              "25"
            ]
          },
          "metadata": {},
          "execution_count": 1
        }
      ]
    },
    {
      "cell_type": "markdown",
      "source": [
        "Q2) Write a lambda function that takes a float \"cost\" and returns a float \"price\" by adding 10% to the cost."
      ],
      "metadata": {
        "id": "zPIeyO7O0DtC"
      }
    },
    {
      "cell_type": "code",
      "source": [
        "calculate_pirce = lambda cost: cost + cost*0.10\n",
        "\n",
        "calculate_pirce(56)"
      ],
      "metadata": {
        "colab": {
          "base_uri": "https://localhost:8080/"
        },
        "id": "Aq6HI4bK0GZv",
        "outputId": "03c36f01-ac61-4379-bd36-2c6b9b741b3c"
      },
      "execution_count": 2,
      "outputs": [
        {
          "output_type": "execute_result",
          "data": {
            "text/plain": [
              "61.6"
            ]
          },
          "metadata": {},
          "execution_count": 2
        }
      ]
    },
    {
      "cell_type": "markdown",
      "source": [
        "For the given name list : names = ['Richard', 'Karam', 'Karpo', 'Sonam', 'Ugyen']\n",
        "\n",
        "Write a python program that converts each name into email address. The domain is given as gmail."
      ],
      "metadata": {
        "id": "7G0Kr8Yi0J2d"
      }
    },
    {
      "cell_type": "code",
      "source": [
        "names = ['Richard', 'Karam', 'Karpo', 'Sonam', 'Ugyen']\n",
        "email = lambda n : n.lower() +'@gmail'\n",
        "emails = [*map(email, names)]\n",
        "emails"
      ],
      "metadata": {
        "colab": {
          "base_uri": "https://localhost:8080/"
        },
        "id": "IEVnCxXP0eJ_",
        "outputId": "7c4b722c-8105-4f2a-edbe-7dabdee8a010"
      },
      "execution_count": 4,
      "outputs": [
        {
          "output_type": "execute_result",
          "data": {
            "text/plain": [
              "['richard@gmail', 'karam@gmail', 'karpo@gmail', 'sonam@gmail', 'ugyen@gmail']"
            ]
          },
          "metadata": {},
          "execution_count": 4
        }
      ]
    },
    {
      "cell_type": "markdown",
      "source": [
        " Write a lambda function that takes two strings 'name' , 'domain' and returns an email address (string)."
      ],
      "metadata": {
        "id": "iCiPsPHN2N7D"
      }
    },
    {
      "cell_type": "code",
      "source": [
        "create_custom_email = lambda name, domain: name.lower()+'@'+domain\n",
        "create_custom_email('myo', 'drmyothida.com')"
      ],
      "metadata": {
        "colab": {
          "base_uri": "https://localhost:8080/",
          "height": 35
        },
        "id": "eQnlyTD12RLZ",
        "outputId": "903ac856-5076-4b49-e540-1d50653a33b2"
      },
      "execution_count": 5,
      "outputs": [
        {
          "output_type": "execute_result",
          "data": {
            "text/plain": [
              "'myo@drmyothida.com'"
            ],
            "application/vnd.google.colaboratory.intrinsic+json": {
              "type": "string"
            }
          },
          "metadata": {},
          "execution_count": 5
        }
      ]
    },
    {
      "cell_type": "markdown",
      "source": [
        "old_list = [2, 4, 6, 7, 9]\n",
        "\n",
        "write a for loop to square each element of the given old_list."
      ],
      "metadata": {
        "id": "jIo0WlzY2f5-"
      }
    },
    {
      "cell_type": "code",
      "source": [
        "# list comprehension\n",
        "old_list = [2, 4, 6, 7, 9]\n",
        "new_list1 = [item**2 for item in old_list]\n",
        "\n",
        "#2nd method\n",
        "new_list2 = []\n",
        "for item in old_list:\n",
        "    new_list2.append(item**2)\n",
        "\n",
        "print(new_list1, new_list2)"
      ],
      "metadata": {
        "colab": {
          "base_uri": "https://localhost:8080/"
        },
        "id": "V9rZDMKV2k0x",
        "outputId": "c2ab4d2c-aca1-42dd-d0ce-59baffc1d5da"
      },
      "execution_count": 6,
      "outputs": [
        {
          "output_type": "stream",
          "name": "stdout",
          "text": [
            "[4, 16, 36, 49, 81] [4, 16, 36, 49, 81]\n"
          ]
        }
      ]
    }
  ]
}