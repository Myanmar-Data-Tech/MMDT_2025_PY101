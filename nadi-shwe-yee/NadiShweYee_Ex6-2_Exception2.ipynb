{
 "cells": [
  {
   "cell_type": "markdown",
   "metadata": {},
   "source": [
    "# Exception Handling\n"
   ]
  },
  {
   "cell_type": "markdown",
   "metadata": {},
   "source": [
    "### Q2) Run the following programs and identify the potential errors. \n",
    "Use exception handling approach to handle and print all the potential erros. \n"
   ]
  },
  {
   "cell_type": "code",
   "execution_count": 1,
   "metadata": {},
   "outputs": [
    {
     "name": "stdin",
     "output_type": "stream",
     "text": [
      "Please enter a number to divide a:  a\n"
     ]
    },
    {
     "name": "stdout",
     "output_type": "stream",
     "text": [
      "The input must be an integer number!\n"
     ]
    }
   ],
   "source": [
    "#Q2.1) \n",
    "a = 1\n",
    "\n",
    "try:\n",
    "    b = int(input(\"Please enter a number to divide a: \"))\n",
    "    a = a / b\n",
    "except ValueError:\n",
    "    print(\"The input must be an integer number!\")\n",
    "except ZeroDivisionError:\n",
    "    print(\"Divisor cannot be zero!\")\n",
    "except Exception as e:\n",
    "    print(\"Something else went wrong:\", e)\n",
    "else:\n",
    "    print(\"Success a =\", a)\n",
    "\n"
   ]
  },
  {
   "cell_type": "code",
   "execution_count": 3,
   "metadata": {},
   "outputs": [
    {
     "name": "stdout",
     "output_type": "stream",
     "text": [
      "Iteration: 0 0.4\n",
      "Iteration completed\n",
      "Iteration: 1 0.6\n",
      "Iteration completed\n",
      "Iteration: 2 1.0\n",
      "Iteration completed\n",
      "Iteration: 3 -1.4\n",
      "Iteration completed\n",
      "Iteration: 4 1.6\n",
      "Iteration completed\n",
      "Iteration: 5 0.0\n",
      "Iteration completed\n",
      "IndexError: Index 6 is out of range. Stopping loop.\n"
     ]
    }
   ],
   "source": [
    "#Q2.2) \n",
    "mylist = [2, 3, 5, -7, 8, 0]\n",
    "idx = 0\n",
    "b = 5\n",
    "\n",
    "while idx <= 6:\n",
    "    try:\n",
    "        print('Iteration:', idx, mylist[idx] / b)\n",
    "    except IndexError:\n",
    "        print(f\"IndexError: Index {idx} is out of range. Stopping loop.\")\n",
    "        break  \n",
    "    except ZeroDivisionError:\n",
    "        print(\"ZeroDivisionError: Cannot divide by zero!\")\n",
    "        break  \n",
    "    except Exception as e:\n",
    "        print(\"Something else went wrong:\", e)\n",
    "        break\n",
    "    else:\n",
    "        print('Iteration completed')\n",
    "        idx += 1  \n",
    "    "
   ]
  },
  {
   "cell_type": "code",
   "execution_count": null,
   "metadata": {},
   "outputs": [],
   "source": []
  }
 ],
 "metadata": {
  "kernelspec": {
   "display_name": "Python [conda env:base] *",
   "language": "python",
   "name": "conda-base-py"
  },
  "language_info": {
   "codemirror_mode": {
    "name": "ipython",
    "version": 3
   },
   "file_extension": ".py",
   "mimetype": "text/x-python",
   "name": "python",
   "nbconvert_exporter": "python",
   "pygments_lexer": "ipython3",
   "version": "3.12.7"
  }
 },
 "nbformat": 4,
 "nbformat_minor": 4
}
