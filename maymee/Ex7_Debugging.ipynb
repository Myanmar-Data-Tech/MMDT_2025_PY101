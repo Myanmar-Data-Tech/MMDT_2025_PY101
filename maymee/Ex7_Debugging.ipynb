{
  "cells": [
    {
      "cell_type": "markdown",
      "metadata": {
        "id": "-7zf3zw6DHGh"
      },
      "source": [
        "## Simple Debugging\n",
        "\n",
        "Add print statements to your program.\n",
        "Add input() to pause the program"
      ]
    },
    {
      "cell_type": "code",
      "execution_count": 1,
      "metadata": {
        "id": "KDn4qzsODHGt",
        "outputId": "cdc7cdc6-7498-434a-f444-1d8dc11978cb",
        "colab": {
          "base_uri": "https://localhost:8080/"
        }
      },
      "outputs": [
        {
          "output_type": "stream",
          "name": "stdout",
          "text": [
            "Hello Hello Hello Hello Hello \n",
            "Hello Hello Hello Hello Hello \n",
            "Hello Hello Hello Hello Hello \n",
            "Hello Hello Hello Hello Hello \n",
            "Hello Hello Hello Hello Hello \n",
            "Hello Hello Hello Hello Hello \n"
          ]
        }
      ],
      "source": [
        "from random import randint\n",
        "\n",
        "#Step 1: generate a random number between 1 and 5\n",
        "rand_num = randint(1,5)\n",
        "\n",
        "# add print statment here to know the value of rand_num\n",
        "\n",
        "\n",
        "# Step 2: What does this code do?\n",
        "\n",
        "for i in range(6):\n",
        "    print('Hello '*rand_num)"
      ]
    },
    {
      "cell_type": "code",
      "execution_count": 2,
      "metadata": {
        "id": "0IyW01lDDHGy",
        "outputId": "eaccf63c-fc74-4d0e-fb4f-591111cec6c5",
        "colab": {
          "base_uri": "https://localhost:8080/"
        }
      },
      "outputs": [
        {
          "output_type": "stream",
          "name": "stdout",
          "text": [
            "Hello \n",
            "Hello Hello \n",
            "Hello Hello Hello Hello Hello \n",
            "Hello Hello Hello Hello Hello \n",
            "Hello \n",
            "Hello Hello Hello Hello Hello \n"
          ]
        }
      ],
      "source": [
        "from random import randint\n",
        "\n",
        "# Step 1: generate a random number between 1 and 5\n",
        "\n",
        "# Step 2: What does this code do?\n",
        "\n",
        "for i in range(6):\n",
        "    rand_num = randint(1,5)\n",
        "    print('Hello '*rand_num)"
      ]
    },
    {
      "cell_type": "markdown",
      "metadata": {
        "id": "cBJGhKZNDHGz"
      },
      "source": [
        "Write a program that generates 10000 random numbers between 1 and 100 and counts how many of them are multiples of 12."
      ]
    },
    {
      "cell_type": "code",
      "execution_count": 3,
      "metadata": {
        "id": "dGnF1QJ-DHG0",
        "outputId": "129d1967-f32f-4f57-b23a-16ac4f4663e8",
        "colab": {
          "base_uri": "https://localhost:8080/"
        }
      },
      "outputs": [
        {
          "output_type": "stream",
          "name": "stdout",
          "text": [
            "Number of multiples of 12: 781\n"
          ]
        }
      ],
      "source": [
        "# Step 1:\n",
        "from random import randint\n",
        "# Step 2:\n",
        "count = 0\n",
        "# Step 3:\n",
        "for i in range(10000):\n",
        "    #Step 4:\n",
        "    num = randint(1, 100)\n",
        "    #Step 5:\n",
        "    if num%12==0:\n",
        "        count=count+1\n",
        "    # Step 6:\n",
        "print('Number of multiples of 12:', count)\n"
      ]
    },
    {
      "cell_type": "markdown",
      "metadata": {
        "id": "MuFdecbgDHG1"
      },
      "source": [
        "The following program should counts how many of the squares of the numbers from 1 to 100 end in 1.  (Example: 1,81,121). Debug the code."
      ]
    },
    {
      "cell_type": "code",
      "execution_count": 4,
      "metadata": {
        "id": "grwHNugFDHG2",
        "outputId": "3f6779d1-d2b4-480b-e43c-2cb5bd162652",
        "colab": {
          "base_uri": "https://localhost:8080/"
        }
      },
      "outputs": [
        {
          "output_type": "execute_result",
          "data": {
            "text/plain": [
              "1"
            ]
          },
          "metadata": {},
          "execution_count": 4
        }
      ],
      "source": [
        "import numpy as np\n",
        "def fun_square_count():\n",
        "    num_list = np.arange(1,101)\n",
        "    squred_num = [value**2 for value in num_list]\n",
        "    count=0\n",
        "    for num in squred_num:\n",
        "        if(num//10) == 1:\n",
        "            count +=1\n",
        "\n",
        "    return count\n",
        "\n",
        "fun_square_count()"
      ]
    },
    {
      "cell_type": "markdown",
      "metadata": {
        "id": "2YCRTiO7DHG3"
      },
      "source": [
        "Debug the following programs"
      ]
    },
    {
      "cell_type": "code",
      "execution_count": null,
      "metadata": {
        "id": "dpGkN_r4DHG4"
      },
      "outputs": [],
      "source": [
        "def add(a, b):\n",
        "    return a + b\n",
        "\n",
        "print(add(5, '2'))\n"
      ]
    },
    {
      "cell_type": "code",
      "execution_count": 5,
      "metadata": {
        "id": "Dy_0tD0bDHG5"
      },
      "outputs": [],
      "source": [
        "def divide(a, b):\n",
        "    result = a / b\n",
        "    return result\n",
        "\n"
      ]
    },
    {
      "cell_type": "code",
      "execution_count": 6,
      "metadata": {
        "id": "y32cfRQ8DHG5",
        "outputId": "171b150d-efc0-419b-d1b7-2f3d79163d68",
        "colab": {
          "base_uri": "https://localhost:8080/"
        }
      },
      "outputs": [
        {
          "output_type": "stream",
          "name": "stdout",
          "text": [
            "True\n"
          ]
        }
      ],
      "source": [
        "def is_prime(n):\n",
        "    if n <= 0:\n",
        "        return False\n",
        "    for i in range(2, n):\n",
        "        if n // i == 0:\n",
        "            return False\n",
        "    return True\n",
        "\n",
        "print(is_prime(15))\n"
      ]
    }
  ],
  "metadata": {
    "kernelspec": {
      "display_name": "Python 3",
      "language": "python",
      "name": "python3"
    },
    "language_info": {
      "codemirror_mode": {
        "name": "ipython",
        "version": 3
      },
      "file_extension": ".py",
      "mimetype": "text/x-python",
      "name": "python",
      "nbconvert_exporter": "python",
      "pygments_lexer": "ipython3",
      "version": "3.12.1"
    },
    "colab": {
      "provenance": []
    }
  },
  "nbformat": 4,
  "nbformat_minor": 0
}