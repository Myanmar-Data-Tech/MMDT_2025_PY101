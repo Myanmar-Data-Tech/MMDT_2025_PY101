{
  "cells": [
    {
      "cell_type": "markdown",
      "metadata": {
        "id": "view-in-github",
        "colab_type": "text"
      },
      "source": [
        "<a href=\"https://colab.research.google.com/github/drwaiyanbo/MMDT_2025_PY101/blob/waiyanbo/Waiyanbo/Ex6_2_Exception2_Waiyanbo.ipynb\" target=\"_parent\"><img src=\"https://colab.research.google.com/assets/colab-badge.svg\" alt=\"Open In Colab\"/></a>"
      ]
    },
    {
      "cell_type": "markdown",
      "metadata": {
        "id": "jqy8tdxASldY"
      },
      "source": [
        "# Exception Handling\n"
      ]
    },
    {
      "cell_type": "markdown",
      "metadata": {
        "id": "f8coa__DSlda"
      },
      "source": [
        "### Q2) Run the following programs and identify the potential errors.\n",
        "Use exception handling approach to handle and print all the potential erros.\n"
      ]
    },
    {
      "cell_type": "code",
      "execution_count": 4,
      "metadata": {
        "colab": {
          "base_uri": "https://localhost:8080/"
        },
        "id": "2y8L_VQMSldb",
        "outputId": "ec868b75-13d3-4beb-a34e-933098923cf9"
      },
      "outputs": [
        {
          "output_type": "stream",
          "name": "stdout",
          "text": [
            "Please enter a number to divide a: e\n",
            "Error: Invalid input. Please enter an integer.\n"
          ]
        }
      ],
      "source": [
        "#Q2.1)\n",
        "#Potential error: ZerrorDIvisionError and ValueError\n",
        "try:\n",
        "    a = 1\n",
        "    b = int(input(\"Please enter a number to divide a: \"))\n",
        "    a = a / b\n",
        "    print(\"Success! a =\", a)\n",
        "except ZeroDivisionError:\n",
        "    print(\"Error: Cannot divide by zero.\")\n",
        "except ValueError:\n",
        "    print(\"Error: Invalid input. Please enter an integer.\")\n",
        "except TypeError:\n",
        "    print(\"Error: Incorrect data type used.\")\n",
        "except Exception as e:\n",
        "    print(\"An unexpected error occurred:\", e)\n"
      ]
    },
    {
      "cell_type": "code",
      "execution_count": 8,
      "metadata": {
        "colab": {
          "base_uri": "https://localhost:8080/"
        },
        "id": "l8QwE7g0Sldc",
        "outputId": "058f59b2-962c-4380-f932-3310fddbd6de"
      },
      "outputs": [
        {
          "output_type": "stream",
          "name": "stdout",
          "text": [
            "Iteration: 0 0.4\n",
            "Iteration completed\n",
            "Iteration: 1 0.6\n",
            "Iteration completed\n",
            "Iteration: 2 1.0\n",
            "Iteration completed\n",
            "Iteration: 3 -1.4\n",
            "Iteration completed\n",
            "Iteration: 4 1.6\n",
            "Iteration completed\n",
            "Iteration: 5 0.0\n",
            "Iteration completed\n",
            "Error: Index 6 is out of range. List has only 6 items.\n",
            "Iteration completed\n"
          ]
        }
      ],
      "source": [
        "#Q2.2)\n",
        "#Potential Error: IndexError and ZeroDivisionError\n",
        "mylist = [2, 3, 5, -7, 8, 0]\n",
        "idx = 0\n",
        "b = 5\n",
        "\n",
        "while idx <= 6:\n",
        "    try:\n",
        "        result = mylist[idx] / b\n",
        "        print('Iteration:', idx, result)\n",
        "    except IndexError:\n",
        "        print(f\"Error: Index {idx} is out of range. List has only {len(mylist)} items.\")\n",
        "    except ZeroDivisionError:\n",
        "        print(\"Error: Division by zero.\")\n",
        "    except TypeError:\n",
        "        print(\"Error: Invalid type encountered during division.\")\n",
        "    except Exception as e:\n",
        "        print(f\"Unexpected error: {e}\")\n",
        "    finally:\n",
        "        print(\"Iteration completed\")\n",
        "        idx += 1\n",
        "\n",
        "\n",
        "\n",
        ""
      ]
    },
    {
      "cell_type": "code",
      "execution_count": null,
      "metadata": {
        "id": "olRtA9LdSldc"
      },
      "outputs": [],
      "source": []
    }
  ],
  "metadata": {
    "kernelspec": {
      "display_name": "Python 3",
      "language": "python",
      "name": "python3"
    },
    "language_info": {
      "codemirror_mode": {
        "name": "ipython",
        "version": 3
      },
      "file_extension": ".py",
      "mimetype": "text/x-python",
      "name": "python",
      "nbconvert_exporter": "python",
      "pygments_lexer": "ipython3",
      "version": "3.8.8"
    },
    "colab": {
      "provenance": [],
      "include_colab_link": true
    }
  },
  "nbformat": 4,
  "nbformat_minor": 0
}