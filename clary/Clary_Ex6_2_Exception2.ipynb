{
  "nbformat": 4,
  "nbformat_minor": 0,
  "metadata": {
    "colab": {
      "provenance": []
    },
    "kernelspec": {
      "name": "python3",
      "display_name": "Python 3"
    },
    "language_info": {
      "name": "python"
    }
  },
  "cells": [
    {
      "cell_type": "markdown",
      "source": [
        "**Exception** **Handling**"
      ],
      "metadata": {
        "id": "vs5qylvFDkLG"
      }
    },
    {
      "cell_type": "markdown",
      "source": [
        "**Q2) Run the following programs and identify the potential errors.**\n",
        "\n",
        "Use exception handling approach to handle and print all the potential erros."
      ],
      "metadata": {
        "id": "qvnqQ3qZDuNS"
      }
    },
    {
      "cell_type": "code",
      "source": [
        "#Q2.1)\n",
        "a = 1\n",
        "b = int(input(\"Please enter a number to divide a \"))\n",
        "a = a/b\n",
        "print(\"Success a= \",a)"
      ],
      "metadata": {
        "colab": {
          "base_uri": "https://localhost:8080/",
          "height": 211
        },
        "id": "Q7lWkwzND5tc",
        "outputId": "d9d76b7b-5ef0-4b9d-838c-918f062dd313"
      },
      "execution_count": 3,
      "outputs": [
        {
          "name": "stdout",
          "output_type": "stream",
          "text": [
            "Please enter a number to divide a 0\n"
          ]
        },
        {
          "output_type": "error",
          "ename": "ZeroDivisionError",
          "evalue": "division by zero",
          "traceback": [
            "\u001b[0;31m---------------------------------------------------------------------------\u001b[0m",
            "\u001b[0;31mZeroDivisionError\u001b[0m                         Traceback (most recent call last)",
            "\u001b[0;32m/tmp/ipython-input-3-3077343135.py\u001b[0m in \u001b[0;36m<cell line: 0>\u001b[0;34m()\u001b[0m\n\u001b[1;32m      2\u001b[0m \u001b[0ma\u001b[0m \u001b[0;34m=\u001b[0m \u001b[0;36m1\u001b[0m\u001b[0;34m\u001b[0m\u001b[0;34m\u001b[0m\u001b[0m\n\u001b[1;32m      3\u001b[0m \u001b[0mb\u001b[0m \u001b[0;34m=\u001b[0m \u001b[0mint\u001b[0m\u001b[0;34m(\u001b[0m\u001b[0minput\u001b[0m\u001b[0;34m(\u001b[0m\u001b[0;34m\"Please enter a number to divide a \"\u001b[0m\u001b[0;34m)\u001b[0m\u001b[0;34m)\u001b[0m\u001b[0;34m\u001b[0m\u001b[0;34m\u001b[0m\u001b[0m\n\u001b[0;32m----> 4\u001b[0;31m \u001b[0ma\u001b[0m \u001b[0;34m=\u001b[0m \u001b[0ma\u001b[0m\u001b[0;34m/\u001b[0m\u001b[0mb\u001b[0m\u001b[0;34m\u001b[0m\u001b[0;34m\u001b[0m\u001b[0m\n\u001b[0m\u001b[1;32m      5\u001b[0m \u001b[0mprint\u001b[0m\u001b[0;34m(\u001b[0m\u001b[0;34m\"Success a= \"\u001b[0m\u001b[0;34m,\u001b[0m\u001b[0ma\u001b[0m\u001b[0;34m)\u001b[0m\u001b[0;34m\u001b[0m\u001b[0;34m\u001b[0m\u001b[0m\n",
            "\u001b[0;31mZeroDivisionError\u001b[0m: division by zero"
          ]
        }
      ]
    },
    {
      "cell_type": "code",
      "source": [
        "#Potential Error: ZeroDivisionError and ValueError\n",
        "try:\n",
        "    a = 1\n",
        "    b = int(input(\"Please enter a number to divide a: \"))\n",
        "    a = a / b\n",
        "    print(\"Success! a =\", a)\n",
        "except ZeroDivisionError:\n",
        "    print(\"Error: Cannot divide by zero.\")\n",
        "except ValueError:\n",
        "    print(\"Error: Invalid input. Please enter an integer.\")\n",
        "except TypeError:\n",
        "    print(\"Error: Incorrect data type used.\")\n",
        "except Exception as e:\n",
        "    print(\"An unexpected error occurred:\", e)\n"
      ],
      "metadata": {
        "colab": {
          "base_uri": "https://localhost:8080/"
        },
        "id": "URA6bE4OzLq1",
        "outputId": "4dfd1e30-f287-4ce4-9648-8cf53161a1fd"
      },
      "execution_count": 4,
      "outputs": [
        {
          "output_type": "stream",
          "name": "stdout",
          "text": [
            "Please enter a number to divide a: 2\n",
            "Success! a = 0.5\n"
          ]
        }
      ]
    },
    {
      "cell_type": "code",
      "source": [
        "#Q2.2)\n",
        "mylist = [2, 3, 5, -7, 8, 0]\n",
        "idx = 0\n",
        "b = 5\n",
        "while idx<=6:\n",
        "    print('Iteration:', idx, mylist[idx]/b)\n",
        "    idx = idx+1\n",
        "    print('Iteration completed')"
      ],
      "metadata": {
        "colab": {
          "base_uri": "https://localhost:8080/",
          "height": 419
        },
        "id": "MCqRVElsEDGs",
        "outputId": "e232ea22-16a1-453b-b5f1-cb78f8c280a9"
      },
      "execution_count": 2,
      "outputs": [
        {
          "output_type": "stream",
          "name": "stdout",
          "text": [
            "Iteration: 0 0.4\n",
            "Iteration completed\n",
            "Iteration: 1 0.6\n",
            "Iteration completed\n",
            "Iteration: 2 1.0\n",
            "Iteration completed\n",
            "Iteration: 3 -1.4\n",
            "Iteration completed\n",
            "Iteration: 4 1.6\n",
            "Iteration completed\n",
            "Iteration: 5 0.0\n",
            "Iteration completed\n"
          ]
        },
        {
          "output_type": "error",
          "ename": "IndexError",
          "evalue": "list index out of range",
          "traceback": [
            "\u001b[0;31m---------------------------------------------------------------------------\u001b[0m",
            "\u001b[0;31mIndexError\u001b[0m                                Traceback (most recent call last)",
            "\u001b[0;32m/tmp/ipython-input-2-3757446247.py\u001b[0m in \u001b[0;36m<cell line: 0>\u001b[0;34m()\u001b[0m\n\u001b[1;32m      4\u001b[0m \u001b[0mb\u001b[0m \u001b[0;34m=\u001b[0m \u001b[0;36m5\u001b[0m\u001b[0;34m\u001b[0m\u001b[0;34m\u001b[0m\u001b[0m\n\u001b[1;32m      5\u001b[0m \u001b[0;32mwhile\u001b[0m \u001b[0midx\u001b[0m\u001b[0;34m<=\u001b[0m\u001b[0;36m6\u001b[0m\u001b[0;34m:\u001b[0m\u001b[0;34m\u001b[0m\u001b[0;34m\u001b[0m\u001b[0m\n\u001b[0;32m----> 6\u001b[0;31m     \u001b[0mprint\u001b[0m\u001b[0;34m(\u001b[0m\u001b[0;34m'Iteration:'\u001b[0m\u001b[0;34m,\u001b[0m \u001b[0midx\u001b[0m\u001b[0;34m,\u001b[0m \u001b[0mmylist\u001b[0m\u001b[0;34m[\u001b[0m\u001b[0midx\u001b[0m\u001b[0;34m]\u001b[0m\u001b[0;34m/\u001b[0m\u001b[0mb\u001b[0m\u001b[0;34m)\u001b[0m\u001b[0;34m\u001b[0m\u001b[0;34m\u001b[0m\u001b[0m\n\u001b[0m\u001b[1;32m      7\u001b[0m     \u001b[0midx\u001b[0m \u001b[0;34m=\u001b[0m \u001b[0midx\u001b[0m\u001b[0;34m+\u001b[0m\u001b[0;36m1\u001b[0m\u001b[0;34m\u001b[0m\u001b[0;34m\u001b[0m\u001b[0m\n\u001b[1;32m      8\u001b[0m     \u001b[0mprint\u001b[0m\u001b[0;34m(\u001b[0m\u001b[0;34m'Iteration completed'\u001b[0m\u001b[0;34m)\u001b[0m\u001b[0;34m\u001b[0m\u001b[0;34m\u001b[0m\u001b[0m\n",
            "\u001b[0;31mIndexError\u001b[0m: list index out of range"
          ]
        }
      ]
    },
    {
      "cell_type": "code",
      "source": [
        "#Potential Error: IndexError and ZeroDivisionError\n",
        "mylist = [2, 3, 5, -7, 8, 0]\n",
        "idx = 0\n",
        "b = 5\n",
        "\n",
        "while idx <= 6:\n",
        "    try:\n",
        "        result = mylist[idx] / b\n",
        "        print('Iteration:', idx, result)\n",
        "    except IndexError:\n",
        "        print(f\"Error: Index {idx} is out of range. List has only {len(mylist)} items.\")\n",
        "    except ZeroDivisionError:\n",
        "        print(\"Error: Division by zero.\")\n",
        "    except TypeError:\n",
        "        print(\"Error: Invalid type encountered during division.\")\n",
        "    except Exception as e:\n",
        "        print(f\"Unexpected error: {e}\")\n",
        "    finally:\n",
        "        print(\"Iteration completed\")\n",
        "        idx += 1\n"
      ],
      "metadata": {
        "colab": {
          "base_uri": "https://localhost:8080/"
        },
        "id": "iuDI4IVkz1N3",
        "outputId": "563c7b6b-64db-47f0-d2ae-5bb9d109e309"
      },
      "execution_count": 5,
      "outputs": [
        {
          "output_type": "stream",
          "name": "stdout",
          "text": [
            "Iteration: 0 0.4\n",
            "Iteration completed\n",
            "Iteration: 1 0.6\n",
            "Iteration completed\n",
            "Iteration: 2 1.0\n",
            "Iteration completed\n",
            "Iteration: 3 -1.4\n",
            "Iteration completed\n",
            "Iteration: 4 1.6\n",
            "Iteration completed\n",
            "Iteration: 5 0.0\n",
            "Iteration completed\n",
            "Error: Index 6 is out of range. List has only 6 items.\n",
            "Iteration completed\n"
          ]
        }
      ]
    }
  ]
}