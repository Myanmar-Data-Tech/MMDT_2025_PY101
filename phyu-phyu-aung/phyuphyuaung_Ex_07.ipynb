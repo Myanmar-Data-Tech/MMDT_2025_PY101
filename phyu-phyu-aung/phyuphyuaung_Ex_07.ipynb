{
 "cells": [
  {
   "cell_type": "markdown",
   "id": "36051cc4",
   "metadata": {},
   "source": [
    "Simple Debugging\n",
    "Add print statements to your program. Add input() to pause the program"
   ]
  },
  {
   "cell_type": "code",
   "execution_count": 3,
   "id": "26755faf",
   "metadata": {},
   "outputs": [
    {
     "name": "stdout",
     "output_type": "stream",
     "text": [
      "Step 1: The random number generate is 4\n",
      "Hello Hello Hello Hello \n",
      "Hello Hello Hello Hello \n",
      "Hello Hello Hello Hello \n",
      "Hello Hello Hello Hello \n",
      "Hello Hello Hello Hello \n",
      "Hello Hello Hello Hello \n"
     ]
    }
   ],
   "source": [
    "from random import randint\n",
    "\n",
    "#Step 1: generate a random number between 1 and 5\n",
    "rand_num = randint(1,5)\n",
    "\n",
    "# add print statment here to know the value of rand_num\n",
    "print(f\"Step 1: The random number generate is {rand_num}\")\n",
    "\n",
    "# Pause the program so you can see the the value before proceeding\n",
    "input(\"Press Enter to continue to Step 2...\")\n",
    "\n",
    "# Step 2: What does this code do? \n",
    "for i in range(6):\n",
    "    print('Hello '*rand_num)"
   ]
  },
  {
   "cell_type": "markdown",
   "id": "60e434c8",
   "metadata": {},
   "source": [
    "Write a program that generates 10000 random numbers between 1 and 100 and counts how many of them are multiples of 12."
   ]
  },
  {
   "cell_type": "code",
   "execution_count": null,
   "id": "de910c87",
   "metadata": {},
   "outputs": [
    {
     "name": "stdout",
     "output_type": "stream",
     "text": [
      "Number of multiples of 12: 770\n"
     ]
    }
   ],
   "source": [
    "# Step 1: import random number generator\n",
    "from random import randint\n",
    "\n",
    "# Step 2: the count for multiples of 12\n",
    "count = 0\n",
    "\n",
    "# Step 3: loop 10000 times to generate random numbers\n",
    "for i in range(10000):\n",
    "    #Step 4: generate a random number between 1 and 100\n",
    "    num = randint(1, 100)\n",
    "\n",
    "    #Step 5: \n",
    "    if num % 12 == 0:\n",
    "        count = count + 1\n",
    "\n",
    "    # Step 6: print the final count\n",
    "print('Number of multiples of 12:', count)"
   ]
  },
  {
   "cell_type": "markdown",
   "id": "8d7afcf2",
   "metadata": {},
   "source": [
    "The following program should counts how many of the squares of the numbers from 1 to 100 end in 1. (Example: 1,81,121). Debug the code."
   ]
  },
  {
   "cell_type": "code",
   "execution_count": 8,
   "id": "c4731ba0",
   "metadata": {},
   "outputs": [
    {
     "name": "stdout",
     "output_type": "stream",
     "text": [
      "Count of squares ending with 1: 20\n"
     ]
    }
   ],
   "source": [
    "import numpy as np # type: ignore\n",
    "\n",
    "def fun_square_count():\n",
    "    num_list = np.arange(1,101)\n",
    "\n",
    "    # compute the square of each number in the list \n",
    "    squred_num = [value**2 for value in num_list]\n",
    "    count=0\n",
    "    for num in squred_num:\n",
    "        # check if the last digit of the squared number is 1 using modulus operator\n",
    "        if num % 10 == 1:            \n",
    "            count +=1\n",
    "            \n",
    "    return count\n",
    "\n",
    "result = fun_square_count()\n",
    "print(\"Count of squares ending with 1:\", result)"
   ]
  },
  {
   "cell_type": "markdown",
   "id": "b3cd8706",
   "metadata": {},
   "source": [
    "Debug the following programs"
   ]
  },
  {
   "cell_type": "code",
   "execution_count": 7,
   "id": "b981bf1b",
   "metadata": {},
   "outputs": [
    {
     "name": "stdout",
     "output_type": "stream",
     "text": [
      "7\n"
     ]
    }
   ],
   "source": [
    "def add(a, b):\n",
    "    try:\n",
    "        return a + int(b)\n",
    "    except ValueError:\n",
    "        print(\"Error: b must be numbers or numeric strings.\")\n",
    "    except TypeError:\n",
    "        print(\"Error: Incompatible types.\")\n",
    "\n",
    "print(add(5, '2'))"
   ]
  },
  {
   "cell_type": "code",
   "execution_count": 14,
   "id": "65e90297",
   "metadata": {},
   "outputs": [],
   "source": [
    "def divide(a, b):\n",
    "    try:\n",
    "        result = a / b\n",
    "        return result\n",
    "    except ZeroDivisionError:\n",
    "        print(\"Error: Cannot divide by zero.\")\n",
    "    except TypeError:\n",
    "        print(\"Error: Inputs must be number.\")\n",
    "    except Exception as e:\n",
    "        print(\"Unexcepted error:\", str(e))\n",
    "    return None # Return None in case of any error."
   ]
  },
  {
   "cell_type": "code",
   "execution_count": 16,
   "id": "1413dbd7",
   "metadata": {},
   "outputs": [
    {
     "name": "stdout",
     "output_type": "stream",
     "text": [
      "False\n"
     ]
    }
   ],
   "source": [
    "def is_prime(n):\n",
    "    # number less than or equal to 1 are not prime\n",
    "    if n <= 1:\n",
    "        return False\n",
    "    for i in range(2, n):\n",
    "        # check for divisibility\n",
    "        if n % i == 0:\n",
    "            return False\n",
    "    return True\n",
    "\n",
    "print(is_prime(15))"
   ]
  }
 ],
 "metadata": {
  "kernelspec": {
   "display_name": "Python 3",
   "language": "python",
   "name": "python3"
  },
  "language_info": {
   "codemirror_mode": {
    "name": "ipython",
    "version": 3
   },
   "file_extension": ".py",
   "mimetype": "text/x-python",
   "name": "python",
   "nbconvert_exporter": "python",
   "pygments_lexer": "ipython3",
   "version": "3.13.1"
  }
 },
 "nbformat": 4,
 "nbformat_minor": 5
}
