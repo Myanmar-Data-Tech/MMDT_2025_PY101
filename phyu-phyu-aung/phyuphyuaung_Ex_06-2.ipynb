{
 "cells": [
  {
   "cell_type": "markdown",
   "id": "051de0f1",
   "metadata": {},
   "source": [
    "Q2) Run the following programs and identify the potential errors.\n",
    "Use exception handling approach to handle and print all the potential erros."
   ]
  },
  {
   "cell_type": "code",
   "execution_count": 5,
   "id": "64530000",
   "metadata": {},
   "outputs": [
    {
     "name": "stdout",
     "output_type": "stream",
     "text": [
      "Error: Cannot divide by zero.\n"
     ]
    }
   ],
   "source": [
    "#Q2.1) \n",
    "a = 1\n",
    "try:\n",
    "    b = int(input(\"Please enter a number to divide a \"))\n",
    "    a = a/b\n",
    "except ValueError:\n",
    "    print(\"Errror: Invalid input, Please enter  valid integer. \")\n",
    "except ZeroDivisionError:\n",
    "    print(\"Error: Cannot divide by zero.\")\n",
    "except Exception as e:\n",
    "    print(f\"Unexcepted error: {e}\")\n",
    "else:\n",
    "    print(\"Success a= \",a)"
   ]
  },
  {
   "cell_type": "code",
   "execution_count": 5,
   "id": "d90e0ca2",
   "metadata": {},
   "outputs": [
    {
     "name": "stdout",
     "output_type": "stream",
     "text": [
      "Iteration: 0 0.4\n",
      "Iteration completed\n",
      "Iteration: 1 0.6\n",
      "Iteration completed\n",
      "Iteration: 2 1.0\n",
      "Iteration completed\n",
      "Iteration: 3 -1.4\n",
      "Iteration completed\n",
      "Iteration: 4 1.6\n",
      "Iteration completed\n",
      "Iteration: 5 0.0\n",
      "Iteration completed\n",
      "Error: Index 6 is out of range.\n",
      "Iteration completed\n"
     ]
    }
   ],
   "source": [
    "#Q2.2) \n",
    "mylist = [2, 3, 5, -7, 8, 0]\n",
    "idx = 0\n",
    "b = 5\n",
    "while idx<=6:\n",
    "    try:\n",
    "        print('Iteration:', idx, mylist[idx]/b)\n",
    "    except IndexError:\n",
    "        print(f\"Error: Index {idx} is out of range.\")\n",
    "    except ZeroDivisionError:\n",
    "        print(\"Erroe: Division by zero.\")\n",
    "    except Exception as e:\n",
    "        print(f\"Unexpected error at index {idx}: {str(e)}\")\n",
    "    finally:\n",
    "        print('Iteration completed')\n",
    "    idx = idx+1"
   ]
  }
 ],
 "metadata": {
  "kernelspec": {
   "display_name": "Python 3",
   "language": "python",
   "name": "python3"
  },
  "language_info": {
   "codemirror_mode": {
    "name": "ipython",
    "version": 3
   },
   "file_extension": ".py",
   "mimetype": "text/x-python",
   "name": "python",
   "nbconvert_exporter": "python",
   "pygments_lexer": "ipython3",
   "version": "3.13.1"
  }
 },
 "nbformat": 4,
 "nbformat_minor": 5
}
