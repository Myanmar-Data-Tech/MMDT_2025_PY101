{
  "cells": [
    {
      "cell_type": "markdown",
      "metadata": {
        "id": "zUrBa02G9R-i"
      },
      "source": [
        "# Exception Handling\n"
      ]
    },
    {
      "cell_type": "markdown",
      "metadata": {
        "id": "EYYcjFDX9R-j"
      },
      "source": [
        "### Q1) Run the following programs and identify the errors.\n",
        "Use exception handling approach to handle the erros.\n"
      ]
    },
    {
      "cell_type": "code",
      "execution_count": 5,
      "metadata": {
        "id": "lNdF2Dpp9R-k",
        "outputId": "8f20da1c-e99a-4284-f480-dcddb96c6dc9",
        "colab": {
          "base_uri": "https://localhost:8080/"
        }
      },
      "outputs": [
        {
          "output_type": "stream",
          "name": "stdout",
          "text": [
            "Denominator value is 0\n"
          ]
        }
      ],
      "source": [
        "#Q1.1) Zero division error\n",
        "def myfunction(a,b):\n",
        "\n",
        "    try:\n",
        "      answer = a/b\n",
        "    except ZeroDivisionError:\n",
        "      print(\"Denominator value is {}\".format(b))\n",
        "    else:\n",
        "      return(answer)\n",
        "\n",
        "\n",
        "#Call the function as follows:\n",
        "myfunction(2,0)"
      ]
    },
    {
      "cell_type": "code",
      "execution_count": null,
      "metadata": {
        "id": "5lH1Zl3_9R-k"
      },
      "outputs": [],
      "source": [
        "#Q1.2 Name Error\n",
        "\n",
        "def myfunction2(c):\n",
        "  try:\n",
        "    answer = a/c\n",
        "  except NameError:\n",
        "    print(\"There is undefined variable here.\")\n",
        "  else:\n",
        "    return (answer)\n",
        "\n",
        "\n",
        "# Call the function as follows:\n",
        "myfunction2(3)"
      ]
    },
    {
      "cell_type": "code",
      "execution_count": null,
      "metadata": {
        "scrolled": true,
        "id": "bYZ1iIK39R-k"
      },
      "outputs": [],
      "source": [
        "#Q1.3 IndexError\n",
        "a = [1, 2, 3]\n",
        "for k in range(0,4):\n",
        "  try:\n",
        "    print(a[k])\n",
        "  except IndexError:\n",
        "    print(\"Index Error!\")\n",
        "  else:\n",
        "    print(\"This is the number you requested from the list\")"
      ]
    },
    {
      "cell_type": "code",
      "execution_count": null,
      "metadata": {
        "id": "qUKmzRT79R-l"
      },
      "outputs": [],
      "source": [
        "#Q1.4 Zero Division Error, Value Error\n",
        "a = 1\n",
        "b = input(\"Please enter a number to divide a: \")\n",
        "try:\n",
        "  a = a/int(b)\n",
        "\n",
        "except ZeroDivisionError:\n",
        "  print('The denominator value is {}. Input values except zero.'.format(b))\n",
        "except ValueError:\n",
        "  print(\"You have to input numbers only!\")\n",
        "else:\n",
        "  print(\"Success a=\",a)"
      ]
    },
    {
      "cell_type": "code",
      "execution_count": null,
      "metadata": {
        "id": "eY9NFLo69R-l",
        "outputId": "f45b7787-8c47-40c5-e21e-4ff087c9fdba"
      },
      "outputs": [
        {
          "name": "stdout",
          "output_type": "stream",
          "text": [
            "Inputs must be numbers\n"
          ]
        }
      ],
      "source": [
        "def divide(a, b):\n",
        "    try:\n",
        "        result = a / b\n",
        "        print('The result of division is', result)\n",
        "    except ZeroDivisionError:\n",
        "        print('Numerator must be greater than zero')\n",
        "    except TypeError:\n",
        "        print('Inputs must be numbers')\n",
        "    else:\n",
        "        return result\n",
        "\n",
        "\n",
        "divide(\"10\",2)"
      ]
    },
    {
      "cell_type": "code",
      "execution_count": null,
      "metadata": {
        "id": "SfROVkID9R-l",
        "outputId": "7e411931-54be-43df-ef85-7411ce62af37"
      },
      "outputs": [
        {
          "name": "stdout",
          "output_type": "stream",
          "text": [
            "File reading completed successfully\n"
          ]
        },
        {
          "data": {
            "text/plain": [
              "'I love this movie! It is sweet, but with satirical humor. The dialogs are great and the adventure scenes are fun. It manages to be romantic and whimsical while laughingat the conventions of the fairy tale genre. I would recommend it to just about anyone. I have seen it several times and I am always happy to see it again and again. '"
            ]
          },
          "execution_count": 19,
          "metadata": {},
          "output_type": "execute_result"
        }
      ],
      "source": [
        "def read_file(filename):\n",
        "    try:\n",
        "        with open(filename, 'r') as file1:\n",
        "            word_string = file1.read()\n",
        "        print(\"File reading completed successfully\")\n",
        "        return word_string\n",
        "    except FileNotFoundError:\n",
        "        print(\"File does not exist.\")\n",
        "\n",
        "\n",
        "\n",
        "read_file(\"./data/Q1.txt\")"
      ]
    }
  ],
  "metadata": {
    "kernelspec": {
      "display_name": "Python 3",
      "language": "python",
      "name": "python3"
    },
    "language_info": {
      "codemirror_mode": {
        "name": "ipython",
        "version": 3
      },
      "file_extension": ".py",
      "mimetype": "text/x-python",
      "name": "python",
      "nbconvert_exporter": "python",
      "pygments_lexer": "ipython3",
      "version": "3.12.1"
    },
    "colab": {
      "provenance": []
    }
  },
  "nbformat": 4,
  "nbformat_minor": 0
}