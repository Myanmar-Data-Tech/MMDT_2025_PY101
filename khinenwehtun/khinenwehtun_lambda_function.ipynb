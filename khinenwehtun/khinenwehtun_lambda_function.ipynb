{
  "nbformat": 4,
  "nbformat_minor": 0,
  "metadata": {
    "colab": {
      "provenance": [],
      "toc_visible": true,
      "authorship_tag": "ABX9TyO1+ijR/TmL21YFMy15CmvY",
      "include_colab_link": true
    },
    "kernelspec": {
      "name": "python3",
      "display_name": "Python 3"
    },
    "language_info": {
      "name": "python"
    }
  },
  "cells": [
    {
      "cell_type": "markdown",
      "metadata": {
        "id": "view-in-github",
        "colab_type": "text"
      },
      "source": [
        "<a href=\"https://colab.research.google.com/github/khinenwehtun/MMDT_2025_PY101/blob/main/khinenwehtun/khinenwehtun_lambda_function.ipynb\" target=\"_parent\"><img src=\"https://colab.research.google.com/assets/colab-badge.svg\" alt=\"Open In Colab\"/></a>"
      ]
    },
    {
      "cell_type": "code",
      "execution_count": 1,
      "metadata": {
        "colab": {
          "base_uri": "https://localhost:8080/"
        },
        "id": "arKoeeYp_4rB",
        "outputId": "296ef816-35ff-44f3-b739-ac5134f8e859"
      },
      "outputs": [
        {
          "output_type": "execute_result",
          "data": {
            "text/plain": [
              "25"
            ]
          },
          "metadata": {},
          "execution_count": 1
        }
      ],
      "source": [
        "from datetime import datetime\n",
        "\n",
        "current_year = datetime.now().year\n",
        "calculate_age = lambda year: current_year - year\n",
        "calculate_age(2000)"
      ]
    },
    {
      "cell_type": "code",
      "source": [
        "calculate_pirce = lambda cost: cost + cost*0.10\n",
        "\n",
        "calculate_pirce(56)"
      ],
      "metadata": {
        "colab": {
          "base_uri": "https://localhost:8080/"
        },
        "id": "sZdDH4PaAAWb",
        "outputId": "75ad5390-cf6f-4015-fcb7-837837fea2de"
      },
      "execution_count": 2,
      "outputs": [
        {
          "output_type": "execute_result",
          "data": {
            "text/plain": [
              "61.6"
            ]
          },
          "metadata": {},
          "execution_count": 2
        }
      ]
    },
    {
      "cell_type": "code",
      "source": [
        "names = ['Richard', 'Karam', 'Karpo', 'Sonam', 'Ugyen']\n",
        "create_email = lambda name: name.lower()+'@gmail.com'\n",
        "emails = [*map(create_email, names)]\n",
        "emails"
      ],
      "metadata": {
        "colab": {
          "base_uri": "https://localhost:8080/"
        },
        "id": "KJV0G_IKAFE9",
        "outputId": "861bd7f8-fcac-4146-866a-d090672e0027"
      },
      "execution_count": 3,
      "outputs": [
        {
          "output_type": "execute_result",
          "data": {
            "text/plain": [
              "['richard@gmail.com',\n",
              " 'karam@gmail.com',\n",
              " 'karpo@gmail.com',\n",
              " 'sonam@gmail.com',\n",
              " 'ugyen@gmail.com']"
            ]
          },
          "metadata": {},
          "execution_count": 3
        }
      ]
    },
    {
      "cell_type": "code",
      "source": [
        "create_custom_email = lambda name, domain: name.lower()+'@'+domain\n",
        "create_custom_email('myo', 'drmyothida.com')"
      ],
      "metadata": {
        "colab": {
          "base_uri": "https://localhost:8080/",
          "height": 35
        },
        "id": "xwA428KiAJgc",
        "outputId": "d65cd21c-738b-40ff-ec2d-ae29e0e06c0d"
      },
      "execution_count": 4,
      "outputs": [
        {
          "output_type": "execute_result",
          "data": {
            "text/plain": [
              "'myo@drmyothida.com'"
            ],
            "application/vnd.google.colaboratory.intrinsic+json": {
              "type": "string"
            }
          },
          "metadata": {},
          "execution_count": 4
        }
      ]
    },
    {
      "cell_type": "code",
      "source": [
        "\n",
        "old_list = [2, 4, 6, 7, 9]\n",
        "new_list1 = [item**2 for item in old_list]\n",
        "\n",
        "new_list2 = []\n",
        "for item in old_list:\n",
        "    new_list2.append(item**2)\n",
        "\n",
        "print(new_list1, new_list2)"
      ],
      "metadata": {
        "colab": {
          "base_uri": "https://localhost:8080/"
        },
        "id": "27w0d0I3ANt8",
        "outputId": "726b354d-ef30-432e-fb9a-2e493e6aaaf3"
      },
      "execution_count": 5,
      "outputs": [
        {
          "output_type": "stream",
          "name": "stdout",
          "text": [
            "[4, 16, 36, 49, 81] [4, 16, 36, 49, 81]\n"
          ]
        }
      ]
    },
    {
      "cell_type": "code",
      "source": [],
      "metadata": {
        "id": "l4XW4R0-AU9Q"
      },
      "execution_count": null,
      "outputs": []
    }
  ]
}