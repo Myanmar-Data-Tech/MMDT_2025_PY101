{
 "cells": [
  {
   "cell_type": "markdown",
   "id": "79c17da1",
   "metadata": {},
   "source": [
    "Ex 1: Write a function called rectangle that takes two integers m and n as arguments and prints out an m× n box consisting of asterisks. Shown below is the output of rectangle(2,4)"
   ]
  },
  {
   "cell_type": "code",
   "execution_count": 3,
   "id": "814eae4f",
   "metadata": {},
   "outputs": [
    {
     "name": "stdout",
     "output_type": "stream",
     "text": [
      "****\n",
      "****\n"
     ]
    }
   ],
   "source": [
    "def rectangle(m,n):\n",
    "    for r in range(m):\n",
    "        print(n*'*')\n",
    "\n",
    "rectangle(2,4)"
   ]
  },
  {
   "cell_type": "markdown",
   "id": "6b3001a8",
   "metadata": {},
   "source": [
    "Ex 2: Write a function that takes an integer n and returns a random integer with exactly n digits. For instance, if n is 3, then 125 and 593 would be valid return values, but 093 would not because that is really 93, which is a two-digit number."
   ]
  },
  {
   "cell_type": "code",
   "execution_count": null,
   "id": "a8e536fb",
   "metadata": {},
   "outputs": [
    {
     "name": "stdout",
     "output_type": "stream",
     "text": [
      "379\n"
     ]
    }
   ],
   "source": [
    "import random\n",
    "\n",
    "def random_n_digit(n):\n",
    "    if n <= 0:\n",
    "        return None\n",
    "    \n",
    "    # Start n-digit number is 10**(n-1)\n",
    "    # end n-digit number is 10**n-1\n",
    "    start = 10**(n-1)\n",
    "    end = 10**n-1\n",
    "\n",
    "    return random.randint(start,end)\n",
    "\n",
    "print(random_n_digit(3))"
   ]
  },
  {
   "cell_type": "markdown",
   "id": "b6cb6d6c",
   "metadata": {},
   "source": [
    "Ex 3: Write a function called number_of_factors that takes an integer and returns how many factors the number has."
   ]
  },
  {
   "cell_type": "code",
   "execution_count": 17,
   "id": "83ed5838",
   "metadata": {},
   "outputs": [
    {
     "name": "stdout",
     "output_type": "stream",
     "text": [
      "4\n",
      "6\n"
     ]
    }
   ],
   "source": [
    "def number_of_factors(n):\n",
    "    if n <= 0:\n",
    "        return None\n",
    "    \n",
    "    count = 0\n",
    "    for i in range(1, n + 1):\n",
    "        if n % i == 0:\n",
    "            count += 1\n",
    "    return count\n",
    "\n",
    "print(number_of_factors(6))\n",
    "print(number_of_factors(12))"
   ]
  },
  {
   "cell_type": "markdown",
   "id": "8c1c6d24",
   "metadata": {},
   "source": [
    "Ex4: Write a function called first_diff that is given two strings and returns the first location in which the strings differ. If the strings are identical, it should return -1.Ignore the case in your function. It means h and H are the same."
   ]
  },
  {
   "cell_type": "code",
   "execution_count": null,
   "id": "774f156e",
   "metadata": {},
   "outputs": [
    {
     "name": "stdout",
     "output_type": "stream",
     "text": [
      "-1\n",
      "6\n",
      "2\n",
      "2\n"
     ]
    }
   ],
   "source": [
    "def first_diff(str1, str2):\n",
    "    # convert 2 strings to lowercase to ignore cae differences\n",
    "    str1 = str1.lower()\n",
    "    str2 = str2.lower()\n",
    "\n",
    "    # find kength of shorter string\n",
    "    min_len = min(len(str1), len(str2))\n",
    "\n",
    "    # compare characters one by one\n",
    "    for i in range(min_len):\n",
    "        if str1[i] != str2[i]:\n",
    "            return i\n",
    "\n",
    "    # if no difference found in common length,\n",
    "    # if the strings are the same length \n",
    "    if len(str1) != len(str2):\n",
    "        return min_len\n",
    "    \n",
    "    return -1\n",
    "\n",
    "print(first_diff(\"hello\", \"Hello\"))  # -1 (no difference)\n",
    "print(first_diff(\"Python\", \"pyTHoN8\")) # 6 (extra 8 in 2nd string)\n",
    "print(first_diff(\"test\", \"tent\")) # 2('s' and 'n' differ at index 2)\n",
    "print(first_diff(\"abc\", \"ab\")) # 2 (string differ)"
   ]
  },
  {
   "cell_type": "markdown",
   "id": "dd7bc024",
   "metadata": {},
   "source": [
    "Ex5: Write a function called root that is given a number x and an integer n and returns x/n. In the function definition, set the default value of n to 2."
   ]
  },
  {
   "cell_type": "code",
   "execution_count": 26,
   "id": "60532e20",
   "metadata": {},
   "outputs": [
    {
     "name": "stdout",
     "output_type": "stream",
     "text": [
      "8.0\n",
      "3.2\n"
     ]
    }
   ],
   "source": [
    "def root(x, n=2):\n",
    "    return x / n\n",
    "\n",
    "print(root(16))\n",
    "print(root(16,5))"
   ]
  },
  {
   "cell_type": "markdown",
   "id": "010ed3bb",
   "metadata": {},
   "source": [
    "Ex6: Write a function that solves the system of equations ax + by = e and cx +dy = f. Your function should takes 6 parameters, (a, b, c, d, e,f) and return the values of x and y."
   ]
  },
  {
   "cell_type": "code",
   "execution_count": 28,
   "id": "e402f152",
   "metadata": {},
   "outputs": [
    {
     "name": "stdout",
     "output_type": "stream",
     "text": [
      "x = -0.9285714285714286, y = 2.2857142857142856\n"
     ]
    }
   ],
   "source": [
    "def solve_system(a, b, c, d, e, f):\n",
    "    # Calculate the determinant of the coefficient matrix\n",
    "    determinant = a * d - b * c\n",
    "\n",
    "    if determinant == 0:\n",
    "        return None\n",
    "    \n",
    "    # Use Cramer's Rule to find x and y\n",
    "    x = (e * d - b * f) / determinant\n",
    "    y = (a * f - e * c) / determinant\n",
    "    return x, y\n",
    "\n",
    "x, y = solve_system(2, 3, -4, 1, 5, 6)\n",
    "print(f\"x = {x}, y = {y}\")"
   ]
  },
  {
   "cell_type": "markdown",
   "id": "b6f6b2ef",
   "metadata": {},
   "source": [
    "Ex7: Write a function called change_case that given a string, returns a string with each upper case letter replaced by a lower case letter and vice-versa"
   ]
  },
  {
   "cell_type": "code",
   "execution_count": 31,
   "id": "9b8297f8",
   "metadata": {},
   "outputs": [
    {
     "name": "stdout",
     "output_type": "stream",
     "text": [
      "hELLO wORLD!\n",
      "yANGON 4.5 tOWNSHIP\n"
     ]
    }
   ],
   "source": [
    "def change_case(s):\n",
    "    result = \"\"\n",
    "    for char in s:\n",
    "        if char.isupper():\n",
    "            result += char.lower()\n",
    "        elif char.islower():\n",
    "            result += char.upper()\n",
    "        else:\n",
    "            result += char\n",
    "    return result\n",
    "\n",
    "print(change_case(\"Hello World!\"))\n",
    "print(change_case(\"Yangon 4.5 Township\"))"
   ]
  },
  {
   "cell_type": "markdown",
   "id": "49f4e6cb",
   "metadata": {},
   "source": [
    "Ex8: Write a function called primes that is given a number n and returns a list of the first n primes. Let the default value of n be 100."
   ]
  },
  {
   "cell_type": "code",
   "execution_count": 32,
   "id": "82a08d91",
   "metadata": {},
   "outputs": [
    {
     "name": "stdout",
     "output_type": "stream",
     "text": [
      "[2, 3, 5, 7, 11, 13, 17, 19, 23, 29]\n"
     ]
    }
   ],
   "source": [
    "def is_primes(num):\n",
    "    if num <= 1:\n",
    "        return False\n",
    "    if num == 2:\n",
    "        return True\n",
    "    if num % 2 == 0:\n",
    "        return False\n",
    "    for i in range(3, int(num**0.5)+ 1, 2):\n",
    "        if num % i == 0:\n",
    "            return False\n",
    "    return True\n",
    "\n",
    "def primes(n=100):\n",
    "    prime_list = []\n",
    "    candidate = 2\n",
    "    while len(prime_list) < n:\n",
    "        if is_primes(candidate):\n",
    "            prime_list.append(candidate)\n",
    "        candidate += 1\n",
    "    return prime_list\n",
    "\n",
    "print(primes(10))"
   ]
  },
  {
   "cell_type": "markdown",
   "id": "b1a45ead",
   "metadata": {},
   "source": [
    "Ex9: A Tic-tac-toe board can be represented be a 3×3 two-dimensional list, where zeroes stand for empty cells, ones stand for X’s and twos stand for O’s. Write a function that is given such a list and randomly chooses a spot in which to place a 2 (O). The spot chosen must currently be empty and a spot must be chosen."
   ]
  },
  {
   "cell_type": "code",
   "execution_count": 4,
   "id": "2366d626",
   "metadata": {},
   "outputs": [
    {
     "name": "stdout",
     "output_type": "stream",
     "text": [
      "After placing O:\n",
      "[13, 0, 2]\n",
      "[0, 1, 2]\n",
      "[2, 0, 1]\n"
     ]
    }
   ],
   "source": [
    "import random\n",
    "\n",
    "def place_o(board):\n",
    "    empty_positions = []\n",
    "    for i in range(3):\n",
    "        for j in range(3):\n",
    "            if board[i][j] == 0:\n",
    "                empty_positions.append( (i, j) )\n",
    "\n",
    "    if not empty_positions:\n",
    "        return False\n",
    "    \n",
    "    spot = random.choice(empty_positions)\n",
    "    board[spot[0]][spot[1]] = 2\n",
    "    return True\n",
    "\n",
    "board =[\n",
    "    [13, 0, 2],\n",
    "    [0, 1, 0],\n",
    "    [2, 0, 1]\n",
    "]\n",
    "\n",
    "sucess = place_o(board)\n",
    "if sucess:\n",
    "    print(\"After placing O:\")\n",
    "    for row in board:\n",
    "        print(row)\n",
    "else:\n",
    "    print(\"No empty spots available!\")"
   ]
  },
  {
   "cell_type": "markdown",
   "id": "c3388c95",
   "metadata": {},
   "source": [
    "Ex10: Write a function that is given a 9 × 9 potentially solved Sudoku and returns True if it is solved correctly and False if there is a mistake. The Sudoku is correctly solved if there are no repeated numbers in any row or any column or in any of the nine “blocks.”"
   ]
  },
  {
   "cell_type": "code",
   "execution_count": 13,
   "id": "ace03e5c",
   "metadata": {},
   "outputs": [
    {
     "name": "stdout",
     "output_type": "stream",
     "text": [
      "True\n"
     ]
    }
   ],
   "source": [
    "def is_vaid_sudoku(board):\n",
    "    def is_vaild_group(group):\n",
    "        nums = [num for num in group if num != 0]\n",
    "        return len(nums) == len(set(nums))\n",
    "    \n",
    "    for row in board:\n",
    "        if not is_vaild_group(row):\n",
    "            return False\n",
    "        \n",
    "    for col in range(9):\n",
    "        column = [board[row][col] for row in range(9)]\n",
    "        if not is_vaild_group(column):\n",
    "            return False\n",
    "        \n",
    "    for box_row in range(3):\n",
    "        for box_col in range(3):\n",
    "            block = []\n",
    "            for r in range(box_row*3, box_row*3 + 3):\n",
    "                for c in range(box_col*3, box_col*3 + 3):\n",
    "                    block.append(board[r][c])\n",
    "            if not is_vaild_group(block):\n",
    "                return False\n",
    "    \n",
    "    return True\n",
    "\n",
    "sudoku_board =[\n",
    "    [5,3,4,6,7,8,9,1,2],\n",
    "    [6,7,2,1,9,5,3,4,8],\n",
    "    [1,9,8,3,4,2,5,6,7],\n",
    "    [8,5,9,7,6,1,4,2,3],\n",
    "    [4,2,6,8,5,3,7,9,1],\n",
    "    [7,1,3,9,2,4,8,5,6],\n",
    "    [9,6,1,5,3,7,2,8,4],\n",
    "    [2,8,7,4,1,9,6,3,5],\n",
    "    [3,4,5,2,8,6,1,7,9]\n",
    "]\n",
    "\n",
    "print(is_vaid_sudoku(sudoku_board))"
   ]
  }
 ],
 "metadata": {
  "kernelspec": {
   "display_name": "Python 3",
   "language": "python",
   "name": "python3"
  },
  "language_info": {
   "codemirror_mode": {
    "name": "ipython",
    "version": 3
   },
   "file_extension": ".py",
   "mimetype": "text/x-python",
   "name": "python",
   "nbconvert_exporter": "python",
   "pygments_lexer": "ipython3",
   "version": "3.13.1"
  }
 },
 "nbformat": 4,
 "nbformat_minor": 5
}
