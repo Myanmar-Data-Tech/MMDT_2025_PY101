{
  "cells": [
    {
      "cell_type": "markdown",
      "metadata": {
        "id": "rMu4NFwC6vS8"
      },
      "source": [
        "# Exception Handling\n"
      ]
    },
    {
      "cell_type": "markdown",
      "metadata": {
        "id": "wdEP4fLc6vTA"
      },
      "source": [
        "### Q1) Run the following programs and identify the errors.\n",
        "Use exception handling approach to handle the erros.\n"
      ]
    },
    {
      "cell_type": "code",
      "execution_count": null,
      "metadata": {
        "colab": {
          "base_uri": "https://localhost:8080/"
        },
        "id": "CSVrxN-D6vTA",
        "outputId": "21b9ec50-9cc5-4332-eba8-e0a26ed31f29"
      },
      "outputs": [
        {
          "output_type": "stream",
          "name": "stdout",
          "text": [
            "Error: Cannot divide by zero!\n"
          ]
        }
      ],
      "source": [
        "#Q1.1) Zero division error\n",
        "def myfunction(a,b):\n",
        "    try:\n",
        "        answer = a/b\n",
        "    except ZeroDivisionError:\n",
        "        print(\"Error: Cannot divide by zero!\")\n",
        "    else:\n",
        "        return answer\n",
        "\n",
        "\n",
        "#Call the function as follows:\n",
        "myfunction(2,0)"
      ]
    },
    {
      "cell_type": "code",
      "execution_count": null,
      "metadata": {
        "colab": {
          "base_uri": "https://localhost:8080/"
        },
        "id": "VEJ3hnJe6vTC",
        "outputId": "7c34e12e-43ba-4002-c685-fb6a40af6c79"
      },
      "outputs": [
        {
          "output_type": "execute_result",
          "data": {
            "text/plain": [
              "3.3333333333333335"
            ]
          },
          "metadata": {},
          "execution_count": 6
        }
      ],
      "source": [
        "#Q1.2 Name Error\n",
        "\n",
        "def myfunction2(a, c):\n",
        "    try:\n",
        "        answer = a/c\n",
        "    except ZeroDivisionError:\n",
        "        print(\"Error: Cannot divide by zero!\")\n",
        "\n",
        "    except TypeError:\n",
        "        print(\"Error: Inputs must be numbers!\")\n",
        "\n",
        "    else :\n",
        "        return answer\n",
        "\n",
        "\n",
        "# Call the function as follows:\n",
        "myfunction2(10, 3)"
      ]
    },
    {
      "cell_type": "code",
      "execution_count": null,
      "metadata": {
        "scrolled": true,
        "colab": {
          "base_uri": "https://localhost:8080/"
        },
        "id": "klnu1IBm6vTC",
        "outputId": "e65e9222-5054-44c4-ac0e-948a736ff270"
      },
      "outputs": [
        {
          "output_type": "stream",
          "name": "stdout",
          "text": [
            "1\n",
            "2\n",
            "3\n",
            "Error: Index out of range!\n"
          ]
        }
      ],
      "source": [
        "#Q1.3 IndexError\n",
        "a = [1, 2, 3]\n",
        "for k in range(0,4):\n",
        "    try:\n",
        "        print(a[k])\n",
        "    except IndexError:\n",
        "        print(\"Error: Index out of range!\")"
      ]
    },
    {
      "cell_type": "code",
      "execution_count": 2,
      "metadata": {
        "colab": {
          "base_uri": "https://localhost:8080/"
        },
        "id": "7KUfzDQs6vTC",
        "outputId": "995de4cb-b65d-42f0-8774-387798651dda"
      },
      "outputs": [
        {
          "output_type": "stream",
          "name": "stdout",
          "text": [
            "Please enter a number to divide a3\n",
            "Success a= 0.3333333333333333\n"
          ]
        }
      ],
      "source": [
        "#Q1.4 Zero Division Error, Value Error\n",
        "a = 1\n",
        "b = int(input(\"Please enter a number to divide a\"))\n",
        "try :\n",
        "    a = a/b\n",
        "except ZeroDivisionError:\n",
        "    print(\"Error: Cannot divide by zero!\")\n",
        "except ValueError:\n",
        "    print(\"Error: Input must be a number!\")\n",
        "else :\n",
        "    print(\"Success a=\",a)"
      ]
    },
    {
      "cell_type": "code",
      "execution_count": 3,
      "metadata": {
        "id": "u-QCto4W6vTD",
        "outputId": "b1c59ab8-c793-48a0-846a-931d897b4191",
        "colab": {
          "base_uri": "https://localhost:8080/"
        }
      },
      "outputs": [
        {
          "output_type": "stream",
          "name": "stdout",
          "text": [
            "Inputs must be numbers\n"
          ]
        }
      ],
      "source": [
        "def divide(a, b):\n",
        "    try:\n",
        "        result = a / b\n",
        "        print('The result of division is', result)\n",
        "    except ZeroDivisionError:\n",
        "        print('Numerator must be greater than zero')\n",
        "    except TypeError:\n",
        "        print('Inputs must be numbers')\n",
        "    else:\n",
        "        return result\n",
        "\n",
        "\n",
        "divide(\"10\",2)"
      ]
    },
    {
      "cell_type": "code",
      "execution_count": null,
      "metadata": {
        "id": "TQsYSAQE6vTE",
        "outputId": "4b6af29d-d159-4151-97e6-554d27ef1670"
      },
      "outputs": [
        {
          "name": "stdout",
          "output_type": "stream",
          "text": [
            "File reading completed successfully\n"
          ]
        },
        {
          "data": {
            "text/plain": [
              "'I love this movie! It is sweet, but with satirical humor. The dialogs are great and the adventure scenes are fun. It manages to be romantic and whimsical while laughingat the conventions of the fairy tale genre. I would recommend it to just about anyone. I have seen it several times and I am always happy to see it again and again. '"
            ]
          },
          "execution_count": 19,
          "metadata": {},
          "output_type": "execute_result"
        }
      ],
      "source": [
        "def read_file(filename):\n",
        "    try:\n",
        "        with open(filename, 'r') as file1:\n",
        "            word_string = file1.read()\n",
        "        print(\"File reading completed successfully\")\n",
        "        return word_string\n",
        "    except FileNotFoundError:\n",
        "        print(\"File does not exist.\")\n",
        "\n",
        "\n",
        "\n",
        "read_file(\"./data/Q1.txt\")"
      ]
    }
  ],
  "metadata": {
    "kernelspec": {
      "display_name": "Python 3",
      "language": "python",
      "name": "python3"
    },
    "language_info": {
      "codemirror_mode": {
        "name": "ipython",
        "version": 3
      },
      "file_extension": ".py",
      "mimetype": "text/x-python",
      "name": "python",
      "nbconvert_exporter": "python",
      "pygments_lexer": "ipython3",
      "version": "3.12.1"
    },
    "colab": {
      "provenance": []
    }
  },
  "nbformat": 4,
  "nbformat_minor": 0
}