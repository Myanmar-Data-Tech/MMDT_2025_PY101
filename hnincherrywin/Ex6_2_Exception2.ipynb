{
  "cells": [
    {
      "cell_type": "markdown",
      "metadata": {
        "id": "6j-T-YttYNLD"
      },
      "source": [
        "# Exception Handling\n"
      ]
    },
    {
      "cell_type": "markdown",
      "metadata": {
        "id": "TXr9Io7rYNLI"
      },
      "source": [
        "### Q2) Run the following programs and identify the potential errors.\n",
        "Use exception handling approach to handle and print all the potential erros.\n"
      ]
    },
    {
      "cell_type": "code",
      "execution_count": 1,
      "metadata": {
        "colab": {
          "base_uri": "https://localhost:8080/"
        },
        "id": "H3Ej-KZzYNLL",
        "outputId": "a0145e9c-402d-4ddd-a558-46d7e3cb2a38"
      },
      "outputs": [
        {
          "output_type": "stream",
          "name": "stdout",
          "text": [
            "Please enter a number to divide a: 2\n",
            "Success! a = 0.5\n",
            "Program execution completed.\n"
          ]
        }
      ],
      "source": [
        "#Q2.1)\n",
        "a = 1\n",
        "\n",
        "try:\n",
        "    b = int(input(\"Please enter a number to divide a: \"))\n",
        "    a = a / b\n",
        "    print(\"Success! a =\", a)\n",
        "except ValueError:\n",
        "    print(\"Error: Input must be a valid integer.\")\n",
        "except ZeroDivisionError:\n",
        "    print(\"Error: Division by zero is not allowed.\")\n",
        "except TypeError:\n",
        "    print(\"Error: Inputs must be numbers.\")\n",
        "except Exception as e:\n",
        "    print(f\"Unexpected error occurred: {type(e).__name__} – {e}\")\n",
        "finally:\n",
        "    print(\"Program execution completed.\")\n"
      ]
    },
    {
      "cell_type": "code",
      "execution_count": 2,
      "metadata": {
        "colab": {
          "base_uri": "https://localhost:8080/"
        },
        "id": "iBcEFwzbYNLP",
        "outputId": "36104a0f-af59-4cd7-c940-4286ec3020c0"
      },
      "outputs": [
        {
          "output_type": "stream",
          "name": "stdout",
          "text": [
            "Iteration: 0 0.4\n",
            "Iteration completed\n",
            "Iteration: 1 0.6\n",
            "Iteration completed\n",
            "Iteration: 2 1.0\n",
            "Iteration completed\n",
            "Iteration: 3 -1.4\n",
            "Iteration completed\n",
            "Iteration: 4 1.6\n",
            "Iteration completed\n",
            "Iteration: 5 0.0\n",
            "Iteration completed\n",
            "Error: Index 6 is out of range for the list.\n",
            "Iteration completed\n"
          ]
        }
      ],
      "source": [
        "#Q2.2)\n",
        "mylist = [2, 3, 5, -7, 8, 0]\n",
        "idx = 0\n",
        "b = 5\n",
        "\n",
        "while idx <= 6:\n",
        "    try:\n",
        "        print('Iteration:', idx, mylist[idx] / b)\n",
        "    except IndexError:\n",
        "        print(f\"Error: Index {idx} is out of range for the list.\")\n",
        "    except ZeroDivisionError:\n",
        "        print(\"Error: Cannot divide by zero.\")\n",
        "    except TypeError:\n",
        "        print(\"Error: Inputs must be numbers.\")\n",
        "    finally:\n",
        "        print(\"Iteration completed\")\n",
        "    idx += 1\n",
        "\n",
        "\n",
        ""
      ]
    },
    {
      "cell_type": "code",
      "execution_count": null,
      "metadata": {
        "id": "iRrU01onYNLQ"
      },
      "outputs": [],
      "source": []
    }
  ],
  "metadata": {
    "kernelspec": {
      "display_name": "Python 3",
      "language": "python",
      "name": "python3"
    },
    "language_info": {
      "codemirror_mode": {
        "name": "ipython",
        "version": 3
      },
      "file_extension": ".py",
      "mimetype": "text/x-python",
      "name": "python",
      "nbconvert_exporter": "python",
      "pygments_lexer": "ipython3",
      "version": "3.8.8"
    },
    "colab": {
      "provenance": []
    }
  },
  "nbformat": 4,
  "nbformat_minor": 0
}