{
  "cells": [
    {
      "cell_type": "markdown",
      "metadata": {
        "id": "kL2GJt0U8kXC"
      },
      "source": [
        "# Exception Handling\n"
      ]
    },
    {
      "cell_type": "markdown",
      "metadata": {
        "id": "c9_ZVk0p8kXO"
      },
      "source": [
        "### Q2) Run the following programs and identify the potential errors.\n",
        "Use exception handling approach to handle and print all the potential erros.\n"
      ]
    },
    {
      "cell_type": "code",
      "execution_count": 1,
      "metadata": {
        "colab": {
          "base_uri": "https://localhost:8080/"
        },
        "id": "Bc4noyD48kXR",
        "outputId": "0929ec01-c7b3-4c7b-a0d7-30ca5b18065a"
      },
      "outputs": [
        {
          "output_type": "stream",
          "name": "stdout",
          "text": [
            "Please enter a number to divide a 3\n",
            "Success a=  0.3333333333333333\n"
          ]
        }
      ],
      "source": [
        "#Q2.1)\n",
        "a = 1\n",
        "b = int(input(\"Please enter a number to divide a \"))\n",
        "a = a/b\n",
        "print(\"Success a= \",a)\n"
      ]
    },
    {
      "cell_type": "code",
      "execution_count": 6,
      "metadata": {
        "colab": {
          "base_uri": "https://localhost:8080/",
          "height": 441
        },
        "id": "YS-k7AHZ8kXX",
        "outputId": "752e5b95-226b-45ad-b277-de007edb1596"
      },
      "outputs": [
        {
          "output_type": "stream",
          "name": "stdout",
          "text": [
            "Iteration: 0 0.4\n",
            "Iteration completed\n",
            "Iteration: 1 0.6\n",
            "Iteration completed\n",
            "Iteration: 2 1.0\n",
            "Iteration completed\n",
            "Iteration: 3 -1.4\n",
            "Iteration completed\n",
            "Iteration: 4 1.6\n",
            "Iteration completed\n",
            "Iteration: 5 0.0\n",
            "Iteration completed\n"
          ]
        },
        {
          "output_type": "error",
          "ename": "IndexError",
          "evalue": "list index out of range",
          "traceback": [
            "\u001b[0;31m---------------------------------------------------------------------------\u001b[0m",
            "\u001b[0;31mIndexError\u001b[0m                                Traceback (most recent call last)",
            "\u001b[0;32m/tmp/ipython-input-6-1562094651.py\u001b[0m in \u001b[0;36m<cell line: 0>\u001b[0;34m()\u001b[0m\n\u001b[1;32m      4\u001b[0m \u001b[0mb\u001b[0m \u001b[0;34m=\u001b[0m \u001b[0;36m5\u001b[0m\u001b[0;34m\u001b[0m\u001b[0;34m\u001b[0m\u001b[0m\n\u001b[1;32m      5\u001b[0m \u001b[0;32mwhile\u001b[0m \u001b[0midx\u001b[0m\u001b[0;34m<=\u001b[0m\u001b[0;36m6\u001b[0m\u001b[0;34m:\u001b[0m\u001b[0;34m\u001b[0m\u001b[0;34m\u001b[0m\u001b[0m\n\u001b[0;32m----> 6\u001b[0;31m     \u001b[0mprint\u001b[0m\u001b[0;34m(\u001b[0m\u001b[0;34m'Iteration:'\u001b[0m\u001b[0;34m,\u001b[0m \u001b[0midx\u001b[0m\u001b[0;34m,\u001b[0m \u001b[0mmylist\u001b[0m\u001b[0;34m[\u001b[0m\u001b[0midx\u001b[0m\u001b[0;34m]\u001b[0m\u001b[0;34m/\u001b[0m\u001b[0mb\u001b[0m\u001b[0;34m)\u001b[0m\u001b[0;34m\u001b[0m\u001b[0;34m\u001b[0m\u001b[0m\n\u001b[0m\u001b[1;32m      7\u001b[0m     \u001b[0midx\u001b[0m \u001b[0;34m=\u001b[0m \u001b[0midx\u001b[0m\u001b[0;34m+\u001b[0m\u001b[0;36m1\u001b[0m\u001b[0;34m\u001b[0m\u001b[0;34m\u001b[0m\u001b[0m\n\u001b[1;32m      8\u001b[0m     \u001b[0mprint\u001b[0m\u001b[0;34m(\u001b[0m\u001b[0;34m'Iteration completed'\u001b[0m\u001b[0;34m)\u001b[0m\u001b[0;34m\u001b[0m\u001b[0;34m\u001b[0m\u001b[0m\n",
            "\u001b[0;31mIndexError\u001b[0m: list index out of range"
          ]
        }
      ],
      "source": [
        "#Q2.2)\n",
        "mylist = [2, 3, 5, -7, 8, 0]\n",
        "idx = 0\n",
        "b = 5\n",
        "while idx<=6:\n",
        "    print('Iteration:', idx, mylist[idx]/b)\n",
        "    idx = idx+1\n",
        "    print('Iteration completed')\n",
        "\n",
        "\n",
        "\n",
        ""
      ]
    },
    {
      "cell_type": "code",
      "execution_count": 7,
      "metadata": {
        "colab": {
          "base_uri": "https://localhost:8080/"
        },
        "id": "dZnB4Cyj8kXZ",
        "outputId": "fc4c84f0-66c6-410e-a301-3946a0a8522d"
      },
      "outputs": [
        {
          "output_type": "stream",
          "name": "stdout",
          "text": [
            "Please enter a number to divide 'a' by: 2\n",
            "Success! a = 0.5\n"
          ]
        }
      ],
      "source": [
        "a = 1\n",
        "try:\n",
        "    b = int(input(\"Please enter a number to divide 'a' by: \"))\n",
        "    if b == 0:\n",
        "        print(\"Error: Cannot divide by zero.\")\n",
        "    else:\n",
        "        a = a / b\n",
        "        print(\"Success! a =\", a)\n",
        "except ValueError:\n",
        "    print(\"Error: Invalid input. Please enter a whole number.\")"
      ]
    }
  ],
  "metadata": {
    "kernelspec": {
      "display_name": "Python 3",
      "language": "python",
      "name": "python3"
    },
    "language_info": {
      "codemirror_mode": {
        "name": "ipython",
        "version": 3
      },
      "file_extension": ".py",
      "mimetype": "text/x-python",
      "name": "python",
      "nbconvert_exporter": "python",
      "pygments_lexer": "ipython3",
      "version": "3.8.8"
    },
    "colab": {
      "provenance": []
    }
  },
  "nbformat": 4,
  "nbformat_minor": 0
}