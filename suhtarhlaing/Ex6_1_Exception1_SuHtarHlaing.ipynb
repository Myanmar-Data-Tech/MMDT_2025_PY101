{
  "cells": [
    {
      "cell_type": "markdown",
      "metadata": {
        "id": "view-in-github",
        "colab_type": "text"
      },
      "source": [
        "<a href=\"https://colab.research.google.com/github/suhturhlaing/MMDT_2025_PY101/blob/suhturhlaing/suhtarhlaing/Ex6_1_Exception1_SuHtarHlaing.ipynb\" target=\"_parent\"><img src=\"https://colab.research.google.com/assets/colab-badge.svg\" alt=\"Open In Colab\"/></a>"
      ]
    },
    {
      "cell_type": "markdown",
      "metadata": {
        "id": "sssq3DIc_Op8"
      },
      "source": [
        "# Exception Handling\n"
      ]
    },
    {
      "cell_type": "markdown",
      "metadata": {
        "id": "fMscKqa9_Op_"
      },
      "source": [
        "### Q1) Run the following programs and identify the errors.\n",
        "Use exception handling approach to handle the erros.\n"
      ]
    },
    {
      "cell_type": "code",
      "execution_count": null,
      "metadata": {
        "colab": {
          "base_uri": "https://localhost:8080/"
        },
        "id": "JgHxF1VI_OqA",
        "outputId": "c83a3836-8ae0-450d-9b0e-2b6d98ff7fad"
      },
      "outputs": [
        {
          "output_type": "stream",
          "name": "stdout",
          "text": [
            "Denominator value is 0\n",
            "None\n"
          ]
        }
      ],
      "source": [
        "#Q1.1) Zero division error\n",
        "def myfunction(a,b):\n",
        "  try:\n",
        "    answer = a/b\n",
        "    return answer\n",
        "  except ZeroDivisionError:\n",
        "    print(\"Denominator value is {}\".format(b))\n",
        "\n",
        "\n",
        "#Call the function as follows:\n",
        "print(myfunction(2,0))"
      ]
    },
    {
      "cell_type": "code",
      "execution_count": null,
      "metadata": {
        "colab": {
          "base_uri": "https://localhost:8080/"
        },
        "id": "TJPh6iCe_OqB",
        "outputId": "8072f37f-dfd3-4138-e35e-6f4144f692f8"
      },
      "outputs": [
        {
          "output_type": "execute_result",
          "data": {
            "text/plain": [
              "0.3333333333333333"
            ]
          },
          "metadata": {},
          "execution_count": 50
        }
      ],
      "source": [
        "#Q1.2 Name Error\n",
        "\n",
        "def myfunction2(c):\n",
        "  try:\n",
        "\n",
        "    answer = a/c\n",
        "    return answer\n",
        "  except NameError:\n",
        "    print(\"NameError: 'a' is not defined.\")\n",
        "    return None\n",
        "\n",
        "\n",
        "# Call the function as follows:\n",
        "myfunction2(3)\n"
      ]
    },
    {
      "cell_type": "code",
      "execution_count": null,
      "metadata": {
        "scrolled": true,
        "colab": {
          "base_uri": "https://localhost:8080/"
        },
        "id": "GU02Bq6B_OqC",
        "outputId": "006980a8-cdf3-480d-dba1-b1dbf4ddc615"
      },
      "outputs": [
        {
          "output_type": "stream",
          "name": "stdout",
          "text": [
            "1\n",
            "2\n",
            "3\n",
            "Index k is out of the range 3\n"
          ]
        }
      ],
      "source": [
        "#Q1.3 IndexError\n",
        "a = [1, 2, 3]\n",
        "\n",
        "for k in range(0,4):\n",
        "  try:\n",
        "    print(a[k])\n",
        "  except IndexError:\n",
        "    print(\"Index k is out of the range {}\".format(k))\n"
      ]
    },
    {
      "cell_type": "code",
      "execution_count": null,
      "metadata": {
        "colab": {
          "base_uri": "https://localhost:8080/"
        },
        "id": "zZTxAQzJ_OqC",
        "outputId": "97e658ba-4e2f-4ffb-f49c-ff0a4c71aeb1"
      },
      "outputs": [
        {
          "output_type": "stream",
          "name": "stdout",
          "text": [
            "Please enter a number to divide a0\n",
            "Error: Denominator value is 0 not allowed\n"
          ]
        }
      ],
      "source": [
        "#Q1.4 Zero Division Error, Value Error\n",
        "try:\n",
        "  a = 1\n",
        "  b = int(input(\"Please enter a number to divide a\"))\n",
        "  a = a/b\n",
        "  print(\"Success a=\",a)\n",
        "except ZeroDivisionError:\n",
        "  print(\"Error: Denominator value is {} not allowed\".format(b))\n",
        "except ValueError:\n",
        "  print(\"Value Error : Please enter a valid int\")\n"
      ]
    },
    {
      "cell_type": "code",
      "execution_count": null,
      "metadata": {
        "colab": {
          "base_uri": "https://localhost:8080/"
        },
        "id": "9TGVq5gV_OqC",
        "outputId": "2180e798-44cf-41d8-a23f-b2f7341353e0"
      },
      "outputs": [
        {
          "output_type": "stream",
          "name": "stdout",
          "text": [
            "Numerator must be greater than zero\n"
          ]
        }
      ],
      "source": [
        "def divide(a, b):\n",
        "    try:\n",
        "        result = a / b\n",
        "        print('The result of division is', result)\n",
        "    except ZeroDivisionError:\n",
        "        print('Numerator must be greater than zero')\n",
        "    except TypeError:\n",
        "        print('Inputs must be numbers')\n",
        "    else:\n",
        "        return result\n",
        "\n",
        "\n",
        "divide(10,0)"
      ]
    },
    {
      "cell_type": "code",
      "execution_count": null,
      "metadata": {
        "colab": {
          "base_uri": "https://localhost:8080/"
        },
        "id": "YGk0H64G_OqD",
        "outputId": "a1416ebe-bd47-4c6c-dff2-8ff59d0d688c"
      },
      "outputs": [
        {
          "output_type": "stream",
          "name": "stdout",
          "text": [
            "File does not exist.\n"
          ]
        }
      ],
      "source": [
        "def read_file(filename):\n",
        "    try:\n",
        "        with open(filename, 'r') as file1:\n",
        "            word_string = file1.read()\n",
        "        print(\"File reading completed successfully\")\n",
        "        return word_string\n",
        "    except FileNotFoundError:\n",
        "        print(\"File does not exist.\")\n",
        "\n",
        "\n",
        "\n",
        "read_file(\"./data/Q1.txt\")"
      ]
    }
  ],
  "metadata": {
    "kernelspec": {
      "display_name": ".venv",
      "language": "python",
      "name": "python3"
    },
    "language_info": {
      "codemirror_mode": {
        "name": "ipython",
        "version": 3
      },
      "file_extension": ".py",
      "mimetype": "text/x-python",
      "name": "python",
      "nbconvert_exporter": "python",
      "pygments_lexer": "ipython3",
      "version": "3.12.2"
    },
    "colab": {
      "provenance": [],
      "include_colab_link": true
    }
  },
  "nbformat": 4,
  "nbformat_minor": 0
}