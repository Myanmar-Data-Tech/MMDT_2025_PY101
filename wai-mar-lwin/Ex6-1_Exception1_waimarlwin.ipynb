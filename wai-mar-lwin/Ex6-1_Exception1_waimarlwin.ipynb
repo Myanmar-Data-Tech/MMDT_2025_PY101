{
 "cells": [
  {
   "cell_type": "markdown",
   "metadata": {},
   "source": [
    "# Exception Handling\n"
   ]
  },
  {
   "cell_type": "markdown",
   "metadata": {},
   "source": [
    "### Q1) Run the following programs and identify the errors. \n",
    "Use exception handling approach to handle the erros. \n"
   ]
  },
  {
   "cell_type": "code",
   "execution_count": null,
   "metadata": {},
   "outputs": [
    {
     "name": "stdout",
     "output_type": "stream",
     "text": [
      "Can not divided by Zero\n",
      "The result of division is 6.333333333333333\n",
      "Inputs must be numbers\n",
      "Inputs must be numbers\n"
     ]
    }
   ],
   "source": [
    "#Q1.1) Zero division error\n",
    "def myfunction(a,b):\n",
    "    try:\n",
    "        answer = a/b\n",
    "        print(\"The result of division is\", answer)\n",
    "    except ZeroDivisionError:\n",
    "        print(\"Denominator must not be zero\")\n",
    "    except TypeError:\n",
    "        print(\"Input must be a number\")\n",
    "    else:\n",
    "        return answer\n",
    "       \n",
    "#Call the function as follows:\n",
    "myfunction(10,0)\n",
    "myfunction(19,3)\n",
    "myfunction(\"12\",2)\n",
    "myfunction(\"hello\",0)"
   ]
  },
  {
   "cell_type": "code",
   "execution_count": null,
   "metadata": {},
   "outputs": [
    {
     "name": "stdout",
     "output_type": "stream",
     "text": [
      "your function include non defined variable\n",
      "your function include non defined variable\n",
      "your function include non defined variable\n"
     ]
    }
   ],
   "source": [
    "#Q1.2 Name Error\n",
    "def myfunction2(c):\n",
    "    try:\n",
    "        answer = a/c\n",
    "        print(\"The result of division is\", answer)\n",
    "    except NameError:\n",
    "        print(\"your function include non defined variable\")\n",
    "    except TypeError:\n",
    "        print(\"Input must be a number\")\n",
    "    else:\n",
    "        return answer\n",
    "  \n",
    "# Call the function as follows:\n",
    "myfunction2(3)\n",
    "myfunction2(\"hello\")\n",
    "myfunction2(6.6)"
   ]
  },
  {
   "cell_type": "code",
   "execution_count": null,
   "metadata": {
    "scrolled": true
   },
   "outputs": [
    {
     "name": "stdout",
     "output_type": "stream",
     "text": [
      "1\n",
      "2\n",
      "3\n",
      "IndexError Occured\n"
     ]
    }
   ],
   "source": [
    "#Q1.3 IndexError\n",
    "a = [1, 2, 3]\n",
    "for k in range(0,4):\n",
    "    try:\n",
    "        print(a[k])\n",
    "    except IndexError:\n",
    "        print(\"IndexError Occurred\")"
   ]
  },
  {
   "cell_type": "code",
   "execution_count": 32,
   "metadata": {},
   "outputs": [
    {
     "name": "stdout",
     "output_type": "stream",
     "text": [
      "Success a = 0.1111111111111111\n"
     ]
    }
   ],
   "source": [
    "#Q1.4 Zero Division Error, Value Error\n",
    "\n",
    "a = 1\n",
    "try:\n",
    "    b = int(input(\"Please enter a number to divide a\"))\n",
    "    a = a/b\n",
    "    print(\"Success a =\",a)   \n",
    "except ZeroDivisionError:\n",
    "    print(\"Can not divide by Zero.\") \n",
    "except ValueError:\n",
    "    print(\"Invalid input. Please enter a whole number.\")"
   ]
  },
  {
   "cell_type": "code",
   "execution_count": null,
   "metadata": {},
   "outputs": [
    {
     "name": "stdout",
     "output_type": "stream",
     "text": [
      "Inputs must be numbers\n",
      "The result of division is 3.846153846153846\n",
      "Numerator must be greater than zero\n"
     ]
    }
   ],
   "source": [
    "def divide(a, b):\n",
    "    try:\n",
    "        result = a / b\n",
    "        print('The result of division is', result)\n",
    "    except ZeroDivisionError:\n",
    "        print('Denominator must not be zero')\n",
    "    except TypeError:\n",
    "        print('Input must be a number')\n",
    "    else:\n",
    "        return result\n",
    "\n",
    "divide(\"10\",2)\n",
    "divide(10,2.6)\n",
    "divide(45.7,0)"
   ]
  },
  {
   "cell_type": "code",
   "execution_count": 31,
   "metadata": {},
   "outputs": [
    {
     "name": "stdout",
     "output_type": "stream",
     "text": [
      "File reading completed successfully\n"
     ]
    },
    {
     "data": {
      "text/plain": [
       "'BancaProposalStatusReport was  at  6/24/2025 1:50:09 AM BancaProposalStatusReport at was'"
      ]
     },
     "execution_count": 31,
     "metadata": {},
     "output_type": "execute_result"
    }
   ],
   "source": [
    "def read_file(filename):\n",
    "    try:\n",
    "        with open(filename, 'r') as file1:\n",
    "            word_string = file1.read()\n",
    "        print(\"File reading completed successfully\")\n",
    "        return word_string\n",
    "    except FileNotFoundError:\n",
    "        print(\"File does not exist.\")\n",
    "\n",
    "\n",
    "read_file(\"./data/Q1.txt\")\n",
    "#read_file(\"hello\")"
   ]
  }
 ],
 "metadata": {
  "kernelspec": {
   "display_name": "myproject_kernel",
   "language": "python",
   "name": "myproject_kernel"
  },
  "language_info": {
   "codemirror_mode": {
    "name": "ipython",
    "version": 3
   },
   "file_extension": ".py",
   "mimetype": "text/x-python",
   "name": "python",
   "nbconvert_exporter": "python",
   "pygments_lexer": "ipython3",
   "version": "3.13.2"
  }
 },
 "nbformat": 4,
 "nbformat_minor": 4
}
