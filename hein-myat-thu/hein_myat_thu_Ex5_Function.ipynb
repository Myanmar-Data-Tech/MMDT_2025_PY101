{
  "cells": [
    {
      "cell_type": "markdown",
      "metadata": {
        "id": "view-in-github"
      },
      "source": [
        "<a href=\"https://colab.research.google.com/github/myothida/PythonProgramming/blob/main/Ex5_Function.ipynb\" target=\"_parent\"><img src=\"https://colab.research.google.com/assets/colab-badge.svg\" alt=\"Open In Colab\"/></a>"
      ]
    },
    {
      "cell_type": "markdown",
      "metadata": {
        "id": "b-1b6ywy-O5i"
      },
      "source": [
        "Exercises are taken from : https://www.brianheinold.net/python/A_Practical_Introduction_to_Python_Programming_Heinold.pdf\n"
      ]
    },
    {
      "cell_type": "markdown",
      "metadata": {
        "id": "pps5xBbs-I9w"
      },
      "source": [
        "Ex 1: Write a function called rectangle that takes two integers m and n as arguments and prints\n",
        "out an m× n box consisting of asterisks. Shown below is the output of rectangle(2,4)\n",
        "****\n",
        "****"
      ]
    },
    {
      "cell_type": "code",
      "execution_count": 71,
      "metadata": {
        "id": "S_5WWVLH3u8y",
        "outputId": "e21bf2a8-6ac1-4ceb-abf0-99e4306a0605",
        "colab": {
          "base_uri": "https://localhost:8080/"
        }
      },
      "outputs": [
        {
          "output_type": "stream",
          "name": "stdout",
          "text": [
            "****\n",
            "****\n"
          ]
        }
      ],
      "source": [
        "def rectangle(m,n):\n",
        "    for i in range(m):\n",
        "        print('*' * n)\n",
        "\n",
        "rectangle(2,4)\n"
      ]
    },
    {
      "cell_type": "markdown",
      "metadata": {
        "id": "0QS7SmPV-coO"
      },
      "source": [
        "Ex 2: Write a function that takes an integer n and returns a random integer with exactly n digits. For\n",
        "instance, if n is 3, then 125 and 593 would be valid return values, but 093 would not because\n",
        "that is really 93, which is a two-digit number."
      ]
    },
    {
      "cell_type": "code",
      "execution_count": null,
      "metadata": {
        "id": "c4ejnmGJ-MzL",
        "outputId": "e275ea24-4722-40f2-ec4a-369741ab1bb4"
      },
      "outputs": [
        {
          "data": {
            "text/plain": [
              "21"
            ]
          },
          "execution_count": 14,
          "metadata": {},
          "output_type": "execute_result"
        }
      ],
      "source": [
        "import random\n",
        "def calcualte_numbers ( n ):\n",
        "    result = random.randint(10**(n-1) , 10**(n)-1)\n",
        "    return result\n",
        "\n",
        "calcualte_numbers(2)"
      ]
    },
    {
      "cell_type": "markdown",
      "metadata": {
        "id": "B0P_F5Ld-ldg"
      },
      "source": [
        "Ex 3: Write a function called number_of_factors that takes an integer and returns how many\n",
        "factors the number has."
      ]
    },
    {
      "cell_type": "code",
      "execution_count": null,
      "metadata": {
        "id": "Yr2BLCXp-oTi",
        "colab": {
          "base_uri": "https://localhost:8080/"
        },
        "outputId": "3192291b-3131-4a14-f7ff-0fb359fb59cd"
      },
      "outputs": [
        {
          "output_type": "execute_result",
          "data": {
            "text/plain": [
              "9"
            ]
          },
          "metadata": {},
          "execution_count": 23
        }
      ],
      "source": [
        "def number_of_factors(x):\n",
        "  num_factors = 0\n",
        "  for i in range(1, x+1):\n",
        "    if x % i == 0:\n",
        "      num_factors += 1\n",
        "  return num_factors\n",
        "\n",
        "number_of_factors(100)\n",
        "\n",
        "\n"
      ]
    },
    {
      "cell_type": "markdown",
      "metadata": {
        "id": "7w0DDTyY-o_4"
      },
      "source": [
        "Ex4: Write a function called first_diff that is given two strings and returns the first location in\n",
        "which the strings differ. If the strings are identical, it should return -1.Ignore the case in your function. It means h and H are the same."
      ]
    },
    {
      "cell_type": "code",
      "execution_count": null,
      "metadata": {
        "id": "1WOvaf0z-6J6",
        "colab": {
          "base_uri": "https://localhost:8080/"
        },
        "outputId": "539bb645-c055-480d-96cb-29550c368d17"
      },
      "outputs": [
        {
          "output_type": "stream",
          "name": "stdout",
          "text": [
            "-1\n",
            "4\n",
            "1\n",
            "1\n",
            "5\n",
            "5\n"
          ]
        }
      ],
      "source": [
        "def first_diff(first_string, second_string):\n",
        "  first_string = first_string.lower().strip().split() # making each char as a lower char and removing spaces\n",
        "  first_string = ''.join(first_string) # getting those finalized chars into a single string\n",
        "\n",
        "  second_string = second_string.lower().strip().split()\n",
        "  second_string = ''.join(second_string)\n",
        "\n",
        "  if first_string == second_string: # if both string are identical, return -1\n",
        "    return -1\n",
        "\n",
        "  else:\n",
        "\n",
        "    min_len = min(len(first_string), len(second_string)) # getting the min len of both strings\n",
        "\n",
        "    for char in range(min_len): # looping based on min len\n",
        "      if first_string[char] != second_string[char]: # getting the index of the first different char\n",
        "        return char\n",
        "\n",
        "    '''\n",
        "    This for loop:\n",
        "\t  Compares each character of the two strings, up to the length of the shorter string (min_len).\n",
        "\t  If it finds any difference, it immediately returns the index.\n",
        "\t  If all characters match up to that point, the loop ends naturally, without returning anything.\n",
        "    '''\n",
        "\n",
        "    if len(first_string) != len(second_string): # This line is only reached after the loop finishes, which means: All characters matched so far\n",
        "      return min_len\n",
        "\n",
        "    # that's why, this if statement can covers the situations like:\n",
        "    # first_diff(\"hello\", \"H    elLO My Friend!\")\n",
        "    # first_diff(\"hello MY FRIEND\", \"H    ElLO\")\n",
        "\n",
        "\n",
        "\n",
        "print(first_diff(\"hello\", \"H    ElLO\"))\n",
        "\n",
        "print(first_diff(\"hello\", \"HELLI\"))\n",
        "\n",
        "print(first_diff(\"hello\", \"H    alLO My Friend!\"))\n",
        "\n",
        "print(first_diff(\"hallo MY FRIEND\", \"H    ElLO\"))\n",
        "\n",
        "print(first_diff(\"hello\", \"H    elLO My Friend!\"))\n",
        "\n",
        "print(first_diff(\"hello MY FRIEND\", \"H    ElLO\"))\n",
        "\n",
        "\n"
      ]
    },
    {
      "cell_type": "markdown",
      "metadata": {
        "id": "jLM8fAg_-6th"
      },
      "source": [
        "Ex5: Write a function called root that is given a number x and an integer n and returns x/n. In\n",
        "the function definition, set the default value of n to 2."
      ]
    },
    {
      "cell_type": "code",
      "execution_count": null,
      "metadata": {
        "id": "1TrSgTDa_Fu0",
        "colab": {
          "base_uri": "https://localhost:8080/"
        },
        "outputId": "ad8f8cb5-f6e6-4430-a6fa-e3c9747b5a10"
      },
      "outputs": [
        {
          "output_type": "execute_result",
          "data": {
            "text/plain": [
              "1.25"
            ]
          },
          "metadata": {},
          "execution_count": 53
        }
      ],
      "source": [
        "def root(x, n=2):\n",
        "  return x / n\n",
        "\n",
        "root(5, 4)"
      ]
    },
    {
      "cell_type": "markdown",
      "metadata": {
        "id": "IFQFhqKD2rB5"
      },
      "source": [
        "Ex6: Write a function that solves the system of equations ax + by = e and cx +dy = f. Your function should takes 6 parameters, (a, b, c, d, e,f) and return the values of x and y."
      ]
    },
    {
      "cell_type": "code",
      "execution_count": 69,
      "metadata": {
        "id": "jzF-unn82rB5",
        "colab": {
          "base_uri": "https://localhost:8080/",
          "height": 69
        },
        "outputId": "9f19a7de-20e1-4b2f-af94-d886feb8e8c2"
      },
      "outputs": [
        {
          "output_type": "stream",
          "name": "stdout",
          "text": [
            "The valu of x is: -4.0\n",
            "The valu of y is: 4.5\n"
          ]
        },
        {
          "output_type": "execute_result",
          "data": {
            "text/plain": [
              "'\\ni had to know about sympy and related functions like: symbols, Eq, solve, solveset\\n\\n'"
            ],
            "application/vnd.google.colaboratory.intrinsic+json": {
              "type": "string"
            }
          },
          "metadata": {},
          "execution_count": 69
        }
      ],
      "source": [
        "from sympy import symbols, Eq, solve\n",
        "\n",
        "def solve_equation(a, b, c, d, e, f):\n",
        "    x, y = symbols('x y') # declare symbols\n",
        "    # Define equations\n",
        "    eq1 = Eq(a*x + b*y, e)\n",
        "    eq2 = Eq(c*x + d*y, f)\n",
        "    result = solve((eq1, eq2), (x, y))\n",
        "    # solve() provides output as a dict, especially solving a system of equations (with multiple variables)\n",
        "    # it return a list when solving a single equation with one variable\n",
        "    print(f\"The valu of x is: {round(float(result[x]), 2)}\")\n",
        "    print(f\"The valu of y is: {round(float(result[y]), 2)}\")\n",
        "    # in my case, as solve return a dict pair, result[x] means getting the value of x\n",
        "\n",
        "\n",
        "solve_equation(1, 2, 3, 4, 5, 6)\n",
        "\n",
        "\n",
        "'''\n",
        "i had to know about sympy and related functions like: symbols, Eq, solve, solveset\n",
        "'''\n",
        "\n"
      ]
    },
    {
      "cell_type": "markdown",
      "metadata": {
        "id": "mYwjbxeD2rB5"
      },
      "source": [
        "Ex7:  Write a function called change_case that given a string, returns a string with each upper  case letter replaced by a lower case letter and vice-versa"
      ]
    },
    {
      "cell_type": "code",
      "execution_count": null,
      "metadata": {
        "id": "b7XzqFuu2rB5",
        "colab": {
          "base_uri": "https://localhost:8080/"
        },
        "outputId": "a0d5a6aa-fc40-4543-d25d-d761a14eb5c2"
      },
      "outputs": [
        {
          "output_type": "stream",
          "name": "stdout",
          "text": [
            "Hein Myat Thu\n"
          ]
        }
      ],
      "source": [
        "def change_case(s):\n",
        "  change = []\n",
        "  for char in range(len(s)):\n",
        "    if s[char].isupper():\n",
        "      change.append(s[char].lower())\n",
        "    else:\n",
        "      change.append(s[char].upper())\n",
        "  return ''.join(change)\n",
        "\n",
        "print(change_case(\"hEIN mYAT tHU\"))"
      ]
    },
    {
      "cell_type": "markdown",
      "metadata": {
        "id": "lJxdYu4F2rB5"
      },
      "source": [
        "Ex8:  Write a function called primes that is given a number n and returns a list of the first n  primes. Let the default value of n be 100."
      ]
    },
    {
      "cell_type": "code",
      "execution_count": null,
      "metadata": {
        "id": "ZSqBPe0s2rB5",
        "colab": {
          "base_uri": "https://localhost:8080/"
        },
        "outputId": "85f5daa1-6455-4175-edc0-7f17f89d9e81"
      },
      "outputs": [
        {
          "output_type": "stream",
          "name": "stdout",
          "text": [
            "[2, 3, 5, 7, 11, 13, 17, 19, 23, 29, 31, 37, 41, 43, 47, 53, 59, 61, 67, 71, 73, 79, 83, 89, 97, 101, 103, 107, 109, 113, 127, 131, 137, 139, 149, 151, 157, 163, 167, 173, 179, 181, 191, 193, 197, 199, 211, 223, 227, 229, 233, 239, 241, 251, 257, 263, 269, 271, 277, 281, 283, 293, 307, 311, 313, 317, 331, 337, 347, 349, 353, 359, 367, 373, 379, 383, 389, 397, 401, 409, 419, 421, 431, 433, 439, 443, 449, 457, 461, 463, 467, 479, 487, 491, 499, 503, 509, 521, 523, 541]\n"
          ]
        }
      ],
      "source": [
        "def primes(n = 100):\n",
        "  n_primes = []\n",
        "  num = 2\n",
        "  while len(n_primes) < n: # will be looping until our desired the first n primes\n",
        "    for i in range(2, int(num**0.5) + 1):\n",
        "    # If num is divisible by any number greater than its square root, then it’s already divisible by a smaller factor\n",
        "    # num ** 0.5 is the square root of num\n",
        "        if num % i == 0: # if it's prime\n",
        "          break # break the loop\n",
        "    else: # if it's not prime\n",
        "      n_primes.append(num) # add it to the n_primes\n",
        "    num += 1 # increment the num\n",
        "  return n_primes\n",
        "\n",
        "print(primes())\n"
      ]
    },
    {
      "cell_type": "markdown",
      "metadata": {
        "id": "2P6XLvmv2rB5"
      },
      "source": [
        "Ex9: A Tic-tac-toe board can be represented be a 3×3 two-dimensional list, where zeroes stand for  empty cells, ones stand for X’s and twos stand for O’s. Write a function that is given such a list and randomly chooses a spot in which to place  a 2 (O). The spot chosen must currently be empty and a spot must be chosen."
      ]
    },
    {
      "cell_type": "code",
      "execution_count": null,
      "metadata": {
        "id": "1ZTYdsHG2rB6",
        "colab": {
          "base_uri": "https://localhost:8080/"
        },
        "outputId": "f943bc5b-a2f9-425d-c0ff-34a4b26d90c3"
      },
      "outputs": [
        {
          "output_type": "stream",
          "name": "stdout",
          "text": [
            "[1, 2, 1]\n",
            "[1, 1, 1]\n",
            "[2, 2, 1]\n"
          ]
        }
      ],
      "source": [
        "import random\n",
        "def tic_tac_toe(board):\n",
        "  empty_cells = [(row, column) for row in range(3) for column in range(3) if board[row][column] == 0]\n",
        "  # using list comprehension\n",
        "  # only keep (row, column) (which is the coordinate of a cell), when board[row][column] == 0\n",
        "  # meaning only empty cells are stored in the list of empty_cells\n",
        "\n",
        "\n",
        "  if empty_cells: # make sure at least there is one (row, column) pair in the list\n",
        "    row, column = random.choice(empty_cells) # getting one of the row, column pairs from the list randomly\n",
        "    board[row][column] = 2 # replacing the cells (which is located at the idex of (row, column)) with 2\n",
        "\n",
        "  return board\n",
        "\n",
        "\n",
        "board = [\n",
        "    [1, 2, 1],\n",
        "    [1, 1, 1],\n",
        "    [2, 2, 1]\n",
        "]\n",
        "\n",
        "print(*tic_tac_toe(board), sep='\\n')\n",
        "\n"
      ]
    },
    {
      "cell_type": "markdown",
      "metadata": {
        "id": "BcjQNw8e2rB6"
      },
      "source": [
        "Ex10:  Write a function that is given a 9 × 9 potentially solved Sudoku and returns True if it is solved correctly and False if there is a mistake. The Sudoku is correctly solved if there are\n",
        " no repeated numbers in any row or any column or in any of the nine “blocks.”\n"
      ]
    },
    {
      "cell_type": "code",
      "execution_count": 41,
      "metadata": {
        "id": "i7AtcvkV2rB6",
        "colab": {
          "base_uri": "https://localhost:8080/"
        },
        "outputId": "83744c85-ae6b-40ba-e62f-d56bccf17801"
      },
      "outputs": [
        {
          "output_type": "stream",
          "name": "stdout",
          "text": [
            "✅The Sudoku is correctly solved!\n",
            "True\n",
            "-------------------\n",
            "❌ Duplicate found in row: 2\n",
            "❌ There is a mistake in the Sudoku!\n",
            "False\n",
            "-------------------\n",
            "❌ Duplicate found in column: 0\n",
            "❌ There is a mistake in the Sudoku!\n",
            "False\n",
            "-------------------\n",
            "❌ Duplicate found in row: 8\n",
            "❌ There is a mistake in the Sudoku!\n",
            "False\n",
            "-------------------\n"
          ]
        }
      ],
      "source": [
        "# checking rows\n",
        "def check_row(board):\n",
        "  for row in range(9): # looping each row\n",
        "    if len(board[row]) != len(set(board[row])): # removing duplication using set() cuz set() doesn't allow duplicate\n",
        "      print(f\"❌ Duplicate found in row: {row}\")\n",
        "      return False # if it matches(meaning duplicate), return False\n",
        "  return True # if not, return True\n",
        "\n",
        "# checking columns\n",
        "def check_column(board):\n",
        "  for column in range(9): # looping each column\n",
        "\n",
        "    # building a list of values in the current column\n",
        "    column_vals = [board[row][column] for row in range(9)]\n",
        "    '''\n",
        "    here, to get a column, it has to be like this: [ board[0][0], board[1][0], board[2][0], ..., board[8][0] ]\n",
        "    this means we'r fixing the column index, and looping through all rows\n",
        "\n",
        "    that's why, board[row][column] for row in range(9), this is the same as:\n",
        "    [ board[0][column], board[1][column], board[2][column], ..., board[8][column] ],\n",
        "    meaning we're looping through all rows, but fixing the column index\n",
        "\n",
        "    '''\n",
        "    if len(column_vals) != len(set(column_vals)): # check for duplication\n",
        "      print(f\"❌ Duplicate found in column: {column}\")\n",
        "      return False\n",
        "  return True\n",
        "\n",
        "# checking 3x3 blocks\n",
        "def check_block(board):\n",
        "  # Outer loop iterates over the top-left corner of each 3x3 block\n",
        "  for blk_row in range(0, 9, 3): # 0, 3, 6 (top row index of each block)\n",
        "    for blk_column in range(0, 9, 3): # 0, 3, 6 (left column index of each block)\n",
        "\n",
        "      # Collect all 9 values in the current 3x3 block using nested list comprehension\n",
        "      block = [board[blk_row + row][blk_column + column]\n",
        "               for row in range(3) for column in range(3)]\n",
        "      '''\n",
        "      the outer loop starts at 0, 3, and 6\n",
        "      for eg, if it stars at (0, 0) which is outer loop index, in other words,\n",
        "      it's the start index of the top-left corner of each 3x3 block\n",
        "\n",
        "      so we'r trying to loop inside that block\n",
        "      thus board[blk_row(outer loop index) + row(nested loop index)]\n",
        "      for eg, board[0 + 0], meaning row 0 of the top-left corner blok\n",
        "\n",
        "      like wise, board[blk_column + column], meaning column 0 of the top-left corner blok\n",
        "\n",
        "      as there are 3 rows and 3 columns in each block, we loop through 3 times\n",
        "      for row in range(3) for column in range(3)\n",
        "      '''\n",
        "\n",
        "      # checking duplication\n",
        "      if len(block) != len(set(block)):\n",
        "        print(f\"❌ Duplicate in 3x3 block starting at ({blk_row}, {blk_column}): {block}\")\n",
        "        return False\n",
        "  return True\n",
        "\n",
        "def check_sudoku(board):\n",
        "  # Checking all rows, columns, and 3x3 blocks\n",
        "  if check_row(board) and check_column(board) and check_block(board):\n",
        "    print(\"✅ The Sudoku is correctly solved!\")\n",
        "    return True\n",
        "  else:\n",
        "    print(\"❌ There is a mistake in the Sudoku!\")\n",
        "    return False\n",
        "\n",
        "\n",
        "# valid board\n",
        "board = [\n",
        "    [5,3,4,6,7,8,9,1,2],\n",
        "    [6,7,2,1,9,5,3,4,8],\n",
        "    [1,9,8,3,4,2,5,6,7],\n",
        "    [8,5,9,7,6,1,4,2,3],\n",
        "    [4,2,6,8,5,3,7,9,1],\n",
        "    [7,1,3,9,2,4,8,5,6],\n",
        "    [9,6,1,5,3,7,2,8,4],\n",
        "    [2,8,7,4,1,9,6,3,5],\n",
        "    [3,4,5,2,8,6,1,7,9]\n",
        "]\n",
        "print(check_sudoku(board))\n",
        "print(\"-------------------\")\n",
        "\n",
        "# duplicate in row\n",
        "board = [\n",
        "    [5,3,4,6,7,8,9,1,2],\n",
        "    [6,7,2,1,9,5,3,4,8],\n",
        "    [1,8,8,3,4,2,5,6,7], # duplicate '8' in row 2\n",
        "    [8,5,9,7,6,1,4,2,3],\n",
        "    [4,2,6,8,5,3,7,9,1],\n",
        "    [7,1,3,9,2,4,8,5,6],\n",
        "    [9,6,1,5,3,7,2,8,4],\n",
        "    [2,8,7,4,1,9,6,3,5],\n",
        "    [3,4,5,2,8,6,1,7,9]\n",
        "]\n",
        "print(check_sudoku(board))\n",
        "print(\"-------------------\")\n",
        "\n",
        "# duplicate in column\n",
        "board = [\n",
        "    [1,2,3,4,5,6,7,8,9],\n",
        "    [4,5,6,7,8,9,1,2,3],\n",
        "    [7,8,9,1,2,3,4,5,6],\n",
        "    [2,3,4,5,6,7,8,9,1],\n",
        "    [5,6,7,8,9,1,2,3,4],\n",
        "    [8,9,1,2,3,4,5,6,7],\n",
        "    [3,4,5,6,7,8,9,1,2],\n",
        "    [6,7,8,9,1,2,3,4,5],\n",
        "    [1,9,2,3,4,5,6,7,8]   # duplicate '1' in column 0\n",
        "]\n",
        "print(check_sudoku(board))\n",
        "print(\"-------------------\")\n",
        "\n",
        "# invalid 3x3 block\n",
        "board = [\n",
        "    [5,3,4,6,7,8,9,1,2],\n",
        "    [6,7,2,1,9,5,3,4,8],\n",
        "    [1,9,8,3,4,2,5,6,7],\n",
        "    [8,5,9,7,6,1,4,2,3],\n",
        "    [4,2,6,8,5,3,7,9,1],\n",
        "    [7,1,3,9,2,4,8,5,6],\n",
        "    [9,6,1,5,3,7,2,8,4],\n",
        "    [2,8,7,4,1,9,6,3,5],\n",
        "    [3,4,5,2,8,6,1,7,7]  # duplicate '7' in bottom-right block\n",
        "]\n",
        "print(check_sudoku(board))\n",
        "print(\"-------------------\")\n",
        "\n",
        "'''\n",
        "When i go and check sudoku rules, it said:\n",
        "\"a standard 9x9 grid must be filled with numbers from 1 to 9,\n",
        "such that each row, each column, and each of the nine 3x3 subgrids\n",
        "(also called blocks or regions) contains all nine numbers without repetition\"\n",
        "\n",
        "but after testing, i've experienced that it's fine if we don't check 3x3 blocks\n",
        "cuz technically, if there is a duplicate in 3x3 blocks, it means there is a duplication\n",
        "in that specific row and column.\n",
        "\n",
        "so it can be found out if we only check each row and column\n",
        "for example,\n",
        "in my last testing board(invalid 3x3 block),\n",
        "even tho there is a duplication in bottom-right block, it'll print\n",
        "\"Duplicate found in row: 8\", cuz we checked rows first and it's caught in there\n",
        "\n",
        "so i feel like checking 3x3 blocks is not necessary and it can be code redundant!\n",
        "but, i wrote for it cuz it's one of sudoku rules\n",
        "'''\n",
        "\n",
        "'''\n",
        "\n"
      ]
    }
  ],
  "metadata": {
    "colab": {
      "provenance": []
    },
    "kernelspec": {
      "display_name": "Python 3",
      "name": "python3"
    },
    "language_info": {
      "codemirror_mode": {
        "name": "ipython",
        "version": 3
      },
      "file_extension": ".py",
      "mimetype": "text/x-python",
      "name": "python",
      "nbconvert_exporter": "python",
      "pygments_lexer": "ipython3",
      "version": "3.12.1"
    }
  },
  "nbformat": 4,
  "nbformat_minor": 0
}