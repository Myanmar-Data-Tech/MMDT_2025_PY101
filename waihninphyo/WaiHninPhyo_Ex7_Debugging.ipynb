{
 "cells": [
  {
   "cell_type": "markdown",
   "metadata": {},
   "source": [
    "## Simple Debugging\n",
    "\n",
    "Add print statements to your program.\n",
    "Add input() to pause the program"
   ]
  },
  {
   "cell_type": "code",
   "execution_count": 1,
   "metadata": {},
   "outputs": [
    {
     "name": "stdout",
     "output_type": "stream",
     "text": [
      "Random number generated: 5\n",
      "Hello Hello Hello Hello Hello \n",
      "Hello Hello Hello Hello Hello \n",
      "Hello Hello Hello Hello Hello \n",
      "Hello Hello Hello Hello Hello \n",
      "Hello Hello Hello Hello Hello \n",
      "Hello Hello Hello Hello Hello \n"
     ]
    },
    {
     "name": "stdin",
     "output_type": "stream",
     "text": [
      "Press Enter to exit... \n"
     ]
    },
    {
     "data": {
      "text/plain": [
       "''"
      ]
     },
     "execution_count": 1,
     "metadata": {},
     "output_type": "execute_result"
    }
   ],
   "source": [
    "from random import randint\n",
    "\n",
    "# Step 1: generate a random number between 1 and 5\n",
    "rand_num = randint(1,5)\n",
    "\n",
    "# add print statement here to know the value of rand_num\n",
    "print(f\"Random number generated: {rand_num}\")\n",
    "\n",
    "# Step 2: What does this code do? \n",
    "for i in range(6):\n",
    "    print('Hello ' * rand_num)\n",
    "\n",
    "input(\"Press Enter to exit...\")"
   ]
  },
  {
   "cell_type": "code",
   "execution_count": 3,
   "metadata": {},
   "outputs": [
    {
     "name": "stdout",
     "output_type": "stream",
     "text": [
      "Iteration 1, random number: 1\n",
      "Hello \n",
      "Iteration 2, random number: 1\n",
      "Hello \n",
      "Iteration 3, random number: 5\n",
      "Hello Hello Hello Hello Hello \n",
      "Iteration 4, random number: 2\n",
      "Hello Hello \n",
      "Iteration 5, random number: 5\n",
      "Hello Hello Hello Hello Hello \n",
      "Iteration 6, random number: 1\n",
      "Hello \n"
     ]
    },
    {
     "name": "stdin",
     "output_type": "stream",
     "text": [
      "Press Enter to exit... \n"
     ]
    },
    {
     "data": {
      "text/plain": [
       "''"
      ]
     },
     "execution_count": 3,
     "metadata": {},
     "output_type": "execute_result"
    }
   ],
   "source": [
    "from random import randint\n",
    "\n",
    "# Step 1: generate a random number between 1 and 5 inside the loop\n",
    "\n",
    "for i in range(6):\n",
    "    rand_num = randint(1,5)\n",
    "    print(f\"Iteration {i+1}, random number: {rand_num}\")  # Show the random number generated this iteration\n",
    "    print('Hello ' * rand_num)\n",
    "\n",
    "input(\"Press Enter to exit...\")"
   ]
  },
  {
   "cell_type": "markdown",
   "metadata": {},
   "source": [
    "Write a program that generates 10000 random numbers between 1 and 100 and counts how many of them are multiples of 12."
   ]
  },
  {
   "cell_type": "code",
   "execution_count": 5,
   "metadata": {},
   "outputs": [
    {
     "name": "stdout",
     "output_type": "stream",
     "text": [
      "Number of multiples of 12: 787\n"
     ]
    }
   ],
   "source": [
    "from random import randint\n",
    "\n",
    "# Step 2:\n",
    "count = 0\n",
    "\n",
    "# Step 3:\n",
    "for i in range(10000):\n",
    "    # Step 4:\n",
    "    num = randint(1, 100)\n",
    "    \n",
    "    # Step 5:\n",
    "    if num % 12 == 0:\n",
    "        count += 1\n",
    "    \n",
    "    # Optional: print progress every 2000 iterations\n",
    "    # if (i+1) % 2000 == 0:\n",
    "    #     print(f\"Processed {i+1} numbers so far...\")\n",
    "\n",
    "# Step 6:\n",
    "print('Number of multiples of 12:', count)\n"
   ]
  },
  {
   "cell_type": "markdown",
   "metadata": {},
   "source": [
    "The following program should counts how many of the squares of the numbers from 1 to 100 end in 1.  (Example: 1,81,121). Debug the code."
   ]
  },
  {
   "cell_type": "code",
   "execution_count": 7,
   "metadata": {},
   "outputs": [
    {
     "name": "stdout",
     "output_type": "stream",
     "text": [
      "20\n"
     ]
    }
   ],
   "source": [
    "import numpy as np\n",
    "\n",
    "def fun_square_count():\n",
    "    num_list = np.arange(1, 101)\n",
    "    squared_num = [value**2 for value in num_list]\n",
    "    count = 0\n",
    "    for num in squared_num:\n",
    "        if num % 10 == 1:  # Check if the last digit is 1\n",
    "            count += 1\n",
    "            \n",
    "    return count\n",
    "\n",
    "print(fun_square_count())"
   ]
  },
  {
   "cell_type": "markdown",
   "metadata": {},
   "source": [
    "Debug the following programs"
   ]
  },
  {
   "cell_type": "code",
   "execution_count": 9,
   "metadata": {},
   "outputs": [
    {
     "name": "stdout",
     "output_type": "stream",
     "text": [
      "7\n"
     ]
    }
   ],
   "source": [
    "def add(a, b):\n",
    "    return a + b\n",
    "\n",
    "print(add(5, int('2'))) "
   ]
  },
  {
   "cell_type": "code",
   "execution_count": 11,
   "metadata": {},
   "outputs": [
    {
     "name": "stdout",
     "output_type": "stream",
     "text": [
      "5.0\n",
      "Error: Division by zero is not allowed.\n",
      "Error: Both inputs must be numbers.\n"
     ]
    }
   ],
   "source": [
    "def divide(a, b):\n",
    "    try:\n",
    "        result = a / b\n",
    "        return result\n",
    "    except ZeroDivisionError:\n",
    "        return \"Error: Division by zero is not allowed.\"\n",
    "    except TypeError:\n",
    "        return \"Error: Both inputs must be numbers.\"\n",
    "\n",
    "# Examples\n",
    "print(divide(10, 2))   \n",
    "print(divide(5, 0))    \n",
    "print(divide(5, 'a')) "
   ]
  },
  {
   "cell_type": "code",
   "execution_count": 13,
   "metadata": {},
   "outputs": [
    {
     "name": "stdout",
     "output_type": "stream",
     "text": [
      "False\n",
      "True\n"
     ]
    }
   ],
   "source": [
    "def is_prime(n):\n",
    "    if n <= 1:  \n",
    "        return False\n",
    "    for i in range(2, n):\n",
    "        if n % i == 0:  \n",
    "            return False\n",
    "    return True\n",
    "\n",
    "print(is_prime(15))  \n",
    "print(is_prime(13))"
   ]
  },
  {
   "cell_type": "code",
   "execution_count": null,
   "metadata": {},
   "outputs": [],
   "source": []
  }
 ],
 "metadata": {
  "kernelspec": {
   "display_name": "Python 3 (ipykernel)",
   "language": "python",
   "name": "python3"
  },
  "language_info": {
   "codemirror_mode": {
    "name": "ipython",
    "version": 3
   },
   "file_extension": ".py",
   "mimetype": "text/x-python",
   "name": "python",
   "nbconvert_exporter": "python",
   "pygments_lexer": "ipython3",
   "version": "3.12.4"
  }
 },
 "nbformat": 4,
 "nbformat_minor": 4
}
