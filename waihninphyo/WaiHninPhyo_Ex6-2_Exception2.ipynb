{
 "cells": [
  {
   "cell_type": "markdown",
   "metadata": {},
   "source": [
    "# Exception Handling\n"
   ]
  },
  {
   "cell_type": "markdown",
   "metadata": {},
   "source": [
    "### Q2) Run the following programs and identify the potential errors. \n",
    "Use exception handling approach to handle and print all the potential erros. \n"
   ]
  },
  {
   "cell_type": "code",
   "execution_count": 1,
   "metadata": {},
   "outputs": [
    {
     "name": "stdin",
     "output_type": "stream",
     "text": [
      "Please enter a number to divide a  45\n"
     ]
    },
    {
     "name": "stdout",
     "output_type": "stream",
     "text": [
      "Success a=  0.022222222222222223\n"
     ]
    }
   ],
   "source": [
    "#Q2.1) \n",
    "a = 1\n",
    "b = int(input(\"Please enter a number to divide a \"))\n",
    "a = a/b\n",
    "print(\"Success a= \",a)\n"
   ]
  },
  {
   "cell_type": "code",
   "execution_count": 3,
   "metadata": {},
   "outputs": [
    {
     "name": "stdout",
     "output_type": "stream",
     "text": [
      "Iteration: 0 0.4\n",
      "Iteration completed\n",
      "Iteration: 1 0.6\n",
      "Iteration completed\n",
      "Iteration: 2 1.0\n",
      "Iteration completed\n",
      "Iteration: 3 -1.4\n",
      "Iteration completed\n",
      "Iteration: 4 1.6\n",
      "Iteration completed\n",
      "Iteration: 5 0.0\n",
      "Iteration completed\n"
     ]
    },
    {
     "ename": "IndexError",
     "evalue": "list index out of range",
     "output_type": "error",
     "traceback": [
      "\u001b[1;31m---------------------------------------------------------------------------\u001b[0m",
      "\u001b[1;31mIndexError\u001b[0m                                Traceback (most recent call last)",
      "Cell \u001b[1;32mIn[3], line 6\u001b[0m\n\u001b[0;32m      4\u001b[0m b \u001b[38;5;241m=\u001b[39m \u001b[38;5;241m5\u001b[39m\n\u001b[0;32m      5\u001b[0m \u001b[38;5;28;01mwhile\u001b[39;00m idx\u001b[38;5;241m<\u001b[39m\u001b[38;5;241m=\u001b[39m\u001b[38;5;241m6\u001b[39m:\n\u001b[1;32m----> 6\u001b[0m     \u001b[38;5;28mprint\u001b[39m(\u001b[38;5;124m'\u001b[39m\u001b[38;5;124mIteration:\u001b[39m\u001b[38;5;124m'\u001b[39m, idx, mylist[idx]\u001b[38;5;241m/\u001b[39mb) \n\u001b[0;32m      7\u001b[0m     idx \u001b[38;5;241m=\u001b[39m idx\u001b[38;5;241m+\u001b[39m\u001b[38;5;241m1\u001b[39m\n\u001b[0;32m      8\u001b[0m     \u001b[38;5;28mprint\u001b[39m(\u001b[38;5;124m'\u001b[39m\u001b[38;5;124mIteration completed\u001b[39m\u001b[38;5;124m'\u001b[39m)\n",
      "\u001b[1;31mIndexError\u001b[0m: list index out of range"
     ]
    }
   ],
   "source": [
    "#Q2.2) \n",
    "mylist = [2, 3, 5, -7, 8, 0]\n",
    "idx = 0\n",
    "b = 5\n",
    "while idx<=6:\n",
    "    print('Iteration:', idx, mylist[idx]/b) \n",
    "    idx = idx+1\n",
    "    print('Iteration completed')\n",
    "        \n",
    "\n",
    "    \n",
    "    "
   ]
  },
  {
   "cell_type": "code",
   "execution_count": null,
   "metadata": {},
   "outputs": [],
   "source": []
  }
 ],
 "metadata": {
  "kernelspec": {
   "display_name": "Python 3 (ipykernel)",
   "language": "python",
   "name": "python3"
  },
  "language_info": {
   "codemirror_mode": {
    "name": "ipython",
    "version": 3
   },
   "file_extension": ".py",
   "mimetype": "text/x-python",
   "name": "python",
   "nbconvert_exporter": "python",
   "pygments_lexer": "ipython3",
   "version": "3.12.4"
  }
 },
 "nbformat": 4,
 "nbformat_minor": 4
}
