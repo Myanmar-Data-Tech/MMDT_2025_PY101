{
  "cells": [
    {
      "cell_type": "markdown",
      "metadata": {
        "id": "view-in-github",
        "colab_type": "text"
      },
      "source": [
        "<a href=\"https://colab.research.google.com/github/khinenwehtun/MMDT_2025_PY101/blob/khinenwehtun/khinenwehtun_Ex1_Python.ipynb\" target=\"_parent\"><img src=\"https://colab.research.google.com/assets/colab-badge.svg\" alt=\"Open In Colab\"/></a>"
      ]
    },
    {
      "cell_type": "markdown",
      "metadata": {
        "id": "thgO68_HZ0Aa"
      },
      "source": [
        "# Introduction"
      ]
    },
    {
      "cell_type": "markdown",
      "metadata": {
        "id": "PIh3i0c_Z_yP"
      },
      "source": [
        "This section introduces the Python Programming uisng Colab. Follow the instructions and complete the exercises."
      ]
    },
    {
      "cell_type": "markdown",
      "metadata": {
        "id": "gCw6SfeFZ78l"
      },
      "source": [
        "# Ex 1 : Check Version"
      ]
    },
    {
      "cell_type": "markdown",
      "metadata": {
        "id": "6Vm-27iLabjm"
      },
      "source": [
        "Using the below cell, Import the required library and check the version of the python in your environment."
      ]
    },
    {
      "cell_type": "code",
      "execution_count": 4,
      "metadata": {
        "id": "PJDYHB4AXVdc",
        "outputId": "02fa70cb-cc85-499e-d037-a4030992924a",
        "colab": {
          "base_uri": "https://localhost:8080/"
        }
      },
      "outputs": [
        {
          "output_type": "stream",
          "name": "stdout",
          "text": [
            "['/content', '/env/python', '/usr/lib/python311.zip', '/usr/lib/python3.11', '/usr/lib/python3.11/lib-dynload', '', '/usr/local/lib/python3.11/dist-packages', '/usr/lib/python3/dist-packages', '/usr/local/lib/python3.11/dist-packages/IPython/extensions', '/usr/local/lib/python3.11/dist-packages/setuptools/_vendor', '/root/.ipython']\n"
          ]
        }
      ],
      "source": [
        "import sys\n",
        "print (sys.path)"
      ]
    },
    {
      "cell_type": "markdown",
      "metadata": {
        "id": "5qTEiwGlawf5"
      },
      "source": [
        "# Ex2 : Convert Currency."
      ]
    },
    {
      "cell_type": "markdown",
      "metadata": {
        "id": "XH8K1p0ypVCg"
      },
      "source": [
        "Write a program that asks the user for the amount in usd and converts it to British pounds. The exchange rate is from usd to BP is given as 0.82"
      ]
    },
    {
      "cell_type": "code",
      "execution_count": 5,
      "metadata": {
        "colab": {
          "base_uri": "https://localhost:8080/"
        },
        "id": "x9xQXOnRa0MS",
        "outputId": "46f8d98a-0704-4d3b-ea4e-c94736a47d8f"
      },
      "outputs": [
        {
          "output_type": "stream",
          "name": "stdout",
          "text": [
            "Enter the amount in USD: 10\n",
            "10 usd is equivalent to 8.2 british pound\n"
          ]
        }
      ],
      "source": [
        "usd_amount = input (\"Enter the amount in USD: \")\n",
        "bp_amount = int(usd_amount) *0.82\n",
        "print(\"{} usd is equivalent to {} british pound\".format(usd_amount, bp_amount))"
      ]
    },
    {
      "cell_type": "markdown",
      "metadata": {
        "id": "ePfECwUIpli4"
      },
      "source": [
        "# Ex 3: Temperature Converter"
      ]
    },
    {
      "cell_type": "markdown",
      "metadata": {
        "id": "Y60hUWDsp3pK"
      },
      "source": [
        "Write a program that convert temperature in Feranhite to celsius."
      ]
    },
    {
      "cell_type": "code",
      "execution_count": 6,
      "metadata": {
        "id": "G9PbO6qPoUfn",
        "outputId": "890da5f9-ce0a-42e3-d3fd-865ebae15dd2",
        "colab": {
          "base_uri": "https://localhost:8080/"
        }
      },
      "outputs": [
        {
          "output_type": "stream",
          "name": "stdout",
          "text": [
            "Give the temperature in Feranhite38\n",
            "20.22222222222222\n"
          ]
        }
      ],
      "source": [
        "#°C = (°F - 32) × 5/9\n",
        "Ftemperature=input (\"Give the temperature in Feranhite\")\n",
        "Ctemp= int(Ftemperature)-32 * 5/9\n",
        "print(Ctemp)"
      ]
    },
    {
      "cell_type": "markdown",
      "metadata": {
        "id": "a2kNRO9Vp7Qz"
      },
      "source": [
        "# Ex 4: Daily Maths"
      ]
    },
    {
      "cell_type": "markdown",
      "metadata": {
        "id": "lItKon9qqEUn"
      },
      "source": [
        "You are working in a retail shop. Write a program that computes the total cost for a customer that bought 3 differnt types of fruits : apple, orange, mango. Ask the user to enter the quantity and price for each type."
      ]
    },
    {
      "cell_type": "code",
      "execution_count": null,
      "metadata": {
        "id": "mIQFjH6wqDma",
        "outputId": "fae6feaf-dae4-4269-802d-dbd0916fbc59",
        "colab": {
          "base_uri": "https://localhost:8080/"
        }
      },
      "outputs": [
        {
          "name": "stdout",
          "output_type": "stream",
          "text": [
            "Enter number of oranges5\n"
          ]
        }
      ],
      "source": [
        "apple_qty= input(\"Enter number of apple\")\n",
        "apple_price= input(\"Price per apple\")\n",
        "Orange_qty= input(\"Enter number of oranges\")\n",
        "Orange_price = input(\"Price per orange\")\n",
        "mango_qty= input(\"Enter number of mango\")\n",
        "mango_price= input(\"price per mango\")\n"
      ]
    },
    {
      "cell_type": "markdown",
      "metadata": {
        "id": "31fXlmEQqgvW"
      },
      "source": [
        "# Ex 5 : Greeting"
      ]
    },
    {
      "cell_type": "markdown",
      "metadata": {
        "id": "zvnmj8MGrJIw"
      },
      "source": [
        "Write a program to greet the customer who provides the user name. Your program should ask the name of the customer and print \"Hello + customer name\""
      ]
    },
    {
      "cell_type": "code",
      "execution_count": null,
      "metadata": {
        "id": "Z6ynxZMarIXh"
      },
      "outputs": [],
      "source": [
        "name= input(\"Enter your name\")\n",
        "print(\"Hello\"+name)\n"
      ]
    },
    {
      "cell_type": "markdown",
      "metadata": {
        "id": "hGnBQ8zse_kM"
      },
      "source": [
        "# Ex 6: Random Number\n",
        "Write a program that generates a random number, x, between 1 and 50, a random number y between 2 and 5, and computes x^y."
      ]
    },
    {
      "cell_type": "code",
      "execution_count": null,
      "metadata": {
        "id": "knnDL6YRe_kN"
      },
      "outputs": [],
      "source": [
        "from random import randint\n",
        "x = randint(1,10)\n",
        "print('A random number between 1 and 10: ', x)"
      ]
    },
    {
      "cell_type": "markdown",
      "metadata": {
        "id": "nPtMN-7_e_kN"
      },
      "source": [
        "# Ex 7: Greet many times.\n",
        "Write a program that generates a random number between 1 and 10 and prints your name that many times."
      ]
    },
    {
      "cell_type": "code",
      "execution_count": null,
      "metadata": {
        "id": "_EhQAFbYe_kO"
      },
      "outputs": [],
      "source": [
        "from random import randint\n",
        "random number = input (1,10)\n"
      ]
    },
    {
      "cell_type": "markdown",
      "metadata": {
        "id": "ukqwTNNoe_kO"
      },
      "source": [
        "# Ex 8: Computing.\n",
        "Write a program that asks the user to enter two numbers, x and y, and computes |x-y|/(x+y)."
      ]
    },
    {
      "cell_type": "code",
      "execution_count": null,
      "metadata": {
        "id": "GDaI_DH_e_kO"
      },
      "outputs": [],
      "source": [
        "from random import randint\n",
        "randint = input(x,y)\n",
        "print('|x-y|/(x+y))"
      ]
    },
    {
      "cell_type": "markdown",
      "metadata": {
        "id": "l3_gffFRe_kP"
      },
      "source": [
        "# Ex 9: Computing\n",
        "\n",
        "Write a program that asks the user for a number of seconds and prints out how many minutes and seconds that is. For instance, 200 seconds is 3 minutes and 20 seconds."
      ]
    },
    {
      "cell_type": "code",
      "execution_count": null,
      "metadata": {
        "id": "VZErfY9ve_kP"
      },
      "outputs": [],
      "source": []
    },
    {
      "cell_type": "markdown",
      "metadata": {
        "id": "fRQp2Qjje_kP"
      },
      "source": [
        "# Ex 10: Using Math Module\n",
        "\n",
        "Write a program that asks the user for a number and then prints out the sine, cosine, and tangent of that number."
      ]
    },
    {
      "cell_type": "code",
      "execution_count": null,
      "metadata": {
        "id": "cbOREot9e_kQ"
      },
      "outputs": [],
      "source": [
        "import math\n",
        "num = float(input(\"Enter a number:\"))\n",
        "sine_value = math.sin(num)\n",
        "print(sine_value)\n"
      ]
    }
  ],
  "metadata": {
    "colab": {
      "name": "Ex1_Python.ipynb",
      "provenance": [],
      "include_colab_link": true
    },
    "kernelspec": {
      "display_name": "Python 3",
      "language": "python",
      "name": "python3"
    },
    "language_info": {
      "codemirror_mode": {
        "name": "ipython",
        "version": 3
      },
      "file_extension": ".py",
      "mimetype": "text/x-python",
      "name": "python",
      "nbconvert_exporter": "python",
      "pygments_lexer": "ipython3",
      "version": "3.12.1"
    }
  },
  "nbformat": 4,
  "nbformat_minor": 0
}